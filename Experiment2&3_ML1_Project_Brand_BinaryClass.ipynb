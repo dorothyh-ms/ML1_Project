{
 "cells": [
  {
   "cell_type": "code",
   "execution_count": 1,
   "metadata": {},
   "outputs": [],
   "source": [
    "import pandas as pd\n",
    "import numpy as np\n",
    "import re\n",
    "import matplotlib.pyplot as plt\n",
    "from sklearn.feature_extraction.text import CountVectorizer\n",
    "from sklearn.model_selection import train_test_split\n",
    "from sklearn.preprocessing import StandardScaler\n",
    "from sklearn.compose import make_column_transformer\n",
    "from sklearn.pipeline import make_pipeline\n",
    "from sklearn.preprocessing import OneHotEncoder\n",
    "from sklearn.linear_model import LogisticRegression\n",
    "from sklearn.model_selection import GridSearchCV, RandomizedSearchCV\n",
    "from sklearn.model_selection import cross_val_score\n",
    "from sklearn.metrics import classification_report, confusion_matrix, accuracy_score\n",
    "\n",
    "random_state = 1\n",
    "# All the same preprocessing steps are performed below: "
   ]
  },
  {
   "cell_type": "code",
   "execution_count": 2,
   "metadata": {
    "scrolled": true
   },
   "outputs": [
    {
     "data": {
      "text/html": [
       "<div>\n",
       "<style scoped>\n",
       "    .dataframe tbody tr th:only-of-type {\n",
       "        vertical-align: middle;\n",
       "    }\n",
       "\n",
       "    .dataframe tbody tr th {\n",
       "        vertical-align: top;\n",
       "    }\n",
       "\n",
       "    .dataframe thead th {\n",
       "        text-align: right;\n",
       "    }\n",
       "</style>\n",
       "<table border=\"1\" class=\"dataframe\">\n",
       "  <thead>\n",
       "    <tr style=\"text-align: right;\">\n",
       "      <th></th>\n",
       "      <th>product_name</th>\n",
       "      <th>brand</th>\n",
       "      <th>product_url</th>\n",
       "      <th>product_type</th>\n",
       "      <th>ingredients</th>\n",
       "      <th>price</th>\n",
       "      <th>contents</th>\n",
       "    </tr>\n",
       "  </thead>\n",
       "  <tbody>\n",
       "    <tr>\n",
       "      <th>0</th>\n",
       "      <td>Acorelle Pure Harvest Body Perfume - 100ml</td>\n",
       "      <td>Acorelle</td>\n",
       "      <td>https://www.lookfantastic.com/acorelle-pure-ha...</td>\n",
       "      <td>Mist</td>\n",
       "      <td>Alcohol, Aqua, Glycerin, Fragrance, Limonene, ...</td>\n",
       "      <td>10.0</td>\n",
       "      <td>100ml</td>\n",
       "    </tr>\n",
       "    <tr>\n",
       "      <th>1</th>\n",
       "      <td>Aesop Parsley Seed Anti-Oxidant Eye Cream 10ml</td>\n",
       "      <td>Aesop</td>\n",
       "      <td>https://www.lookfantastic.com/aesop-parsley-se...</td>\n",
       "      <td>Eye Care</td>\n",
       "      <td>Aloe Barbadensis Leaf Juice, Water, PEG-60 Alm...</td>\n",
       "      <td>63.0</td>\n",
       "      <td>10ml</td>\n",
       "    </tr>\n",
       "    <tr>\n",
       "      <th>2</th>\n",
       "      <td>Aesop Parsley Seed Anti-Oxidant Eye Serum 15ml</td>\n",
       "      <td>Aesop</td>\n",
       "      <td>https://www.lookfantastic.com/aesop-parsley-se...</td>\n",
       "      <td>Eye Care</td>\n",
       "      <td>Aloe Babedensis Lead Juice, Water (Aqua), PEG ...</td>\n",
       "      <td>57.0</td>\n",
       "      <td>15ml</td>\n",
       "    </tr>\n",
       "    <tr>\n",
       "      <th>3</th>\n",
       "      <td>Aesop Amazing Face Cleanser 200ml</td>\n",
       "      <td>Aesop</td>\n",
       "      <td>https://www.lookfantastic.com/aesop-amazing-fa...</td>\n",
       "      <td>Cleanser</td>\n",
       "      <td>Water, Cocamidopropyl Belaine, Sea Salt, Glyce...</td>\n",
       "      <td>35.0</td>\n",
       "      <td>200ml</td>\n",
       "    </tr>\n",
       "    <tr>\n",
       "      <th>4</th>\n",
       "      <td>Aesop Animal Body Wash 500ml</td>\n",
       "      <td>Aesop</td>\n",
       "      <td>https://www.lookfantastic.com/aesop-animal-bod...</td>\n",
       "      <td>Body Wash</td>\n",
       "      <td>Water (Aqua), Sodium Laureth Sulfate, Propylen...</td>\n",
       "      <td>27.0</td>\n",
       "      <td>500ml</td>\n",
       "    </tr>\n",
       "    <tr>\n",
       "      <th>...</th>\n",
       "      <td>...</td>\n",
       "      <td>...</td>\n",
       "      <td>...</td>\n",
       "      <td>...</td>\n",
       "      <td>...</td>\n",
       "      <td>...</td>\n",
       "      <td>...</td>\n",
       "    </tr>\n",
       "    <tr>\n",
       "      <th>1130</th>\n",
       "      <td>Zelens Triple Action Advanced Eye Cream</td>\n",
       "      <td>Zelens</td>\n",
       "      <td>https://www.lookfantastic.com/zelens-triple-ac...</td>\n",
       "      <td>Eye Care</td>\n",
       "      <td>Aqua (Water), Dimethicone, Cyclopentasiloxane,...</td>\n",
       "      <td>80.0</td>\n",
       "      <td>15ml</td>\n",
       "    </tr>\n",
       "    <tr>\n",
       "      <th>1131</th>\n",
       "      <td>Zelens Youth Concentrate Supreme Age-Defying S...</td>\n",
       "      <td>Zelens</td>\n",
       "      <td>https://www.lookfantastic.com/zelens-youth-con...</td>\n",
       "      <td>Serum</td>\n",
       "      <td>Water (Aqua), Caprylic/Capric Triglyceride, Hy...</td>\n",
       "      <td>160.0</td>\n",
       "      <td>30ml</td>\n",
       "    </tr>\n",
       "    <tr>\n",
       "      <th>1132</th>\n",
       "      <td>Zelens Z Hyaluron Hyaluronic Acid Complex Seru...</td>\n",
       "      <td>Zelens</td>\n",
       "      <td>https://www.lookfantastic.com/zelens-z-hyaluro...</td>\n",
       "      <td>Serum</td>\n",
       "      <td>Aqua (Water), Glycerin, Propanediol, Hydrolyze...</td>\n",
       "      <td>55.0</td>\n",
       "      <td>30ml</td>\n",
       "    </tr>\n",
       "    <tr>\n",
       "      <th>1133</th>\n",
       "      <td>Zelens PROVITAMIN D Fortifying Facial Mist 50ml</td>\n",
       "      <td>Zelens</td>\n",
       "      <td>https://www.lookfantastic.com/zelens-provitami...</td>\n",
       "      <td>Mist</td>\n",
       "      <td>Aqua (Water), Propanediol, Glycerin, Polyglyce...</td>\n",
       "      <td>55.0</td>\n",
       "      <td>50ml</td>\n",
       "    </tr>\n",
       "    <tr>\n",
       "      <th>1134</th>\n",
       "      <td>Zelens Z Balance Prebiotic and Probiotic Facia...</td>\n",
       "      <td>Zelens</td>\n",
       "      <td>https://www.lookfantastic.com/zelens-z-balance...</td>\n",
       "      <td>Mist</td>\n",
       "      <td>Aqua, Butylene Glycol, Sodium Lactate, Lactoba...</td>\n",
       "      <td>48.0</td>\n",
       "      <td>50ml</td>\n",
       "    </tr>\n",
       "  </tbody>\n",
       "</table>\n",
       "<p>1135 rows × 7 columns</p>\n",
       "</div>"
      ],
      "text/plain": [
       "                                           product_name     brand  \\\n",
       "0            Acorelle Pure Harvest Body Perfume - 100ml  Acorelle   \n",
       "1        Aesop Parsley Seed Anti-Oxidant Eye Cream 10ml     Aesop   \n",
       "2        Aesop Parsley Seed Anti-Oxidant Eye Serum 15ml     Aesop   \n",
       "3                     Aesop Amazing Face Cleanser 200ml     Aesop   \n",
       "4                          Aesop Animal Body Wash 500ml     Aesop   \n",
       "...                                                 ...       ...   \n",
       "1130            Zelens Triple Action Advanced Eye Cream    Zelens   \n",
       "1131  Zelens Youth Concentrate Supreme Age-Defying S...    Zelens   \n",
       "1132  Zelens Z Hyaluron Hyaluronic Acid Complex Seru...    Zelens   \n",
       "1133    Zelens PROVITAMIN D Fortifying Facial Mist 50ml    Zelens   \n",
       "1134  Zelens Z Balance Prebiotic and Probiotic Facia...    Zelens   \n",
       "\n",
       "                                            product_url product_type  \\\n",
       "0     https://www.lookfantastic.com/acorelle-pure-ha...         Mist   \n",
       "1     https://www.lookfantastic.com/aesop-parsley-se...     Eye Care   \n",
       "2     https://www.lookfantastic.com/aesop-parsley-se...     Eye Care   \n",
       "3     https://www.lookfantastic.com/aesop-amazing-fa...     Cleanser   \n",
       "4     https://www.lookfantastic.com/aesop-animal-bod...    Body Wash   \n",
       "...                                                 ...          ...   \n",
       "1130  https://www.lookfantastic.com/zelens-triple-ac...     Eye Care   \n",
       "1131  https://www.lookfantastic.com/zelens-youth-con...        Serum   \n",
       "1132  https://www.lookfantastic.com/zelens-z-hyaluro...        Serum   \n",
       "1133  https://www.lookfantastic.com/zelens-provitami...         Mist   \n",
       "1134  https://www.lookfantastic.com/zelens-z-balance...         Mist   \n",
       "\n",
       "                                            ingredients  price contents  \n",
       "0     Alcohol, Aqua, Glycerin, Fragrance, Limonene, ...   10.0    100ml  \n",
       "1     Aloe Barbadensis Leaf Juice, Water, PEG-60 Alm...   63.0     10ml  \n",
       "2     Aloe Babedensis Lead Juice, Water (Aqua), PEG ...   57.0     15ml  \n",
       "3     Water, Cocamidopropyl Belaine, Sea Salt, Glyce...   35.0    200ml  \n",
       "4     Water (Aqua), Sodium Laureth Sulfate, Propylen...   27.0    500ml  \n",
       "...                                                 ...    ...      ...  \n",
       "1130  Aqua (Water), Dimethicone, Cyclopentasiloxane,...   80.0     15ml  \n",
       "1131  Water (Aqua), Caprylic/Capric Triglyceride, Hy...  160.0     30ml  \n",
       "1132  Aqua (Water), Glycerin, Propanediol, Hydrolyze...   55.0     30ml  \n",
       "1133  Aqua (Water), Propanediol, Glycerin, Polyglyce...   55.0     50ml  \n",
       "1134  Aqua, Butylene Glycol, Sodium Lactate, Lactoba...   48.0     50ml  \n",
       "\n",
       "[1135 rows x 7 columns]"
      ]
     },
     "execution_count": 2,
     "metadata": {},
     "output_type": "execute_result"
    }
   ],
   "source": [
    "skincare = pd.read_csv('skincare_prepared.csv', sep=\",\")\n",
    "skincare"
   ]
  },
  {
   "cell_type": "code",
   "execution_count": 3,
   "metadata": {},
   "outputs": [
    {
     "data": {
      "text/html": [
       "<div>\n",
       "<style scoped>\n",
       "    .dataframe tbody tr th:only-of-type {\n",
       "        vertical-align: middle;\n",
       "    }\n",
       "\n",
       "    .dataframe tbody tr th {\n",
       "        vertical-align: top;\n",
       "    }\n",
       "\n",
       "    .dataframe thead th {\n",
       "        text-align: right;\n",
       "    }\n",
       "</style>\n",
       "<table border=\"1\" class=\"dataframe\">\n",
       "  <thead>\n",
       "    <tr style=\"text-align: right;\">\n",
       "      <th></th>\n",
       "      <th>product_name</th>\n",
       "      <th>brand</th>\n",
       "      <th>product_url</th>\n",
       "      <th>product_type</th>\n",
       "      <th>ingredients</th>\n",
       "      <th>price</th>\n",
       "      <th>contents</th>\n",
       "    </tr>\n",
       "  </thead>\n",
       "  <tbody>\n",
       "    <tr>\n",
       "      <th>0</th>\n",
       "      <td>Acorelle Pure Harvest Body Perfume - 100ml</td>\n",
       "      <td>Acorelle</td>\n",
       "      <td>https://www.lookfantastic.com/acorelle-pure-ha...</td>\n",
       "      <td>Mist</td>\n",
       "      <td>Alcohol, Aqua, Glycerin, Fragrance, Limonene, ...</td>\n",
       "      <td>10.0</td>\n",
       "      <td>100</td>\n",
       "    </tr>\n",
       "    <tr>\n",
       "      <th>1</th>\n",
       "      <td>Aesop Parsley Seed Anti-Oxidant Eye Cream 10ml</td>\n",
       "      <td>Aesop</td>\n",
       "      <td>https://www.lookfantastic.com/aesop-parsley-se...</td>\n",
       "      <td>Eye Care</td>\n",
       "      <td>Aloe Barbadensis Leaf Juice, Water, PEG-60 Alm...</td>\n",
       "      <td>63.0</td>\n",
       "      <td>10</td>\n",
       "    </tr>\n",
       "    <tr>\n",
       "      <th>2</th>\n",
       "      <td>Aesop Parsley Seed Anti-Oxidant Eye Serum 15ml</td>\n",
       "      <td>Aesop</td>\n",
       "      <td>https://www.lookfantastic.com/aesop-parsley-se...</td>\n",
       "      <td>Eye Care</td>\n",
       "      <td>Aloe Babedensis Lead Juice, Water (Aqua), PEG ...</td>\n",
       "      <td>57.0</td>\n",
       "      <td>15</td>\n",
       "    </tr>\n",
       "    <tr>\n",
       "      <th>3</th>\n",
       "      <td>Aesop Amazing Face Cleanser 200ml</td>\n",
       "      <td>Aesop</td>\n",
       "      <td>https://www.lookfantastic.com/aesop-amazing-fa...</td>\n",
       "      <td>Cleanser</td>\n",
       "      <td>Water, Cocamidopropyl Belaine, Sea Salt, Glyce...</td>\n",
       "      <td>35.0</td>\n",
       "      <td>200</td>\n",
       "    </tr>\n",
       "    <tr>\n",
       "      <th>4</th>\n",
       "      <td>Aesop Animal Body Wash 500ml</td>\n",
       "      <td>Aesop</td>\n",
       "      <td>https://www.lookfantastic.com/aesop-animal-bod...</td>\n",
       "      <td>Body Wash</td>\n",
       "      <td>Water (Aqua), Sodium Laureth Sulfate, Propylen...</td>\n",
       "      <td>27.0</td>\n",
       "      <td>500</td>\n",
       "    </tr>\n",
       "    <tr>\n",
       "      <th>...</th>\n",
       "      <td>...</td>\n",
       "      <td>...</td>\n",
       "      <td>...</td>\n",
       "      <td>...</td>\n",
       "      <td>...</td>\n",
       "      <td>...</td>\n",
       "      <td>...</td>\n",
       "    </tr>\n",
       "    <tr>\n",
       "      <th>1130</th>\n",
       "      <td>Zelens Triple Action Advanced Eye Cream</td>\n",
       "      <td>Zelens</td>\n",
       "      <td>https://www.lookfantastic.com/zelens-triple-ac...</td>\n",
       "      <td>Eye Care</td>\n",
       "      <td>Aqua (Water), Dimethicone, Cyclopentasiloxane,...</td>\n",
       "      <td>80.0</td>\n",
       "      <td>15</td>\n",
       "    </tr>\n",
       "    <tr>\n",
       "      <th>1131</th>\n",
       "      <td>Zelens Youth Concentrate Supreme Age-Defying S...</td>\n",
       "      <td>Zelens</td>\n",
       "      <td>https://www.lookfantastic.com/zelens-youth-con...</td>\n",
       "      <td>Serum</td>\n",
       "      <td>Water (Aqua), Caprylic/Capric Triglyceride, Hy...</td>\n",
       "      <td>160.0</td>\n",
       "      <td>30</td>\n",
       "    </tr>\n",
       "    <tr>\n",
       "      <th>1132</th>\n",
       "      <td>Zelens Z Hyaluron Hyaluronic Acid Complex Seru...</td>\n",
       "      <td>Zelens</td>\n",
       "      <td>https://www.lookfantastic.com/zelens-z-hyaluro...</td>\n",
       "      <td>Serum</td>\n",
       "      <td>Aqua (Water), Glycerin, Propanediol, Hydrolyze...</td>\n",
       "      <td>55.0</td>\n",
       "      <td>30</td>\n",
       "    </tr>\n",
       "    <tr>\n",
       "      <th>1133</th>\n",
       "      <td>Zelens PROVITAMIN D Fortifying Facial Mist 50ml</td>\n",
       "      <td>Zelens</td>\n",
       "      <td>https://www.lookfantastic.com/zelens-provitami...</td>\n",
       "      <td>Mist</td>\n",
       "      <td>Aqua (Water), Propanediol, Glycerin, Polyglyce...</td>\n",
       "      <td>55.0</td>\n",
       "      <td>50</td>\n",
       "    </tr>\n",
       "    <tr>\n",
       "      <th>1134</th>\n",
       "      <td>Zelens Z Balance Prebiotic and Probiotic Facia...</td>\n",
       "      <td>Zelens</td>\n",
       "      <td>https://www.lookfantastic.com/zelens-z-balance...</td>\n",
       "      <td>Mist</td>\n",
       "      <td>Aqua, Butylene Glycol, Sodium Lactate, Lactoba...</td>\n",
       "      <td>48.0</td>\n",
       "      <td>50</td>\n",
       "    </tr>\n",
       "  </tbody>\n",
       "</table>\n",
       "<p>1135 rows × 7 columns</p>\n",
       "</div>"
      ],
      "text/plain": [
       "                                           product_name     brand  \\\n",
       "0            Acorelle Pure Harvest Body Perfume - 100ml  Acorelle   \n",
       "1        Aesop Parsley Seed Anti-Oxidant Eye Cream 10ml     Aesop   \n",
       "2        Aesop Parsley Seed Anti-Oxidant Eye Serum 15ml     Aesop   \n",
       "3                     Aesop Amazing Face Cleanser 200ml     Aesop   \n",
       "4                          Aesop Animal Body Wash 500ml     Aesop   \n",
       "...                                                 ...       ...   \n",
       "1130            Zelens Triple Action Advanced Eye Cream    Zelens   \n",
       "1131  Zelens Youth Concentrate Supreme Age-Defying S...    Zelens   \n",
       "1132  Zelens Z Hyaluron Hyaluronic Acid Complex Seru...    Zelens   \n",
       "1133    Zelens PROVITAMIN D Fortifying Facial Mist 50ml    Zelens   \n",
       "1134  Zelens Z Balance Prebiotic and Probiotic Facia...    Zelens   \n",
       "\n",
       "                                            product_url product_type  \\\n",
       "0     https://www.lookfantastic.com/acorelle-pure-ha...         Mist   \n",
       "1     https://www.lookfantastic.com/aesop-parsley-se...     Eye Care   \n",
       "2     https://www.lookfantastic.com/aesop-parsley-se...     Eye Care   \n",
       "3     https://www.lookfantastic.com/aesop-amazing-fa...     Cleanser   \n",
       "4     https://www.lookfantastic.com/aesop-animal-bod...    Body Wash   \n",
       "...                                                 ...          ...   \n",
       "1130  https://www.lookfantastic.com/zelens-triple-ac...     Eye Care   \n",
       "1131  https://www.lookfantastic.com/zelens-youth-con...        Serum   \n",
       "1132  https://www.lookfantastic.com/zelens-z-hyaluro...        Serum   \n",
       "1133  https://www.lookfantastic.com/zelens-provitami...         Mist   \n",
       "1134  https://www.lookfantastic.com/zelens-z-balance...         Mist   \n",
       "\n",
       "                                            ingredients  price contents  \n",
       "0     Alcohol, Aqua, Glycerin, Fragrance, Limonene, ...   10.0      100  \n",
       "1     Aloe Barbadensis Leaf Juice, Water, PEG-60 Alm...   63.0       10  \n",
       "2     Aloe Babedensis Lead Juice, Water (Aqua), PEG ...   57.0       15  \n",
       "3     Water, Cocamidopropyl Belaine, Sea Salt, Glyce...   35.0      200  \n",
       "4     Water (Aqua), Sodium Laureth Sulfate, Propylen...   27.0      500  \n",
       "...                                                 ...    ...      ...  \n",
       "1130  Aqua (Water), Dimethicone, Cyclopentasiloxane,...   80.0       15  \n",
       "1131  Water (Aqua), Caprylic/Capric Triglyceride, Hy...  160.0       30  \n",
       "1132  Aqua (Water), Glycerin, Propanediol, Hydrolyze...   55.0       30  \n",
       "1133  Aqua (Water), Propanediol, Glycerin, Polyglyce...   55.0       50  \n",
       "1134  Aqua, Butylene Glycol, Sodium Lactate, Lactoba...   48.0       50  \n",
       "\n",
       "[1135 rows x 7 columns]"
      ]
     },
     "execution_count": 3,
     "metadata": {},
     "output_type": "execute_result"
    }
   ],
   "source": [
    "skincare['contents'] = skincare['contents'].str.replace('ml', '')\n",
    "skincare['contents'] = skincare['contents'].str.replace('g', '')\n",
    "skincare\n",
    "# Big assumption - treat ml and g as the same measurement because the viscosity for each product is unknown"
   ]
  },
  {
   "cell_type": "code",
   "execution_count": 4,
   "metadata": {},
   "outputs": [
    {
     "data": {
      "text/html": [
       "<div>\n",
       "<style scoped>\n",
       "    .dataframe tbody tr th:only-of-type {\n",
       "        vertical-align: middle;\n",
       "    }\n",
       "\n",
       "    .dataframe tbody tr th {\n",
       "        vertical-align: top;\n",
       "    }\n",
       "\n",
       "    .dataframe thead th {\n",
       "        text-align: right;\n",
       "    }\n",
       "</style>\n",
       "<table border=\"1\" class=\"dataframe\">\n",
       "  <thead>\n",
       "    <tr style=\"text-align: right;\">\n",
       "      <th></th>\n",
       "      <th>product_name</th>\n",
       "      <th>brand</th>\n",
       "      <th>product_url</th>\n",
       "      <th>product_type</th>\n",
       "      <th>ingredients</th>\n",
       "      <th>price</th>\n",
       "      <th>contents</th>\n",
       "    </tr>\n",
       "  </thead>\n",
       "  <tbody>\n",
       "    <tr>\n",
       "      <th>0</th>\n",
       "      <td>Acorelle Pure Harvest Body Perfume - 100ml</td>\n",
       "      <td>Acorelle</td>\n",
       "      <td>https://www.lookfantastic.com/acorelle-pure-ha...</td>\n",
       "      <td>Mist</td>\n",
       "      <td>Alcohol, Aqua, Glycerin, Fragrance, Limonene, ...</td>\n",
       "      <td>10.0</td>\n",
       "      <td>100.0</td>\n",
       "    </tr>\n",
       "    <tr>\n",
       "      <th>1</th>\n",
       "      <td>Aesop Parsley Seed Anti-Oxidant Eye Cream 10ml</td>\n",
       "      <td>Aesop</td>\n",
       "      <td>https://www.lookfantastic.com/aesop-parsley-se...</td>\n",
       "      <td>Eye Care</td>\n",
       "      <td>Aloe Barbadensis Leaf Juice, Water, PEG-60 Alm...</td>\n",
       "      <td>63.0</td>\n",
       "      <td>10.0</td>\n",
       "    </tr>\n",
       "    <tr>\n",
       "      <th>2</th>\n",
       "      <td>Aesop Parsley Seed Anti-Oxidant Eye Serum 15ml</td>\n",
       "      <td>Aesop</td>\n",
       "      <td>https://www.lookfantastic.com/aesop-parsley-se...</td>\n",
       "      <td>Eye Care</td>\n",
       "      <td>Aloe Babedensis Lead Juice, Water (Aqua), PEG ...</td>\n",
       "      <td>57.0</td>\n",
       "      <td>15.0</td>\n",
       "    </tr>\n",
       "    <tr>\n",
       "      <th>3</th>\n",
       "      <td>Aesop Amazing Face Cleanser 200ml</td>\n",
       "      <td>Aesop</td>\n",
       "      <td>https://www.lookfantastic.com/aesop-amazing-fa...</td>\n",
       "      <td>Cleanser</td>\n",
       "      <td>Water, Cocamidopropyl Belaine, Sea Salt, Glyce...</td>\n",
       "      <td>35.0</td>\n",
       "      <td>200.0</td>\n",
       "    </tr>\n",
       "    <tr>\n",
       "      <th>4</th>\n",
       "      <td>Aesop Animal Body Wash 500ml</td>\n",
       "      <td>Aesop</td>\n",
       "      <td>https://www.lookfantastic.com/aesop-animal-bod...</td>\n",
       "      <td>Body Wash</td>\n",
       "      <td>Water (Aqua), Sodium Laureth Sulfate, Propylen...</td>\n",
       "      <td>27.0</td>\n",
       "      <td>500.0</td>\n",
       "    </tr>\n",
       "    <tr>\n",
       "      <th>...</th>\n",
       "      <td>...</td>\n",
       "      <td>...</td>\n",
       "      <td>...</td>\n",
       "      <td>...</td>\n",
       "      <td>...</td>\n",
       "      <td>...</td>\n",
       "      <td>...</td>\n",
       "    </tr>\n",
       "    <tr>\n",
       "      <th>1130</th>\n",
       "      <td>Zelens Triple Action Advanced Eye Cream</td>\n",
       "      <td>Zelens</td>\n",
       "      <td>https://www.lookfantastic.com/zelens-triple-ac...</td>\n",
       "      <td>Eye Care</td>\n",
       "      <td>Aqua (Water), Dimethicone, Cyclopentasiloxane,...</td>\n",
       "      <td>80.0</td>\n",
       "      <td>15.0</td>\n",
       "    </tr>\n",
       "    <tr>\n",
       "      <th>1131</th>\n",
       "      <td>Zelens Youth Concentrate Supreme Age-Defying S...</td>\n",
       "      <td>Zelens</td>\n",
       "      <td>https://www.lookfantastic.com/zelens-youth-con...</td>\n",
       "      <td>Serum</td>\n",
       "      <td>Water (Aqua), Caprylic/Capric Triglyceride, Hy...</td>\n",
       "      <td>160.0</td>\n",
       "      <td>30.0</td>\n",
       "    </tr>\n",
       "    <tr>\n",
       "      <th>1132</th>\n",
       "      <td>Zelens Z Hyaluron Hyaluronic Acid Complex Seru...</td>\n",
       "      <td>Zelens</td>\n",
       "      <td>https://www.lookfantastic.com/zelens-z-hyaluro...</td>\n",
       "      <td>Serum</td>\n",
       "      <td>Aqua (Water), Glycerin, Propanediol, Hydrolyze...</td>\n",
       "      <td>55.0</td>\n",
       "      <td>30.0</td>\n",
       "    </tr>\n",
       "    <tr>\n",
       "      <th>1133</th>\n",
       "      <td>Zelens PROVITAMIN D Fortifying Facial Mist 50ml</td>\n",
       "      <td>Zelens</td>\n",
       "      <td>https://www.lookfantastic.com/zelens-provitami...</td>\n",
       "      <td>Mist</td>\n",
       "      <td>Aqua (Water), Propanediol, Glycerin, Polyglyce...</td>\n",
       "      <td>55.0</td>\n",
       "      <td>50.0</td>\n",
       "    </tr>\n",
       "    <tr>\n",
       "      <th>1134</th>\n",
       "      <td>Zelens Z Balance Prebiotic and Probiotic Facia...</td>\n",
       "      <td>Zelens</td>\n",
       "      <td>https://www.lookfantastic.com/zelens-z-balance...</td>\n",
       "      <td>Mist</td>\n",
       "      <td>Aqua, Butylene Glycol, Sodium Lactate, Lactoba...</td>\n",
       "      <td>48.0</td>\n",
       "      <td>50.0</td>\n",
       "    </tr>\n",
       "  </tbody>\n",
       "</table>\n",
       "<p>1135 rows × 7 columns</p>\n",
       "</div>"
      ],
      "text/plain": [
       "                                           product_name     brand  \\\n",
       "0            Acorelle Pure Harvest Body Perfume - 100ml  Acorelle   \n",
       "1        Aesop Parsley Seed Anti-Oxidant Eye Cream 10ml     Aesop   \n",
       "2        Aesop Parsley Seed Anti-Oxidant Eye Serum 15ml     Aesop   \n",
       "3                     Aesop Amazing Face Cleanser 200ml     Aesop   \n",
       "4                          Aesop Animal Body Wash 500ml     Aesop   \n",
       "...                                                 ...       ...   \n",
       "1130            Zelens Triple Action Advanced Eye Cream    Zelens   \n",
       "1131  Zelens Youth Concentrate Supreme Age-Defying S...    Zelens   \n",
       "1132  Zelens Z Hyaluron Hyaluronic Acid Complex Seru...    Zelens   \n",
       "1133    Zelens PROVITAMIN D Fortifying Facial Mist 50ml    Zelens   \n",
       "1134  Zelens Z Balance Prebiotic and Probiotic Facia...    Zelens   \n",
       "\n",
       "                                            product_url product_type  \\\n",
       "0     https://www.lookfantastic.com/acorelle-pure-ha...         Mist   \n",
       "1     https://www.lookfantastic.com/aesop-parsley-se...     Eye Care   \n",
       "2     https://www.lookfantastic.com/aesop-parsley-se...     Eye Care   \n",
       "3     https://www.lookfantastic.com/aesop-amazing-fa...     Cleanser   \n",
       "4     https://www.lookfantastic.com/aesop-animal-bod...    Body Wash   \n",
       "...                                                 ...          ...   \n",
       "1130  https://www.lookfantastic.com/zelens-triple-ac...     Eye Care   \n",
       "1131  https://www.lookfantastic.com/zelens-youth-con...        Serum   \n",
       "1132  https://www.lookfantastic.com/zelens-z-hyaluro...        Serum   \n",
       "1133  https://www.lookfantastic.com/zelens-provitami...         Mist   \n",
       "1134  https://www.lookfantastic.com/zelens-z-balance...         Mist   \n",
       "\n",
       "                                            ingredients  price  contents  \n",
       "0     Alcohol, Aqua, Glycerin, Fragrance, Limonene, ...   10.0     100.0  \n",
       "1     Aloe Barbadensis Leaf Juice, Water, PEG-60 Alm...   63.0      10.0  \n",
       "2     Aloe Babedensis Lead Juice, Water (Aqua), PEG ...   57.0      15.0  \n",
       "3     Water, Cocamidopropyl Belaine, Sea Salt, Glyce...   35.0     200.0  \n",
       "4     Water (Aqua), Sodium Laureth Sulfate, Propylen...   27.0     500.0  \n",
       "...                                                 ...    ...       ...  \n",
       "1130  Aqua (Water), Dimethicone, Cyclopentasiloxane,...   80.0      15.0  \n",
       "1131  Water (Aqua), Caprylic/Capric Triglyceride, Hy...  160.0      30.0  \n",
       "1132  Aqua (Water), Glycerin, Propanediol, Hydrolyze...   55.0      30.0  \n",
       "1133  Aqua (Water), Propanediol, Glycerin, Polyglyce...   55.0      50.0  \n",
       "1134  Aqua, Butylene Glycol, Sodium Lactate, Lactoba...   48.0      50.0  \n",
       "\n",
       "[1135 rows x 7 columns]"
      ]
     },
     "execution_count": 4,
     "metadata": {},
     "output_type": "execute_result"
    }
   ],
   "source": [
    "skincare['contents'] = skincare['contents'].astype(float)\n",
    "skincare['price'] = skincare['price'].astype(float)\n",
    "skincare"
   ]
  },
  {
   "cell_type": "code",
   "execution_count": 5,
   "metadata": {},
   "outputs": [
    {
     "data": {
      "text/plain": [
       "array(['Mist', 'Eye Care', 'Cleanser', 'Body Wash', 'Mask', 'Bath Salts',\n",
       "       'Peel', 'Toner', 'Balm', 'Moisturiser', 'Bath Oil', 'Oil', 'Serum',\n",
       "       'Exfoliator'], dtype=object)"
      ]
     },
     "execution_count": 5,
     "metadata": {},
     "output_type": "execute_result"
    }
   ],
   "source": [
    "skincare['product_type'].unique() "
   ]
  },
  {
   "cell_type": "code",
   "execution_count": 6,
   "metadata": {},
   "outputs": [
    {
     "name": "stdout",
     "output_type": "stream",
     "text": [
      "count    1135.000000\n",
      "mean       23.963419\n",
      "std        21.713618\n",
      "min         1.950000\n",
      "25%         9.950000\n",
      "50%        18.900000\n",
      "75%        31.250000\n",
      "max       230.000000\n",
      "Name: price, dtype: float64\n"
     ]
    }
   ],
   "source": [
    "print(skincare['price'].describe())"
   ]
  },
  {
   "cell_type": "code",
   "execution_count": 7,
   "metadata": {},
   "outputs": [
    {
     "data": {
      "text/plain": [
       "0    568\n",
       "1    567\n",
       "Name: price, dtype: int64"
      ]
     },
     "execution_count": 7,
     "metadata": {},
     "output_type": "execute_result"
    }
   ],
   "source": [
    "skincare['price'] = skincare[\"price\"].apply(lambda x: 1 if x > 18.90 else 0)\n",
    "# convert the price to 1 for 'expensive' if over the 50 percentile, and to 0 for 'cheap' if under the 50 percentile\n",
    "skincare['price'].value_counts()"
   ]
  },
  {
   "cell_type": "code",
   "execution_count": 8,
   "metadata": {},
   "outputs": [
    {
     "data": {
      "text/plain": [
       "array([0, 1, 1, ..., 1, 1, 1], dtype=int64)"
      ]
     },
     "execution_count": 8,
     "metadata": {},
     "output_type": "execute_result"
    }
   ],
   "source": [
    "y = np.array(skincare['price'])\n",
    "y.shape\n",
    "# prepare labels\n",
    "y"
   ]
  },
  {
   "cell_type": "code",
   "execution_count": 9,
   "metadata": {},
   "outputs": [],
   "source": [
    "def tokenizer(x) -> list: \n",
    "    x = x.replace('(', '')\n",
    "    x = x.replace(')', '')\n",
    "    x = x.replace(\"\\xa0\", \" \")\n",
    "    x = x.replace(\".\", \",\")\n",
    "    x = x.replace(\" & \", \", \")\n",
    "    x = re.split(', ', x)\n",
    "#     for item in x: \n",
    "#         if (item == \"aqua\") or (item == \"water aqua\") or (item == \"aqua water\") or (item == \"water/aqua\") or (item == \"aqua / water\") or (item = \"aqua/water/eau\") or (item == \"water\\\\aqua\\\\eau \") or (item == \"water aqua/eau\") or (item == \"aqua/water purified water\"):\n",
    "#             item = \"water\"\n",
    "    \n",
    "    return x"
   ]
  },
  {
   "cell_type": "code",
   "execution_count": 10,
   "metadata": {},
   "outputs": [
    {
     "data": {
      "text/plain": [
       "['Hello', '', 'there!']"
      ]
     },
     "execution_count": 10,
     "metadata": {},
     "output_type": "execute_result"
    }
   ],
   "source": [
    "tokenizer(\"(Hello.\\xa0 & there!\")"
   ]
  },
  {
   "cell_type": "code",
   "execution_count": 11,
   "metadata": {},
   "outputs": [],
   "source": [
    "ohe = OneHotEncoder()\n",
    "vect = CountVectorizer(tokenizer=lambda x: tokenizer(x))\n",
    "scaler = StandardScaler()"
   ]
  },
  {
   "cell_type": "code",
   "execution_count": 12,
   "metadata": {},
   "outputs": [
    {
     "data": {
      "text/html": [
       "<div>\n",
       "<style scoped>\n",
       "    .dataframe tbody tr th:only-of-type {\n",
       "        vertical-align: middle;\n",
       "    }\n",
       "\n",
       "    .dataframe tbody tr th {\n",
       "        vertical-align: top;\n",
       "    }\n",
       "\n",
       "    .dataframe thead th {\n",
       "        text-align: right;\n",
       "    }\n",
       "</style>\n",
       "<table border=\"1\" class=\"dataframe\">\n",
       "  <thead>\n",
       "    <tr style=\"text-align: right;\">\n",
       "      <th></th>\n",
       "      <th>brand</th>\n",
       "      <th>contents</th>\n",
       "      <th>product_type</th>\n",
       "      <th>ingredients</th>\n",
       "    </tr>\n",
       "  </thead>\n",
       "  <tbody>\n",
       "    <tr>\n",
       "      <th>0</th>\n",
       "      <td>Acorelle</td>\n",
       "      <td>100.0</td>\n",
       "      <td>Mist</td>\n",
       "      <td>Alcohol, Aqua, Glycerin, Fragrance, Limonene, ...</td>\n",
       "    </tr>\n",
       "    <tr>\n",
       "      <th>1</th>\n",
       "      <td>Aesop</td>\n",
       "      <td>10.0</td>\n",
       "      <td>Eye Care</td>\n",
       "      <td>Aloe Barbadensis Leaf Juice, Water, PEG-60 Alm...</td>\n",
       "    </tr>\n",
       "    <tr>\n",
       "      <th>2</th>\n",
       "      <td>Aesop</td>\n",
       "      <td>15.0</td>\n",
       "      <td>Eye Care</td>\n",
       "      <td>Aloe Babedensis Lead Juice, Water (Aqua), PEG ...</td>\n",
       "    </tr>\n",
       "    <tr>\n",
       "      <th>3</th>\n",
       "      <td>Aesop</td>\n",
       "      <td>200.0</td>\n",
       "      <td>Cleanser</td>\n",
       "      <td>Water, Cocamidopropyl Belaine, Sea Salt, Glyce...</td>\n",
       "    </tr>\n",
       "    <tr>\n",
       "      <th>4</th>\n",
       "      <td>Aesop</td>\n",
       "      <td>500.0</td>\n",
       "      <td>Body Wash</td>\n",
       "      <td>Water (Aqua), Sodium Laureth Sulfate, Propylen...</td>\n",
       "    </tr>\n",
       "    <tr>\n",
       "      <th>...</th>\n",
       "      <td>...</td>\n",
       "      <td>...</td>\n",
       "      <td>...</td>\n",
       "      <td>...</td>\n",
       "    </tr>\n",
       "    <tr>\n",
       "      <th>1130</th>\n",
       "      <td>Zelens</td>\n",
       "      <td>15.0</td>\n",
       "      <td>Eye Care</td>\n",
       "      <td>Aqua (Water), Dimethicone, Cyclopentasiloxane,...</td>\n",
       "    </tr>\n",
       "    <tr>\n",
       "      <th>1131</th>\n",
       "      <td>Zelens</td>\n",
       "      <td>30.0</td>\n",
       "      <td>Serum</td>\n",
       "      <td>Water (Aqua), Caprylic/Capric Triglyceride, Hy...</td>\n",
       "    </tr>\n",
       "    <tr>\n",
       "      <th>1132</th>\n",
       "      <td>Zelens</td>\n",
       "      <td>30.0</td>\n",
       "      <td>Serum</td>\n",
       "      <td>Aqua (Water), Glycerin, Propanediol, Hydrolyze...</td>\n",
       "    </tr>\n",
       "    <tr>\n",
       "      <th>1133</th>\n",
       "      <td>Zelens</td>\n",
       "      <td>50.0</td>\n",
       "      <td>Mist</td>\n",
       "      <td>Aqua (Water), Propanediol, Glycerin, Polyglyce...</td>\n",
       "    </tr>\n",
       "    <tr>\n",
       "      <th>1134</th>\n",
       "      <td>Zelens</td>\n",
       "      <td>50.0</td>\n",
       "      <td>Mist</td>\n",
       "      <td>Aqua, Butylene Glycol, Sodium Lactate, Lactoba...</td>\n",
       "    </tr>\n",
       "  </tbody>\n",
       "</table>\n",
       "<p>1135 rows × 4 columns</p>\n",
       "</div>"
      ],
      "text/plain": [
       "         brand  contents product_type  \\\n",
       "0     Acorelle     100.0         Mist   \n",
       "1        Aesop      10.0     Eye Care   \n",
       "2        Aesop      15.0     Eye Care   \n",
       "3        Aesop     200.0     Cleanser   \n",
       "4        Aesop     500.0    Body Wash   \n",
       "...        ...       ...          ...   \n",
       "1130    Zelens      15.0     Eye Care   \n",
       "1131    Zelens      30.0        Serum   \n",
       "1132    Zelens      30.0        Serum   \n",
       "1133    Zelens      50.0         Mist   \n",
       "1134    Zelens      50.0         Mist   \n",
       "\n",
       "                                            ingredients  \n",
       "0     Alcohol, Aqua, Glycerin, Fragrance, Limonene, ...  \n",
       "1     Aloe Barbadensis Leaf Juice, Water, PEG-60 Alm...  \n",
       "2     Aloe Babedensis Lead Juice, Water (Aqua), PEG ...  \n",
       "3     Water, Cocamidopropyl Belaine, Sea Salt, Glyce...  \n",
       "4     Water (Aqua), Sodium Laureth Sulfate, Propylen...  \n",
       "...                                                 ...  \n",
       "1130  Aqua (Water), Dimethicone, Cyclopentasiloxane,...  \n",
       "1131  Water (Aqua), Caprylic/Capric Triglyceride, Hy...  \n",
       "1132  Aqua (Water), Glycerin, Propanediol, Hydrolyze...  \n",
       "1133  Aqua (Water), Propanediol, Glycerin, Polyglyce...  \n",
       "1134  Aqua, Butylene Glycol, Sodium Lactate, Lactoba...  \n",
       "\n",
       "[1135 rows x 4 columns]"
      ]
     },
     "execution_count": 12,
     "metadata": {},
     "output_type": "execute_result"
    }
   ],
   "source": [
    "X = skincare[['brand', 'contents', 'product_type', 'ingredients']]\n",
    "X"
   ]
  },
  {
   "cell_type": "code",
   "execution_count": 13,
   "metadata": {},
   "outputs": [],
   "source": [
    "X_train, X_test, y_train, y_test = train_test_split(X, y, \n",
    "                                                    test_size = 0.4, random_state=random_state, stratify=y)"
   ]
  },
  {
   "cell_type": "markdown",
   "metadata": {},
   "source": [
    "# w/ BRAND - BINARY - PERCEPTRON"
   ]
  },
  {
   "cell_type": "code",
   "execution_count": 14,
   "metadata": {},
   "outputs": [],
   "source": [
    "ct = make_column_transformer(\n",
    "    (ohe, [\"product_type\"]),\n",
    "    (vect, \"ingredients\"),\n",
    "    (vect, 'brand'),\n",
    "    (scaler, [\"contents\"]), \n",
    "    remainder=\"passthrough\")\n",
    "# define a column transformer, this time with all predictors including brand"
   ]
  },
  {
   "cell_type": "code",
   "execution_count": 15,
   "metadata": {},
   "outputs": [
    {
     "data": {
      "text/plain": [
       "Pipeline(steps=[('columntransformer',\n",
       "                 ColumnTransformer(remainder='passthrough',\n",
       "                                   transformers=[('onehotencoder',\n",
       "                                                  OneHotEncoder(),\n",
       "                                                  ['product_type']),\n",
       "                                                 ('countvectorizer-1',\n",
       "                                                  CountVectorizer(tokenizer=<function <lambda> at 0x000002A0C430C700>),\n",
       "                                                  'ingredients'),\n",
       "                                                 ('countvectorizer-2',\n",
       "                                                  CountVectorizer(tokenizer=<function <lambda> at 0x000002A0C430C700>),\n",
       "                                                  'brand'),\n",
       "                                                 ('standardscaler',\n",
       "                                                  StandardScaler(),\n",
       "                                                  ['contents'])])),\n",
       "                ('perceptron', Perceptron())])"
      ]
     },
     "execution_count": 15,
     "metadata": {},
     "output_type": "execute_result"
    }
   ],
   "source": [
    "from sklearn.linear_model import Perceptron\n",
    "perc = Perceptron()\n",
    "pr_pipe = make_pipeline(ct, perc)\n",
    "# prepare the pipeline with the column transformer\n",
    "\n",
    "pr_pipe.fit(X_train, y_train)\n",
    "# fit the pipeline"
   ]
  },
  {
   "cell_type": "code",
   "execution_count": 16,
   "metadata": {},
   "outputs": [],
   "source": [
    "perc_predictions = pr_pipe.predict(X_test)\n",
    "# get perceptron predictions"
   ]
  },
  {
   "cell_type": "code",
   "execution_count": 17,
   "metadata": {},
   "outputs": [
    {
     "data": {
      "text/plain": [
       "0.7665198237885462"
      ]
     },
     "execution_count": 17,
     "metadata": {},
     "output_type": "execute_result"
    }
   ],
   "source": [
    "accuracy_score(y_test, perc_predictions)\n",
    "# get initial accuracy score with no optimization"
   ]
  },
  {
   "cell_type": "code",
   "execution_count": 18,
   "metadata": {},
   "outputs": [
    {
     "name": "stdout",
     "output_type": "stream",
     "text": [
      "[0.84057971 0.69117647 0.67647059 0.80882353 0.77941176 0.79411765\n",
      " 0.77941176 0.79411765 0.72058824 0.69117647]\n"
     ]
    }
   ],
   "source": [
    "scores = cross_val_score(estimator=pr_pipe, X=X_train, y=y_train, cv=10, n_jobs=-1)\n",
    "print(scores)"
   ]
  },
  {
   "cell_type": "code",
   "execution_count": 19,
   "metadata": {},
   "outputs": [
    {
     "name": "stdout",
     "output_type": "stream",
     "text": [
      "Accuracy = 0.75758738 +/- 0.05468463\n"
     ]
    }
   ],
   "source": [
    "print('Accuracy = {:.8f} +/- {:.8f}'.format(np.mean(scores), np.std(scores)))\n",
    "# report cross-validation accuracy scores"
   ]
  },
  {
   "cell_type": "markdown",
   "metadata": {},
   "source": [
    "# w/ BRAND - BINARY - LOGISTIC REGRESSION"
   ]
  },
  {
   "cell_type": "code",
   "execution_count": 20,
   "metadata": {},
   "outputs": [],
   "source": [
    "ct = make_column_transformer(\n",
    "    (ohe, [\"product_type\"]),\n",
    "    (vect, \"ingredients\"),\n",
    "    (vect, \"brand\"),\n",
    "    (scaler, [\"contents\"]), \n",
    "    remainder=\"passthrough\")\n",
    "# reminding myself what is in the column transformer"
   ]
  },
  {
   "cell_type": "code",
   "execution_count": 21,
   "metadata": {},
   "outputs": [],
   "source": [
    "lr = LogisticRegression(random_state=random_state, max_iter = 10000)\n",
    "lr_pipe = make_pipeline(ct, lr)\n",
    "# prepare pipeline with logistic regression and the transformers"
   ]
  },
  {
   "cell_type": "code",
   "execution_count": 22,
   "metadata": {},
   "outputs": [],
   "source": [
    "lr_pipe.fit(X_train, y_train)\n",
    "# fit the pipeline\n",
    "lr_predictions = lr_pipe.predict(X_test)\n",
    "# get the predictions"
   ]
  },
  {
   "cell_type": "code",
   "execution_count": 23,
   "metadata": {},
   "outputs": [
    {
     "data": {
      "text/plain": [
       "0.7775330396475771"
      ]
     },
     "execution_count": 23,
     "metadata": {},
     "output_type": "execute_result"
    }
   ],
   "source": [
    "accuracy_score(y_test, lr_predictions)\n",
    "# get initial accuracy score with no optimization"
   ]
  },
  {
   "cell_type": "code",
   "execution_count": 24,
   "metadata": {},
   "outputs": [
    {
     "data": {
      "text/plain": [
       "{'logisticregression__tol': 1e-05,\n",
       " 'logisticregression__solver': 'lbfgs',\n",
       " 'logisticregression__C': 10}"
      ]
     },
     "execution_count": 24,
     "metadata": {},
     "output_type": "execute_result"
    }
   ],
   "source": [
    "solvers = ['newton-cg', 'lbfgs', 'liblinear', 'sag', 'saga']\n",
    "tols = [0.00001, 0.0001, 0.001, 0.01, 0.1, 1, 10, 100, 1000, 10000]\n",
    "Cs = [0.00001, 0.0001, 0.001, 0.01, 0.1, 1, 10, 100, 1000, 10000]\n",
    "# define a parameter grid optimizing the solver, tolerance, and regularization\n",
    "param_grid = {'logisticregression__C': Cs, 'logisticregression__solver':solvers, 'logisticregression__tol':tols}\n",
    "\n",
    "lr_pipe = make_pipeline(ct, lr)\n",
    "# remake the pipeline\n",
    "\n",
    "lr_gs = RandomizedSearchCV(estimator=lr_pipe, param_distributions=param_grid, random_state=random_state, scoring='accuracy', cv=10, refit=True)\n",
    "# get best hyperparameters with randomized grid search\n",
    "lr_gs = lr_gs.fit(X_train, y_train)\n",
    "lr_gs.best_params_"
   ]
  },
  {
   "cell_type": "code",
   "execution_count": 25,
   "metadata": {},
   "outputs": [
    {
     "data": {
      "text/plain": [
       "0.7577092511013216"
      ]
     },
     "execution_count": 25,
     "metadata": {},
     "output_type": "execute_result"
    }
   ],
   "source": [
    "best_lr = lr_gs.best_estimator_\n",
    "\n",
    "best_lr.score(X_test, y_test)\n",
    "# get accuracy score of best estimator"
   ]
  },
  {
   "cell_type": "code",
   "execution_count": 26,
   "metadata": {},
   "outputs": [
    {
     "name": "stdout",
     "output_type": "stream",
     "text": [
      "[0.84057971 0.75       0.70588235 0.79411765 0.77941176 0.76470588\n",
      " 0.82352941 0.77941176 0.70588235 0.76470588]\n"
     ]
    }
   ],
   "source": [
    "scores = cross_val_score(estimator=best_lr, X=X_train, y=y_train, cv=10, n_jobs=-1)\n",
    "print(scores)"
   ]
  },
  {
   "cell_type": "code",
   "execution_count": 27,
   "metadata": {},
   "outputs": [
    {
     "name": "stdout",
     "output_type": "stream",
     "text": [
      "Accuracy = 0.77082268 +/- 0.04156579\n"
     ]
    }
   ],
   "source": [
    "print('Accuracy = {:.8f} +/- {:.8f}'.format(np.mean(scores), np.std(scores)))\n",
    "# report cross validation accuracy scores"
   ]
  },
  {
   "cell_type": "markdown",
   "metadata": {},
   "source": [
    "# w/BRAND - BINARY - DECISION TREE"
   ]
  },
  {
   "cell_type": "code",
   "execution_count": 28,
   "metadata": {},
   "outputs": [
    {
     "data": {
      "text/plain": [
       "0.7136563876651982"
      ]
     },
     "execution_count": 28,
     "metadata": {},
     "output_type": "execute_result"
    }
   ],
   "source": [
    "from sklearn.tree import DecisionTreeClassifier\n",
    "\n",
    "dt = DecisionTreeClassifier(random_state=random_state, criterion='entropy')\n",
    "# instantiate a decision tree classifier\n",
    "ct = make_column_transformer(\n",
    "    (ohe, [\"product_type\"]),\n",
    "    (vect, \"ingredients\"),\n",
    "    (vect, \"brand\"), # scaling not necessary\n",
    "    remainder=\"passthrough\")\n",
    "\n",
    "dt_pipe = make_pipeline(ct, dt)\n",
    "\n",
    "dt_pipe.fit(X_train, y_train)\n",
    "dt_predictions = dt_pipe.predict(X_test)\n",
    "accuracy_score(y_test, dt_predictions)\n",
    "# get initial accuracy score with no optimization"
   ]
  },
  {
   "cell_type": "code",
   "execution_count": 29,
   "metadata": {},
   "outputs": [
    {
     "name": "stdout",
     "output_type": "stream",
     "text": [
      "              precision    recall  f1-score   support\n",
      "\n",
      "           0       0.72      0.69      0.71       227\n",
      "           1       0.70      0.74      0.72       227\n",
      "\n",
      "    accuracy                           0.71       454\n",
      "   macro avg       0.71      0.71      0.71       454\n",
      "weighted avg       0.71      0.71      0.71       454\n",
      "\n"
     ]
    }
   ],
   "source": [
    "print(classification_report(y_test, dt_predictions))"
   ]
  },
  {
   "cell_type": "code",
   "execution_count": 30,
   "metadata": {},
   "outputs": [
    {
     "data": {
      "text/plain": [
       "array([[157,  70],\n",
       "       [ 60, 167]], dtype=int64)"
      ]
     },
     "execution_count": 30,
     "metadata": {},
     "output_type": "execute_result"
    }
   ],
   "source": [
    "confusion_matrix(y_test, dt_predictions)"
   ]
  },
  {
   "cell_type": "code",
   "execution_count": 31,
   "metadata": {},
   "outputs": [
    {
     "name": "stdout",
     "output_type": "stream",
     "text": [
      "{'decisiontreeclassifier__min_samples_leaf': 31, 'decisiontreeclassifier__max_depth': 10, 'decisiontreeclassifier__criterion': 'entropy'}\n",
      "0.7070484581497798\n"
     ]
    }
   ],
   "source": [
    "criterions = ['gini', 'entropy']\n",
    "max_depths = [None, 10, 100, 1000, 10000]\n",
    "param_grid = {'decisiontreeclassifier__min_samples_leaf': np.arange(1,50), \n",
    "              'decisiontreeclassifier__max_depth': max_depths, \n",
    "              'decisiontreeclassifier__criterion':criterions}\n",
    "dt = DecisionTreeClassifier(random_state=random_state, criterion='entropy')\n",
    "dt_pipe = make_pipeline(ct, dt)\n",
    "dt_gs = RandomizedSearchCV(estimator=dt_pipe, param_distributions=param_grid, random_state=random_state, scoring='accuracy', cv=10, refit=True)\n",
    "dt_gs = dt_gs.fit(X_train, y_train)\n",
    "print(dt_gs.best_params_)\n",
    "best_dt = dt_gs.best_estimator_   # refitting done automatically\n",
    "print(best_dt.score(X_test, y_test))"
   ]
  },
  {
   "cell_type": "code",
   "execution_count": 32,
   "metadata": {},
   "outputs": [
    {
     "name": "stdout",
     "output_type": "stream",
     "text": [
      "[0.75362319 0.67647059 0.72058824 0.76470588 0.69117647 0.69117647\n",
      " 0.80882353 0.76470588 0.64705882 0.61764706]\n"
     ]
    }
   ],
   "source": [
    "scores = cross_val_score(estimator=best_dt, X=X_train, y=y_train, cv=10, n_jobs=-1)\n",
    "print(scores)"
   ]
  },
  {
   "cell_type": "code",
   "execution_count": 33,
   "metadata": {},
   "outputs": [
    {
     "name": "stdout",
     "output_type": "stream",
     "text": [
      "Accuracy = 0.71359761 +/- 0.05653384\n"
     ]
    }
   ],
   "source": [
    "print('Accuracy = {:.8f} +/- {:.8f}'.format(np.mean(scores), np.std(scores)))"
   ]
  },
  {
   "cell_type": "markdown",
   "metadata": {},
   "source": [
    "# w/BRAND - BINARY - KNN"
   ]
  },
  {
   "cell_type": "code",
   "execution_count": 34,
   "metadata": {},
   "outputs": [
    {
     "data": {
      "text/plain": [
       "Pipeline(steps=[('columntransformer',\n",
       "                 ColumnTransformer(remainder='passthrough',\n",
       "                                   transformers=[('onehotencoder',\n",
       "                                                  OneHotEncoder(),\n",
       "                                                  ['product_type']),\n",
       "                                                 ('countvectorizer-1',\n",
       "                                                  CountVectorizer(tokenizer=<function <lambda> at 0x000002A0C430C700>),\n",
       "                                                  'ingredients'),\n",
       "                                                 ('countvectorizer-2',\n",
       "                                                  CountVectorizer(tokenizer=<function <lambda> at 0x000002A0C430C700>),\n",
       "                                                  'brand'),\n",
       "                                                 ('standardscaler',\n",
       "                                                  StandardScaler(),\n",
       "                                                  ['contents'])])),\n",
       "                ('kneighborsclassifier', KNeighborsClassifier())])"
      ]
     },
     "execution_count": 34,
     "metadata": {},
     "output_type": "execute_result"
    }
   ],
   "source": [
    "from sklearn.neighbors import KNeighborsClassifier as KNN\n",
    "knn = KNN(n_neighbors=5) #instantiate a KNN classifier\n",
    "ct = make_column_transformer(\n",
    "    (ohe, [\"product_type\"]),\n",
    "    (vect, \"ingredients\"),\n",
    "    (vect, \"brand\"),\n",
    "    (scaler, [\"contents\"]), \n",
    "    remainder=\"passthrough\")\n",
    "knn_pipe = make_pipeline(ct, knn)\n",
    "knn_pipe.fit(X_train, y_train)"
   ]
  },
  {
   "cell_type": "code",
   "execution_count": 35,
   "metadata": {},
   "outputs": [
    {
     "data": {
      "text/plain": [
       "0.6674008810572687"
      ]
     },
     "execution_count": 35,
     "metadata": {},
     "output_type": "execute_result"
    }
   ],
   "source": [
    "knn_predictions = knn_pipe.predict(X_test)\n",
    "accuracy_score(y_test, knn_predictions)\n",
    "# get initial accuracy score with no optimization"
   ]
  },
  {
   "cell_type": "code",
   "execution_count": 36,
   "metadata": {},
   "outputs": [
    {
     "name": "stdout",
     "output_type": "stream",
     "text": [
      "{'kneighborsclassifier__weights': 'distance', 'kneighborsclassifier__n_neighbors': 9}\n",
      "0.6365638766519823\n"
     ]
    }
   ],
   "source": [
    "knn_pipe = make_pipeline(ct, knn)\n",
    "param_grid = {'kneighborsclassifier__n_neighbors': np.arange(1,50), \n",
    "              'kneighborsclassifier__weights':['uniform', 'distance']}\n",
    "\n",
    "knn_gs = RandomizedSearchCV(estimator=knn_pipe, param_distributions=param_grid, random_state=random_state, scoring='accuracy', cv=10, refit=True)\n",
    "knn_gs = knn_gs.fit(X_train, y_train)\n",
    "print(knn_gs.best_params_)\n",
    "best_knn = knn_gs.best_estimator_   # refitting done automatically\n",
    "print(best_knn.score(X_test, y_test))"
   ]
  },
  {
   "cell_type": "code",
   "execution_count": 37,
   "metadata": {},
   "outputs": [
    {
     "name": "stdout",
     "output_type": "stream",
     "text": [
      "[0.72463768 0.67647059 0.60294118 0.60294118 0.67647059 0.72058824\n",
      " 0.58823529 0.52941176 0.55882353 0.70588235]\n"
     ]
    }
   ],
   "source": [
    "scores = cross_val_score(estimator=best_knn, X=X_train, y=y_train, cv=10, n_jobs=-1)\n",
    "print(scores)"
   ]
  },
  {
   "cell_type": "code",
   "execution_count": 38,
   "metadata": {},
   "outputs": [
    {
     "name": "stdout",
     "output_type": "stream",
     "text": [
      "Accuracy = 0.63864024 +/- 0.06699692\n"
     ]
    }
   ],
   "source": [
    "print('Accuracy = {:.8f} +/- {:.8f}'.format(np.mean(scores), np.std(scores)))"
   ]
  },
  {
   "cell_type": "markdown",
   "metadata": {},
   "source": [
    "# w/ BRAND - BINARY - SVM"
   ]
  },
  {
   "cell_type": "code",
   "execution_count": 39,
   "metadata": {},
   "outputs": [],
   "source": [
    "from sklearn.svm import SVC"
   ]
  },
  {
   "cell_type": "code",
   "execution_count": 40,
   "metadata": {},
   "outputs": [],
   "source": [
    "svm = SVC(kernel='linear', random_state = random_state) #instantiate a SVC classifier"
   ]
  },
  {
   "cell_type": "code",
   "execution_count": 41,
   "metadata": {},
   "outputs": [
    {
     "data": {
      "text/plain": [
       "Pipeline(steps=[('columntransformer',\n",
       "                 ColumnTransformer(remainder='passthrough',\n",
       "                                   transformers=[('onehotencoder',\n",
       "                                                  OneHotEncoder(),\n",
       "                                                  ['product_type']),\n",
       "                                                 ('countvectorizer-1',\n",
       "                                                  CountVectorizer(tokenizer=<function <lambda> at 0x000002A0C430C700>),\n",
       "                                                  'ingredients'),\n",
       "                                                 ('countvectorizer-2',\n",
       "                                                  CountVectorizer(tokenizer=<function <lambda> at 0x000002A0C430C700>),\n",
       "                                                  'brand'),\n",
       "                                                 ('standardscaler',\n",
       "                                                  StandardScaler(),\n",
       "                                                  ['contents'])])),\n",
       "                ('svc', SVC(kernel='linear', random_state=1))])"
      ]
     },
     "execution_count": 41,
     "metadata": {},
     "output_type": "execute_result"
    }
   ],
   "source": [
    "svm_pipe = make_pipeline(ct, svm)\n",
    "svm_pipe.fit(X_train, y_train)\n",
    "# fit pipeline"
   ]
  },
  {
   "cell_type": "code",
   "execution_count": 42,
   "metadata": {},
   "outputs": [
    {
     "data": {
      "text/plain": [
       "0.7180616740088106"
      ]
     },
     "execution_count": 42,
     "metadata": {},
     "output_type": "execute_result"
    }
   ],
   "source": [
    "svm_predictions = svm_pipe.predict(X_test)\n",
    "accuracy_score(y_test, svm_predictions)\n",
    "# get initial accuracy score with no optimization"
   ]
  },
  {
   "cell_type": "code",
   "execution_count": 43,
   "metadata": {},
   "outputs": [
    {
     "name": "stdout",
     "output_type": "stream",
     "text": [
      "{'svc__kernel': 'rbf', 'svc__gamma': 0.0001, 'svc__C': 100}\n",
      "0.7422907488986784\n"
     ]
    }
   ],
   "source": [
    "svm = SVC(kernel='linear', random_state = random_state)\n",
    "ct = make_column_transformer(\n",
    "    (ohe, [\"product_type\"]),\n",
    "    (vect, \"ingredients\"),\n",
    "    (vect, \"brand\"),\n",
    "    (scaler, [\"contents\"]), \n",
    "    remainder=\"passthrough\")\n",
    "svm_pipe = make_pipeline(ct, svm)\n",
    "\n",
    "param_grid = [{'svc__C': [0.00001, 0.0001, 0.001, 0.01, 0.1, 1, 10, 100, 1000, 10000],\n",
    "               'svc__kernel': ['linear']},\n",
    "              {'svc__C': [0.00001, 0.0001, 0.001, 0.01, 0.1, 1, 10, 100, 1000, 10000],\n",
    "               'svc__gamma': [0.00001, 0.0001, 0.001, 0.01, 0.1, 1, 10, 100, 1000, 10000],\n",
    "               'svc__kernel': ['rbf']}]\n",
    "svm_gs = RandomizedSearchCV(estimator=svm_pipe, random_state = random_state, param_distributions=param_grid, scoring='accuracy', cv=10, refit=True)\n",
    "svm_gs = svm_gs.fit(X_train, y_train)\n",
    "print(svm_gs.best_params_)\n",
    "best_svm = svm_gs.best_estimator_   # refitting done automatically\n",
    "print(best_svm.score(X_test, y_test))"
   ]
  },
  {
   "cell_type": "code",
   "execution_count": 44,
   "metadata": {},
   "outputs": [
    {
     "name": "stdout",
     "output_type": "stream",
     "text": [
      "[0.82608696 0.70588235 0.67647059 0.72058824 0.77941176 0.73529412\n",
      " 0.86764706 0.75       0.76470588 0.82352941]\n"
     ]
    }
   ],
   "source": [
    "scores = cross_val_score(estimator=best_svm, X=X_train, y=y_train, cv=10, n_jobs=-1)\n",
    "print(scores)"
   ]
  },
  {
   "cell_type": "code",
   "execution_count": 45,
   "metadata": {},
   "outputs": [
    {
     "name": "stdout",
     "output_type": "stream",
     "text": [
      "Accuracy = 0.76496164 +/- 0.05684514\n"
     ]
    }
   ],
   "source": [
    "print('Accuracy = {:.8f} +/- {:.8f}'.format(np.mean(scores), np.std(scores)))"
   ]
  },
  {
   "cell_type": "markdown",
   "metadata": {},
   "source": [
    "# w/ BRAND - BINARY - VOTING CLASSIFIER"
   ]
  },
  {
   "cell_type": "code",
   "execution_count": 46,
   "metadata": {},
   "outputs": [],
   "source": [
    "from sklearn.ensemble import VotingClassifier\n",
    "\n",
    "lr = LogisticRegression(tol=0.1, solver='saga', C=3, random_state=random_state)\n",
    "perc = Perceptron()\n",
    "svm = SVC(kernel='linear', C=0.1, random_state=random_state)\n",
    "# fit the voting classifier with the best-performing algorithms\n",
    "\n",
    "classifiers = [(\"Logistic Regression\", lr),\n",
    "              (\"Perceptron\", perc),\n",
    "              (\"Support Vector Classifier\", svm)]\n",
    "vc = VotingClassifier(estimators = classifiers)\n",
    "\n",
    "vc_pipe = make_pipeline(ct, vc)\n",
    "# prepare the pipeline"
   ]
  },
  {
   "cell_type": "code",
   "execution_count": 47,
   "metadata": {},
   "outputs": [
    {
     "data": {
      "text/plain": [
       "Pipeline(steps=[('columntransformer',\n",
       "                 ColumnTransformer(remainder='passthrough',\n",
       "                                   transformers=[('onehotencoder',\n",
       "                                                  OneHotEncoder(),\n",
       "                                                  ['product_type']),\n",
       "                                                 ('countvectorizer-1',\n",
       "                                                  CountVectorizer(tokenizer=<function <lambda> at 0x000002A0C430C700>),\n",
       "                                                  'ingredients'),\n",
       "                                                 ('countvectorizer-2',\n",
       "                                                  CountVectorizer(tokenizer=<function <lambda> at 0x000002A0C430C700>),\n",
       "                                                  'brand'),\n",
       "                                                 ('standardscaler',\n",
       "                                                  StandardScaler(),\n",
       "                                                  ['contents'])])),\n",
       "                ('votingclassifier',\n",
       "                 VotingClassifier(estimators=[('Logistic Regression',\n",
       "                                               LogisticRegression(C=3,\n",
       "                                                                  random_state=1,\n",
       "                                                                  solver='saga',\n",
       "                                                                  tol=0.1)),\n",
       "                                              ('Perceptron', Perceptron()),\n",
       "                                              ('Support Vector Classifier',\n",
       "                                               SVC(C=0.1, kernel='linear',\n",
       "                                                   random_state=1))]))])"
      ]
     },
     "execution_count": 47,
     "metadata": {},
     "output_type": "execute_result"
    }
   ],
   "source": [
    "vc_pipe.fit(X_train, y_train)"
   ]
  },
  {
   "cell_type": "code",
   "execution_count": 48,
   "metadata": {},
   "outputs": [
    {
     "data": {
      "text/plain": [
       "0.7841409691629956"
      ]
     },
     "execution_count": 48,
     "metadata": {},
     "output_type": "execute_result"
    }
   ],
   "source": [
    "vc_predictions = vc_pipe.predict(X_test)\n",
    "accuracy_score(y_test, vc_predictions)\n",
    "# get initial accuracy score with no optimization"
   ]
  },
  {
   "cell_type": "code",
   "execution_count": 49,
   "metadata": {},
   "outputs": [
    {
     "name": "stdout",
     "output_type": "stream",
     "text": [
      "[0.86956522 0.70588235 0.69117647 0.79411765 0.79411765 0.73529412\n",
      " 0.86764706 0.79411765 0.80882353 0.73529412]\n"
     ]
    }
   ],
   "source": [
    "scores = cross_val_score(estimator=vc_pipe, X=X_train, y=y_train, cv=10, n_jobs=-1)\n",
    "print(scores)"
   ]
  },
  {
   "cell_type": "code",
   "execution_count": 50,
   "metadata": {},
   "outputs": [
    {
     "name": "stdout",
     "output_type": "stream",
     "text": [
      "Accuracy = 0.77960358 +/- 0.05874637\n"
     ]
    }
   ],
   "source": [
    "print('Accuracy = {:.8f} +/- {:.8f}'.format(np.mean(scores), np.std(scores)))\n",
    "# pretty high accuracy comopared to the others"
   ]
  },
  {
   "cell_type": "markdown",
   "metadata": {},
   "source": [
    "# w/ BRAND - BINARY - BAGGING CLASSIFIER"
   ]
  },
  {
   "cell_type": "code",
   "execution_count": 51,
   "metadata": {},
   "outputs": [
    {
     "data": {
      "text/html": [
       "<div>\n",
       "<style scoped>\n",
       "    .dataframe tbody tr th:only-of-type {\n",
       "        vertical-align: middle;\n",
       "    }\n",
       "\n",
       "    .dataframe tbody tr th {\n",
       "        vertical-align: top;\n",
       "    }\n",
       "\n",
       "    .dataframe thead th {\n",
       "        text-align: right;\n",
       "    }\n",
       "</style>\n",
       "<table border=\"1\" class=\"dataframe\">\n",
       "  <thead>\n",
       "    <tr style=\"text-align: right;\">\n",
       "      <th></th>\n",
       "      <th>brand</th>\n",
       "      <th>contents</th>\n",
       "      <th>product_type</th>\n",
       "      <th>ingredients</th>\n",
       "    </tr>\n",
       "  </thead>\n",
       "  <tbody>\n",
       "    <tr>\n",
       "      <th>145</th>\n",
       "      <td>Bondi Sands</td>\n",
       "      <td>250.0</td>\n",
       "      <td>Mist</td>\n",
       "      <td>Butane, Water, Alcohol, Isobutane, Propane, Di...</td>\n",
       "    </tr>\n",
       "    <tr>\n",
       "      <th>1099</th>\n",
       "      <td>Weleda</td>\n",
       "      <td>150.0</td>\n",
       "      <td>Body Wash</td>\n",
       "      <td>Water (Aqua), Sesamum Indicum (Sesame) Seed Oi...</td>\n",
       "    </tr>\n",
       "    <tr>\n",
       "      <th>168</th>\n",
       "      <td>Bulldog</td>\n",
       "      <td>150.0</td>\n",
       "      <td>Cleanser</td>\n",
       "      <td>Aqua (Water), Cocamidopropyl betaine, Coco-glu...</td>\n",
       "    </tr>\n",
       "    <tr>\n",
       "      <th>141</th>\n",
       "      <td>Bobbi Brown</td>\n",
       "      <td>30.0</td>\n",
       "      <td>Serum</td>\n",
       "      <td>Water\\Aqua\\Eau, Squalane, Glycerin, Butylene G...</td>\n",
       "    </tr>\n",
       "    <tr>\n",
       "      <th>775</th>\n",
       "      <td>Natio</td>\n",
       "      <td>100.0</td>\n",
       "      <td>Exfoliator</td>\n",
       "      <td>Water (Aqua), Ammonium Lauryl Sulfate, Cocamid...</td>\n",
       "    </tr>\n",
       "    <tr>\n",
       "      <th>...</th>\n",
       "      <td>...</td>\n",
       "      <td>...</td>\n",
       "      <td>...</td>\n",
       "      <td>...</td>\n",
       "    </tr>\n",
       "    <tr>\n",
       "      <th>591</th>\n",
       "      <td>La Roche-Posay</td>\n",
       "      <td>15.0</td>\n",
       "      <td>Eye Care</td>\n",
       "      <td>Aqua / Water, Glycerin, Carbomer, Glycinesoja ...</td>\n",
       "    </tr>\n",
       "    <tr>\n",
       "      <th>723</th>\n",
       "      <td>Mauli</td>\n",
       "      <td>460.0</td>\n",
       "      <td>Bath Salts</td>\n",
       "      <td>Himalayan Salts, Geranium, Sweet Blood Orange,...</td>\n",
       "    </tr>\n",
       "    <tr>\n",
       "      <th>791</th>\n",
       "      <td>Neal's Yard Remedies</td>\n",
       "      <td>200.0</td>\n",
       "      <td>Toner</td>\n",
       "      <td>Aqua (Water), Alcohol Denat., Aloe Barbadensis...</td>\n",
       "    </tr>\n",
       "    <tr>\n",
       "      <th>208</th>\n",
       "      <td>CeraVe</td>\n",
       "      <td>14.0</td>\n",
       "      <td>Eye Care</td>\n",
       "      <td>Purified Water, Niacinamide, Cetyl Alcohol, Ca...</td>\n",
       "    </tr>\n",
       "    <tr>\n",
       "      <th>531</th>\n",
       "      <td>Holika Holika</td>\n",
       "      <td>20.0</td>\n",
       "      <td>Mask</td>\n",
       "      <td>Water, Dimethicone, Butylene Glycol, Glycerin,...</td>\n",
       "    </tr>\n",
       "  </tbody>\n",
       "</table>\n",
       "<p>681 rows × 4 columns</p>\n",
       "</div>"
      ],
      "text/plain": [
       "                     brand  contents product_type  \\\n",
       "145            Bondi Sands     250.0         Mist   \n",
       "1099                Weleda     150.0    Body Wash   \n",
       "168                Bulldog     150.0     Cleanser   \n",
       "141            Bobbi Brown      30.0        Serum   \n",
       "775                  Natio     100.0   Exfoliator   \n",
       "...                    ...       ...          ...   \n",
       "591         La Roche-Posay      15.0     Eye Care   \n",
       "723                  Mauli     460.0   Bath Salts   \n",
       "791   Neal's Yard Remedies     200.0        Toner   \n",
       "208                 CeraVe      14.0     Eye Care   \n",
       "531          Holika Holika      20.0         Mask   \n",
       "\n",
       "                                            ingredients  \n",
       "145   Butane, Water, Alcohol, Isobutane, Propane, Di...  \n",
       "1099  Water (Aqua), Sesamum Indicum (Sesame) Seed Oi...  \n",
       "168   Aqua (Water), Cocamidopropyl betaine, Coco-glu...  \n",
       "141   Water\\Aqua\\Eau, Squalane, Glycerin, Butylene G...  \n",
       "775   Water (Aqua), Ammonium Lauryl Sulfate, Cocamid...  \n",
       "...                                                 ...  \n",
       "591   Aqua / Water, Glycerin, Carbomer, Glycinesoja ...  \n",
       "723   Himalayan Salts, Geranium, Sweet Blood Orange,...  \n",
       "791   Aqua (Water), Alcohol Denat., Aloe Barbadensis...  \n",
       "208   Purified Water, Niacinamide, Cetyl Alcohol, Ca...  \n",
       "531   Water, Dimethicone, Butylene Glycol, Glycerin,...  \n",
       "\n",
       "[681 rows x 4 columns]"
      ]
     },
     "execution_count": 51,
     "metadata": {},
     "output_type": "execute_result"
    }
   ],
   "source": [
    "from sklearn.tree import DecisionTreeClassifier\n",
    "from sklearn.ensemble import BaggingClassifier\n",
    "\n",
    "dt = DecisionTreeClassifier(min_samples_leaf=31,\n",
    "                            max_depth=10, \n",
    "                            criterion='entropy',\n",
    "                            random_state = random_state)\n",
    "# use decision trees again for the bagging classifier\n",
    "bc = BaggingClassifier(base_estimator = dt, random_state=random_state, n_estimators = 300, n_jobs = -1)\n",
    "# instantiate a bagging classifier\n",
    "# remind myself of what is in the column transformer\n",
    "ct = make_column_transformer(\n",
    "    (ohe, [\"product_type\"]),\n",
    "    (vect, \"ingredients\"),\n",
    "    (vect, \"brand\"),\n",
    "    remainder=\"passthrough\")\n",
    "\n",
    "bc_pipe = make_pipeline(ct, bc)\n",
    "X_train # inspect Xtrain again"
   ]
  },
  {
   "cell_type": "code",
   "execution_count": 52,
   "metadata": {},
   "outputs": [
    {
     "data": {
      "text/plain": [
       "Pipeline(steps=[('columntransformer',\n",
       "                 ColumnTransformer(remainder='passthrough',\n",
       "                                   transformers=[('onehotencoder',\n",
       "                                                  OneHotEncoder(),\n",
       "                                                  ['product_type']),\n",
       "                                                 ('countvectorizer-1',\n",
       "                                                  CountVectorizer(tokenizer=<function <lambda> at 0x000002A0C430C700>),\n",
       "                                                  'ingredients'),\n",
       "                                                 ('countvectorizer-2',\n",
       "                                                  CountVectorizer(tokenizer=<function <lambda> at 0x000002A0C430C700>),\n",
       "                                                  'brand')])),\n",
       "                ('baggingclassifier',\n",
       "                 BaggingClassifier(base_estimator=DecisionTreeClassifier(criterion='entropy',\n",
       "                                                                         max_depth=10,\n",
       "                                                                         min_samples_leaf=31,\n",
       "                                                                         random_state=1),\n",
       "                                   n_estimators=300, n_jobs=-1,\n",
       "                                   random_state=1))])"
      ]
     },
     "execution_count": 52,
     "metadata": {},
     "output_type": "execute_result"
    }
   ],
   "source": [
    "bc_pipe.fit(X_train, y_train) # fit pipeline"
   ]
  },
  {
   "cell_type": "code",
   "execution_count": 53,
   "metadata": {},
   "outputs": [],
   "source": [
    "bc_predictions = bc_pipe.predict(X_test)"
   ]
  },
  {
   "cell_type": "code",
   "execution_count": 54,
   "metadata": {},
   "outputs": [
    {
     "data": {
      "text/plain": [
       "0.6960352422907489"
      ]
     },
     "execution_count": 54,
     "metadata": {},
     "output_type": "execute_result"
    }
   ],
   "source": [
    "accuracy_score(y_test, bc_predictions)\n",
    "# get initial accuracy score with no optimization"
   ]
  },
  {
   "cell_type": "code",
   "execution_count": 55,
   "metadata": {},
   "outputs": [
    {
     "name": "stdout",
     "output_type": "stream",
     "text": [
      "100 Done with this number of estimators\n",
      "200 Done with this number of estimators\n",
      "300 Done with this number of estimators\n",
      "400 Done with this number of estimators\n",
      "500 Done with this number of estimators\n",
      "600 Done with this number of estimators\n",
      "700 Done with this number of estimators\n",
      "800 Done with this number of estimators\n",
      "900 Done with this number of estimators\n",
      "1000 Done with this number of estimators\n"
     ]
    }
   ],
   "source": [
    "accs = []\n",
    "# opitimize the number of estimators\n",
    "n_estimators_range = [100, 200, 300, 400, 500, 600, 700, 800, 900, 1000]\n",
    "for n_estimators in n_estimators_range: \n",
    "    bc = BaggingClassifier(base_estimator = dt, random_state=random_state, n_estimators = n_estimators, n_jobs = -1)\n",
    "    ct = make_column_transformer(\n",
    "    (ohe, [\"product_type\"]),\n",
    "    (vect, 'brand'),\n",
    "    (vect, \"ingredients\"), \n",
    "    remainder=\"passthrough\")\n",
    "    bc_pipe = make_pipeline(ct, bc)\n",
    "    bc_pipe.fit(X_train, y_train)\n",
    "    bc_pred = bc_pipe.predict(X_test)\n",
    "    acc = accuracy_score(y_test, bc_pred)\n",
    "    accs.append(acc)\n",
    "    print(n_estimators, \"Done with this number of estimators\")"
   ]
  },
  {
   "cell_type": "code",
   "execution_count": 56,
   "metadata": {},
   "outputs": [
    {
     "data": {
      "image/png": "[encoded data removed]",
      "text/plain": [
       "<Figure size 432x288 with 1 Axes>"
      ]
     },
     "metadata": {
      "needs_background": "light"
     },
     "output_type": "display_data"
    }
   ],
   "source": [
    "import matplotlib.pyplot as plt\n",
    "plt.figure()\n",
    "plt.plot(n_estimators_range, accs)\n",
    "plt.ylabel(\"Accuracy\")\n",
    "plt.xlabel(\"n_estimators\")\n",
    "plt.show()"
   ]
  },
  {
   "cell_type": "code",
   "execution_count": 57,
   "metadata": {},
   "outputs": [
    {
     "name": "stdout",
     "output_type": "stream",
     "text": [
      "0.6960352422907489\n",
      "[0.76811594 0.64705882 0.69117647 0.77941176 0.66176471 0.70588235\n",
      " 0.82352941 0.72058824 0.69117647 0.63235294]\n",
      "Accuracy = 0.71210571 +/- 0.05847654\n"
     ]
    }
   ],
   "source": [
    "bc = BaggingClassifier(base_estimator = dt, random_state=random_state, n_estimators = 600, n_jobs = -1)\n",
    "# refit with best n_estimators\n",
    "ct = make_column_transformer(\n",
    "    (ohe, [\"product_type\"]),\n",
    "    (vect, \"ingredients\"),\n",
    "    (vect, 'brand'),\n",
    "    remainder=\"passthrough\")\n",
    "bc_pipe = make_pipeline(ct, bc)\n",
    "bc_pipe.fit(X_train, y_train)\n",
    "bc_pred = bc_pipe.predict(X_test)\n",
    "print(accuracy_score(y_test, bc_pred))\n",
    "scores = cross_val_score(estimator=bc_pipe, X=X_train, y=y_train, cv=10, n_jobs=-1)\n",
    "print(scores)\n",
    "print('Accuracy = {:.8f} +/- {:.8f}'.format(np.mean(scores), np.std(scores)))"
   ]
  },
  {
   "cell_type": "markdown",
   "metadata": {},
   "source": [
    "# w/BRAND - BINARY - RANDOM FORESTS"
   ]
  },
  {
   "cell_type": "code",
   "execution_count": 58,
   "metadata": {},
   "outputs": [],
   "source": [
    "from sklearn.ensemble import RandomForestClassifier"
   ]
  },
  {
   "cell_type": "code",
   "execution_count": 59,
   "metadata": {},
   "outputs": [],
   "source": [
    "rf = RandomForestClassifier(n_estimators = 1000, random_state = 1)\n",
    "\n",
    "ct = make_column_transformer(\n",
    "    (ohe, [\"product_type\"]),\n",
    "    (vect, \"ingredients\"),\n",
    "    (vect, \"brand\"),\n",
    "    remainder=\"passthrough\")\n",
    "\n",
    "rf_pipe = make_pipeline(ct, rf)"
   ]
  },
  {
   "cell_type": "code",
   "execution_count": 60,
   "metadata": {},
   "outputs": [
    {
     "data": {
      "text/plain": [
       "Pipeline(steps=[('columntransformer',\n",
       "                 ColumnTransformer(remainder='passthrough',\n",
       "                                   transformers=[('onehotencoder',\n",
       "                                                  OneHotEncoder(),\n",
       "                                                  ['product_type']),\n",
       "                                                 ('countvectorizer-1',\n",
       "                                                  CountVectorizer(tokenizer=<function <lambda> at 0x000002A0C430C700>),\n",
       "                                                  'ingredients'),\n",
       "                                                 ('countvectorizer-2',\n",
       "                                                  CountVectorizer(tokenizer=<function <lambda> at 0x000002A0C430C700>),\n",
       "                                                  'brand')])),\n",
       "                ('randomforestclassifier',\n",
       "                 RandomForestClassifier(n_estimators=1000, random_state=1))])"
      ]
     },
     "execution_count": 60,
     "metadata": {},
     "output_type": "execute_result"
    }
   ],
   "source": [
    "rf_pipe.fit(X_train, y_train)"
   ]
  },
  {
   "cell_type": "code",
   "execution_count": 61,
   "metadata": {},
   "outputs": [],
   "source": [
    "rf_pred = rf_pipe.predict(X_test)"
   ]
  },
  {
   "cell_type": "code",
   "execution_count": 62,
   "metadata": {},
   "outputs": [
    {
     "data": {
      "text/plain": [
       "0.7599118942731278"
      ]
     },
     "execution_count": 62,
     "metadata": {},
     "output_type": "execute_result"
    }
   ],
   "source": [
    "accuracy_score(y_test, rf_pred)\n",
    "# get initial accuracy score with no optimization"
   ]
  },
  {
   "cell_type": "code",
   "execution_count": 63,
   "metadata": {},
   "outputs": [
    {
     "name": "stdout",
     "output_type": "stream",
     "text": [
      "{'randomforestclassifier__min_samples_leaf': 2, 'randomforestclassifier__max_depth': 10000, 'randomforestclassifier__criterion': 'gini'}\n",
      "0.7555066079295154\n"
     ]
    }
   ],
   "source": [
    "criterions = ['gini', 'entropy']\n",
    "max_depths = [None, 10, 100, 1000, 10000]\n",
    "param_grid = {'randomforestclassifier__min_samples_leaf': np.arange(1,50), \n",
    "              'randomforestclassifier__max_depth': max_depths, \n",
    "              'randomforestclassifier__criterion':criterions}\n",
    "rf = RandomForestClassifier(n_estimators = 1000, random_state = random_state)\n",
    "rf_pipe = make_pipeline(ct, rf)\n",
    "\n",
    "rf_gs = RandomizedSearchCV(estimator=rf_pipe, param_distributions=param_grid, random_state=random_state, scoring='accuracy', cv=10, refit=True)\n",
    "rf_gs = rf_gs.fit(X_train, y_train)\n",
    "print(rf_gs.best_params_)\n",
    "best_rf = rf_gs.best_estimator_   # refitting done automatically\n",
    "print(best_rf.score(X_test, y_test))"
   ]
  },
  {
   "cell_type": "code",
   "execution_count": 64,
   "metadata": {},
   "outputs": [
    {
     "name": "stdout",
     "output_type": "stream",
     "text": [
      "[0.82608696 0.72058824 0.67647059 0.86764706 0.77941176 0.80882353\n",
      " 0.86764706 0.77941176 0.77941176 0.75      ]\n",
      "Accuracy = 0.78554987 +/- 0.05758467\n"
     ]
    }
   ],
   "source": [
    "scores = cross_val_score(estimator=best_rf, X=X_train, y=y_train, cv=10, n_jobs=-1)\n",
    "print(scores)\n",
    "print('Accuracy = {:.8f} +/- {:.8f}'.format(np.mean(scores), np.std(scores)))"
   ]
  },
  {
   "cell_type": "markdown",
   "metadata": {},
   "source": [
    "# w/ BRAND - BINARY - PERCEPTRON (NO INGREDIENTS, NO CONTENTS)"
   ]
  },
  {
   "cell_type": "code",
   "execution_count": 65,
   "metadata": {},
   "outputs": [],
   "source": [
    "X = skincare[['brand', 'product_type']]\n",
    "X\n",
    "\n",
    "X_train, X_test, y_train, y_test = train_test_split(X, y, \n",
    "                                                    test_size = 0.4, random_state=random_state, stratify=y)\n",
    "# prepare the train and test data again but now with only brand and product type"
   ]
  },
  {
   "cell_type": "code",
   "execution_count": 66,
   "metadata": {},
   "outputs": [],
   "source": [
    "ct = make_column_transformer(\n",
    "    (ohe, [\"product_type\"]),\n",
    "    (vect, 'brand'),  # only include transformers for brand and product type because we are only using that now\n",
    "    remainder=\"passthrough\")"
   ]
  },
  {
   "cell_type": "code",
   "execution_count": 67,
   "metadata": {},
   "outputs": [
    {
     "data": {
      "text/plain": [
       "Pipeline(steps=[('columntransformer',\n",
       "                 ColumnTransformer(remainder='passthrough',\n",
       "                                   transformers=[('onehotencoder',\n",
       "                                                  OneHotEncoder(),\n",
       "                                                  ['product_type']),\n",
       "                                                 ('countvectorizer',\n",
       "                                                  CountVectorizer(tokenizer=<function <lambda> at 0x000002A0C430C700>),\n",
       "                                                  'brand')])),\n",
       "                ('perceptron', Perceptron())])"
      ]
     },
     "execution_count": 67,
     "metadata": {},
     "output_type": "execute_result"
    }
   ],
   "source": [
    "from sklearn.linear_model import Perceptron\n",
    "perc = Perceptron()\n",
    "pr_pipe = make_pipeline(ct, perc)\n",
    "\n",
    "pr_pipe.fit(X_train, y_train)\n",
    "# fit the perceptron pipeline"
   ]
  },
  {
   "cell_type": "code",
   "execution_count": 68,
   "metadata": {},
   "outputs": [],
   "source": [
    "perc_predictions = pr_pipe.predict(X_test)"
   ]
  },
  {
   "cell_type": "code",
   "execution_count": 69,
   "metadata": {},
   "outputs": [
    {
     "data": {
      "text/plain": [
       "0.8193832599118943"
      ]
     },
     "execution_count": 69,
     "metadata": {},
     "output_type": "execute_result"
    }
   ],
   "source": [
    "accuracy_score(y_test, perc_predictions)\n",
    "# get initial accuracy score with no optimization"
   ]
  },
  {
   "cell_type": "code",
   "execution_count": 70,
   "metadata": {},
   "outputs": [
    {
     "name": "stdout",
     "output_type": "stream",
     "text": [
      "[0.92753623 0.77941176 0.85294118 0.85294118 0.80882353 0.75\n",
      " 0.82352941 0.73529412 0.63235294 0.79411765]\n",
      "Accuracy = 0.79569480 +/- 0.07587360\n"
     ]
    }
   ],
   "source": [
    "scores = cross_val_score(estimator=pr_pipe, X=X_train, y=y_train, cv=10, n_jobs=-1)\n",
    "print(scores)\n",
    "print('Accuracy = {:.8f} +/- {:.8f}'.format(np.mean(scores), np.std(scores)))"
   ]
  },
  {
   "cell_type": "markdown",
   "metadata": {},
   "source": [
    "# w/ BRAND - BINARY - LOGISTIC REGRESSION (NO INGREDIENTS, NO CONTENTS)"
   ]
  },
  {
   "cell_type": "code",
   "execution_count": 71,
   "metadata": {},
   "outputs": [],
   "source": [
    "ct = make_column_transformer(\n",
    "    (ohe, [\"product_type\"]),\n",
    "    (vect, \"brand\"), \n",
    "    remainder=\"passthrough\")\n",
    "# reminding myself of what is in the pipeline"
   ]
  },
  {
   "cell_type": "code",
   "execution_count": 72,
   "metadata": {},
   "outputs": [],
   "source": [
    "lr = LogisticRegression(random_state=random_state, max_iter = 10000)\n",
    "lr_pipe = make_pipeline(ct, lr)\n",
    "# make the pipeline"
   ]
  },
  {
   "cell_type": "code",
   "execution_count": 73,
   "metadata": {},
   "outputs": [],
   "source": [
    "lr_pipe.fit(X_train, y_train) # fit pipeline\n",
    "lr_predictions = lr_pipe.predict(X_test)\n",
    "# get initial accuracy score with no optimization"
   ]
  },
  {
   "cell_type": "code",
   "execution_count": 74,
   "metadata": {},
   "outputs": [
    {
     "data": {
      "text/plain": [
       "0.8303964757709251"
      ]
     },
     "execution_count": 74,
     "metadata": {},
     "output_type": "execute_result"
    }
   ],
   "source": [
    "accuracy_score(y_test, lr_predictions)"
   ]
  },
  {
   "cell_type": "code",
   "execution_count": 75,
   "metadata": {},
   "outputs": [
    {
     "data": {
      "text/plain": [
       "{'logisticregression__tol': 1e-05,\n",
       " 'logisticregression__solver': 'saga',\n",
       " 'logisticregression__C': 10}"
      ]
     },
     "execution_count": 75,
     "metadata": {},
     "output_type": "execute_result"
    }
   ],
   "source": [
    "solvers = ['newton-cg', 'lbfgs', 'liblinear', 'sag', 'saga']\n",
    "tols = [0.00001, 0.0001, 0.001, 0.01, 0.1, 1, 10, 100, 1000, 10000]\n",
    "Cs = [0.00001, 0.0001, 0.001, 0.01, 0.1, 1, 10, 100, 1000, 10000]\n",
    "param_grid = {'logisticregression__C': Cs, 'logisticregression__solver':solvers, 'logisticregression__tol':tols}\n",
    "lr_pipe = make_pipeline(ct, lr)\n",
    "lr_gs = RandomizedSearchCV(estimator=lr_pipe, param_distributions=param_grid, random_state=random_state, scoring='accuracy', cv=10, refit=True)\n",
    "lr_gs = lr_gs.fit(X_train, y_train)\n",
    "lr_gs.best_params_\n",
    "# inspec the best parameters"
   ]
  },
  {
   "cell_type": "code",
   "execution_count": 76,
   "metadata": {},
   "outputs": [
    {
     "data": {
      "text/plain": [
       "0.8414096916299559"
      ]
     },
     "execution_count": 76,
     "metadata": {},
     "output_type": "execute_result"
    }
   ],
   "source": [
    "best_lr = lr_gs.best_estimator_   # refitting done automatically\n",
    "best_lr.score(X_test, y_test)"
   ]
  },
  {
   "cell_type": "code",
   "execution_count": 77,
   "metadata": {},
   "outputs": [
    {
     "name": "stdout",
     "output_type": "stream",
     "text": [
      "[0.86956522 0.80882353 0.86764706 0.85294118 0.83823529 0.79411765\n",
      " 0.85294118 0.79411765 0.76470588 0.88235294]\n"
     ]
    }
   ],
   "source": [
    "scores = cross_val_score(estimator=best_lr, X=X_train, y=y_train, cv=10, n_jobs=-1)\n",
    "print(scores)"
   ]
  },
  {
   "cell_type": "code",
   "execution_count": 78,
   "metadata": {},
   "outputs": [
    {
     "name": "stdout",
     "output_type": "stream",
     "text": [
      "Accuracy = 0.83254476 +/- 0.03750473\n"
     ]
    }
   ],
   "source": [
    "print('Accuracy = {:.8f} +/- {:.8f}'.format(np.mean(scores), np.std(scores)))\n",
    "# report the cross validation scores"
   ]
  },
  {
   "cell_type": "markdown",
   "metadata": {},
   "source": [
    "# w/ BRAND - BINARY - DECISION TREE (NO INGREDIENTS, NO CONTENTS)"
   ]
  },
  {
   "cell_type": "code",
   "execution_count": 79,
   "metadata": {},
   "outputs": [
    {
     "data": {
      "text/plain": [
       "0.8215859030837004"
      ]
     },
     "execution_count": 79,
     "metadata": {},
     "output_type": "execute_result"
    }
   ],
   "source": [
    "from sklearn.tree import DecisionTreeClassifier\n",
    "\n",
    "dt = DecisionTreeClassifier(random_state=random_state, criterion='entropy')\n",
    "# instantiate a decision tree classifier\n",
    "ct = make_column_transformer(\n",
    "    (ohe, [\"product_type\"]),\n",
    "    (vect, \"brand\"),\n",
    "    remainder=\"passthrough\")\n",
    "\n",
    "dt_pipe = make_pipeline(ct, dt)\n",
    "# pepare the pipeline\n",
    "dt_pipe.fit(X_train, y_train)\n",
    "dt_predictions = dt_pipe.predict(X_test)\n",
    "accuracy_score(y_test, dt_predictions)\n",
    "# get initial accuracy score with no optimization"
   ]
  },
  {
   "cell_type": "code",
   "execution_count": 80,
   "metadata": {},
   "outputs": [
    {
     "name": "stdout",
     "output_type": "stream",
     "text": [
      "{'decisiontreeclassifier__min_samples_leaf': 2, 'decisiontreeclassifier__max_depth': 10000, 'decisiontreeclassifier__criterion': 'gini'}\n",
      "0.7995594713656388\n"
     ]
    }
   ],
   "source": [
    "criterions = ['gini', 'entropy']\n",
    "max_depths = [None, 10, 100, 1000, 10000]\n",
    "param_grid = {'decisiontreeclassifier__min_samples_leaf': np.arange(1,50), \n",
    "              'decisiontreeclassifier__max_depth': max_depths, \n",
    "              'decisiontreeclassifier__criterion':criterions}\n",
    "\n",
    "dt_gs = RandomizedSearchCV(estimator=dt_pipe, param_distributions=param_grid, random_state=random_state, scoring='accuracy', cv=10, refit=True)\n",
    "dt_gs = dt_gs.fit(X_train, y_train)\n",
    "print(dt_gs.best_params_)\n",
    "best_dt = dt_gs.best_estimator_   # refitting done automatically\n",
    "print(best_dt.score(X_test, y_test))"
   ]
  },
  {
   "cell_type": "code",
   "execution_count": 81,
   "metadata": {},
   "outputs": [
    {
     "name": "stdout",
     "output_type": "stream",
     "text": [
      "[0.76811594 0.80882353 0.76470588 0.80882353 0.79411765 0.66176471\n",
      " 0.75       0.72058824 0.67647059 0.75      ]\n"
     ]
    }
   ],
   "source": [
    "scores = cross_val_score(estimator=best_dt, X=X_train, y=y_train, cv=10, n_jobs=-1)\n",
    "print(scores)"
   ]
  },
  {
   "cell_type": "code",
   "execution_count": 82,
   "metadata": {},
   "outputs": [
    {
     "name": "stdout",
     "output_type": "stream",
     "text": [
      "Accuracy = 0.75034101 +/- 0.04844292\n"
     ]
    }
   ],
   "source": [
    "print('Accuracy = {:.8f} +/- {:.8f}'.format(np.mean(scores), np.std(scores)))"
   ]
  },
  {
   "cell_type": "markdown",
   "metadata": {},
   "source": [
    "# w/ BRAND - BINARY - SVM (NO INGREDIENTS, NO CONTENTS)"
   ]
  },
  {
   "cell_type": "code",
   "execution_count": 83,
   "metadata": {},
   "outputs": [
    {
     "data": {
      "text/plain": [
       "Pipeline(steps=[('columntransformer',\n",
       "                 ColumnTransformer(remainder='passthrough',\n",
       "                                   transformers=[('onehotencoder',\n",
       "                                                  OneHotEncoder(),\n",
       "                                                  ['product_type']),\n",
       "                                                 ('countvectorizer',\n",
       "                                                  CountVectorizer(tokenizer=<function <lambda> at 0x000002A0C430C700>),\n",
       "                                                  'brand')])),\n",
       "                ('svc', SVC(random_state=1))])"
      ]
     },
     "execution_count": 83,
     "metadata": {},
     "output_type": "execute_result"
    }
   ],
   "source": [
    "svm = SVC(kernel='rbf', random_state = random_state)\n",
    "# instantiate an SVC classifier\n",
    "\n",
    "svm_pipe = make_pipeline(ct, svm)\n",
    "svm_pipe.fit(X_train, y_train)\n",
    "# fit pipeline"
   ]
  },
  {
   "cell_type": "code",
   "execution_count": 84,
   "metadata": {},
   "outputs": [
    {
     "data": {
      "text/plain": [
       "0.8612334801762115"
      ]
     },
     "execution_count": 84,
     "metadata": {},
     "output_type": "execute_result"
    }
   ],
   "source": [
    "svm_predictions = svm_pipe.predict(X_test)\n",
    "accuracy_score(y_test, svm_predictions)\n",
    "# get initial accuracy score with no optimization"
   ]
  },
  {
   "cell_type": "code",
   "execution_count": 85,
   "metadata": {},
   "outputs": [
    {
     "name": "stdout",
     "output_type": "stream",
     "text": [
      "{'svc__kernel': 'rbf', 'svc__gamma': 0.0001, 'svc__C': 10000}\n",
      "0.8458149779735683\n"
     ]
    }
   ],
   "source": [
    "svm = SVC(kernel='linear', random_state = random_state) #instantiate a SVC classifier again\n",
    "# remind myself of what is in the column transformer\n",
    "ct = make_column_transformer(\n",
    "    (ohe, [\"product_type\"]),\n",
    "    (vect, \"brand\"), \n",
    "    remainder=\"passthrough\")\n",
    "\n",
    "svm_pipe = make_pipeline(ct, svm)\n",
    "\n",
    "param_grid = [{'svc__C': [0.00001, 0.0001, 0.001, 0.01, 0.1, 1, 10, 100, 1000, 10000],\n",
    "               'svc__kernel': ['linear']},\n",
    "              {'svc__C': [0.00001, 0.0001, 0.001, 0.01, 0.1, 1, 10, 100, 1000, 10000],\n",
    "               'svc__gamma': [0.00001, 0.0001, 0.001, 0.01, 0.1, 1, 10, 100, 1000, 10000],\n",
    "               'svc__kernel': ['rbf']}]\n",
    "# define hyperparameter grid to optimize the classifier\n",
    "svm_gs = RandomizedSearchCV(estimator=svm_pipe, random_state = random_state, param_distributions=param_grid, scoring='accuracy', cv=10, refit=True)\n",
    "svm_gs = svm_gs.fit(X_train, y_train)\n",
    "print(svm_gs.best_params_)\n",
    "best_svm = svm_gs.best_estimator_   # refitting done automatically\n",
    "print(best_svm.score(X_test, y_test))"
   ]
  },
  {
   "cell_type": "code",
   "execution_count": 86,
   "metadata": {},
   "outputs": [
    {
     "name": "stdout",
     "output_type": "stream",
     "text": [
      "[0.86956522 0.76470588 0.85294118 0.85294118 0.83823529 0.79411765\n",
      " 0.86764706 0.77941176 0.70588235 0.82352941]\n"
     ]
    }
   ],
   "source": [
    "scores = cross_val_score(estimator=best_svm, X=X_train, y=y_train, cv=10, n_jobs=-1)\n",
    "print(scores)\n"
   ]
  },
  {
   "cell_type": "code",
   "execution_count": 87,
   "metadata": {},
   "outputs": [
    {
     "name": "stdout",
     "output_type": "stream",
     "text": [
      "Accuracy = 0.81489770 +/- 0.05037799\n"
     ]
    }
   ],
   "source": [
    "print('Accuracy = {:.8f} +/- {:.8f}'.format(np.mean(scores), np.std(scores)))"
   ]
  },
  {
   "cell_type": "markdown",
   "metadata": {},
   "source": [
    "# w/ BRAND - BINARY - KNN (NO INGREDIENTS, NO CONTENTS)"
   ]
  },
  {
   "cell_type": "code",
   "execution_count": 88,
   "metadata": {},
   "outputs": [],
   "source": [
    "knn = KNN()\n",
    "# instantiate KNN classifier"
   ]
  },
  {
   "cell_type": "code",
   "execution_count": 111,
   "metadata": {},
   "outputs": [
    {
     "data": {
      "text/plain": [
       "0.737885462555066"
      ]
     },
     "execution_count": 111,
     "metadata": {},
     "output_type": "execute_result"
    }
   ],
   "source": [
    "ct = make_column_transformer(\n",
    "    (ohe, [\"product_type\"]),\n",
    "    (vect, \"brand\"), \n",
    "    remainder=\"passthrough\")\n",
    "knn_pipe = make_pipeline(ct, knn)\n",
    "knn_pipe.fit(X_train, y_train)\n",
    "knn_predictions = knn_pipe.predict(X_test)\n",
    "accuracy_score(y_test, knn_predictions)\n",
    "# get initial accuracy score with no optimization"
   ]
  },
  {
   "cell_type": "code",
   "execution_count": 90,
   "metadata": {},
   "outputs": [
    {
     "name": "stdout",
     "output_type": "stream",
     "text": [
      "{'kneighborsclassifier__weights': 'distance', 'kneighborsclassifier__n_neighbors': 39}\n",
      "0.8370044052863436\n"
     ]
    }
   ],
   "source": [
    "knn_pipe = make_pipeline(ct, knn)\n",
    "param_grid = {'kneighborsclassifier__n_neighbors': np.arange(1,50), \n",
    "              'kneighborsclassifier__weights':['uniform', 'distance']}\n",
    "\n",
    "knn_gs = RandomizedSearchCV(estimator=knn_pipe, param_distributions=param_grid, random_state=random_state, scoring='accuracy', cv=10, refit=True)\n",
    "knn_gs = knn_gs.fit(X_train, y_train)\n",
    "print(knn_gs.best_params_)\n",
    "best_knn = knn_gs.best_estimator_   # refitting done automatically\n",
    "print(best_knn.score(X_test, y_test))\n",
    "# inspect best hyperparameters and test accuracy"
   ]
  },
  {
   "cell_type": "code",
   "execution_count": 91,
   "metadata": {},
   "outputs": [
    {
     "name": "stdout",
     "output_type": "stream",
     "text": [
      "[0.82608696 0.83823529 0.85294118 0.82352941 0.83823529 0.66176471\n",
      " 0.73529412 0.76470588 0.76470588 0.75      ]\n"
     ]
    }
   ],
   "source": [
    "scores = cross_val_score(estimator=best_knn, X=X_train, y=y_train, cv=10, n_jobs=-1)\n",
    "print(scores)\n"
   ]
  },
  {
   "cell_type": "code",
   "execution_count": 92,
   "metadata": {},
   "outputs": [
    {
     "name": "stdout",
     "output_type": "stream",
     "text": [
      "Accuracy = 0.78554987 +/- 0.05758467\n"
     ]
    }
   ],
   "source": [
    "print('Accuracy = {:.8f} +/- {:.8f}'.format(np.mean(scores), np.std(scores)))\n",
    "# report cross validation scores"
   ]
  },
  {
   "cell_type": "markdown",
   "metadata": {},
   "source": [
    "# w/ BRAND - BINARY - VOTING CLASSIFIER (NO INGREDIENTS, NO CONTENTS)"
   ]
  },
  {
   "cell_type": "code",
   "execution_count": 93,
   "metadata": {},
   "outputs": [],
   "source": [
    "ct = make_column_transformer(\n",
    "    (ohe, [\"product_type\"]),\n",
    "    (vect, \"brand\"), \n",
    "    remainder=\"passthrough\")\n",
    "# use the best models from the experiments so far in voting classifier\n",
    "\n",
    "lr = LogisticRegression(tol=1e-05, solver='saga', C=10, random_state=random_state)\n",
    "perc = Perceptron()\n",
    "svm = SVC(kernel='rbf', gamma=0.0001, C=10000, random_state = random_state)\n",
    "\n",
    "classifiers = [(\"Logistic Regression\", lr),\n",
    "              (\"Perceptron\", perc),\n",
    "              (\"Support Vector Classifier\", svm)]\n",
    "vc = VotingClassifier(estimators = classifiers)\n",
    "\n",
    "vc_pipe = make_pipeline(ct, vc)"
   ]
  },
  {
   "cell_type": "code",
   "execution_count": 94,
   "metadata": {},
   "outputs": [
    {
     "name": "stderr",
     "output_type": "stream",
     "text": [
      "C:\\Users\\Dora\\anaconda3\\lib\\site-packages\\sklearn\\linear_model\\_sag.py:329: ConvergenceWarning: The max_iter was reached which means the coef_ did not converge\n",
      "  warnings.warn(\"The max_iter was reached which means \"\n"
     ]
    },
    {
     "data": {
      "text/plain": [
       "Pipeline(steps=[('columntransformer',\n",
       "                 ColumnTransformer(remainder='passthrough',\n",
       "                                   transformers=[('onehotencoder',\n",
       "                                                  OneHotEncoder(),\n",
       "                                                  ['product_type']),\n",
       "                                                 ('countvectorizer',\n",
       "                                                  CountVectorizer(tokenizer=<function <lambda> at 0x000002A0C430C700>),\n",
       "                                                  'brand')])),\n",
       "                ('votingclassifier',\n",
       "                 VotingClassifier(estimators=[('Logistic Regression',\n",
       "                                               LogisticRegression(C=10,\n",
       "                                                                  random_state=1,\n",
       "                                                                  solver='saga',\n",
       "                                                                  tol=1e-05)),\n",
       "                                              ('Perceptron', Perceptron()),\n",
       "                                              ('Support Vector Classifier',\n",
       "                                               SVC(C=10000, gamma=0.0001,\n",
       "                                                   random_state=1))]))])"
      ]
     },
     "execution_count": 94,
     "metadata": {},
     "output_type": "execute_result"
    }
   ],
   "source": [
    "vc_pipe.fit(X_train, y_train)"
   ]
  },
  {
   "cell_type": "code",
   "execution_count": 95,
   "metadata": {},
   "outputs": [
    {
     "data": {
      "text/plain": [
       "0.8348017621145375"
      ]
     },
     "execution_count": 95,
     "metadata": {},
     "output_type": "execute_result"
    }
   ],
   "source": [
    "vc_pred = vc_pipe.predict(X_test)\n",
    "accuracy_score(y_test, vc_pred)\n",
    "# get initial accuracy score with no optimization"
   ]
  },
  {
   "cell_type": "code",
   "execution_count": 96,
   "metadata": {},
   "outputs": [
    {
     "name": "stdout",
     "output_type": "stream",
     "text": [
      "[0.88405797 0.79411765 0.86764706 0.88235294 0.83823529 0.79411765\n",
      " 0.85294118 0.76470588 0.72058824 0.86764706]\n"
     ]
    }
   ],
   "source": [
    "scores = cross_val_score(estimator=vc_pipe, X=X_train, y=y_train, cv=10, n_jobs=-1)\n",
    "print(scores)"
   ]
  },
  {
   "cell_type": "code",
   "execution_count": 97,
   "metadata": {},
   "outputs": [
    {
     "name": "stdout",
     "output_type": "stream",
     "text": [
      "Accuracy = 0.82664109 +/- 0.05271464\n"
     ]
    }
   ],
   "source": [
    "print('Accuracy = {:.8f} +/- {:.8f}'.format(np.mean(scores), np.std(scores)))\n",
    "# report cross validation scores"
   ]
  },
  {
   "cell_type": "markdown",
   "metadata": {},
   "source": [
    "# w/ BRAND - BINARY - BAGGING CLASSIFIER (NO INGREDIENTS, NO CONTENTS)"
   ]
  },
  {
   "cell_type": "code",
   "execution_count": 98,
   "metadata": {},
   "outputs": [],
   "source": [
    "from sklearn.tree import DecisionTreeClassifier\n",
    "from sklearn.ensemble import BaggingClassifier\n",
    "\n",
    "dt = DecisionTreeClassifier(random_state = random_state)\n",
    "# instantiate decision tree and bagging classifier\n",
    "bc = BaggingClassifier(base_estimator = dt, random_state=random_state, n_estimators = 300, n_jobs = -1)\n",
    "\n",
    "ct = make_column_transformer(\n",
    "    (ohe, [\"product_type\"]),\n",
    "    (vect, \"brand\"),\n",
    "    remainder=\"passthrough\")\n",
    "\n",
    "bc_pipe = make_pipeline(ct, bc)"
   ]
  },
  {
   "cell_type": "code",
   "execution_count": 99,
   "metadata": {},
   "outputs": [
    {
     "data": {
      "text/plain": [
       "Pipeline(steps=[('columntransformer',\n",
       "                 ColumnTransformer(remainder='passthrough',\n",
       "                                   transformers=[('onehotencoder',\n",
       "                                                  OneHotEncoder(),\n",
       "                                                  ['product_type']),\n",
       "                                                 ('countvectorizer',\n",
       "                                                  CountVectorizer(tokenizer=<function <lambda> at 0x000002A0C430C700>),\n",
       "                                                  'brand')])),\n",
       "                ('baggingclassifier',\n",
       "                 BaggingClassifier(base_estimator=DecisionTreeClassifier(random_state=1),\n",
       "                                   n_estimators=300, n_jobs=-1,\n",
       "                                   random_state=1))])"
      ]
     },
     "execution_count": 99,
     "metadata": {},
     "output_type": "execute_result"
    }
   ],
   "source": [
    "bc_pipe.fit(X_train, y_train)\n",
    "# fit pipeline"
   ]
  },
  {
   "cell_type": "code",
   "execution_count": 100,
   "metadata": {},
   "outputs": [],
   "source": [
    "bc_pred = bc_pipe.predict(X_test)"
   ]
  },
  {
   "cell_type": "code",
   "execution_count": 101,
   "metadata": {},
   "outputs": [
    {
     "data": {
      "text/plain": [
       "0.8348017621145375"
      ]
     },
     "execution_count": 101,
     "metadata": {},
     "output_type": "execute_result"
    }
   ],
   "source": [
    "accuracy_score(y_test, bc_pred)\n",
    "# get initial accuracy score with no optimization"
   ]
  },
  {
   "cell_type": "code",
   "execution_count": 102,
   "metadata": {},
   "outputs": [
    {
     "name": "stdout",
     "output_type": "stream",
     "text": [
      "100 Done with this number of estimators\n",
      "200 Done with this number of estimators\n",
      "300 Done with this number of estimators\n",
      "400 Done with this number of estimators\n",
      "500 Done with this number of estimators\n",
      "600 Done with this number of estimators\n",
      "700 Done with this number of estimators\n",
      "800 Done with this number of estimators\n",
      "900 Done with this number of estimators\n",
      "1000 Done with this number of estimators\n"
     ]
    }
   ],
   "source": [
    "accs = []\n",
    "n_estimators_range = [100, 200, 300, 400, 500, 600, 700, 800, 900, 1000]\n",
    "for n_estimators in n_estimators_range: \n",
    "    bc = BaggingClassifier(base_estimator = dt, random_state=random_state, n_estimators = n_estimators, n_jobs = -1)\n",
    "    ct = make_column_transformer(\n",
    "    (ohe, [\"product_type\"]),\n",
    "    (vect, \"brand\"), \n",
    "    remainder=\"passthrough\")\n",
    "    bc_pipe = make_pipeline(ct, bc)\n",
    "    bc_pipe.fit(X_train, y_train)\n",
    "    bc_pred = bc_pipe.predict(X_test)\n",
    "    acc = accuracy_score(y_test, bc_pred)\n",
    "    accs.append(acc)\n",
    "    print(n_estimators, \"Done with this number of estimators\")"
   ]
  },
  {
   "cell_type": "code",
   "execution_count": 103,
   "metadata": {},
   "outputs": [
    {
     "data": {
      "image/png": "[encoded data removed]",
      "text/plain": [
       "<Figure size 432x288 with 1 Axes>"
      ]
     },
     "metadata": {
      "needs_background": "light"
     },
     "output_type": "display_data"
    }
   ],
   "source": [
    "import matplotlib.pyplot as plt\n",
    "plt.figure()\n",
    "plt.plot(n_estimators_range, accs)\n",
    "plt.ylabel(\"Accuracy\")\n",
    "plt.xlabel(\"n_estimators\")\n",
    "plt.show()"
   ]
  },
  {
   "cell_type": "code",
   "execution_count": 104,
   "metadata": {},
   "outputs": [
    {
     "name": "stdout",
     "output_type": "stream",
     "text": [
      "0.8392070484581498\n",
      "[0.86956522 0.76470588 0.86764706 0.82352941 0.83823529 0.70588235\n",
      " 0.79411765 0.75       0.73529412 0.76470588]\n",
      "Accuracy = 0.79136829 +/- 0.05362545\n"
     ]
    }
   ],
   "source": [
    "bc = BaggingClassifier(base_estimator = dt, \n",
    "                       n_estimators = 500, \n",
    "                       n_jobs = -1, \n",
    "                       random_state=random_state)\n",
    "ct = make_column_transformer(\n",
    "    (ohe, [\"product_type\"]),\n",
    "    (vect, \"brand\"), \n",
    "    remainder=\"passthrough\")\n",
    "bc_pipe = make_pipeline(ct, bc)\n",
    "bc_pipe.fit(X_train, y_train)\n",
    "bc_pred = bc_pipe.predict(X_test)\n",
    "print(accuracy_score(y_test, bc_pred))\n",
    "scores = cross_val_score(estimator=bc_pipe, X=X_train, y=y_train, cv=10, n_jobs=-1)\n",
    "print(scores)\n",
    "print('Accuracy = {:.8f} +/- {:.8f}'.format(np.mean(scores), np.std(scores)))\n",
    "# refit with best sample size"
   ]
  },
  {
   "cell_type": "markdown",
   "metadata": {},
   "source": [
    "# w/ BRAND - BINARY  - RANDOM FORESTS (NO INGREDIENTS, NO CONTENTS)"
   ]
  },
  {
   "cell_type": "code",
   "execution_count": 105,
   "metadata": {},
   "outputs": [],
   "source": [
    "rf = RandomForestClassifier(n_estimators = 1000, random_state = random_state)\n",
    "\n",
    "rf_pipe = make_pipeline(ct, rf)\n",
    "# instantiate a random forest classifier and prepare pipeline"
   ]
  },
  {
   "cell_type": "code",
   "execution_count": 106,
   "metadata": {},
   "outputs": [
    {
     "data": {
      "text/plain": [
       "Pipeline(steps=[('columntransformer',\n",
       "                 ColumnTransformer(remainder='passthrough',\n",
       "                                   transformers=[('onehotencoder',\n",
       "                                                  OneHotEncoder(),\n",
       "                                                  ['product_type']),\n",
       "                                                 ('countvectorizer',\n",
       "                                                  CountVectorizer(tokenizer=<function <lambda> at 0x000002A0C430C700>),\n",
       "                                                  'brand')])),\n",
       "                ('randomforestclassifier',\n",
       "                 RandomForestClassifier(n_estimators=1000, random_state=1))])"
      ]
     },
     "execution_count": 106,
     "metadata": {},
     "output_type": "execute_result"
    }
   ],
   "source": [
    "rf_pipe.fit(X_train, y_train)"
   ]
  },
  {
   "cell_type": "code",
   "execution_count": 107,
   "metadata": {},
   "outputs": [],
   "source": [
    "rf_pred = rf_pipe.predict(X_test)"
   ]
  },
  {
   "cell_type": "code",
   "execution_count": 108,
   "metadata": {},
   "outputs": [
    {
     "data": {
      "text/plain": [
       "0.8348017621145375"
      ]
     },
     "execution_count": 108,
     "metadata": {},
     "output_type": "execute_result"
    }
   ],
   "source": [
    "accuracy_score(y_test, rf_pred)\n",
    "# get initial accuracy score with no optimization"
   ]
  },
  {
   "cell_type": "code",
   "execution_count": 109,
   "metadata": {},
   "outputs": [
    {
     "name": "stdout",
     "output_type": "stream",
     "text": [
      "{'randomforestclassifier__min_samples_leaf': 2, 'randomforestclassifier__max_depth': 10000, 'randomforestclassifier__criterion': 'gini'}\n",
      "0.7775330396475771\n"
     ]
    }
   ],
   "source": [
    "criterions = ['gini', 'entropy']\n",
    "max_depths = [None, 10, 100, 1000, 10000]\n",
    "param_grid = {'randomforestclassifier__min_samples_leaf': np.arange(1,50), \n",
    "              'randomforestclassifier__max_depth': max_depths, \n",
    "              'randomforestclassifier__criterion':criterions}\n",
    "rf = RandomForestClassifier(n_estimators = 1000, random_state = random_state)\n",
    "# define hyperparameter grid to optimize the classifier\n",
    "\n",
    "rf_pipe = make_pipeline(ct, rf)\n",
    "\n",
    "rf_gs = RandomizedSearchCV(estimator=rf_pipe, param_distributions=param_grid, random_state=random_state, scoring='accuracy', cv=10, refit=True)\n",
    "rf_gs = rf_gs.fit(X_train, y_train)\n",
    "print(rf_gs.best_params_) # inspect best parameters\n",
    "best_rf = rf_gs.best_estimator_   \n",
    "print(best_rf.score(X_test, y_test))"
   ]
  },
  {
   "cell_type": "code",
   "execution_count": 110,
   "metadata": {},
   "outputs": [
    {
     "name": "stdout",
     "output_type": "stream",
     "text": [
      "[0.82608696 0.77941176 0.83823529 0.73529412 0.76470588 0.70588235\n",
      " 0.82352941 0.77941176 0.73529412 0.80882353]\n",
      "Accuracy = 0.77966752 +/- 0.04238528\n"
     ]
    }
   ],
   "source": [
    "scores = cross_val_score(estimator=best_rf, X=X_train, y=y_train, cv=10, n_jobs=-1)\n",
    "print(scores)\n",
    "print('Accuracy = {:.8f} +/- {:.8f}'.format(np.mean(scores), np.std(scores)))\n",
    "# report cross validation scores"
   ]
  }
 ],
 "metadata": {
  "kernelspec": {
   "display_name": "Python 3",
   "language": "python",
   "name": "python3"
  },
  "language_info": {
   "codemirror_mode": {
    "name": "ipython",
    "version": 3
   },
   "file_extension": ".py",
   "mimetype": "text/x-python",
   "name": "python",
   "nbconvert_exporter": "python",
   "pygments_lexer": "ipython3",
   "version": "3.8.3"
  }
 },
 "nbformat": 4,
 "nbformat_minor": 4
}
