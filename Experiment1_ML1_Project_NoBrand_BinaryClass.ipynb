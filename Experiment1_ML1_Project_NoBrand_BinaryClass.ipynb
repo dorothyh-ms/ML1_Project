{
 "cells": [
  {
   "cell_type": "code",
   "execution_count": 1,
   "metadata": {},
   "outputs": [],
   "source": [
    "import pandas as pd\n",
    "import numpy as np\n",
    "import re\n",
    "import matplotlib.pyplot as plt\n",
    "from sklearn.feature_extraction.text import CountVectorizer\n",
    "from sklearn.model_selection import train_test_split\n",
    "from sklearn.preprocessing import StandardScaler\n",
    "from sklearn.compose import make_column_transformer\n",
    "from sklearn.pipeline import make_pipeline\n",
    "from sklearn.preprocessing import OneHotEncoder\n",
    "from sklearn.linear_model import LogisticRegression\n",
    "from sklearn.model_selection import GridSearchCV, RandomizedSearchCV\n",
    "from sklearn.model_selection import cross_val_score\n",
    "from sklearn.metrics import classification_report, confusion_matrix, accuracy_score\n",
    "\n",
    "random_state = 1"
   ]
  },
  {
   "cell_type": "code",
   "execution_count": 2,
   "metadata": {},
   "outputs": [
    {
     "data": {
      "text/html": [
       "<div>\n",
       "<style scoped>\n",
       "    .dataframe tbody tr th:only-of-type {\n",
       "        vertical-align: middle;\n",
       "    }\n",
       "\n",
       "    .dataframe tbody tr th {\n",
       "        vertical-align: top;\n",
       "    }\n",
       "\n",
       "    .dataframe thead th {\n",
       "        text-align: right;\n",
       "    }\n",
       "</style>\n",
       "<table border=\"1\" class=\"dataframe\">\n",
       "  <thead>\n",
       "    <tr style=\"text-align: right;\">\n",
       "      <th></th>\n",
       "      <th>product_name</th>\n",
       "      <th>brand</th>\n",
       "      <th>product_url</th>\n",
       "      <th>product_type</th>\n",
       "      <th>ingredients</th>\n",
       "      <th>price</th>\n",
       "    </tr>\n",
       "  </thead>\n",
       "  <tbody>\n",
       "    <tr>\n",
       "      <th>0</th>\n",
       "      <td>Acorelle Pure Harvest Body Perfume - 100ml</td>\n",
       "      <td>Acorelle</td>\n",
       "      <td>https://www.lookfantastic.com/acorelle-pure-ha...</td>\n",
       "      <td>Mist</td>\n",
       "      <td>Alcohol, Aqua, Glycerin, Fragrance, Limonene, ...</td>\n",
       "      <td>£10.00</td>\n",
       "    </tr>\n",
       "    <tr>\n",
       "      <th>1</th>\n",
       "      <td>Aesop Amazing Face Cleanser 200ml</td>\n",
       "      <td>Aesop</td>\n",
       "      <td>https://www.lookfantastic.com/aesop-amazing-fa...</td>\n",
       "      <td>Cleanser</td>\n",
       "      <td>Water, Cocamidopropyl Belaine, Sea Salt, Glyce...</td>\n",
       "      <td>£35.00</td>\n",
       "    </tr>\n",
       "    <tr>\n",
       "      <th>2</th>\n",
       "      <td>Aesop Animal Body Wash 500ml</td>\n",
       "      <td>Aesop</td>\n",
       "      <td>https://www.lookfantastic.com/aesop-animal-bod...</td>\n",
       "      <td>Body Wash</td>\n",
       "      <td>Water (Aqua), Sodium Laureth Sulfate, Propylen...</td>\n",
       "      <td>£27.00</td>\n",
       "    </tr>\n",
       "    <tr>\n",
       "      <th>3</th>\n",
       "      <td>Aesop Chamomile Concentrate Anti-Blemish Mask ...</td>\n",
       "      <td>Aesop</td>\n",
       "      <td>https://www.lookfantastic.com/aesop-chamomile-...</td>\n",
       "      <td>Mask</td>\n",
       "      <td>Water (Aqua), Kaolin, Bentonite, Alcohol Denat...</td>\n",
       "      <td>£31.00</td>\n",
       "    </tr>\n",
       "    <tr>\n",
       "      <th>4</th>\n",
       "      <td>Aesop Parsley Seed Anti-Oxidant Eye Cream 10ml</td>\n",
       "      <td>Aesop</td>\n",
       "      <td>https://www.lookfantastic.com/aesop-parsley-se...</td>\n",
       "      <td>Eye Care</td>\n",
       "      <td>Aloe Barbadensis Leaf Juice, Water, PEG-60 Alm...</td>\n",
       "      <td>£63.00</td>\n",
       "    </tr>\n",
       "    <tr>\n",
       "      <th>...</th>\n",
       "      <td>...</td>\n",
       "      <td>...</td>\n",
       "      <td>...</td>\n",
       "      <td>...</td>\n",
       "      <td>...</td>\n",
       "      <td>...</td>\n",
       "    </tr>\n",
       "    <tr>\n",
       "      <th>1133</th>\n",
       "      <td>Zelens PROVITAMIN D Fortifying Facial Mist 50ml</td>\n",
       "      <td>Zelens</td>\n",
       "      <td>https://www.lookfantastic.com/zelens-provitami...</td>\n",
       "      <td>Mist</td>\n",
       "      <td>Aqua (Water), Propanediol, Glycerin, Polyglyce...</td>\n",
       "      <td>£55.00</td>\n",
       "    </tr>\n",
       "    <tr>\n",
       "      <th>1134</th>\n",
       "      <td>Zelens Triple Action Advanced Eye Cream</td>\n",
       "      <td>Zelens</td>\n",
       "      <td>https://www.lookfantastic.com/zelens-triple-ac...</td>\n",
       "      <td>Eye Care</td>\n",
       "      <td>Aqua (Water), Dimethicone, Cyclopentasiloxane,...</td>\n",
       "      <td>£80.00</td>\n",
       "    </tr>\n",
       "    <tr>\n",
       "      <th>1135</th>\n",
       "      <td>Zelens Youth Concentrate Supreme Age-Defying S...</td>\n",
       "      <td>Zelens</td>\n",
       "      <td>https://www.lookfantastic.com/zelens-youth-con...</td>\n",
       "      <td>Serum</td>\n",
       "      <td>Water (Aqua), Caprylic/Capric Triglyceride, Hy...</td>\n",
       "      <td>£160.00</td>\n",
       "    </tr>\n",
       "    <tr>\n",
       "      <th>1136</th>\n",
       "      <td>Zelens Z Balance Prebiotic and Probiotic Facia...</td>\n",
       "      <td>Zelens</td>\n",
       "      <td>https://www.lookfantastic.com/zelens-z-balance...</td>\n",
       "      <td>Mist</td>\n",
       "      <td>Aqua, Butylene Glycol, Sodium Lactate, Lactoba...</td>\n",
       "      <td>£48.00</td>\n",
       "    </tr>\n",
       "    <tr>\n",
       "      <th>1137</th>\n",
       "      <td>Zelens Z Hyaluron Hyaluronic Acid Complex Seru...</td>\n",
       "      <td>Zelens</td>\n",
       "      <td>https://www.lookfantastic.com/zelens-z-hyaluro...</td>\n",
       "      <td>Serum</td>\n",
       "      <td>Aqua (Water), Glycerin, Propanediol, Hydrolyze...</td>\n",
       "      <td>£55.00</td>\n",
       "    </tr>\n",
       "  </tbody>\n",
       "</table>\n",
       "<p>1138 rows × 6 columns</p>\n",
       "</div>"
      ],
      "text/plain": [
       "                                           product_name     brand  \\\n",
       "0            Acorelle Pure Harvest Body Perfume - 100ml  Acorelle   \n",
       "1                     Aesop Amazing Face Cleanser 200ml     Aesop   \n",
       "2                          Aesop Animal Body Wash 500ml     Aesop   \n",
       "3     Aesop Chamomile Concentrate Anti-Blemish Mask ...     Aesop   \n",
       "4        Aesop Parsley Seed Anti-Oxidant Eye Cream 10ml     Aesop   \n",
       "...                                                 ...       ...   \n",
       "1133    Zelens PROVITAMIN D Fortifying Facial Mist 50ml    Zelens   \n",
       "1134            Zelens Triple Action Advanced Eye Cream    Zelens   \n",
       "1135  Zelens Youth Concentrate Supreme Age-Defying S...    Zelens   \n",
       "1136  Zelens Z Balance Prebiotic and Probiotic Facia...    Zelens   \n",
       "1137  Zelens Z Hyaluron Hyaluronic Acid Complex Seru...    Zelens   \n",
       "\n",
       "                                            product_url product_type  \\\n",
       "0     https://www.lookfantastic.com/acorelle-pure-ha...         Mist   \n",
       "1     https://www.lookfantastic.com/aesop-amazing-fa...     Cleanser   \n",
       "2     https://www.lookfantastic.com/aesop-animal-bod...    Body Wash   \n",
       "3     https://www.lookfantastic.com/aesop-chamomile-...         Mask   \n",
       "4     https://www.lookfantastic.com/aesop-parsley-se...     Eye Care   \n",
       "...                                                 ...          ...   \n",
       "1133  https://www.lookfantastic.com/zelens-provitami...         Mist   \n",
       "1134  https://www.lookfantastic.com/zelens-triple-ac...     Eye Care   \n",
       "1135  https://www.lookfantastic.com/zelens-youth-con...        Serum   \n",
       "1136  https://www.lookfantastic.com/zelens-z-balance...         Mist   \n",
       "1137  https://www.lookfantastic.com/zelens-z-hyaluro...        Serum   \n",
       "\n",
       "                                            ingredients    price  \n",
       "0     Alcohol, Aqua, Glycerin, Fragrance, Limonene, ...   £10.00  \n",
       "1     Water, Cocamidopropyl Belaine, Sea Salt, Glyce...   £35.00  \n",
       "2     Water (Aqua), Sodium Laureth Sulfate, Propylen...   £27.00  \n",
       "3     Water (Aqua), Kaolin, Bentonite, Alcohol Denat...   £31.00  \n",
       "4     Aloe Barbadensis Leaf Juice, Water, PEG-60 Alm...   £63.00  \n",
       "...                                                 ...      ...  \n",
       "1133  Aqua (Water), Propanediol, Glycerin, Polyglyce...   £55.00  \n",
       "1134  Aqua (Water), Dimethicone, Cyclopentasiloxane,...   £80.00  \n",
       "1135  Water (Aqua), Caprylic/Capric Triglyceride, Hy...  £160.00  \n",
       "1136  Aqua, Butylene Glycol, Sodium Lactate, Lactoba...   £48.00  \n",
       "1137  Aqua (Water), Glycerin, Propanediol, Hydrolyze...   £55.00  \n",
       "\n",
       "[1138 rows x 6 columns]"
      ]
     },
     "execution_count": 2,
     "metadata": {},
     "output_type": "execute_result"
    }
   ],
   "source": [
    "df = pd.read_csv('skincare_products.csv', sep=\",\")\n",
    "df\n",
    "\n",
    "# Read in the data"
   ]
  },
  {
   "cell_type": "code",
   "execution_count": 3,
   "metadata": {},
   "outputs": [],
   "source": [
    "df['price'] = df['price'].str.replace('£', '')\n",
    "df['price'] = df['price'].astype(float)\n",
    "# convert price to floats"
   ]
  },
  {
   "cell_type": "code",
   "execution_count": 4,
   "metadata": {},
   "outputs": [
    {
     "data": {
      "text/html": [
       "<div>\n",
       "<style scoped>\n",
       "    .dataframe tbody tr th:only-of-type {\n",
       "        vertical-align: middle;\n",
       "    }\n",
       "\n",
       "    .dataframe tbody tr th {\n",
       "        vertical-align: top;\n",
       "    }\n",
       "\n",
       "    .dataframe thead th {\n",
       "        text-align: right;\n",
       "    }\n",
       "</style>\n",
       "<table border=\"1\" class=\"dataframe\">\n",
       "  <thead>\n",
       "    <tr style=\"text-align: right;\">\n",
       "      <th></th>\n",
       "      <th>product_name</th>\n",
       "      <th>brand</th>\n",
       "      <th>product_url</th>\n",
       "      <th>product_type</th>\n",
       "      <th>ingredients</th>\n",
       "      <th>price</th>\n",
       "      <th>contents</th>\n",
       "    </tr>\n",
       "  </thead>\n",
       "  <tbody>\n",
       "    <tr>\n",
       "      <th>0</th>\n",
       "      <td>Acorelle Pure Harvest Body Perfume - 100ml</td>\n",
       "      <td>Acorelle</td>\n",
       "      <td>https://www.lookfantastic.com/acorelle-pure-ha...</td>\n",
       "      <td>Mist</td>\n",
       "      <td>Alcohol, Aqua, Glycerin, Fragrance, Limonene, ...</td>\n",
       "      <td>10.0</td>\n",
       "      <td>100ml</td>\n",
       "    </tr>\n",
       "    <tr>\n",
       "      <th>1</th>\n",
       "      <td>Aesop Amazing Face Cleanser 200ml</td>\n",
       "      <td>Aesop</td>\n",
       "      <td>https://www.lookfantastic.com/aesop-amazing-fa...</td>\n",
       "      <td>Cleanser</td>\n",
       "      <td>Water, Cocamidopropyl Belaine, Sea Salt, Glyce...</td>\n",
       "      <td>35.0</td>\n",
       "      <td>200ml</td>\n",
       "    </tr>\n",
       "    <tr>\n",
       "      <th>2</th>\n",
       "      <td>Aesop Animal Body Wash 500ml</td>\n",
       "      <td>Aesop</td>\n",
       "      <td>https://www.lookfantastic.com/aesop-animal-bod...</td>\n",
       "      <td>Body Wash</td>\n",
       "      <td>Water (Aqua), Sodium Laureth Sulfate, Propylen...</td>\n",
       "      <td>27.0</td>\n",
       "      <td>500ml</td>\n",
       "    </tr>\n",
       "    <tr>\n",
       "      <th>3</th>\n",
       "      <td>Aesop Chamomile Concentrate Anti-Blemish Mask ...</td>\n",
       "      <td>Aesop</td>\n",
       "      <td>https://www.lookfantastic.com/aesop-chamomile-...</td>\n",
       "      <td>Mask</td>\n",
       "      <td>Water (Aqua), Kaolin, Bentonite, Alcohol Denat...</td>\n",
       "      <td>31.0</td>\n",
       "      <td>60ml</td>\n",
       "    </tr>\n",
       "    <tr>\n",
       "      <th>4</th>\n",
       "      <td>Aesop Parsley Seed Anti-Oxidant Eye Cream 10ml</td>\n",
       "      <td>Aesop</td>\n",
       "      <td>https://www.lookfantastic.com/aesop-parsley-se...</td>\n",
       "      <td>Eye Care</td>\n",
       "      <td>Aloe Barbadensis Leaf Juice, Water, PEG-60 Alm...</td>\n",
       "      <td>63.0</td>\n",
       "      <td>10ml</td>\n",
       "    </tr>\n",
       "    <tr>\n",
       "      <th>...</th>\n",
       "      <td>...</td>\n",
       "      <td>...</td>\n",
       "      <td>...</td>\n",
       "      <td>...</td>\n",
       "      <td>...</td>\n",
       "      <td>...</td>\n",
       "      <td>...</td>\n",
       "    </tr>\n",
       "    <tr>\n",
       "      <th>1133</th>\n",
       "      <td>Zelens PROVITAMIN D Fortifying Facial Mist 50ml</td>\n",
       "      <td>Zelens</td>\n",
       "      <td>https://www.lookfantastic.com/zelens-provitami...</td>\n",
       "      <td>Mist</td>\n",
       "      <td>Aqua (Water), Propanediol, Glycerin, Polyglyce...</td>\n",
       "      <td>55.0</td>\n",
       "      <td>50ml</td>\n",
       "    </tr>\n",
       "    <tr>\n",
       "      <th>1134</th>\n",
       "      <td>Zelens Triple Action Advanced Eye Cream</td>\n",
       "      <td>Zelens</td>\n",
       "      <td>https://www.lookfantastic.com/zelens-triple-ac...</td>\n",
       "      <td>Eye Care</td>\n",
       "      <td>Aqua (Water), Dimethicone, Cyclopentasiloxane,...</td>\n",
       "      <td>80.0</td>\n",
       "      <td>NaN</td>\n",
       "    </tr>\n",
       "    <tr>\n",
       "      <th>1135</th>\n",
       "      <td>Zelens Youth Concentrate Supreme Age-Defying S...</td>\n",
       "      <td>Zelens</td>\n",
       "      <td>https://www.lookfantastic.com/zelens-youth-con...</td>\n",
       "      <td>Serum</td>\n",
       "      <td>Water (Aqua), Caprylic/Capric Triglyceride, Hy...</td>\n",
       "      <td>160.0</td>\n",
       "      <td>30ml</td>\n",
       "    </tr>\n",
       "    <tr>\n",
       "      <th>1136</th>\n",
       "      <td>Zelens Z Balance Prebiotic and Probiotic Facia...</td>\n",
       "      <td>Zelens</td>\n",
       "      <td>https://www.lookfantastic.com/zelens-z-balance...</td>\n",
       "      <td>Mist</td>\n",
       "      <td>Aqua, Butylene Glycol, Sodium Lactate, Lactoba...</td>\n",
       "      <td>48.0</td>\n",
       "      <td>50ml</td>\n",
       "    </tr>\n",
       "    <tr>\n",
       "      <th>1137</th>\n",
       "      <td>Zelens Z Hyaluron Hyaluronic Acid Complex Seru...</td>\n",
       "      <td>Zelens</td>\n",
       "      <td>https://www.lookfantastic.com/zelens-z-hyaluro...</td>\n",
       "      <td>Serum</td>\n",
       "      <td>Aqua (Water), Glycerin, Propanediol, Hydrolyze...</td>\n",
       "      <td>55.0</td>\n",
       "      <td>30ml</td>\n",
       "    </tr>\n",
       "  </tbody>\n",
       "</table>\n",
       "<p>1138 rows × 7 columns</p>\n",
       "</div>"
      ],
      "text/plain": [
       "                                           product_name     brand  \\\n",
       "0            Acorelle Pure Harvest Body Perfume - 100ml  Acorelle   \n",
       "1                     Aesop Amazing Face Cleanser 200ml     Aesop   \n",
       "2                          Aesop Animal Body Wash 500ml     Aesop   \n",
       "3     Aesop Chamomile Concentrate Anti-Blemish Mask ...     Aesop   \n",
       "4        Aesop Parsley Seed Anti-Oxidant Eye Cream 10ml     Aesop   \n",
       "...                                                 ...       ...   \n",
       "1133    Zelens PROVITAMIN D Fortifying Facial Mist 50ml    Zelens   \n",
       "1134            Zelens Triple Action Advanced Eye Cream    Zelens   \n",
       "1135  Zelens Youth Concentrate Supreme Age-Defying S...    Zelens   \n",
       "1136  Zelens Z Balance Prebiotic and Probiotic Facia...    Zelens   \n",
       "1137  Zelens Z Hyaluron Hyaluronic Acid Complex Seru...    Zelens   \n",
       "\n",
       "                                            product_url product_type  \\\n",
       "0     https://www.lookfantastic.com/acorelle-pure-ha...         Mist   \n",
       "1     https://www.lookfantastic.com/aesop-amazing-fa...     Cleanser   \n",
       "2     https://www.lookfantastic.com/aesop-animal-bod...    Body Wash   \n",
       "3     https://www.lookfantastic.com/aesop-chamomile-...         Mask   \n",
       "4     https://www.lookfantastic.com/aesop-parsley-se...     Eye Care   \n",
       "...                                                 ...          ...   \n",
       "1133  https://www.lookfantastic.com/zelens-provitami...         Mist   \n",
       "1134  https://www.lookfantastic.com/zelens-triple-ac...     Eye Care   \n",
       "1135  https://www.lookfantastic.com/zelens-youth-con...        Serum   \n",
       "1136  https://www.lookfantastic.com/zelens-z-balance...         Mist   \n",
       "1137  https://www.lookfantastic.com/zelens-z-hyaluro...        Serum   \n",
       "\n",
       "                                            ingredients  price contents  \n",
       "0     Alcohol, Aqua, Glycerin, Fragrance, Limonene, ...   10.0    100ml  \n",
       "1     Water, Cocamidopropyl Belaine, Sea Salt, Glyce...   35.0    200ml  \n",
       "2     Water (Aqua), Sodium Laureth Sulfate, Propylen...   27.0    500ml  \n",
       "3     Water (Aqua), Kaolin, Bentonite, Alcohol Denat...   31.0     60ml  \n",
       "4     Aloe Barbadensis Leaf Juice, Water, PEG-60 Alm...   63.0     10ml  \n",
       "...                                                 ...    ...      ...  \n",
       "1133  Aqua (Water), Propanediol, Glycerin, Polyglyce...   55.0     50ml  \n",
       "1134  Aqua (Water), Dimethicone, Cyclopentasiloxane,...   80.0      NaN  \n",
       "1135  Water (Aqua), Caprylic/Capric Triglyceride, Hy...  160.0     30ml  \n",
       "1136  Aqua, Butylene Glycol, Sodium Lactate, Lactoba...   48.0     50ml  \n",
       "1137  Aqua (Water), Glycerin, Propanediol, Hydrolyze...   55.0     30ml  \n",
       "\n",
       "[1138 rows x 7 columns]"
      ]
     },
     "execution_count": 4,
     "metadata": {},
     "output_type": "execute_result"
    }
   ],
   "source": [
    "contents = []    \n",
    "for title in df['product_name']:\n",
    "    try: \n",
    "        m = re.search('\\d+(ml|g|kg)', title)\n",
    "        contents.append(m.group())\n",
    "    except AttributeError:\n",
    "        contents.append(np.nan)\n",
    "\n",
    "df['contents'] = contents\n",
    "df\n",
    "# extract the contents from product_column. Keep \"kg\" as a measurement to convert to grams later"
   ]
  },
  {
   "cell_type": "code",
   "execution_count": 5,
   "metadata": {},
   "outputs": [
    {
     "data": {
      "text/plain": [
       "155"
      ]
     },
     "execution_count": 5,
     "metadata": {},
     "output_type": "execute_result"
    }
   ],
   "source": [
    "df['contents'].isna().sum()\n",
    "# There are 155 rows with no content value - fill in manually"
   ]
  },
  {
   "cell_type": "code",
   "execution_count": 6,
   "metadata": {},
   "outputs": [],
   "source": [
    "# df.to_csv(\"skincare_prepared.csv\", sep=\"\\t\", encoding=\"utf-8\")\n",
    "# Make a new csv value and fill in all the missing contents values by hand"
   ]
  },
  {
   "cell_type": "code",
   "execution_count": 7,
   "metadata": {
    "scrolled": true
   },
   "outputs": [
    {
     "data": {
      "text/html": [
       "<div>\n",
       "<style scoped>\n",
       "    .dataframe tbody tr th:only-of-type {\n",
       "        vertical-align: middle;\n",
       "    }\n",
       "\n",
       "    .dataframe tbody tr th {\n",
       "        vertical-align: top;\n",
       "    }\n",
       "\n",
       "    .dataframe thead th {\n",
       "        text-align: right;\n",
       "    }\n",
       "</style>\n",
       "<table border=\"1\" class=\"dataframe\">\n",
       "  <thead>\n",
       "    <tr style=\"text-align: right;\">\n",
       "      <th></th>\n",
       "      <th>product_name</th>\n",
       "      <th>brand</th>\n",
       "      <th>product_url</th>\n",
       "      <th>product_type</th>\n",
       "      <th>ingredients</th>\n",
       "      <th>price</th>\n",
       "      <th>contents</th>\n",
       "    </tr>\n",
       "  </thead>\n",
       "  <tbody>\n",
       "    <tr>\n",
       "      <th>0</th>\n",
       "      <td>Acorelle Pure Harvest Body Perfume - 100ml</td>\n",
       "      <td>Acorelle</td>\n",
       "      <td>https://www.lookfantastic.com/acorelle-pure-ha...</td>\n",
       "      <td>Mist</td>\n",
       "      <td>Alcohol, Aqua, Glycerin, Fragrance, Limonene, ...</td>\n",
       "      <td>10.0</td>\n",
       "      <td>100ml</td>\n",
       "    </tr>\n",
       "    <tr>\n",
       "      <th>1</th>\n",
       "      <td>Aesop Parsley Seed Anti-Oxidant Eye Cream 10ml</td>\n",
       "      <td>Aesop</td>\n",
       "      <td>https://www.lookfantastic.com/aesop-parsley-se...</td>\n",
       "      <td>Eye Care</td>\n",
       "      <td>Aloe Barbadensis Leaf Juice, Water, PEG-60 Alm...</td>\n",
       "      <td>63.0</td>\n",
       "      <td>10ml</td>\n",
       "    </tr>\n",
       "    <tr>\n",
       "      <th>2</th>\n",
       "      <td>Aesop Parsley Seed Anti-Oxidant Eye Serum 15ml</td>\n",
       "      <td>Aesop</td>\n",
       "      <td>https://www.lookfantastic.com/aesop-parsley-se...</td>\n",
       "      <td>Eye Care</td>\n",
       "      <td>Aloe Babedensis Lead Juice, Water (Aqua), PEG ...</td>\n",
       "      <td>57.0</td>\n",
       "      <td>15ml</td>\n",
       "    </tr>\n",
       "    <tr>\n",
       "      <th>3</th>\n",
       "      <td>Aesop Amazing Face Cleanser 200ml</td>\n",
       "      <td>Aesop</td>\n",
       "      <td>https://www.lookfantastic.com/aesop-amazing-fa...</td>\n",
       "      <td>Cleanser</td>\n",
       "      <td>Water, Cocamidopropyl Belaine, Sea Salt, Glyce...</td>\n",
       "      <td>35.0</td>\n",
       "      <td>200ml</td>\n",
       "    </tr>\n",
       "    <tr>\n",
       "      <th>4</th>\n",
       "      <td>Aesop Animal Body Wash 500ml</td>\n",
       "      <td>Aesop</td>\n",
       "      <td>https://www.lookfantastic.com/aesop-animal-bod...</td>\n",
       "      <td>Body Wash</td>\n",
       "      <td>Water (Aqua), Sodium Laureth Sulfate, Propylen...</td>\n",
       "      <td>27.0</td>\n",
       "      <td>500ml</td>\n",
       "    </tr>\n",
       "    <tr>\n",
       "      <th>...</th>\n",
       "      <td>...</td>\n",
       "      <td>...</td>\n",
       "      <td>...</td>\n",
       "      <td>...</td>\n",
       "      <td>...</td>\n",
       "      <td>...</td>\n",
       "      <td>...</td>\n",
       "    </tr>\n",
       "    <tr>\n",
       "      <th>1130</th>\n",
       "      <td>Zelens Triple Action Advanced Eye Cream</td>\n",
       "      <td>Zelens</td>\n",
       "      <td>https://www.lookfantastic.com/zelens-triple-ac...</td>\n",
       "      <td>Eye Care</td>\n",
       "      <td>Aqua (Water), Dimethicone, Cyclopentasiloxane,...</td>\n",
       "      <td>80.0</td>\n",
       "      <td>15ml</td>\n",
       "    </tr>\n",
       "    <tr>\n",
       "      <th>1131</th>\n",
       "      <td>Zelens Youth Concentrate Supreme Age-Defying S...</td>\n",
       "      <td>Zelens</td>\n",
       "      <td>https://www.lookfantastic.com/zelens-youth-con...</td>\n",
       "      <td>Serum</td>\n",
       "      <td>Water (Aqua), Caprylic/Capric Triglyceride, Hy...</td>\n",
       "      <td>160.0</td>\n",
       "      <td>30ml</td>\n",
       "    </tr>\n",
       "    <tr>\n",
       "      <th>1132</th>\n",
       "      <td>Zelens Z Hyaluron Hyaluronic Acid Complex Seru...</td>\n",
       "      <td>Zelens</td>\n",
       "      <td>https://www.lookfantastic.com/zelens-z-hyaluro...</td>\n",
       "      <td>Serum</td>\n",
       "      <td>Aqua (Water), Glycerin, Propanediol, Hydrolyze...</td>\n",
       "      <td>55.0</td>\n",
       "      <td>30ml</td>\n",
       "    </tr>\n",
       "    <tr>\n",
       "      <th>1133</th>\n",
       "      <td>Zelens PROVITAMIN D Fortifying Facial Mist 50ml</td>\n",
       "      <td>Zelens</td>\n",
       "      <td>https://www.lookfantastic.com/zelens-provitami...</td>\n",
       "      <td>Mist</td>\n",
       "      <td>Aqua (Water), Propanediol, Glycerin, Polyglyce...</td>\n",
       "      <td>55.0</td>\n",
       "      <td>50ml</td>\n",
       "    </tr>\n",
       "    <tr>\n",
       "      <th>1134</th>\n",
       "      <td>Zelens Z Balance Prebiotic and Probiotic Facia...</td>\n",
       "      <td>Zelens</td>\n",
       "      <td>https://www.lookfantastic.com/zelens-z-balance...</td>\n",
       "      <td>Mist</td>\n",
       "      <td>Aqua, Butylene Glycol, Sodium Lactate, Lactoba...</td>\n",
       "      <td>48.0</td>\n",
       "      <td>50ml</td>\n",
       "    </tr>\n",
       "  </tbody>\n",
       "</table>\n",
       "<p>1135 rows × 7 columns</p>\n",
       "</div>"
      ],
      "text/plain": [
       "                                           product_name     brand  \\\n",
       "0            Acorelle Pure Harvest Body Perfume - 100ml  Acorelle   \n",
       "1        Aesop Parsley Seed Anti-Oxidant Eye Cream 10ml     Aesop   \n",
       "2        Aesop Parsley Seed Anti-Oxidant Eye Serum 15ml     Aesop   \n",
       "3                     Aesop Amazing Face Cleanser 200ml     Aesop   \n",
       "4                          Aesop Animal Body Wash 500ml     Aesop   \n",
       "...                                                 ...       ...   \n",
       "1130            Zelens Triple Action Advanced Eye Cream    Zelens   \n",
       "1131  Zelens Youth Concentrate Supreme Age-Defying S...    Zelens   \n",
       "1132  Zelens Z Hyaluron Hyaluronic Acid Complex Seru...    Zelens   \n",
       "1133    Zelens PROVITAMIN D Fortifying Facial Mist 50ml    Zelens   \n",
       "1134  Zelens Z Balance Prebiotic and Probiotic Facia...    Zelens   \n",
       "\n",
       "                                            product_url product_type  \\\n",
       "0     https://www.lookfantastic.com/acorelle-pure-ha...         Mist   \n",
       "1     https://www.lookfantastic.com/aesop-parsley-se...     Eye Care   \n",
       "2     https://www.lookfantastic.com/aesop-parsley-se...     Eye Care   \n",
       "3     https://www.lookfantastic.com/aesop-amazing-fa...     Cleanser   \n",
       "4     https://www.lookfantastic.com/aesop-animal-bod...    Body Wash   \n",
       "...                                                 ...          ...   \n",
       "1130  https://www.lookfantastic.com/zelens-triple-ac...     Eye Care   \n",
       "1131  https://www.lookfantastic.com/zelens-youth-con...        Serum   \n",
       "1132  https://www.lookfantastic.com/zelens-z-hyaluro...        Serum   \n",
       "1133  https://www.lookfantastic.com/zelens-provitami...         Mist   \n",
       "1134  https://www.lookfantastic.com/zelens-z-balance...         Mist   \n",
       "\n",
       "                                            ingredients  price contents  \n",
       "0     Alcohol, Aqua, Glycerin, Fragrance, Limonene, ...   10.0    100ml  \n",
       "1     Aloe Barbadensis Leaf Juice, Water, PEG-60 Alm...   63.0     10ml  \n",
       "2     Aloe Babedensis Lead Juice, Water (Aqua), PEG ...   57.0     15ml  \n",
       "3     Water, Cocamidopropyl Belaine, Sea Salt, Glyce...   35.0    200ml  \n",
       "4     Water (Aqua), Sodium Laureth Sulfate, Propylen...   27.0    500ml  \n",
       "...                                                 ...    ...      ...  \n",
       "1130  Aqua (Water), Dimethicone, Cyclopentasiloxane,...   80.0     15ml  \n",
       "1131  Water (Aqua), Caprylic/Capric Triglyceride, Hy...  160.0     30ml  \n",
       "1132  Aqua (Water), Glycerin, Propanediol, Hydrolyze...   55.0     30ml  \n",
       "1133  Aqua (Water), Propanediol, Glycerin, Polyglyce...   55.0     50ml  \n",
       "1134  Aqua, Butylene Glycol, Sodium Lactate, Lactoba...   48.0     50ml  \n",
       "\n",
       "[1135 rows x 7 columns]"
      ]
     },
     "execution_count": 7,
     "metadata": {},
     "output_type": "execute_result"
    }
   ],
   "source": [
    "skincare = pd.read_csv('skincare_prepared.csv', sep=\",\")\n",
    "skincare\n",
    "# contents column now appears"
   ]
  },
  {
   "cell_type": "code",
   "execution_count": 8,
   "metadata": {},
   "outputs": [
    {
     "data": {
      "text/html": [
       "<div>\n",
       "<style scoped>\n",
       "    .dataframe tbody tr th:only-of-type {\n",
       "        vertical-align: middle;\n",
       "    }\n",
       "\n",
       "    .dataframe tbody tr th {\n",
       "        vertical-align: top;\n",
       "    }\n",
       "\n",
       "    .dataframe thead th {\n",
       "        text-align: right;\n",
       "    }\n",
       "</style>\n",
       "<table border=\"1\" class=\"dataframe\">\n",
       "  <thead>\n",
       "    <tr style=\"text-align: right;\">\n",
       "      <th></th>\n",
       "      <th>product_name</th>\n",
       "      <th>brand</th>\n",
       "      <th>product_url</th>\n",
       "      <th>product_type</th>\n",
       "      <th>ingredients</th>\n",
       "      <th>price</th>\n",
       "      <th>contents</th>\n",
       "    </tr>\n",
       "  </thead>\n",
       "  <tbody>\n",
       "    <tr>\n",
       "      <th>0</th>\n",
       "      <td>Acorelle Pure Harvest Body Perfume - 100ml</td>\n",
       "      <td>Acorelle</td>\n",
       "      <td>https://www.lookfantastic.com/acorelle-pure-ha...</td>\n",
       "      <td>Mist</td>\n",
       "      <td>Alcohol, Aqua, Glycerin, Fragrance, Limonene, ...</td>\n",
       "      <td>10.0</td>\n",
       "      <td>100</td>\n",
       "    </tr>\n",
       "    <tr>\n",
       "      <th>1</th>\n",
       "      <td>Aesop Parsley Seed Anti-Oxidant Eye Cream 10ml</td>\n",
       "      <td>Aesop</td>\n",
       "      <td>https://www.lookfantastic.com/aesop-parsley-se...</td>\n",
       "      <td>Eye Care</td>\n",
       "      <td>Aloe Barbadensis Leaf Juice, Water, PEG-60 Alm...</td>\n",
       "      <td>63.0</td>\n",
       "      <td>10</td>\n",
       "    </tr>\n",
       "    <tr>\n",
       "      <th>2</th>\n",
       "      <td>Aesop Parsley Seed Anti-Oxidant Eye Serum 15ml</td>\n",
       "      <td>Aesop</td>\n",
       "      <td>https://www.lookfantastic.com/aesop-parsley-se...</td>\n",
       "      <td>Eye Care</td>\n",
       "      <td>Aloe Babedensis Lead Juice, Water (Aqua), PEG ...</td>\n",
       "      <td>57.0</td>\n",
       "      <td>15</td>\n",
       "    </tr>\n",
       "    <tr>\n",
       "      <th>3</th>\n",
       "      <td>Aesop Amazing Face Cleanser 200ml</td>\n",
       "      <td>Aesop</td>\n",
       "      <td>https://www.lookfantastic.com/aesop-amazing-fa...</td>\n",
       "      <td>Cleanser</td>\n",
       "      <td>Water, Cocamidopropyl Belaine, Sea Salt, Glyce...</td>\n",
       "      <td>35.0</td>\n",
       "      <td>200</td>\n",
       "    </tr>\n",
       "    <tr>\n",
       "      <th>4</th>\n",
       "      <td>Aesop Animal Body Wash 500ml</td>\n",
       "      <td>Aesop</td>\n",
       "      <td>https://www.lookfantastic.com/aesop-animal-bod...</td>\n",
       "      <td>Body Wash</td>\n",
       "      <td>Water (Aqua), Sodium Laureth Sulfate, Propylen...</td>\n",
       "      <td>27.0</td>\n",
       "      <td>500</td>\n",
       "    </tr>\n",
       "    <tr>\n",
       "      <th>...</th>\n",
       "      <td>...</td>\n",
       "      <td>...</td>\n",
       "      <td>...</td>\n",
       "      <td>...</td>\n",
       "      <td>...</td>\n",
       "      <td>...</td>\n",
       "      <td>...</td>\n",
       "    </tr>\n",
       "    <tr>\n",
       "      <th>1130</th>\n",
       "      <td>Zelens Triple Action Advanced Eye Cream</td>\n",
       "      <td>Zelens</td>\n",
       "      <td>https://www.lookfantastic.com/zelens-triple-ac...</td>\n",
       "      <td>Eye Care</td>\n",
       "      <td>Aqua (Water), Dimethicone, Cyclopentasiloxane,...</td>\n",
       "      <td>80.0</td>\n",
       "      <td>15</td>\n",
       "    </tr>\n",
       "    <tr>\n",
       "      <th>1131</th>\n",
       "      <td>Zelens Youth Concentrate Supreme Age-Defying S...</td>\n",
       "      <td>Zelens</td>\n",
       "      <td>https://www.lookfantastic.com/zelens-youth-con...</td>\n",
       "      <td>Serum</td>\n",
       "      <td>Water (Aqua), Caprylic/Capric Triglyceride, Hy...</td>\n",
       "      <td>160.0</td>\n",
       "      <td>30</td>\n",
       "    </tr>\n",
       "    <tr>\n",
       "      <th>1132</th>\n",
       "      <td>Zelens Z Hyaluron Hyaluronic Acid Complex Seru...</td>\n",
       "      <td>Zelens</td>\n",
       "      <td>https://www.lookfantastic.com/zelens-z-hyaluro...</td>\n",
       "      <td>Serum</td>\n",
       "      <td>Aqua (Water), Glycerin, Propanediol, Hydrolyze...</td>\n",
       "      <td>55.0</td>\n",
       "      <td>30</td>\n",
       "    </tr>\n",
       "    <tr>\n",
       "      <th>1133</th>\n",
       "      <td>Zelens PROVITAMIN D Fortifying Facial Mist 50ml</td>\n",
       "      <td>Zelens</td>\n",
       "      <td>https://www.lookfantastic.com/zelens-provitami...</td>\n",
       "      <td>Mist</td>\n",
       "      <td>Aqua (Water), Propanediol, Glycerin, Polyglyce...</td>\n",
       "      <td>55.0</td>\n",
       "      <td>50</td>\n",
       "    </tr>\n",
       "    <tr>\n",
       "      <th>1134</th>\n",
       "      <td>Zelens Z Balance Prebiotic and Probiotic Facia...</td>\n",
       "      <td>Zelens</td>\n",
       "      <td>https://www.lookfantastic.com/zelens-z-balance...</td>\n",
       "      <td>Mist</td>\n",
       "      <td>Aqua, Butylene Glycol, Sodium Lactate, Lactoba...</td>\n",
       "      <td>48.0</td>\n",
       "      <td>50</td>\n",
       "    </tr>\n",
       "  </tbody>\n",
       "</table>\n",
       "<p>1135 rows × 7 columns</p>\n",
       "</div>"
      ],
      "text/plain": [
       "                                           product_name     brand  \\\n",
       "0            Acorelle Pure Harvest Body Perfume - 100ml  Acorelle   \n",
       "1        Aesop Parsley Seed Anti-Oxidant Eye Cream 10ml     Aesop   \n",
       "2        Aesop Parsley Seed Anti-Oxidant Eye Serum 15ml     Aesop   \n",
       "3                     Aesop Amazing Face Cleanser 200ml     Aesop   \n",
       "4                          Aesop Animal Body Wash 500ml     Aesop   \n",
       "...                                                 ...       ...   \n",
       "1130            Zelens Triple Action Advanced Eye Cream    Zelens   \n",
       "1131  Zelens Youth Concentrate Supreme Age-Defying S...    Zelens   \n",
       "1132  Zelens Z Hyaluron Hyaluronic Acid Complex Seru...    Zelens   \n",
       "1133    Zelens PROVITAMIN D Fortifying Facial Mist 50ml    Zelens   \n",
       "1134  Zelens Z Balance Prebiotic and Probiotic Facia...    Zelens   \n",
       "\n",
       "                                            product_url product_type  \\\n",
       "0     https://www.lookfantastic.com/acorelle-pure-ha...         Mist   \n",
       "1     https://www.lookfantastic.com/aesop-parsley-se...     Eye Care   \n",
       "2     https://www.lookfantastic.com/aesop-parsley-se...     Eye Care   \n",
       "3     https://www.lookfantastic.com/aesop-amazing-fa...     Cleanser   \n",
       "4     https://www.lookfantastic.com/aesop-animal-bod...    Body Wash   \n",
       "...                                                 ...          ...   \n",
       "1130  https://www.lookfantastic.com/zelens-triple-ac...     Eye Care   \n",
       "1131  https://www.lookfantastic.com/zelens-youth-con...        Serum   \n",
       "1132  https://www.lookfantastic.com/zelens-z-hyaluro...        Serum   \n",
       "1133  https://www.lookfantastic.com/zelens-provitami...         Mist   \n",
       "1134  https://www.lookfantastic.com/zelens-z-balance...         Mist   \n",
       "\n",
       "                                            ingredients  price contents  \n",
       "0     Alcohol, Aqua, Glycerin, Fragrance, Limonene, ...   10.0      100  \n",
       "1     Aloe Barbadensis Leaf Juice, Water, PEG-60 Alm...   63.0       10  \n",
       "2     Aloe Babedensis Lead Juice, Water (Aqua), PEG ...   57.0       15  \n",
       "3     Water, Cocamidopropyl Belaine, Sea Salt, Glyce...   35.0      200  \n",
       "4     Water (Aqua), Sodium Laureth Sulfate, Propylen...   27.0      500  \n",
       "...                                                 ...    ...      ...  \n",
       "1130  Aqua (Water), Dimethicone, Cyclopentasiloxane,...   80.0       15  \n",
       "1131  Water (Aqua), Caprylic/Capric Triglyceride, Hy...  160.0       30  \n",
       "1132  Aqua (Water), Glycerin, Propanediol, Hydrolyze...   55.0       30  \n",
       "1133  Aqua (Water), Propanediol, Glycerin, Polyglyce...   55.0       50  \n",
       "1134  Aqua, Butylene Glycol, Sodium Lactate, Lactoba...   48.0       50  \n",
       "\n",
       "[1135 rows x 7 columns]"
      ]
     },
     "execution_count": 8,
     "metadata": {},
     "output_type": "execute_result"
    }
   ],
   "source": [
    "skincare['contents'] = skincare['contents'].str.replace('ml', '')\n",
    "skincare['contents'] = skincare['contents'].str.replace('g', '')\n",
    "skincare\n",
    "# Big assumption - treat ml and g as the same measurement because the viscosity for each product is unknown"
   ]
  },
  {
   "cell_type": "code",
   "execution_count": 9,
   "metadata": {},
   "outputs": [
    {
     "data": {
      "text/html": [
       "<div>\n",
       "<style scoped>\n",
       "    .dataframe tbody tr th:only-of-type {\n",
       "        vertical-align: middle;\n",
       "    }\n",
       "\n",
       "    .dataframe tbody tr th {\n",
       "        vertical-align: top;\n",
       "    }\n",
       "\n",
       "    .dataframe thead th {\n",
       "        text-align: right;\n",
       "    }\n",
       "</style>\n",
       "<table border=\"1\" class=\"dataframe\">\n",
       "  <thead>\n",
       "    <tr style=\"text-align: right;\">\n",
       "      <th></th>\n",
       "      <th>product_name</th>\n",
       "      <th>brand</th>\n",
       "      <th>product_url</th>\n",
       "      <th>product_type</th>\n",
       "      <th>ingredients</th>\n",
       "      <th>price</th>\n",
       "      <th>contents</th>\n",
       "    </tr>\n",
       "  </thead>\n",
       "  <tbody>\n",
       "    <tr>\n",
       "      <th>0</th>\n",
       "      <td>Acorelle Pure Harvest Body Perfume - 100ml</td>\n",
       "      <td>Acorelle</td>\n",
       "      <td>https://www.lookfantastic.com/acorelle-pure-ha...</td>\n",
       "      <td>Mist</td>\n",
       "      <td>Alcohol, Aqua, Glycerin, Fragrance, Limonene, ...</td>\n",
       "      <td>10.0</td>\n",
       "      <td>100.0</td>\n",
       "    </tr>\n",
       "    <tr>\n",
       "      <th>1</th>\n",
       "      <td>Aesop Parsley Seed Anti-Oxidant Eye Cream 10ml</td>\n",
       "      <td>Aesop</td>\n",
       "      <td>https://www.lookfantastic.com/aesop-parsley-se...</td>\n",
       "      <td>Eye Care</td>\n",
       "      <td>Aloe Barbadensis Leaf Juice, Water, PEG-60 Alm...</td>\n",
       "      <td>63.0</td>\n",
       "      <td>10.0</td>\n",
       "    </tr>\n",
       "    <tr>\n",
       "      <th>2</th>\n",
       "      <td>Aesop Parsley Seed Anti-Oxidant Eye Serum 15ml</td>\n",
       "      <td>Aesop</td>\n",
       "      <td>https://www.lookfantastic.com/aesop-parsley-se...</td>\n",
       "      <td>Eye Care</td>\n",
       "      <td>Aloe Babedensis Lead Juice, Water (Aqua), PEG ...</td>\n",
       "      <td>57.0</td>\n",
       "      <td>15.0</td>\n",
       "    </tr>\n",
       "    <tr>\n",
       "      <th>3</th>\n",
       "      <td>Aesop Amazing Face Cleanser 200ml</td>\n",
       "      <td>Aesop</td>\n",
       "      <td>https://www.lookfantastic.com/aesop-amazing-fa...</td>\n",
       "      <td>Cleanser</td>\n",
       "      <td>Water, Cocamidopropyl Belaine, Sea Salt, Glyce...</td>\n",
       "      <td>35.0</td>\n",
       "      <td>200.0</td>\n",
       "    </tr>\n",
       "    <tr>\n",
       "      <th>4</th>\n",
       "      <td>Aesop Animal Body Wash 500ml</td>\n",
       "      <td>Aesop</td>\n",
       "      <td>https://www.lookfantastic.com/aesop-animal-bod...</td>\n",
       "      <td>Body Wash</td>\n",
       "      <td>Water (Aqua), Sodium Laureth Sulfate, Propylen...</td>\n",
       "      <td>27.0</td>\n",
       "      <td>500.0</td>\n",
       "    </tr>\n",
       "    <tr>\n",
       "      <th>...</th>\n",
       "      <td>...</td>\n",
       "      <td>...</td>\n",
       "      <td>...</td>\n",
       "      <td>...</td>\n",
       "      <td>...</td>\n",
       "      <td>...</td>\n",
       "      <td>...</td>\n",
       "    </tr>\n",
       "    <tr>\n",
       "      <th>1130</th>\n",
       "      <td>Zelens Triple Action Advanced Eye Cream</td>\n",
       "      <td>Zelens</td>\n",
       "      <td>https://www.lookfantastic.com/zelens-triple-ac...</td>\n",
       "      <td>Eye Care</td>\n",
       "      <td>Aqua (Water), Dimethicone, Cyclopentasiloxane,...</td>\n",
       "      <td>80.0</td>\n",
       "      <td>15.0</td>\n",
       "    </tr>\n",
       "    <tr>\n",
       "      <th>1131</th>\n",
       "      <td>Zelens Youth Concentrate Supreme Age-Defying S...</td>\n",
       "      <td>Zelens</td>\n",
       "      <td>https://www.lookfantastic.com/zelens-youth-con...</td>\n",
       "      <td>Serum</td>\n",
       "      <td>Water (Aqua), Caprylic/Capric Triglyceride, Hy...</td>\n",
       "      <td>160.0</td>\n",
       "      <td>30.0</td>\n",
       "    </tr>\n",
       "    <tr>\n",
       "      <th>1132</th>\n",
       "      <td>Zelens Z Hyaluron Hyaluronic Acid Complex Seru...</td>\n",
       "      <td>Zelens</td>\n",
       "      <td>https://www.lookfantastic.com/zelens-z-hyaluro...</td>\n",
       "      <td>Serum</td>\n",
       "      <td>Aqua (Water), Glycerin, Propanediol, Hydrolyze...</td>\n",
       "      <td>55.0</td>\n",
       "      <td>30.0</td>\n",
       "    </tr>\n",
       "    <tr>\n",
       "      <th>1133</th>\n",
       "      <td>Zelens PROVITAMIN D Fortifying Facial Mist 50ml</td>\n",
       "      <td>Zelens</td>\n",
       "      <td>https://www.lookfantastic.com/zelens-provitami...</td>\n",
       "      <td>Mist</td>\n",
       "      <td>Aqua (Water), Propanediol, Glycerin, Polyglyce...</td>\n",
       "      <td>55.0</td>\n",
       "      <td>50.0</td>\n",
       "    </tr>\n",
       "    <tr>\n",
       "      <th>1134</th>\n",
       "      <td>Zelens Z Balance Prebiotic and Probiotic Facia...</td>\n",
       "      <td>Zelens</td>\n",
       "      <td>https://www.lookfantastic.com/zelens-z-balance...</td>\n",
       "      <td>Mist</td>\n",
       "      <td>Aqua, Butylene Glycol, Sodium Lactate, Lactoba...</td>\n",
       "      <td>48.0</td>\n",
       "      <td>50.0</td>\n",
       "    </tr>\n",
       "  </tbody>\n",
       "</table>\n",
       "<p>1135 rows × 7 columns</p>\n",
       "</div>"
      ],
      "text/plain": [
       "                                           product_name     brand  \\\n",
       "0            Acorelle Pure Harvest Body Perfume - 100ml  Acorelle   \n",
       "1        Aesop Parsley Seed Anti-Oxidant Eye Cream 10ml     Aesop   \n",
       "2        Aesop Parsley Seed Anti-Oxidant Eye Serum 15ml     Aesop   \n",
       "3                     Aesop Amazing Face Cleanser 200ml     Aesop   \n",
       "4                          Aesop Animal Body Wash 500ml     Aesop   \n",
       "...                                                 ...       ...   \n",
       "1130            Zelens Triple Action Advanced Eye Cream    Zelens   \n",
       "1131  Zelens Youth Concentrate Supreme Age-Defying S...    Zelens   \n",
       "1132  Zelens Z Hyaluron Hyaluronic Acid Complex Seru...    Zelens   \n",
       "1133    Zelens PROVITAMIN D Fortifying Facial Mist 50ml    Zelens   \n",
       "1134  Zelens Z Balance Prebiotic and Probiotic Facia...    Zelens   \n",
       "\n",
       "                                            product_url product_type  \\\n",
       "0     https://www.lookfantastic.com/acorelle-pure-ha...         Mist   \n",
       "1     https://www.lookfantastic.com/aesop-parsley-se...     Eye Care   \n",
       "2     https://www.lookfantastic.com/aesop-parsley-se...     Eye Care   \n",
       "3     https://www.lookfantastic.com/aesop-amazing-fa...     Cleanser   \n",
       "4     https://www.lookfantastic.com/aesop-animal-bod...    Body Wash   \n",
       "...                                                 ...          ...   \n",
       "1130  https://www.lookfantastic.com/zelens-triple-ac...     Eye Care   \n",
       "1131  https://www.lookfantastic.com/zelens-youth-con...        Serum   \n",
       "1132  https://www.lookfantastic.com/zelens-z-hyaluro...        Serum   \n",
       "1133  https://www.lookfantastic.com/zelens-provitami...         Mist   \n",
       "1134  https://www.lookfantastic.com/zelens-z-balance...         Mist   \n",
       "\n",
       "                                            ingredients  price  contents  \n",
       "0     Alcohol, Aqua, Glycerin, Fragrance, Limonene, ...   10.0     100.0  \n",
       "1     Aloe Barbadensis Leaf Juice, Water, PEG-60 Alm...   63.0      10.0  \n",
       "2     Aloe Babedensis Lead Juice, Water (Aqua), PEG ...   57.0      15.0  \n",
       "3     Water, Cocamidopropyl Belaine, Sea Salt, Glyce...   35.0     200.0  \n",
       "4     Water (Aqua), Sodium Laureth Sulfate, Propylen...   27.0     500.0  \n",
       "...                                                 ...    ...       ...  \n",
       "1130  Aqua (Water), Dimethicone, Cyclopentasiloxane,...   80.0      15.0  \n",
       "1131  Water (Aqua), Caprylic/Capric Triglyceride, Hy...  160.0      30.0  \n",
       "1132  Aqua (Water), Glycerin, Propanediol, Hydrolyze...   55.0      30.0  \n",
       "1133  Aqua (Water), Propanediol, Glycerin, Polyglyce...   55.0      50.0  \n",
       "1134  Aqua, Butylene Glycol, Sodium Lactate, Lactoba...   48.0      50.0  \n",
       "\n",
       "[1135 rows x 7 columns]"
      ]
     },
     "execution_count": 9,
     "metadata": {},
     "output_type": "execute_result"
    }
   ],
   "source": [
    "skincare['contents'] = skincare['contents'].astype(float)\n",
    "skincare['price'] = skincare['price'].astype(float)\n",
    "skincare"
   ]
  },
  {
   "cell_type": "code",
   "execution_count": 10,
   "metadata": {},
   "outputs": [
    {
     "data": {
      "image/png": "[encoded data removed]",
      "text/plain": [
       "<Figure size 432x288 with 1 Axes>"
      ]
     },
     "metadata": {
      "needs_background": "light"
     },
     "output_type": "display_data"
    }
   ],
   "source": [
    "fig, ax = plt.subplots()\n",
    "ax.scatter(skincare['contents'], skincare['price'])\n",
    "ax.set_xlabel(\"contents\")\n",
    "ax.set_ylabel(\"price\")\n",
    "plt.show()\n",
    "# Most products are under a kg, and the most expensive rpduct is ~230 pounds\n",
    "# Most products are clustered around under a 100 pounds"
   ]
  },
  {
   "cell_type": "code",
   "execution_count": 11,
   "metadata": {},
   "outputs": [
    {
     "data": {
      "text/plain": [
       "(array([412., 306., 208.,  90.,  50.,  23.,  20.,  15.,   3.,   1.,   0.,\n",
       "          1.,   1.,   2.,   1.,   1.,   0.,   0.,   0.,   1.]),\n",
       " array([  1.95  ,  13.3525,  24.755 ,  36.1575,  47.56  ,  58.9625,\n",
       "         70.365 ,  81.7675,  93.17  , 104.5725, 115.975 , 127.3775,\n",
       "        138.78  , 150.1825, 161.585 , 172.9875, 184.39  , 195.7925,\n",
       "        207.195 , 218.5975, 230.    ]),\n",
       " <a list of 20 Patch objects>)"
      ]
     },
     "execution_count": 11,
     "metadata": {},
     "output_type": "execute_result"
    },
    {
     "data": {
      "image/png": "[encoded data removed]",
      "text/plain": [
       "<Figure size 432x288 with 1 Axes>"
      ]
     },
     "metadata": {
      "needs_background": "light"
     },
     "output_type": "display_data"
    }
   ],
   "source": [
    "fig, ax = plt.subplots()\n",
    "ax.hist(skincare['price'], bins=20)\n",
    "# 400 products are in the price range 1-10 pounds"
   ]
  },
  {
   "cell_type": "code",
   "execution_count": 12,
   "metadata": {},
   "outputs": [
    {
     "data": {
      "text/plain": [
       "array(['Mist', 'Eye Care', 'Cleanser', 'Body Wash', 'Mask', 'Bath Salts',\n",
       "       'Peel', 'Toner', 'Balm', 'Moisturiser', 'Bath Oil', 'Oil', 'Serum',\n",
       "       'Exfoliator'], dtype=object)"
      ]
     },
     "execution_count": 12,
     "metadata": {},
     "output_type": "execute_result"
    }
   ],
   "source": [
    "skincare['product_type'].unique() \n",
    "# These are all the unique values of product_type that will be one-hot-encoded"
   ]
  },
  {
   "cell_type": "code",
   "execution_count": 15,
   "metadata": {},
   "outputs": [
    {
     "name": "stdout",
     "output_type": "stream",
     "text": [
      "count    1135.000000\n",
      "mean       23.963419\n",
      "std        21.713618\n",
      "min         1.950000\n",
      "25%         9.950000\n",
      "50%        18.900000\n",
      "75%        31.250000\n",
      "max       230.000000\n",
      "Name: price, dtype: float64\n"
     ]
    }
   ],
   "source": [
    "print(skincare['price'].describe())\n",
    "# Look at the inter-quartile range - 50% of data is below 18.90 pounds, and 50% is above"
   ]
  },
  {
   "cell_type": "code",
   "execution_count": 16,
   "metadata": {},
   "outputs": [
    {
     "data": {
      "text/plain": [
       "0    568\n",
       "1    567\n",
       "Name: price, dtype: int64"
      ]
     },
     "execution_count": 16,
     "metadata": {},
     "output_type": "execute_result"
    }
   ],
   "source": [
    "skincare['price'] = skincare[\"price\"].apply(lambda x: 1 if x > 18.90 else 0)\n",
    "# convert the price to 1 for 'expensive' if over the 50 percentile, and to 0 for 'cheap' if under the 50 percentile\n",
    "skincare['price'].value_counts()\n",
    "# assign classes based on the data distribution"
   ]
  },
  {
   "cell_type": "code",
   "execution_count": 17,
   "metadata": {},
   "outputs": [
    {
     "data": {
      "text/plain": [
       "array([0, 1, 1, ..., 1, 1, 1], dtype=int64)"
      ]
     },
     "execution_count": 17,
     "metadata": {},
     "output_type": "execute_result"
    }
   ],
   "source": [
    "y = np.array(skincare['price'])\n",
    "y.shape\n",
    "# prepare labels\n",
    "y"
   ]
  },
  {
   "cell_type": "code",
   "execution_count": 18,
   "metadata": {},
   "outputs": [
    {
     "data": {
      "text/html": [
       "<div>\n",
       "<style scoped>\n",
       "    .dataframe tbody tr th:only-of-type {\n",
       "        vertical-align: middle;\n",
       "    }\n",
       "\n",
       "    .dataframe tbody tr th {\n",
       "        vertical-align: top;\n",
       "    }\n",
       "\n",
       "    .dataframe thead th {\n",
       "        text-align: right;\n",
       "    }\n",
       "</style>\n",
       "<table border=\"1\" class=\"dataframe\">\n",
       "  <thead>\n",
       "    <tr style=\"text-align: right;\">\n",
       "      <th></th>\n",
       "      <th>contents</th>\n",
       "      <th>product_type</th>\n",
       "      <th>ingredients</th>\n",
       "    </tr>\n",
       "  </thead>\n",
       "  <tbody>\n",
       "    <tr>\n",
       "      <th>0</th>\n",
       "      <td>100.0</td>\n",
       "      <td>Mist</td>\n",
       "      <td>Alcohol, Aqua, Glycerin, Fragrance, Limonene, ...</td>\n",
       "    </tr>\n",
       "    <tr>\n",
       "      <th>1</th>\n",
       "      <td>10.0</td>\n",
       "      <td>Eye Care</td>\n",
       "      <td>Aloe Barbadensis Leaf Juice, Water, PEG-60 Alm...</td>\n",
       "    </tr>\n",
       "    <tr>\n",
       "      <th>2</th>\n",
       "      <td>15.0</td>\n",
       "      <td>Eye Care</td>\n",
       "      <td>Aloe Babedensis Lead Juice, Water (Aqua), PEG ...</td>\n",
       "    </tr>\n",
       "    <tr>\n",
       "      <th>3</th>\n",
       "      <td>200.0</td>\n",
       "      <td>Cleanser</td>\n",
       "      <td>Water, Cocamidopropyl Belaine, Sea Salt, Glyce...</td>\n",
       "    </tr>\n",
       "    <tr>\n",
       "      <th>4</th>\n",
       "      <td>500.0</td>\n",
       "      <td>Body Wash</td>\n",
       "      <td>Water (Aqua), Sodium Laureth Sulfate, Propylen...</td>\n",
       "    </tr>\n",
       "    <tr>\n",
       "      <th>...</th>\n",
       "      <td>...</td>\n",
       "      <td>...</td>\n",
       "      <td>...</td>\n",
       "    </tr>\n",
       "    <tr>\n",
       "      <th>1130</th>\n",
       "      <td>15.0</td>\n",
       "      <td>Eye Care</td>\n",
       "      <td>Aqua (Water), Dimethicone, Cyclopentasiloxane,...</td>\n",
       "    </tr>\n",
       "    <tr>\n",
       "      <th>1131</th>\n",
       "      <td>30.0</td>\n",
       "      <td>Serum</td>\n",
       "      <td>Water (Aqua), Caprylic/Capric Triglyceride, Hy...</td>\n",
       "    </tr>\n",
       "    <tr>\n",
       "      <th>1132</th>\n",
       "      <td>30.0</td>\n",
       "      <td>Serum</td>\n",
       "      <td>Aqua (Water), Glycerin, Propanediol, Hydrolyze...</td>\n",
       "    </tr>\n",
       "    <tr>\n",
       "      <th>1133</th>\n",
       "      <td>50.0</td>\n",
       "      <td>Mist</td>\n",
       "      <td>Aqua (Water), Propanediol, Glycerin, Polyglyce...</td>\n",
       "    </tr>\n",
       "    <tr>\n",
       "      <th>1134</th>\n",
       "      <td>50.0</td>\n",
       "      <td>Mist</td>\n",
       "      <td>Aqua, Butylene Glycol, Sodium Lactate, Lactoba...</td>\n",
       "    </tr>\n",
       "  </tbody>\n",
       "</table>\n",
       "<p>1135 rows × 3 columns</p>\n",
       "</div>"
      ],
      "text/plain": [
       "      contents product_type                                        ingredients\n",
       "0        100.0         Mist  Alcohol, Aqua, Glycerin, Fragrance, Limonene, ...\n",
       "1         10.0     Eye Care  Aloe Barbadensis Leaf Juice, Water, PEG-60 Alm...\n",
       "2         15.0     Eye Care  Aloe Babedensis Lead Juice, Water (Aqua), PEG ...\n",
       "3        200.0     Cleanser  Water, Cocamidopropyl Belaine, Sea Salt, Glyce...\n",
       "4        500.0    Body Wash  Water (Aqua), Sodium Laureth Sulfate, Propylen...\n",
       "...        ...          ...                                                ...\n",
       "1130      15.0     Eye Care  Aqua (Water), Dimethicone, Cyclopentasiloxane,...\n",
       "1131      30.0        Serum  Water (Aqua), Caprylic/Capric Triglyceride, Hy...\n",
       "1132      30.0        Serum  Aqua (Water), Glycerin, Propanediol, Hydrolyze...\n",
       "1133      50.0         Mist  Aqua (Water), Propanediol, Glycerin, Polyglyce...\n",
       "1134      50.0         Mist  Aqua, Butylene Glycol, Sodium Lactate, Lactoba...\n",
       "\n",
       "[1135 rows x 3 columns]"
      ]
     },
     "execution_count": 18,
     "metadata": {},
     "output_type": "execute_result"
    }
   ],
   "source": [
    "X = skincare[['contents', 'product_type', 'ingredients']]\n",
    "X\n",
    "# include contents, product type, and ingredients but not brand"
   ]
  },
  {
   "cell_type": "code",
   "execution_count": 19,
   "metadata": {},
   "outputs": [],
   "source": [
    "# Start making a model with only content, ingredients, and the product type. No brand yet. \n",
    "X_train, X_test, y_train, y_test = train_test_split(X, y, \n",
    "                                                    test_size = 0.4, random_state=random_state, stratify=y)"
   ]
  },
  {
   "cell_type": "code",
   "execution_count": 20,
   "metadata": {},
   "outputs": [
    {
     "data": {
      "text/html": [
       "<div>\n",
       "<style scoped>\n",
       "    .dataframe tbody tr th:only-of-type {\n",
       "        vertical-align: middle;\n",
       "    }\n",
       "\n",
       "    .dataframe tbody tr th {\n",
       "        vertical-align: top;\n",
       "    }\n",
       "\n",
       "    .dataframe thead th {\n",
       "        text-align: right;\n",
       "    }\n",
       "</style>\n",
       "<table border=\"1\" class=\"dataframe\">\n",
       "  <thead>\n",
       "    <tr style=\"text-align: right;\">\n",
       "      <th></th>\n",
       "      <th>contents</th>\n",
       "      <th>product_type</th>\n",
       "      <th>ingredients</th>\n",
       "    </tr>\n",
       "  </thead>\n",
       "  <tbody>\n",
       "    <tr>\n",
       "      <th>145</th>\n",
       "      <td>250.0</td>\n",
       "      <td>Mist</td>\n",
       "      <td>Butane, Water, Alcohol, Isobutane, Propane, Di...</td>\n",
       "    </tr>\n",
       "    <tr>\n",
       "      <th>1099</th>\n",
       "      <td>150.0</td>\n",
       "      <td>Body Wash</td>\n",
       "      <td>Water (Aqua), Sesamum Indicum (Sesame) Seed Oi...</td>\n",
       "    </tr>\n",
       "    <tr>\n",
       "      <th>168</th>\n",
       "      <td>150.0</td>\n",
       "      <td>Cleanser</td>\n",
       "      <td>Aqua (Water), Cocamidopropyl betaine, Coco-glu...</td>\n",
       "    </tr>\n",
       "    <tr>\n",
       "      <th>141</th>\n",
       "      <td>30.0</td>\n",
       "      <td>Serum</td>\n",
       "      <td>Water\\Aqua\\Eau, Squalane, Glycerin, Butylene G...</td>\n",
       "    </tr>\n",
       "    <tr>\n",
       "      <th>775</th>\n",
       "      <td>100.0</td>\n",
       "      <td>Exfoliator</td>\n",
       "      <td>Water (Aqua), Ammonium Lauryl Sulfate, Cocamid...</td>\n",
       "    </tr>\n",
       "    <tr>\n",
       "      <th>...</th>\n",
       "      <td>...</td>\n",
       "      <td>...</td>\n",
       "      <td>...</td>\n",
       "    </tr>\n",
       "    <tr>\n",
       "      <th>591</th>\n",
       "      <td>15.0</td>\n",
       "      <td>Eye Care</td>\n",
       "      <td>Aqua / Water, Glycerin, Carbomer, Glycinesoja ...</td>\n",
       "    </tr>\n",
       "    <tr>\n",
       "      <th>723</th>\n",
       "      <td>460.0</td>\n",
       "      <td>Bath Salts</td>\n",
       "      <td>Himalayan Salts, Geranium, Sweet Blood Orange,...</td>\n",
       "    </tr>\n",
       "    <tr>\n",
       "      <th>791</th>\n",
       "      <td>200.0</td>\n",
       "      <td>Toner</td>\n",
       "      <td>Aqua (Water), Alcohol Denat., Aloe Barbadensis...</td>\n",
       "    </tr>\n",
       "    <tr>\n",
       "      <th>208</th>\n",
       "      <td>14.0</td>\n",
       "      <td>Eye Care</td>\n",
       "      <td>Purified Water, Niacinamide, Cetyl Alcohol, Ca...</td>\n",
       "    </tr>\n",
       "    <tr>\n",
       "      <th>531</th>\n",
       "      <td>20.0</td>\n",
       "      <td>Mask</td>\n",
       "      <td>Water, Dimethicone, Butylene Glycol, Glycerin,...</td>\n",
       "    </tr>\n",
       "  </tbody>\n",
       "</table>\n",
       "<p>681 rows × 3 columns</p>\n",
       "</div>"
      ],
      "text/plain": [
       "      contents product_type                                        ingredients\n",
       "145      250.0         Mist  Butane, Water, Alcohol, Isobutane, Propane, Di...\n",
       "1099     150.0    Body Wash  Water (Aqua), Sesamum Indicum (Sesame) Seed Oi...\n",
       "168      150.0     Cleanser  Aqua (Water), Cocamidopropyl betaine, Coco-glu...\n",
       "141       30.0        Serum  Water\\Aqua\\Eau, Squalane, Glycerin, Butylene G...\n",
       "775      100.0   Exfoliator  Water (Aqua), Ammonium Lauryl Sulfate, Cocamid...\n",
       "...        ...          ...                                                ...\n",
       "591       15.0     Eye Care  Aqua / Water, Glycerin, Carbomer, Glycinesoja ...\n",
       "723      460.0   Bath Salts  Himalayan Salts, Geranium, Sweet Blood Orange,...\n",
       "791      200.0        Toner  Aqua (Water), Alcohol Denat., Aloe Barbadensis...\n",
       "208       14.0     Eye Care  Purified Water, Niacinamide, Cetyl Alcohol, Ca...\n",
       "531       20.0         Mask  Water, Dimethicone, Butylene Glycol, Glycerin,...\n",
       "\n",
       "[681 rows x 3 columns]"
      ]
     },
     "execution_count": 20,
     "metadata": {},
     "output_type": "execute_result"
    }
   ],
   "source": [
    "X_train"
   ]
  },
  {
   "cell_type": "code",
   "execution_count": 21,
   "metadata": {},
   "outputs": [],
   "source": [
    "def tokenizer(x) -> list: \n",
    "    x = x.replace('(', '')\n",
    "    x = x.replace(')', '')\n",
    "    x = x.replace(\"\\xa0\", \" \")\n",
    "    x = x.replace(\".\", \",\")\n",
    "    x = x.replace(\" & \", \", \")\n",
    "    x = re.split(', ', x)\n",
    "    return x\n",
    "\n",
    "# make a custom tokenizer"
   ]
  },
  {
   "cell_type": "code",
   "execution_count": 22,
   "metadata": {},
   "outputs": [
    {
     "data": {
      "text/plain": [
       "['Hello', '', 'there!']"
      ]
     },
     "execution_count": 22,
     "metadata": {},
     "output_type": "execute_result"
    }
   ],
   "source": [
    "tokenizer(\"(Hello.\\xa0 & there!\")\n",
    "# it works on artefacts of the the dataset"
   ]
  },
  {
   "cell_type": "code",
   "execution_count": 23,
   "metadata": {},
   "outputs": [],
   "source": [
    "ohe = OneHotEncoder()\n",
    "vect = CountVectorizer(tokenizer=lambda x: tokenizer(x))\n",
    "scaler = StandardScaler()"
   ]
  },
  {
   "cell_type": "code",
   "execution_count": 24,
   "metadata": {},
   "outputs": [
    {
     "data": {
      "text/plain": [
       "['Hello', ' ', 'world!']"
      ]
     },
     "execution_count": 24,
     "metadata": {},
     "output_type": "execute_result"
    }
   ],
   "source": [
    "string1= \"(Hello), \\xa0 & world!\"\n",
    "tokenizer(string1)"
   ]
  },
  {
   "cell_type": "code",
   "execution_count": 25,
   "metadata": {},
   "outputs": [],
   "source": [
    "ct = make_column_transformer(\n",
    "    (ohe, [\"product_type\"]),\n",
    "    (vect, \"ingredients\"),\n",
    "    (scaler, [\"contents\"]), \n",
    "    remainder=\"passthrough\")\n",
    "# prepare the series of transformers with make_column_transformer\n"
   ]
  },
  {
   "cell_type": "markdown",
   "metadata": {},
   "source": [
    "# w/out BRAND - BINARY - PERCEPTRON"
   ]
  },
  {
   "cell_type": "code",
   "execution_count": 26,
   "metadata": {},
   "outputs": [
    {
     "data": {
      "text/plain": [
       "Pipeline(steps=[('columntransformer',\n",
       "                 ColumnTransformer(remainder='passthrough',\n",
       "                                   transformers=[('onehotencoder',\n",
       "                                                  OneHotEncoder(),\n",
       "                                                  ['product_type']),\n",
       "                                                 ('countvectorizer',\n",
       "                                                  CountVectorizer(tokenizer=<function <lambda> at 0x000001CEB7E7A940>),\n",
       "                                                  'ingredients'),\n",
       "                                                 ('standardscaler',\n",
       "                                                  StandardScaler(),\n",
       "                                                  ['contents'])])),\n",
       "                ('perceptron', Perceptron())])"
      ]
     },
     "execution_count": 26,
     "metadata": {},
     "output_type": "execute_result"
    }
   ],
   "source": [
    "from sklearn.linear_model import Perceptron\n",
    "perc = Perceptron()\n",
    "pr_pipe = make_pipeline(ct, perc)\n",
    "# make a pipeline of the column transformers and the perceptron classifier\n",
    "\n",
    "pr_pipe.fit(X_train, y_train)"
   ]
  },
  {
   "cell_type": "code",
   "execution_count": 27,
   "metadata": {},
   "outputs": [],
   "source": [
    "perc_predictions = pr_pipe.predict(X_test)\n",
    "# get the perceptron predictions"
   ]
  },
  {
   "cell_type": "code",
   "execution_count": 28,
   "metadata": {},
   "outputs": [
    {
     "data": {
      "text/plain": [
       "0.7268722466960352"
      ]
     },
     "execution_count": 28,
     "metadata": {},
     "output_type": "execute_result"
    }
   ],
   "source": [
    "accuracy_score(y_test, perc_predictions)"
   ]
  },
  {
   "cell_type": "code",
   "execution_count": 29,
   "metadata": {},
   "outputs": [
    {
     "name": "stdout",
     "output_type": "stream",
     "text": [
      "[0.73913043 0.70588235 0.73529412 0.72058824 0.77941176 0.72058824\n",
      " 0.76470588 0.70588235 0.73529412 0.67647059]\n"
     ]
    }
   ],
   "source": [
    "scores = cross_val_score(estimator=pr_pipe, X=X_train, y=y_train, cv=10, n_jobs=-1)\n",
    "print(scores)\n",
    "# get the cross-validation accuracy scores"
   ]
  },
  {
   "cell_type": "code",
   "execution_count": 30,
   "metadata": {},
   "outputs": [
    {
     "name": "stdout",
     "output_type": "stream",
     "text": [
      "Accuracy = 0.72832481 +/- 0.02821925\n"
     ]
    }
   ],
   "source": [
    "print('Accuracy = {:.8f} +/- {:.8f}'.format(np.mean(scores), np.std(scores)))\n",
    "# cross-validation accuracy scores will be reported in paper"
   ]
  },
  {
   "cell_type": "markdown",
   "metadata": {},
   "source": [
    "# w/out BRAND - BINARY - LOGISTIC REGRESSION"
   ]
  },
  {
   "cell_type": "code",
   "execution_count": 31,
   "metadata": {},
   "outputs": [],
   "source": [
    "lr = LogisticRegression(random_state=random_state, max_iter = 10000)\n",
    "lr_pipe = make_pipeline(ct, lr)\n",
    "# prepare pipeline of column transformers and logistic regression"
   ]
  },
  {
   "cell_type": "code",
   "execution_count": 32,
   "metadata": {},
   "outputs": [
    {
     "data": {
      "text/plain": [
       "Pipeline(steps=[('columntransformer',\n",
       "                 ColumnTransformer(remainder='passthrough',\n",
       "                                   transformers=[('onehotencoder',\n",
       "                                                  OneHotEncoder(),\n",
       "                                                  ['product_type']),\n",
       "                                                 ('countvectorizer',\n",
       "                                                  CountVectorizer(tokenizer=<function <lambda> at 0x000001CEB7E7A940>),\n",
       "                                                  'ingredients'),\n",
       "                                                 ('standardscaler',\n",
       "                                                  StandardScaler(),\n",
       "                                                  ['contents'])])),\n",
       "                ('logisticregression',\n",
       "                 LogisticRegression(max_iter=10000, random_state=1))])"
      ]
     },
     "execution_count": 32,
     "metadata": {},
     "output_type": "execute_result"
    }
   ],
   "source": [
    "lr_pipe.fit(X_train, y_train)\n",
    "# fit pipeline"
   ]
  },
  {
   "cell_type": "code",
   "execution_count": 33,
   "metadata": {},
   "outputs": [
    {
     "data": {
      "text/plain": [
       "{'memory': None,\n",
       " 'steps': [('columntransformer',\n",
       "   ColumnTransformer(remainder='passthrough',\n",
       "                     transformers=[('onehotencoder', OneHotEncoder(),\n",
       "                                    ['product_type']),\n",
       "                                   ('countvectorizer',\n",
       "                                    CountVectorizer(tokenizer=<function <lambda> at 0x000001CEB7E7A940>),\n",
       "                                    'ingredients'),\n",
       "                                   ('standardscaler', StandardScaler(),\n",
       "                                    ['contents'])])),\n",
       "  ('logisticregression', LogisticRegression(max_iter=10000, random_state=1))],\n",
       " 'verbose': False,\n",
       " 'columntransformer': ColumnTransformer(remainder='passthrough',\n",
       "                   transformers=[('onehotencoder', OneHotEncoder(),\n",
       "                                  ['product_type']),\n",
       "                                 ('countvectorizer',\n",
       "                                  CountVectorizer(tokenizer=<function <lambda> at 0x000001CEB7E7A940>),\n",
       "                                  'ingredients'),\n",
       "                                 ('standardscaler', StandardScaler(),\n",
       "                                  ['contents'])]),\n",
       " 'logisticregression': LogisticRegression(max_iter=10000, random_state=1),\n",
       " 'columntransformer__n_jobs': None,\n",
       " 'columntransformer__remainder': 'passthrough',\n",
       " 'columntransformer__sparse_threshold': 0.3,\n",
       " 'columntransformer__transformer_weights': None,\n",
       " 'columntransformer__transformers': [('onehotencoder',\n",
       "   OneHotEncoder(),\n",
       "   ['product_type']),\n",
       "  ('countvectorizer',\n",
       "   CountVectorizer(tokenizer=<function <lambda> at 0x000001CEB7E7A940>),\n",
       "   'ingredients'),\n",
       "  ('standardscaler', StandardScaler(), ['contents'])],\n",
       " 'columntransformer__verbose': False,\n",
       " 'columntransformer__onehotencoder': OneHotEncoder(),\n",
       " 'columntransformer__countvectorizer': CountVectorizer(tokenizer=<function <lambda> at 0x000001CEB7E7A940>),\n",
       " 'columntransformer__standardscaler': StandardScaler(),\n",
       " 'columntransformer__onehotencoder__categories': 'auto',\n",
       " 'columntransformer__onehotencoder__drop': None,\n",
       " 'columntransformer__onehotencoder__dtype': numpy.float64,\n",
       " 'columntransformer__onehotencoder__handle_unknown': 'error',\n",
       " 'columntransformer__onehotencoder__sparse': True,\n",
       " 'columntransformer__countvectorizer__analyzer': 'word',\n",
       " 'columntransformer__countvectorizer__binary': False,\n",
       " 'columntransformer__countvectorizer__decode_error': 'strict',\n",
       " 'columntransformer__countvectorizer__dtype': numpy.int64,\n",
       " 'columntransformer__countvectorizer__encoding': 'utf-8',\n",
       " 'columntransformer__countvectorizer__input': 'content',\n",
       " 'columntransformer__countvectorizer__lowercase': True,\n",
       " 'columntransformer__countvectorizer__max_df': 1.0,\n",
       " 'columntransformer__countvectorizer__max_features': None,\n",
       " 'columntransformer__countvectorizer__min_df': 1,\n",
       " 'columntransformer__countvectorizer__ngram_range': (1, 1),\n",
       " 'columntransformer__countvectorizer__preprocessor': None,\n",
       " 'columntransformer__countvectorizer__stop_words': None,\n",
       " 'columntransformer__countvectorizer__strip_accents': None,\n",
       " 'columntransformer__countvectorizer__token_pattern': '(?u)\\\\b\\\\w\\\\w+\\\\b',\n",
       " 'columntransformer__countvectorizer__tokenizer': <function __main__.<lambda>(x)>,\n",
       " 'columntransformer__countvectorizer__vocabulary': None,\n",
       " 'columntransformer__standardscaler__copy': True,\n",
       " 'columntransformer__standardscaler__with_mean': True,\n",
       " 'columntransformer__standardscaler__with_std': True,\n",
       " 'logisticregression__C': 1.0,\n",
       " 'logisticregression__class_weight': None,\n",
       " 'logisticregression__dual': False,\n",
       " 'logisticregression__fit_intercept': True,\n",
       " 'logisticregression__intercept_scaling': 1,\n",
       " 'logisticregression__l1_ratio': None,\n",
       " 'logisticregression__max_iter': 10000,\n",
       " 'logisticregression__multi_class': 'auto',\n",
       " 'logisticregression__n_jobs': None,\n",
       " 'logisticregression__penalty': 'l2',\n",
       " 'logisticregression__random_state': 1,\n",
       " 'logisticregression__solver': 'lbfgs',\n",
       " 'logisticregression__tol': 0.0001,\n",
       " 'logisticregression__verbose': 0,\n",
       " 'logisticregression__warm_start': False}"
      ]
     },
     "execution_count": 33,
     "metadata": {},
     "output_type": "execute_result"
    }
   ],
   "source": [
    "lr_pipe.get_params()\n",
    "# inspect parameters for optimization"
   ]
  },
  {
   "cell_type": "code",
   "execution_count": 34,
   "metadata": {},
   "outputs": [
    {
     "data": {
      "text/plain": [
       "array([0, 0, 0, 1, 1, 1, 0, 0, 0, 0, 0, 0, 0, 1, 1, 0, 1, 0, 1, 0, 1, 0,\n",
       "       1, 1, 0, 1, 0, 0, 0, 0, 0, 1, 0, 1, 1, 0, 0, 1, 1, 0, 0, 1, 1, 1,\n",
       "       1, 1, 0, 0, 0, 1, 0, 1, 1, 0, 1, 0, 0, 0, 0, 0, 0, 1, 1, 1, 0, 1,\n",
       "       0, 1, 0, 0, 1, 1, 1, 0, 0, 0, 0, 0, 0, 0, 0, 1, 0, 0, 1, 0, 1, 0,\n",
       "       1, 0, 0, 1, 0, 0, 1, 0, 0, 0, 0, 1, 1, 0, 0, 1, 1, 0, 0, 0, 1, 0,\n",
       "       0, 0, 0, 0, 0, 0, 0, 0, 1, 0, 1, 0, 1, 0, 1, 1, 0, 0, 1, 1, 0, 1,\n",
       "       1, 0, 1, 0, 0, 0, 0, 0, 0, 1, 1, 0, 0, 0, 0, 1, 1, 0, 1, 1, 1, 0,\n",
       "       0, 0, 1, 1, 0, 1, 1, 0, 1, 0, 0, 1, 1, 1, 1, 0, 1, 1, 1, 1, 0, 0,\n",
       "       1, 0, 1, 0, 0, 0, 0, 0, 0, 1, 0, 0, 1, 1, 0, 0, 0, 1, 1, 1, 1, 0,\n",
       "       0, 0, 1, 0, 0, 0, 0, 0, 1, 1, 0, 1, 0, 0, 1, 0, 0, 1, 1, 0, 0, 1,\n",
       "       1, 1, 0, 1, 1, 0, 0, 0, 0, 1, 0, 1, 1, 1, 0, 1, 0, 0, 0, 1, 0, 0,\n",
       "       1, 1, 0, 1, 0, 1, 0, 0, 0, 1, 0, 0, 0, 0, 0, 1, 0, 0, 0, 1, 0, 1,\n",
       "       0, 1, 0, 1, 1, 1, 0, 0, 1, 1, 1, 0, 1, 0, 0, 1, 0, 1, 0, 1, 0, 0,\n",
       "       1, 1, 1, 0, 0, 1, 0, 1, 1, 0, 0, 0, 0, 0, 0, 0, 0, 1, 0, 1, 0, 1,\n",
       "       1, 0, 1, 0, 1, 0, 0, 0, 0, 1, 1, 0, 0, 0, 0, 1, 1, 0, 0, 0, 1, 0,\n",
       "       1, 0, 1, 0, 0, 0, 1, 1, 0, 0, 0, 1, 1, 1, 0, 1, 1, 1, 1, 1, 1, 1,\n",
       "       1, 0, 1, 0, 0, 0, 0, 1, 1, 1, 1, 0, 1, 1, 0, 1, 0, 1, 1, 0, 0, 1,\n",
       "       0, 0, 0, 0, 0, 1, 1, 0, 0, 1, 0, 0, 0, 1, 1, 0, 0, 0, 1, 0, 0, 0,\n",
       "       0, 0, 0, 1, 1, 0, 0, 0, 0, 0, 0, 1, 0, 0, 1, 0, 0, 1, 0, 0, 0, 1,\n",
       "       1, 1, 0, 0, 1, 0, 1, 1, 1, 1, 1, 1, 1, 1, 1, 1, 0, 1, 0, 1, 0, 0,\n",
       "       0, 1, 1, 1, 1, 1, 0, 0, 0, 1, 0, 1, 1, 1], dtype=int64)"
      ]
     },
     "execution_count": 34,
     "metadata": {},
     "output_type": "execute_result"
    }
   ],
   "source": [
    "lr_predictions = lr_pipe.predict(X_test)\n",
    "lr_predictions\n",
    "# get the predictions"
   ]
  },
  {
   "cell_type": "code",
   "execution_count": 35,
   "metadata": {},
   "outputs": [
    {
     "data": {
      "text/plain": [
       "0.762114537444934"
      ]
     },
     "execution_count": 35,
     "metadata": {},
     "output_type": "execute_result"
    }
   ],
   "source": [
    "accuracy_score(y_test, lr_predictions)\n",
    "# retrieve accuracy score"
   ]
  },
  {
   "cell_type": "code",
   "execution_count": 36,
   "metadata": {},
   "outputs": [
    {
     "name": "stdout",
     "output_type": "stream",
     "text": [
      "              precision    recall  f1-score   support\n",
      "\n",
      "           0       0.73      0.82      0.78       227\n",
      "           1       0.80      0.70      0.75       227\n",
      "\n",
      "    accuracy                           0.76       454\n",
      "   macro avg       0.77      0.76      0.76       454\n",
      "weighted avg       0.77      0.76      0.76       454\n",
      "\n"
     ]
    }
   ],
   "source": [
    "print(classification_report(y_test, lr_predictions))\n",
    "# recall of cheap products is better than recall of expensive products"
   ]
  },
  {
   "cell_type": "code",
   "execution_count": 37,
   "metadata": {},
   "outputs": [
    {
     "data": {
      "text/plain": [
       "array([[187,  40],\n",
       "       [ 68, 159]], dtype=int64)"
      ]
     },
     "execution_count": 37,
     "metadata": {},
     "output_type": "execute_result"
    }
   ],
   "source": [
    "confusion_matrix(y_test, lr_predictions)\n",
    "# most samples are being classified correctly"
   ]
  },
  {
   "cell_type": "markdown",
   "metadata": {},
   "source": [
    "Gridsearch: "
   ]
  },
  {
   "cell_type": "code",
   "execution_count": 38,
   "metadata": {},
   "outputs": [
    {
     "name": "stderr",
     "output_type": "stream",
     "text": [
      "C:\\Users\\Dora\\anaconda3\\lib\\site-packages\\sklearn\\linear_model\\_sag.py:329: ConvergenceWarning: The max_iter was reached which means the coef_ did not converge\n",
      "  warnings.warn(\"The max_iter was reached which means \"\n",
      "C:\\Users\\Dora\\anaconda3\\lib\\site-packages\\sklearn\\linear_model\\_sag.py:329: ConvergenceWarning: The max_iter was reached which means the coef_ did not converge\n",
      "  warnings.warn(\"The max_iter was reached which means \"\n"
     ]
    },
    {
     "data": {
      "text/plain": [
       "{'logisticregression__tol': 1e-05,\n",
       " 'logisticregression__solver': 'saga',\n",
       " 'logisticregression__C': 10}"
      ]
     },
     "execution_count": 38,
     "metadata": {},
     "output_type": "execute_result"
    }
   ],
   "source": [
    "solvers = ['newton-cg', 'lbfgs', 'liblinear', 'sag', 'saga']\n",
    "tols = [0.00001, 0.0001, 0.001, 0.01, 0.1, 1, 10, 100, 1000, 10000]\n",
    "Cs = [0.00001, 0.0001, 0.001, 0.01, 0.1, 1, 10, 100, 1000, 10000]\n",
    "\n",
    "# define a grid of potential parameters\n",
    "\n",
    "param_grid = {'logisticregression__C': Cs, 'logisticregression__solver':solvers, 'logisticregression__tol':tols}\n",
    "lr_pipe = make_pipeline(ct, lr)\n",
    "lr_gs = RandomizedSearchCV(estimator=lr_pipe, param_distributions=param_grid, random_state=random_state, scoring='accuracy', cv=10, refit=True)\n",
    "lr_gs = lr_gs.fit(X_train, y_train)\n",
    "lr_gs.best_params_"
   ]
  },
  {
   "cell_type": "code",
   "execution_count": 39,
   "metadata": {},
   "outputs": [
    {
     "data": {
      "text/plain": [
       "0.73568281938326"
      ]
     },
     "execution_count": 39,
     "metadata": {},
     "output_type": "execute_result"
    }
   ],
   "source": [
    "best_lr = lr_gs.best_estimator_   # refitting done automatically\n",
    "best_lr.score(X_test, y_test)\n",
    "# get the best estimator's accuracy score"
   ]
  },
  {
   "cell_type": "code",
   "execution_count": 40,
   "metadata": {},
   "outputs": [
    {
     "name": "stdout",
     "output_type": "stream",
     "text": [
      "[0.79710145 0.72058824 0.63235294 0.75       0.77941176 0.67647059\n",
      " 0.82352941 0.75       0.69117647 0.67647059]\n"
     ]
    }
   ],
   "source": [
    "scores = cross_val_score(estimator=best_lr, X=X_train, y=y_train, cv=10, n_jobs=-1)\n",
    "print(scores)"
   ]
  },
  {
   "cell_type": "code",
   "execution_count": 41,
   "metadata": {},
   "outputs": [
    {
     "name": "stdout",
     "output_type": "stream",
     "text": [
      "Accuracy = 0.72971014 +/- 0.05775174\n"
     ]
    }
   ],
   "source": [
    "print('Accuracy = {:.8f} +/- {:.8f}'.format(np.mean(scores), np.std(scores)))\n",
    "# report the cross-validation accuracy score"
   ]
  },
  {
   "cell_type": "markdown",
   "metadata": {},
   "source": [
    "# w/out BRAND - BINARY - DECISION TREE"
   ]
  },
  {
   "cell_type": "code",
   "execution_count": 97,
   "metadata": {},
   "outputs": [
    {
     "data": {
      "text/plain": [
       "0.6519823788546255"
      ]
     },
     "execution_count": 97,
     "metadata": {},
     "output_type": "execute_result"
    }
   ],
   "source": [
    "from sklearn.tree import DecisionTreeClassifier\n",
    "\n",
    "dt = DecisionTreeClassifier(random_state=random_state, criterion='entropy')\n",
    "ct = make_column_transformer(\n",
    "    (ohe, [\"product_type\"]),\n",
    "    (vect, \"ingredients\"), # do not include scaler for \"contents\" column - \n",
    "    # not necessary to scale numeric features with decision tree\n",
    "    remainder=\"passthrough\")\n",
    "dt_pipe = make_pipeline(ct, dt)\n",
    "# make and fit the pipeline with the column transformers\n",
    "dt_pipe.fit(X_train, y_train)\n",
    "dt_predictions = dt_pipe.predict(X_test)\n",
    "accuracy_score(y_test, dt_predictions)"
   ]
  },
  {
   "cell_type": "code",
   "execution_count": 98,
   "metadata": {},
   "outputs": [
    {
     "data": {
      "text/plain": [
       "{'memory': None,\n",
       " 'steps': [('columntransformer',\n",
       "   ColumnTransformer(remainder='passthrough',\n",
       "                     transformers=[('onehotencoder', OneHotEncoder(),\n",
       "                                    ['product_type']),\n",
       "                                   ('countvectorizer',\n",
       "                                    CountVectorizer(tokenizer=<function <lambda> at 0x000001CEB7E7A940>),\n",
       "                                    'ingredients')])),\n",
       "  ('decisiontreeclassifier',\n",
       "   DecisionTreeClassifier(criterion='entropy', random_state=1))],\n",
       " 'verbose': False,\n",
       " 'columntransformer': ColumnTransformer(remainder='passthrough',\n",
       "                   transformers=[('onehotencoder', OneHotEncoder(),\n",
       "                                  ['product_type']),\n",
       "                                 ('countvectorizer',\n",
       "                                  CountVectorizer(tokenizer=<function <lambda> at 0x000001CEB7E7A940>),\n",
       "                                  'ingredients')]),\n",
       " 'decisiontreeclassifier': DecisionTreeClassifier(criterion='entropy', random_state=1),\n",
       " 'columntransformer__n_jobs': None,\n",
       " 'columntransformer__remainder': 'passthrough',\n",
       " 'columntransformer__sparse_threshold': 0.3,\n",
       " 'columntransformer__transformer_weights': None,\n",
       " 'columntransformer__transformers': [('onehotencoder',\n",
       "   OneHotEncoder(),\n",
       "   ['product_type']),\n",
       "  ('countvectorizer',\n",
       "   CountVectorizer(tokenizer=<function <lambda> at 0x000001CEB7E7A940>),\n",
       "   'ingredients')],\n",
       " 'columntransformer__verbose': False,\n",
       " 'columntransformer__onehotencoder': OneHotEncoder(),\n",
       " 'columntransformer__countvectorizer': CountVectorizer(tokenizer=<function <lambda> at 0x000001CEB7E7A940>),\n",
       " 'columntransformer__onehotencoder__categories': 'auto',\n",
       " 'columntransformer__onehotencoder__drop': None,\n",
       " 'columntransformer__onehotencoder__dtype': numpy.float64,\n",
       " 'columntransformer__onehotencoder__handle_unknown': 'error',\n",
       " 'columntransformer__onehotencoder__sparse': True,\n",
       " 'columntransformer__countvectorizer__analyzer': 'word',\n",
       " 'columntransformer__countvectorizer__binary': False,\n",
       " 'columntransformer__countvectorizer__decode_error': 'strict',\n",
       " 'columntransformer__countvectorizer__dtype': numpy.int64,\n",
       " 'columntransformer__countvectorizer__encoding': 'utf-8',\n",
       " 'columntransformer__countvectorizer__input': 'content',\n",
       " 'columntransformer__countvectorizer__lowercase': True,\n",
       " 'columntransformer__countvectorizer__max_df': 1.0,\n",
       " 'columntransformer__countvectorizer__max_features': None,\n",
       " 'columntransformer__countvectorizer__min_df': 1,\n",
       " 'columntransformer__countvectorizer__ngram_range': (1, 1),\n",
       " 'columntransformer__countvectorizer__preprocessor': None,\n",
       " 'columntransformer__countvectorizer__stop_words': None,\n",
       " 'columntransformer__countvectorizer__strip_accents': None,\n",
       " 'columntransformer__countvectorizer__token_pattern': '(?u)\\\\b\\\\w\\\\w+\\\\b',\n",
       " 'columntransformer__countvectorizer__tokenizer': <function __main__.<lambda>(x)>,\n",
       " 'columntransformer__countvectorizer__vocabulary': None,\n",
       " 'decisiontreeclassifier__ccp_alpha': 0.0,\n",
       " 'decisiontreeclassifier__class_weight': None,\n",
       " 'decisiontreeclassifier__criterion': 'entropy',\n",
       " 'decisiontreeclassifier__max_depth': None,\n",
       " 'decisiontreeclassifier__max_features': None,\n",
       " 'decisiontreeclassifier__max_leaf_nodes': None,\n",
       " 'decisiontreeclassifier__min_impurity_decrease': 0.0,\n",
       " 'decisiontreeclassifier__min_impurity_split': None,\n",
       " 'decisiontreeclassifier__min_samples_leaf': 1,\n",
       " 'decisiontreeclassifier__min_samples_split': 2,\n",
       " 'decisiontreeclassifier__min_weight_fraction_leaf': 0.0,\n",
       " 'decisiontreeclassifier__presort': 'deprecated',\n",
       " 'decisiontreeclassifier__random_state': 1,\n",
       " 'decisiontreeclassifier__splitter': 'best'}"
      ]
     },
     "execution_count": 98,
     "metadata": {},
     "output_type": "execute_result"
    }
   ],
   "source": [
    "dt_pipe.get_params()\n",
    "# inspect parameters"
   ]
  },
  {
   "cell_type": "code",
   "execution_count": 99,
   "metadata": {},
   "outputs": [
    {
     "name": "stdout",
     "output_type": "stream",
     "text": [
      "              precision    recall  f1-score   support\n",
      "\n",
      "           0       0.67      0.61      0.64       227\n",
      "           1       0.64      0.69      0.67       227\n",
      "\n",
      "    accuracy                           0.65       454\n",
      "   macro avg       0.65      0.65      0.65       454\n",
      "weighted avg       0.65      0.65      0.65       454\n",
      "\n"
     ]
    }
   ],
   "source": [
    "print(classification_report(y_test, dt_predictions))\n",
    "# recall of expensive products is higher than for cheap products\n",
    "# low accuracy"
   ]
  },
  {
   "cell_type": "code",
   "execution_count": 100,
   "metadata": {},
   "outputs": [
    {
     "data": {
      "text/plain": [
       "array([[139,  88],\n",
       "       [ 70, 157]], dtype=int64)"
      ]
     },
     "execution_count": 100,
     "metadata": {},
     "output_type": "execute_result"
    }
   ],
   "source": [
    "confusion_matrix(y_test, dt_predictions)\n",
    "# most samples still correctly classified, but most are not"
   ]
  },
  {
   "cell_type": "code",
   "execution_count": 101,
   "metadata": {},
   "outputs": [
    {
     "name": "stdout",
     "output_type": "stream",
     "text": [
      "[0.72463768 0.61764706 0.52941176 0.67647059 0.64705882 0.70588235\n",
      " 0.75       0.63235294 0.64705882 0.66176471]\n"
     ]
    }
   ],
   "source": [
    "scores = cross_val_score(estimator=dt_pipe, X=X_train, y=y_train, cv=10, n_jobs=-1)\n",
    "print(scores)"
   ]
  },
  {
   "cell_type": "code",
   "execution_count": 102,
   "metadata": {},
   "outputs": [
    {
     "name": "stdout",
     "output_type": "stream",
     "text": [
      "Accuracy = 0.65922847 +/- 0.05882009\n"
     ]
    }
   ],
   "source": [
    "print('Accuracy = {:.8f} +/- {:.8f}'.format(np.mean(scores), np.std(scores)))\n",
    "# report cross-validation scores"
   ]
  },
  {
   "cell_type": "code",
   "execution_count": 103,
   "metadata": {},
   "outputs": [
    {
     "name": "stdout",
     "output_type": "stream",
     "text": [
      "{'decisiontreeclassifier__min_samples_leaf': 31, 'decisiontreeclassifier__max_depth': 10, 'decisiontreeclassifier__criterion': 'entropy'}\n",
      "0.7070484581497798\n"
     ]
    }
   ],
   "source": [
    "criterions = ['gini', 'entropy']\n",
    "max_depths = [None, 10, 100, 1000, 10000]\n",
    "param_grid = {'decisiontreeclassifier__min_samples_leaf': np.arange(1,50), \n",
    "              'decisiontreeclassifier__max_depth': max_depths, \n",
    "              'decisiontreeclassifier__criterion':criterions}\n",
    "# define hyperparameter grid and optimize hyperparameters\n",
    "\n",
    "dt_gs = RandomizedSearchCV(estimator=dt_pipe, param_distributions=param_grid, random_state=random_state, scoring='accuracy', cv=10, refit=True)\n",
    "dt_gs = dt_gs.fit(X_train, y_train)\n",
    "print(dt_gs.best_params_)\n",
    "best_dt = dt_gs.best_estimator_   # refitting done automatically\n",
    "print(best_dt.score(X_test, y_test))"
   ]
  },
  {
   "cell_type": "code",
   "execution_count": 104,
   "metadata": {},
   "outputs": [
    {
     "name": "stdout",
     "output_type": "stream",
     "text": [
      "[0.75362319 0.67647059 0.72058824 0.76470588 0.69117647 0.69117647\n",
      " 0.80882353 0.76470588 0.64705882 0.61764706]\n"
     ]
    }
   ],
   "source": [
    "scores = cross_val_score(estimator=best_dt, X=X_train, y=y_train, cv=10, n_jobs=-1)\n",
    "print(scores)"
   ]
  },
  {
   "cell_type": "code",
   "execution_count": 105,
   "metadata": {},
   "outputs": [
    {
     "name": "stdout",
     "output_type": "stream",
     "text": [
      "Accuracy = 0.71359761 +/- 0.05653384\n"
     ]
    }
   ],
   "source": [
    "print('Accuracy = {:.8f} +/- {:.8f}'.format(np.mean(scores), np.std(scores)))"
   ]
  },
  {
   "cell_type": "markdown",
   "metadata": {},
   "source": [
    "# w/out BRAND - BINARY - KNN"
   ]
  },
  {
   "cell_type": "code",
   "execution_count": 106,
   "metadata": {},
   "outputs": [],
   "source": [
    "from sklearn.neighbors import KNeighborsClassifier as KNN\n",
    "knn = KNN(n_neighbors=5)\n",
    "# instantiate a knn classifier\n",
    "\n",
    "ct = make_column_transformer(\n",
    "    (ohe, [\"product_type\"]),\n",
    "    (vect, \"ingredients\"), \n",
    "    remainder=\"passthrough\")"
   ]
  },
  {
   "cell_type": "code",
   "execution_count": 107,
   "metadata": {},
   "outputs": [
    {
     "data": {
      "text/plain": [
       "0.6519823788546255"
      ]
     },
     "execution_count": 107,
     "metadata": {},
     "output_type": "execute_result"
    }
   ],
   "source": [
    "knn_pipe = make_pipeline(ct, knn)\n",
    "knn_pipe.fit(X_train, y_train)\n",
    "knn_predictions = knn_pipe.predict(X_test)\n",
    "accuracy_score(y_test, knn_predictions)"
   ]
  },
  {
   "cell_type": "code",
   "execution_count": 108,
   "metadata": {},
   "outputs": [
    {
     "data": {
      "text/plain": [
       "{'memory': None,\n",
       " 'steps': [('columntransformer',\n",
       "   ColumnTransformer(remainder='passthrough',\n",
       "                     transformers=[('onehotencoder', OneHotEncoder(),\n",
       "                                    ['product_type']),\n",
       "                                   ('countvectorizer',\n",
       "                                    CountVectorizer(tokenizer=<function <lambda> at 0x000001CEB7E7A940>),\n",
       "                                    'ingredients')])),\n",
       "  ('kneighborsclassifier', KNeighborsClassifier())],\n",
       " 'verbose': False,\n",
       " 'columntransformer': ColumnTransformer(remainder='passthrough',\n",
       "                   transformers=[('onehotencoder', OneHotEncoder(),\n",
       "                                  ['product_type']),\n",
       "                                 ('countvectorizer',\n",
       "                                  CountVectorizer(tokenizer=<function <lambda> at 0x000001CEB7E7A940>),\n",
       "                                  'ingredients')]),\n",
       " 'kneighborsclassifier': KNeighborsClassifier(),\n",
       " 'columntransformer__n_jobs': None,\n",
       " 'columntransformer__remainder': 'passthrough',\n",
       " 'columntransformer__sparse_threshold': 0.3,\n",
       " 'columntransformer__transformer_weights': None,\n",
       " 'columntransformer__transformers': [('onehotencoder',\n",
       "   OneHotEncoder(),\n",
       "   ['product_type']),\n",
       "  ('countvectorizer',\n",
       "   CountVectorizer(tokenizer=<function <lambda> at 0x000001CEB7E7A940>),\n",
       "   'ingredients')],\n",
       " 'columntransformer__verbose': False,\n",
       " 'columntransformer__onehotencoder': OneHotEncoder(),\n",
       " 'columntransformer__countvectorizer': CountVectorizer(tokenizer=<function <lambda> at 0x000001CEB7E7A940>),\n",
       " 'columntransformer__onehotencoder__categories': 'auto',\n",
       " 'columntransformer__onehotencoder__drop': None,\n",
       " 'columntransformer__onehotencoder__dtype': numpy.float64,\n",
       " 'columntransformer__onehotencoder__handle_unknown': 'error',\n",
       " 'columntransformer__onehotencoder__sparse': True,\n",
       " 'columntransformer__countvectorizer__analyzer': 'word',\n",
       " 'columntransformer__countvectorizer__binary': False,\n",
       " 'columntransformer__countvectorizer__decode_error': 'strict',\n",
       " 'columntransformer__countvectorizer__dtype': numpy.int64,\n",
       " 'columntransformer__countvectorizer__encoding': 'utf-8',\n",
       " 'columntransformer__countvectorizer__input': 'content',\n",
       " 'columntransformer__countvectorizer__lowercase': True,\n",
       " 'columntransformer__countvectorizer__max_df': 1.0,\n",
       " 'columntransformer__countvectorizer__max_features': None,\n",
       " 'columntransformer__countvectorizer__min_df': 1,\n",
       " 'columntransformer__countvectorizer__ngram_range': (1, 1),\n",
       " 'columntransformer__countvectorizer__preprocessor': None,\n",
       " 'columntransformer__countvectorizer__stop_words': None,\n",
       " 'columntransformer__countvectorizer__strip_accents': None,\n",
       " 'columntransformer__countvectorizer__token_pattern': '(?u)\\\\b\\\\w\\\\w+\\\\b',\n",
       " 'columntransformer__countvectorizer__tokenizer': <function __main__.<lambda>(x)>,\n",
       " 'columntransformer__countvectorizer__vocabulary': None,\n",
       " 'kneighborsclassifier__algorithm': 'auto',\n",
       " 'kneighborsclassifier__leaf_size': 30,\n",
       " 'kneighborsclassifier__metric': 'minkowski',\n",
       " 'kneighborsclassifier__metric_params': None,\n",
       " 'kneighborsclassifier__n_jobs': None,\n",
       " 'kneighborsclassifier__n_neighbors': 5,\n",
       " 'kneighborsclassifier__p': 2,\n",
       " 'kneighborsclassifier__weights': 'uniform'}"
      ]
     },
     "execution_count": 108,
     "metadata": {},
     "output_type": "execute_result"
    }
   ],
   "source": [
    "knn_pipe.get_params()"
   ]
  },
  {
   "cell_type": "code",
   "execution_count": 54,
   "metadata": {},
   "outputs": [
    {
     "name": "stdout",
     "output_type": "stream",
     "text": [
      "              precision    recall  f1-score   support\n",
      "\n",
      "           0       0.61      0.82      0.70       227\n",
      "           1       0.73      0.48      0.58       227\n",
      "\n",
      "    accuracy                           0.65       454\n",
      "   macro avg       0.67      0.65      0.64       454\n",
      "weighted avg       0.67      0.65      0.64       454\n",
      "\n"
     ]
    }
   ],
   "source": [
    "print(classification_report(y_test, knn_predictions))"
   ]
  },
  {
   "cell_type": "code",
   "execution_count": 109,
   "metadata": {},
   "outputs": [
    {
     "name": "stdout",
     "output_type": "stream",
     "text": [
      "{'kneighborsclassifier__weights': 'distance', 'kneighborsclassifier__n_neighbors': 39}\n",
      "0.6497797356828194\n"
     ]
    }
   ],
   "source": [
    "knn_pipe = make_pipeline(ct, knn)\n",
    "param_grid = {'kneighborsclassifier__n_neighbors': np.arange(1,50), \n",
    "              'kneighborsclassifier__weights':['uniform', 'distance']}\n",
    "\n",
    "knn_gs = RandomizedSearchCV(estimator=knn_pipe, param_distributions=param_grid, random_state=random_state, scoring='accuracy', cv=10, refit=True)\n",
    "knn_gs = knn_gs.fit(X_train, y_train)\n",
    "print(knn_gs.best_params_)\n",
    "best_knn = knn_gs.best_estimator_   # refitting done automatically\n",
    "print(best_knn.score(X_test, y_test))"
   ]
  },
  {
   "cell_type": "code",
   "execution_count": 110,
   "metadata": {},
   "outputs": [
    {
     "name": "stdout",
     "output_type": "stream",
     "text": [
      "[0.71014493 0.63235294 0.64705882 0.72058824 0.70588235 0.67647059\n",
      " 0.69117647 0.67647059 0.66176471 0.55882353]\n"
     ]
    }
   ],
   "source": [
    "scores = cross_val_score(estimator=best_knn, X=X_train, y=y_train, cv=10, n_jobs=-1)\n",
    "# do cross validation on best knn model\n",
    "print(scores)"
   ]
  },
  {
   "cell_type": "code",
   "execution_count": 111,
   "metadata": {},
   "outputs": [
    {
     "name": "stdout",
     "output_type": "stream",
     "text": [
      "Accuracy = 0.66807332 +/- 0.04508327\n"
     ]
    }
   ],
   "source": [
    "print('Accuracy = {:.8f} +/- {:.8f}'.format(np.mean(scores), np.std(scores)))"
   ]
  },
  {
   "cell_type": "markdown",
   "metadata": {},
   "source": [
    "# w/out BRAND - BINARY - SVM"
   ]
  },
  {
   "cell_type": "code",
   "execution_count": 58,
   "metadata": {},
   "outputs": [],
   "source": [
    "from sklearn.svm import SVC"
   ]
  },
  {
   "cell_type": "code",
   "execution_count": 59,
   "metadata": {},
   "outputs": [],
   "source": [
    "svm = SVC(kernel='linear', random_state = random_state)"
   ]
  },
  {
   "cell_type": "code",
   "execution_count": 60,
   "metadata": {},
   "outputs": [],
   "source": [
    "ct = make_column_transformer(\n",
    "    (ohe, [\"product_type\"]),\n",
    "    (vect, \"ingredients\"),\n",
    "    (scaler, [\"contents\"]), # add scaler back\n",
    "    remainder=\"passthrough\")\n",
    "# make sure contents are scaled again"
   ]
  },
  {
   "cell_type": "code",
   "execution_count": 61,
   "metadata": {},
   "outputs": [
    {
     "data": {
      "text/plain": [
       "0.7070484581497798"
      ]
     },
     "execution_count": 61,
     "metadata": {},
     "output_type": "execute_result"
    }
   ],
   "source": [
    "svm_pipe = make_pipeline(ct, svm)\n",
    "svm_pipe.fit(X_train, y_train)\n",
    "svm_predictions = svm_pipe.predict(X_test)\n",
    "accuracy_score(y_test, svm_predictions)"
   ]
  },
  {
   "cell_type": "code",
   "execution_count": 62,
   "metadata": {},
   "outputs": [
    {
     "name": "stdout",
     "output_type": "stream",
     "text": [
      "              precision    recall  f1-score   support\n",
      "\n",
      "           0       0.69      0.77      0.72       227\n",
      "           1       0.73      0.65      0.69       227\n",
      "\n",
      "    accuracy                           0.71       454\n",
      "   macro avg       0.71      0.71      0.71       454\n",
      "weighted avg       0.71      0.71      0.71       454\n",
      "\n"
     ]
    }
   ],
   "source": [
    "print(classification_report(y_test, svm_predictions))\n",
    "# recall is higher for the cheap class, but expensive class classifications more precise"
   ]
  },
  {
   "cell_type": "code",
   "execution_count": 63,
   "metadata": {},
   "outputs": [
    {
     "data": {
      "text/plain": [
       "array([[174,  53],\n",
       "       [ 80, 147]], dtype=int64)"
      ]
     },
     "execution_count": 63,
     "metadata": {},
     "output_type": "execute_result"
    }
   ],
   "source": [
    "confusion_matrix(y_test, svm_predictions)\n",
    "# most samples correctly classified"
   ]
  },
  {
   "cell_type": "markdown",
   "metadata": {},
   "source": [
    "Gridsearch: "
   ]
  },
  {
   "cell_type": "code",
   "execution_count": 64,
   "metadata": {},
   "outputs": [
    {
     "name": "stdout",
     "output_type": "stream",
     "text": [
      "{'svc__kernel': 'rbf', 'svc__gamma': 0.0001, 'svc__C': 100}\n",
      "0.7202643171806168\n"
     ]
    }
   ],
   "source": [
    "svm = SVC(kernel='linear', random_state = random_state)\n",
    "ct = make_column_transformer(\n",
    "    (ohe, [\"product_type\"]),\n",
    "    (vect, \"ingredients\"),\n",
    "    (scaler, [\"contents\"]), \n",
    "    remainder=\"passthrough\")\n",
    "svm_pipe = make_pipeline(ct, svm)\n",
    "\n",
    "param_grid = [{'svc__C': [0.00001, 0.0001, 0.001, 0.01, 0.1, 1, 10, 100, 1000, 10000],\n",
    "               'svc__kernel': ['linear']},\n",
    "              {'svc__C': [0.00001, 0.0001, 0.001, 0.01, 0.1, 1, 10, 100, 1000, 10000],\n",
    "               'svc__gamma': [0.00001, 0.0001, 0.001, 0.01, 0.1, 1, 10, 100, 1000, 10000],\n",
    "               'svc__kernel': ['rbf']}]\n",
    "# define a hyperparameter grid to optimize\n",
    "svm_gs = RandomizedSearchCV(estimator=svm_pipe, random_state = random_state, param_distributions=param_grid, scoring='accuracy', cv=10, refit=True)\n",
    "svm_gs = svm_gs.fit(X_train, y_train)\n",
    "print(svm_gs.best_params_)\n",
    "# inspect the best parameters\n",
    "best_svm = svm_gs.best_estimator_   # refitting done automatically\n",
    "print(best_svm.score(X_test, y_test))"
   ]
  },
  {
   "cell_type": "code",
   "execution_count": 65,
   "metadata": {},
   "outputs": [
    {
     "name": "stdout",
     "output_type": "stream",
     "text": [
      "[0.79710145 0.67647059 0.66176471 0.70588235 0.76470588 0.70588235\n",
      " 0.85294118 0.72058824 0.73529412 0.75      ]\n"
     ]
    }
   ],
   "source": [
    "scores = cross_val_score(estimator=best_svm, X=X_train, y=y_train, cv=10, n_jobs=-1)\n",
    "print(scores)"
   ]
  },
  {
   "cell_type": "code",
   "execution_count": 66,
   "metadata": {},
   "outputs": [
    {
     "name": "stdout",
     "output_type": "stream",
     "text": [
      "Accuracy = 0.73706309 +/- 0.05433613\n"
     ]
    }
   ],
   "source": [
    "print('Accuracy = {:.8f} +/- {:.8f}'.format(np.mean(scores), np.std(scores)))"
   ]
  },
  {
   "cell_type": "markdown",
   "metadata": {},
   "source": [
    "# w/out BRAND - BINARY - VOTING CLASSIFIER"
   ]
  },
  {
   "cell_type": "code",
   "execution_count": 68,
   "metadata": {},
   "outputs": [],
   "source": [
    "from sklearn.ensemble import VotingClassifier\n",
    "\n",
    "lr = LogisticRegression(tol=1, solver='newton-cg', C=19, random_state=random_state, max_iter = 10000)\n",
    "knn = KNN()\n",
    "svm = SVC(kernel='rbf', gamma=0.01, C=10.0, random_state=random_state)\n",
    "classifiers = [(\"Logistic Regression\", lr),\n",
    "              (\"Perceptron\", perc),\n",
    "              (\"Support Vector Classifier\", svm)]\n",
    "vc = VotingClassifier(estimators = classifiers)\n",
    "# define a voting classifier with the best-performing models so far: perceptron, logistic regression, and SVC"
   ]
  },
  {
   "cell_type": "code",
   "execution_count": 69,
   "metadata": {},
   "outputs": [],
   "source": [
    "vc_pipe = make_pipeline(ct, vc)\n",
    "# prepare pipeline"
   ]
  },
  {
   "cell_type": "code",
   "execution_count": 70,
   "metadata": {},
   "outputs": [
    {
     "data": {
      "text/plain": [
       "{'memory': None,\n",
       " 'steps': [('columntransformer',\n",
       "   ColumnTransformer(remainder='passthrough',\n",
       "                     transformers=[('onehotencoder', OneHotEncoder(),\n",
       "                                    ['product_type']),\n",
       "                                   ('countvectorizer',\n",
       "                                    CountVectorizer(tokenizer=<function <lambda> at 0x000001CEB7E7A940>),\n",
       "                                    'ingredients'),\n",
       "                                   ('standardscaler', StandardScaler(),\n",
       "                                    ['contents'])])),\n",
       "  ('votingclassifier',\n",
       "   VotingClassifier(estimators=[('Logistic Regression',\n",
       "                                 LogisticRegression(C=19, max_iter=10000,\n",
       "                                                    random_state=1,\n",
       "                                                    solver='newton-cg', tol=1)),\n",
       "                                ('Perceptron', Perceptron()),\n",
       "                                ('Support Vector Classifier',\n",
       "                                 SVC(C=10.0, gamma=0.01, random_state=1))]))],\n",
       " 'verbose': False,\n",
       " 'columntransformer': ColumnTransformer(remainder='passthrough',\n",
       "                   transformers=[('onehotencoder', OneHotEncoder(),\n",
       "                                  ['product_type']),\n",
       "                                 ('countvectorizer',\n",
       "                                  CountVectorizer(tokenizer=<function <lambda> at 0x000001CEB7E7A940>),\n",
       "                                  'ingredients'),\n",
       "                                 ('standardscaler', StandardScaler(),\n",
       "                                  ['contents'])]),\n",
       " 'votingclassifier': VotingClassifier(estimators=[('Logistic Regression',\n",
       "                               LogisticRegression(C=19, max_iter=10000,\n",
       "                                                  random_state=1,\n",
       "                                                  solver='newton-cg', tol=1)),\n",
       "                              ('Perceptron', Perceptron()),\n",
       "                              ('Support Vector Classifier',\n",
       "                               SVC(C=10.0, gamma=0.01, random_state=1))]),\n",
       " 'columntransformer__n_jobs': None,\n",
       " 'columntransformer__remainder': 'passthrough',\n",
       " 'columntransformer__sparse_threshold': 0.3,\n",
       " 'columntransformer__transformer_weights': None,\n",
       " 'columntransformer__transformers': [('onehotencoder',\n",
       "   OneHotEncoder(),\n",
       "   ['product_type']),\n",
       "  ('countvectorizer',\n",
       "   CountVectorizer(tokenizer=<function <lambda> at 0x000001CEB7E7A940>),\n",
       "   'ingredients'),\n",
       "  ('standardscaler', StandardScaler(), ['contents'])],\n",
       " 'columntransformer__verbose': False,\n",
       " 'columntransformer__onehotencoder': OneHotEncoder(),\n",
       " 'columntransformer__countvectorizer': CountVectorizer(tokenizer=<function <lambda> at 0x000001CEB7E7A940>),\n",
       " 'columntransformer__standardscaler': StandardScaler(),\n",
       " 'columntransformer__onehotencoder__categories': 'auto',\n",
       " 'columntransformer__onehotencoder__drop': None,\n",
       " 'columntransformer__onehotencoder__dtype': numpy.float64,\n",
       " 'columntransformer__onehotencoder__handle_unknown': 'error',\n",
       " 'columntransformer__onehotencoder__sparse': True,\n",
       " 'columntransformer__countvectorizer__analyzer': 'word',\n",
       " 'columntransformer__countvectorizer__binary': False,\n",
       " 'columntransformer__countvectorizer__decode_error': 'strict',\n",
       " 'columntransformer__countvectorizer__dtype': numpy.int64,\n",
       " 'columntransformer__countvectorizer__encoding': 'utf-8',\n",
       " 'columntransformer__countvectorizer__input': 'content',\n",
       " 'columntransformer__countvectorizer__lowercase': True,\n",
       " 'columntransformer__countvectorizer__max_df': 1.0,\n",
       " 'columntransformer__countvectorizer__max_features': None,\n",
       " 'columntransformer__countvectorizer__min_df': 1,\n",
       " 'columntransformer__countvectorizer__ngram_range': (1, 1),\n",
       " 'columntransformer__countvectorizer__preprocessor': None,\n",
       " 'columntransformer__countvectorizer__stop_words': None,\n",
       " 'columntransformer__countvectorizer__strip_accents': None,\n",
       " 'columntransformer__countvectorizer__token_pattern': '(?u)\\\\b\\\\w\\\\w+\\\\b',\n",
       " 'columntransformer__countvectorizer__tokenizer': <function __main__.<lambda>(x)>,\n",
       " 'columntransformer__countvectorizer__vocabulary': None,\n",
       " 'columntransformer__standardscaler__copy': True,\n",
       " 'columntransformer__standardscaler__with_mean': True,\n",
       " 'columntransformer__standardscaler__with_std': True,\n",
       " 'votingclassifier__estimators': [('Logistic Regression',\n",
       "   LogisticRegression(C=19, max_iter=10000, random_state=1, solver='newton-cg',\n",
       "                      tol=1)),\n",
       "  ('Perceptron', Perceptron()),\n",
       "  ('Support Vector Classifier', SVC(C=10.0, gamma=0.01, random_state=1))],\n",
       " 'votingclassifier__flatten_transform': True,\n",
       " 'votingclassifier__n_jobs': None,\n",
       " 'votingclassifier__verbose': False,\n",
       " 'votingclassifier__voting': 'hard',\n",
       " 'votingclassifier__weights': None,\n",
       " 'votingclassifier__Logistic Regression': LogisticRegression(C=19, max_iter=10000, random_state=1, solver='newton-cg',\n",
       "                    tol=1),\n",
       " 'votingclassifier__Perceptron': Perceptron(),\n",
       " 'votingclassifier__Support Vector Classifier': SVC(C=10.0, gamma=0.01, random_state=1),\n",
       " 'votingclassifier__Logistic Regression__C': 19,\n",
       " 'votingclassifier__Logistic Regression__class_weight': None,\n",
       " 'votingclassifier__Logistic Regression__dual': False,\n",
       " 'votingclassifier__Logistic Regression__fit_intercept': True,\n",
       " 'votingclassifier__Logistic Regression__intercept_scaling': 1,\n",
       " 'votingclassifier__Logistic Regression__l1_ratio': None,\n",
       " 'votingclassifier__Logistic Regression__max_iter': 10000,\n",
       " 'votingclassifier__Logistic Regression__multi_class': 'auto',\n",
       " 'votingclassifier__Logistic Regression__n_jobs': None,\n",
       " 'votingclassifier__Logistic Regression__penalty': 'l2',\n",
       " 'votingclassifier__Logistic Regression__random_state': 1,\n",
       " 'votingclassifier__Logistic Regression__solver': 'newton-cg',\n",
       " 'votingclassifier__Logistic Regression__tol': 1,\n",
       " 'votingclassifier__Logistic Regression__verbose': 0,\n",
       " 'votingclassifier__Logistic Regression__warm_start': False,\n",
       " 'votingclassifier__Perceptron__alpha': 0.0001,\n",
       " 'votingclassifier__Perceptron__class_weight': None,\n",
       " 'votingclassifier__Perceptron__early_stopping': False,\n",
       " 'votingclassifier__Perceptron__eta0': 1.0,\n",
       " 'votingclassifier__Perceptron__fit_intercept': True,\n",
       " 'votingclassifier__Perceptron__max_iter': 1000,\n",
       " 'votingclassifier__Perceptron__n_iter_no_change': 5,\n",
       " 'votingclassifier__Perceptron__n_jobs': None,\n",
       " 'votingclassifier__Perceptron__penalty': None,\n",
       " 'votingclassifier__Perceptron__random_state': 0,\n",
       " 'votingclassifier__Perceptron__shuffle': True,\n",
       " 'votingclassifier__Perceptron__tol': 0.001,\n",
       " 'votingclassifier__Perceptron__validation_fraction': 0.1,\n",
       " 'votingclassifier__Perceptron__verbose': 0,\n",
       " 'votingclassifier__Perceptron__warm_start': False,\n",
       " 'votingclassifier__Support Vector Classifier__C': 10.0,\n",
       " 'votingclassifier__Support Vector Classifier__break_ties': False,\n",
       " 'votingclassifier__Support Vector Classifier__cache_size': 200,\n",
       " 'votingclassifier__Support Vector Classifier__class_weight': None,\n",
       " 'votingclassifier__Support Vector Classifier__coef0': 0.0,\n",
       " 'votingclassifier__Support Vector Classifier__decision_function_shape': 'ovr',\n",
       " 'votingclassifier__Support Vector Classifier__degree': 3,\n",
       " 'votingclassifier__Support Vector Classifier__gamma': 0.01,\n",
       " 'votingclassifier__Support Vector Classifier__kernel': 'rbf',\n",
       " 'votingclassifier__Support Vector Classifier__max_iter': -1,\n",
       " 'votingclassifier__Support Vector Classifier__probability': False,\n",
       " 'votingclassifier__Support Vector Classifier__random_state': 1,\n",
       " 'votingclassifier__Support Vector Classifier__shrinking': True,\n",
       " 'votingclassifier__Support Vector Classifier__tol': 0.001,\n",
       " 'votingclassifier__Support Vector Classifier__verbose': False}"
      ]
     },
     "execution_count": 70,
     "metadata": {},
     "output_type": "execute_result"
    }
   ],
   "source": [
    "vc_pipe.get_params()\n",
    "# inspect parameters"
   ]
  },
  {
   "cell_type": "code",
   "execution_count": 71,
   "metadata": {},
   "outputs": [
    {
     "data": {
      "text/plain": [
       "Pipeline(steps=[('columntransformer',\n",
       "                 ColumnTransformer(remainder='passthrough',\n",
       "                                   transformers=[('onehotencoder',\n",
       "                                                  OneHotEncoder(),\n",
       "                                                  ['product_type']),\n",
       "                                                 ('countvectorizer',\n",
       "                                                  CountVectorizer(tokenizer=<function <lambda> at 0x000001CEB7E7A940>),\n",
       "                                                  'ingredients'),\n",
       "                                                 ('standardscaler',\n",
       "                                                  StandardScaler(),\n",
       "                                                  ['contents'])])),\n",
       "                ('votingclassifier',\n",
       "                 VotingClassifier(estimators=[('Logistic Regression',\n",
       "                                               LogisticRegression(C=19,\n",
       "                                                                  max_iter=10000,\n",
       "                                                                  random_state=1,\n",
       "                                                                  solver='newton-cg',\n",
       "                                                                  tol=1)),\n",
       "                                              ('Perceptron', Perceptron()),\n",
       "                                              ('Support Vector Classifier',\n",
       "                                               SVC(C=10.0, gamma=0.01,\n",
       "                                                   random_state=1))]))])"
      ]
     },
     "execution_count": 71,
     "metadata": {},
     "output_type": "execute_result"
    }
   ],
   "source": [
    "vc_pipe.fit(X_train, y_train)\n",
    "# fit pipeline"
   ]
  },
  {
   "cell_type": "code",
   "execution_count": 72,
   "metadata": {},
   "outputs": [
    {
     "data": {
      "text/plain": [
       "0.7466960352422908"
      ]
     },
     "execution_count": 72,
     "metadata": {},
     "output_type": "execute_result"
    }
   ],
   "source": [
    "vc_pred = vc_pipe.predict(X_test)\n",
    "accuracy_score(y_test, vc_pred)\n",
    "# find the accuracy score"
   ]
  },
  {
   "cell_type": "code",
   "execution_count": 73,
   "metadata": {},
   "outputs": [
    {
     "name": "stdout",
     "output_type": "stream",
     "text": [
      "[0.7826087  0.73529412 0.66176471 0.73529412 0.79411765 0.69117647\n",
      " 0.88235294 0.79411765 0.70588235 0.69117647]\n"
     ]
    }
   ],
   "source": [
    "scores = cross_val_score(estimator=vc_pipe, X=X_train, y=y_train, cv=10, n_jobs=-1)\n",
    "print(scores)"
   ]
  },
  {
   "cell_type": "code",
   "execution_count": 74,
   "metadata": {},
   "outputs": [
    {
     "name": "stdout",
     "output_type": "stream",
     "text": [
      "Accuracy = 0.74737852 +/- 0.06284060\n"
     ]
    }
   ],
   "source": [
    "print('Accuracy = {:.8f} +/- {:.8f}'.format(np.mean(scores), np.std(scores)))\n",
    "# report cross validation accuracy"
   ]
  },
  {
   "cell_type": "markdown",
   "metadata": {},
   "source": [
    "# w/out BRAND - BINARY - BAGGING"
   ]
  },
  {
   "cell_type": "code",
   "execution_count": 75,
   "metadata": {},
   "outputs": [],
   "source": [
    "from sklearn.ensemble import BaggingClassifier\n",
    "\n",
    "dt = DecisionTreeClassifier(min_samples_leaf=31,\n",
    "                            max_depth=10, \n",
    "                            criterion='entropy',\n",
    "                            random_state = random_state)\n",
    "\n",
    "bc = BaggingClassifier(base_estimator = dt, \n",
    "                       n_estimators = 300, \n",
    "                       n_jobs = -1, \n",
    "                       random_state=random_state)\n",
    "# ensemble formed by models that use the same training algorithm\n",
    "# models not trained on entire dataset\n",
    "# each model trained on different subset of the data\n",
    "# stands for \"bootstrap aggregation\"\n",
    "# reduces variance of individual models in ensemble\n",
    "ct = make_column_transformer(\n",
    "    (ohe, [\"product_type\"]),\n",
    "    (vect, \"ingredients\"), # don't need to scale the contents column because we are using a decision tree bagging classifier\n",
    "    remainder=\"passthrough\")\n",
    "\n",
    "\n",
    "bc_pipe = make_pipeline(ct, bc)"
   ]
  },
  {
   "cell_type": "code",
   "execution_count": 76,
   "metadata": {},
   "outputs": [
    {
     "data": {
      "text/plain": [
       "{'memory': None,\n",
       " 'steps': [('columntransformer',\n",
       "   ColumnTransformer(remainder='passthrough',\n",
       "                     transformers=[('onehotencoder', OneHotEncoder(),\n",
       "                                    ['product_type']),\n",
       "                                   ('countvectorizer',\n",
       "                                    CountVectorizer(tokenizer=<function <lambda> at 0x000001CEB7E7A940>),\n",
       "                                    'ingredients')])),\n",
       "  ('baggingclassifier',\n",
       "   BaggingClassifier(base_estimator=DecisionTreeClassifier(criterion='entropy',\n",
       "                                                           max_depth=10,\n",
       "                                                           min_samples_leaf=31,\n",
       "                                                           random_state=1),\n",
       "                     n_estimators=300, n_jobs=-1, random_state=1))],\n",
       " 'verbose': False,\n",
       " 'columntransformer': ColumnTransformer(remainder='passthrough',\n",
       "                   transformers=[('onehotencoder', OneHotEncoder(),\n",
       "                                  ['product_type']),\n",
       "                                 ('countvectorizer',\n",
       "                                  CountVectorizer(tokenizer=<function <lambda> at 0x000001CEB7E7A940>),\n",
       "                                  'ingredients')]),\n",
       " 'baggingclassifier': BaggingClassifier(base_estimator=DecisionTreeClassifier(criterion='entropy',\n",
       "                                                         max_depth=10,\n",
       "                                                         min_samples_leaf=31,\n",
       "                                                         random_state=1),\n",
       "                   n_estimators=300, n_jobs=-1, random_state=1),\n",
       " 'columntransformer__n_jobs': None,\n",
       " 'columntransformer__remainder': 'passthrough',\n",
       " 'columntransformer__sparse_threshold': 0.3,\n",
       " 'columntransformer__transformer_weights': None,\n",
       " 'columntransformer__transformers': [('onehotencoder',\n",
       "   OneHotEncoder(),\n",
       "   ['product_type']),\n",
       "  ('countvectorizer',\n",
       "   CountVectorizer(tokenizer=<function <lambda> at 0x000001CEB7E7A940>),\n",
       "   'ingredients')],\n",
       " 'columntransformer__verbose': False,\n",
       " 'columntransformer__onehotencoder': OneHotEncoder(),\n",
       " 'columntransformer__countvectorizer': CountVectorizer(tokenizer=<function <lambda> at 0x000001CEB7E7A940>),\n",
       " 'columntransformer__onehotencoder__categories': 'auto',\n",
       " 'columntransformer__onehotencoder__drop': None,\n",
       " 'columntransformer__onehotencoder__dtype': numpy.float64,\n",
       " 'columntransformer__onehotencoder__handle_unknown': 'error',\n",
       " 'columntransformer__onehotencoder__sparse': True,\n",
       " 'columntransformer__countvectorizer__analyzer': 'word',\n",
       " 'columntransformer__countvectorizer__binary': False,\n",
       " 'columntransformer__countvectorizer__decode_error': 'strict',\n",
       " 'columntransformer__countvectorizer__dtype': numpy.int64,\n",
       " 'columntransformer__countvectorizer__encoding': 'utf-8',\n",
       " 'columntransformer__countvectorizer__input': 'content',\n",
       " 'columntransformer__countvectorizer__lowercase': True,\n",
       " 'columntransformer__countvectorizer__max_df': 1.0,\n",
       " 'columntransformer__countvectorizer__max_features': None,\n",
       " 'columntransformer__countvectorizer__min_df': 1,\n",
       " 'columntransformer__countvectorizer__ngram_range': (1, 1),\n",
       " 'columntransformer__countvectorizer__preprocessor': None,\n",
       " 'columntransformer__countvectorizer__stop_words': None,\n",
       " 'columntransformer__countvectorizer__strip_accents': None,\n",
       " 'columntransformer__countvectorizer__token_pattern': '(?u)\\\\b\\\\w\\\\w+\\\\b',\n",
       " 'columntransformer__countvectorizer__tokenizer': <function __main__.<lambda>(x)>,\n",
       " 'columntransformer__countvectorizer__vocabulary': None,\n",
       " 'baggingclassifier__base_estimator__ccp_alpha': 0.0,\n",
       " 'baggingclassifier__base_estimator__class_weight': None,\n",
       " 'baggingclassifier__base_estimator__criterion': 'entropy',\n",
       " 'baggingclassifier__base_estimator__max_depth': 10,\n",
       " 'baggingclassifier__base_estimator__max_features': None,\n",
       " 'baggingclassifier__base_estimator__max_leaf_nodes': None,\n",
       " 'baggingclassifier__base_estimator__min_impurity_decrease': 0.0,\n",
       " 'baggingclassifier__base_estimator__min_impurity_split': None,\n",
       " 'baggingclassifier__base_estimator__min_samples_leaf': 31,\n",
       " 'baggingclassifier__base_estimator__min_samples_split': 2,\n",
       " 'baggingclassifier__base_estimator__min_weight_fraction_leaf': 0.0,\n",
       " 'baggingclassifier__base_estimator__presort': 'deprecated',\n",
       " 'baggingclassifier__base_estimator__random_state': 1,\n",
       " 'baggingclassifier__base_estimator__splitter': 'best',\n",
       " 'baggingclassifier__base_estimator': DecisionTreeClassifier(criterion='entropy', max_depth=10, min_samples_leaf=31,\n",
       "                        random_state=1),\n",
       " 'baggingclassifier__bootstrap': True,\n",
       " 'baggingclassifier__bootstrap_features': False,\n",
       " 'baggingclassifier__max_features': 1.0,\n",
       " 'baggingclassifier__max_samples': 1.0,\n",
       " 'baggingclassifier__n_estimators': 300,\n",
       " 'baggingclassifier__n_jobs': -1,\n",
       " 'baggingclassifier__oob_score': False,\n",
       " 'baggingclassifier__random_state': 1,\n",
       " 'baggingclassifier__verbose': 0,\n",
       " 'baggingclassifier__warm_start': False}"
      ]
     },
     "execution_count": 76,
     "metadata": {},
     "output_type": "execute_result"
    }
   ],
   "source": [
    "bc_pipe.get_params()\n",
    "# inpsect the parameters"
   ]
  },
  {
   "cell_type": "code",
   "execution_count": 77,
   "metadata": {},
   "outputs": [
    {
     "data": {
      "text/plain": [
       "Pipeline(steps=[('columntransformer',\n",
       "                 ColumnTransformer(remainder='passthrough',\n",
       "                                   transformers=[('onehotencoder',\n",
       "                                                  OneHotEncoder(),\n",
       "                                                  ['product_type']),\n",
       "                                                 ('countvectorizer',\n",
       "                                                  CountVectorizer(tokenizer=<function <lambda> at 0x000001CEB7E7A940>),\n",
       "                                                  'ingredients')])),\n",
       "                ('baggingclassifier',\n",
       "                 BaggingClassifier(base_estimator=DecisionTreeClassifier(criterion='entropy',\n",
       "                                                                         max_depth=10,\n",
       "                                                                         min_samples_leaf=31,\n",
       "                                                                         random_state=1),\n",
       "                                   n_estimators=300, n_jobs=-1,\n",
       "                                   random_state=1))])"
      ]
     },
     "execution_count": 77,
     "metadata": {},
     "output_type": "execute_result"
    }
   ],
   "source": [
    "bc_pipe.fit(X_train, y_train)\n",
    "# fit the pipeline"
   ]
  },
  {
   "cell_type": "code",
   "execution_count": 78,
   "metadata": {},
   "outputs": [],
   "source": [
    "bc_pred = bc_pipe.predict(X_test)\n",
    "# get pipeline's predictions"
   ]
  },
  {
   "cell_type": "code",
   "execution_count": 79,
   "metadata": {},
   "outputs": [
    {
     "data": {
      "text/plain": [
       "0.6960352422907489"
      ]
     },
     "execution_count": 79,
     "metadata": {},
     "output_type": "execute_result"
    }
   ],
   "source": [
    "accuracy_score(y_test, bc_pred)"
   ]
  },
  {
   "cell_type": "code",
   "execution_count": 80,
   "metadata": {},
   "outputs": [
    {
     "name": "stdout",
     "output_type": "stream",
     "text": [
      "100 Done with this number of estimators\n",
      "200 Done with this number of estimators\n",
      "300 Done with this number of estimators\n",
      "400 Done with this number of estimators\n",
      "500 Done with this number of estimators\n",
      "600 Done with this number of estimators\n",
      "700 Done with this number of estimators\n",
      "800 Done with this number of estimators\n",
      "900 Done with this number of estimators\n",
      "1000 Done with this number of estimators\n"
     ]
    }
   ],
   "source": [
    "# use a for loop to get the optimal number of estimators\n",
    "\n",
    "accs = []\n",
    "n_estimators_range = [100, 200, 300, 400, 500, 600, 700, 800, 900, 1000]\n",
    "for n_estimators in n_estimators_range: \n",
    "    bc = BaggingClassifier(base_estimator = dt, random_state=random_state, n_estimators = n_estimators, n_jobs = -1)\n",
    "    ct = make_column_transformer(\n",
    "    (ohe, [\"product_type\"]),\n",
    "    (vect, \"ingredients\"), \n",
    "    remainder=\"passthrough\")\n",
    "    bc_pipe = make_pipeline(ct, bc)\n",
    "    bc_pipe.fit(X_train, y_train)\n",
    "    bc_pred = bc_pipe.predict(X_test)\n",
    "    acc = accuracy_score(y_test, bc_pred)\n",
    "    accs.append(acc)\n",
    "    print(n_estimators, \"Done with this number of estimators\")"
   ]
  },
  {
   "cell_type": "code",
   "execution_count": 81,
   "metadata": {},
   "outputs": [
    {
     "data": {
      "image/png": "[encoded data removed]",
      "text/plain": [
       "<Figure size 432x288 with 1 Axes>"
      ]
     },
     "metadata": {
      "needs_background": "light"
     },
     "output_type": "display_data"
    }
   ],
   "source": [
    "import matplotlib.pyplot as plt\n",
    "plt.figure()\n",
    "plt.plot(n_estimators_range, accs)\n",
    "plt.ylabel(\"Accuracy\")\n",
    "plt.xlabel(\"n_estimators\")\n",
    "plt.show()\n",
    "# there seems to be a spike at 500 estimators"
   ]
  },
  {
   "cell_type": "code",
   "execution_count": 82,
   "metadata": {},
   "outputs": [
    {
     "name": "stdout",
     "output_type": "stream",
     "text": [
      "0.7026431718061674\n",
      "[0.75362319 0.64705882 0.67647059 0.77941176 0.67647059 0.70588235\n",
      " 0.82352941 0.72058824 0.67647059 0.60294118]\n",
      "Accuracy = 0.70624467 +/- 0.06196272\n"
     ]
    }
   ],
   "source": [
    "# refit the bagging classifier on 500 estimators\n",
    "bc = BaggingClassifier(base_estimator = dt, \n",
    "                       n_estimators = 500, \n",
    "                       n_jobs = -1, \n",
    "                       random_state=random_state)\n",
    "ct = make_column_transformer(\n",
    "    (ohe, [\"product_type\"]),\n",
    "    (vect, \"ingredients\"), \n",
    "    remainder=\"passthrough\")\n",
    "bc_pipe = make_pipeline(ct, bc)\n",
    "bc_pipe.fit(X_train, y_train)\n",
    "bc_pred = bc_pipe.predict(X_test)\n",
    "print(accuracy_score(y_test, bc_pred))\n",
    "scores = cross_val_score(estimator=bc_pipe, X=X_train, y=y_train, cv=10, n_jobs=-1)\n",
    "print(scores)\n",
    "print('Accuracy = {:.8f} +/- {:.8f}'.format(np.mean(scores), np.std(scores)))\n",
    "# accuracy not much better than before"
   ]
  },
  {
   "cell_type": "markdown",
   "metadata": {},
   "source": [
    "# w/out BRAND - BINARY - RANDOM FORESTS"
   ]
  },
  {
   "cell_type": "code",
   "execution_count": 83,
   "metadata": {},
   "outputs": [],
   "source": [
    "from sklearn.ensemble import RandomForestClassifier"
   ]
  },
  {
   "cell_type": "code",
   "execution_count": 84,
   "metadata": {},
   "outputs": [
    {
     "data": {
      "text/plain": [
       "{'memory': None,\n",
       " 'steps': [('columntransformer',\n",
       "   ColumnTransformer(remainder='passthrough',\n",
       "                     transformers=[('onehotencoder', OneHotEncoder(),\n",
       "                                    ['product_type']),\n",
       "                                   ('countvectorizer',\n",
       "                                    CountVectorizer(tokenizer=<function <lambda> at 0x000001CEB7E7A940>),\n",
       "                                    'ingredients')])),\n",
       "  ('randomforestclassifier',\n",
       "   RandomForestClassifier(n_estimators=1000, random_state=1))],\n",
       " 'verbose': False,\n",
       " 'columntransformer': ColumnTransformer(remainder='passthrough',\n",
       "                   transformers=[('onehotencoder', OneHotEncoder(),\n",
       "                                  ['product_type']),\n",
       "                                 ('countvectorizer',\n",
       "                                  CountVectorizer(tokenizer=<function <lambda> at 0x000001CEB7E7A940>),\n",
       "                                  'ingredients')]),\n",
       " 'randomforestclassifier': RandomForestClassifier(n_estimators=1000, random_state=1),\n",
       " 'columntransformer__n_jobs': None,\n",
       " 'columntransformer__remainder': 'passthrough',\n",
       " 'columntransformer__sparse_threshold': 0.3,\n",
       " 'columntransformer__transformer_weights': None,\n",
       " 'columntransformer__transformers': [('onehotencoder',\n",
       "   OneHotEncoder(),\n",
       "   ['product_type']),\n",
       "  ('countvectorizer',\n",
       "   CountVectorizer(tokenizer=<function <lambda> at 0x000001CEB7E7A940>),\n",
       "   'ingredients')],\n",
       " 'columntransformer__verbose': False,\n",
       " 'columntransformer__onehotencoder': OneHotEncoder(),\n",
       " 'columntransformer__countvectorizer': CountVectorizer(tokenizer=<function <lambda> at 0x000001CEB7E7A940>),\n",
       " 'columntransformer__onehotencoder__categories': 'auto',\n",
       " 'columntransformer__onehotencoder__drop': None,\n",
       " 'columntransformer__onehotencoder__dtype': numpy.float64,\n",
       " 'columntransformer__onehotencoder__handle_unknown': 'error',\n",
       " 'columntransformer__onehotencoder__sparse': True,\n",
       " 'columntransformer__countvectorizer__analyzer': 'word',\n",
       " 'columntransformer__countvectorizer__binary': False,\n",
       " 'columntransformer__countvectorizer__decode_error': 'strict',\n",
       " 'columntransformer__countvectorizer__dtype': numpy.int64,\n",
       " 'columntransformer__countvectorizer__encoding': 'utf-8',\n",
       " 'columntransformer__countvectorizer__input': 'content',\n",
       " 'columntransformer__countvectorizer__lowercase': True,\n",
       " 'columntransformer__countvectorizer__max_df': 1.0,\n",
       " 'columntransformer__countvectorizer__max_features': None,\n",
       " 'columntransformer__countvectorizer__min_df': 1,\n",
       " 'columntransformer__countvectorizer__ngram_range': (1, 1),\n",
       " 'columntransformer__countvectorizer__preprocessor': None,\n",
       " 'columntransformer__countvectorizer__stop_words': None,\n",
       " 'columntransformer__countvectorizer__strip_accents': None,\n",
       " 'columntransformer__countvectorizer__token_pattern': '(?u)\\\\b\\\\w\\\\w+\\\\b',\n",
       " 'columntransformer__countvectorizer__tokenizer': <function __main__.<lambda>(x)>,\n",
       " 'columntransformer__countvectorizer__vocabulary': None,\n",
       " 'randomforestclassifier__bootstrap': True,\n",
       " 'randomforestclassifier__ccp_alpha': 0.0,\n",
       " 'randomforestclassifier__class_weight': None,\n",
       " 'randomforestclassifier__criterion': 'gini',\n",
       " 'randomforestclassifier__max_depth': None,\n",
       " 'randomforestclassifier__max_features': 'auto',\n",
       " 'randomforestclassifier__max_leaf_nodes': None,\n",
       " 'randomforestclassifier__max_samples': None,\n",
       " 'randomforestclassifier__min_impurity_decrease': 0.0,\n",
       " 'randomforestclassifier__min_impurity_split': None,\n",
       " 'randomforestclassifier__min_samples_leaf': 1,\n",
       " 'randomforestclassifier__min_samples_split': 2,\n",
       " 'randomforestclassifier__min_weight_fraction_leaf': 0.0,\n",
       " 'randomforestclassifier__n_estimators': 1000,\n",
       " 'randomforestclassifier__n_jobs': None,\n",
       " 'randomforestclassifier__oob_score': False,\n",
       " 'randomforestclassifier__random_state': 1,\n",
       " 'randomforestclassifier__verbose': 0,\n",
       " 'randomforestclassifier__warm_start': False}"
      ]
     },
     "execution_count": 84,
     "metadata": {},
     "output_type": "execute_result"
    }
   ],
   "source": [
    "rf = RandomForestClassifier(n_estimators = 1000, random_state = random_state)\n",
    "# ensemble method that uses decision tree as base estimator\n",
    "# each estimator trained on different bootstrap having same size as training set\n",
    "# only d features can be sampled at each node without replacement \n",
    "# predictions on new instances collected by random forests meta classifier and final prediction is made \n",
    "# final prediction done with majority voting\n",
    "\n",
    "rf_pipe = make_pipeline(ct, rf)\n",
    "# fit the random forests pipeline\n",
    "rf_pipe.get_params()"
   ]
  },
  {
   "cell_type": "code",
   "execution_count": 85,
   "metadata": {},
   "outputs": [
    {
     "data": {
      "text/plain": [
       "Pipeline(steps=[('columntransformer',\n",
       "                 ColumnTransformer(remainder='passthrough',\n",
       "                                   transformers=[('onehotencoder',\n",
       "                                                  OneHotEncoder(),\n",
       "                                                  ['product_type']),\n",
       "                                                 ('countvectorizer',\n",
       "                                                  CountVectorizer(tokenizer=<function <lambda> at 0x000001CEB7E7A940>),\n",
       "                                                  'ingredients')])),\n",
       "                ('randomforestclassifier',\n",
       "                 RandomForestClassifier(n_estimators=1000, random_state=1))])"
      ]
     },
     "execution_count": 85,
     "metadata": {},
     "output_type": "execute_result"
    }
   ],
   "source": [
    "rf_pipe.fit(X_train, y_train)\n",
    "# fit pipeline"
   ]
  },
  {
   "cell_type": "code",
   "execution_count": 86,
   "metadata": {},
   "outputs": [],
   "source": [
    "rf_pred = rf_pipe.predict(X_test)\n",
    "# get predictions"
   ]
  },
  {
   "cell_type": "code",
   "execution_count": 87,
   "metadata": {},
   "outputs": [
    {
     "data": {
      "text/plain": [
       "0.7599118942731278"
      ]
     },
     "execution_count": 87,
     "metadata": {},
     "output_type": "execute_result"
    }
   ],
   "source": [
    "accuracy_score(y_test, rf_pred)"
   ]
  },
  {
   "cell_type": "code",
   "execution_count": 88,
   "metadata": {},
   "outputs": [
    {
     "name": "stdout",
     "output_type": "stream",
     "text": [
      "{'randomforestclassifier__min_samples_leaf': 2, 'randomforestclassifier__max_depth': 10000, 'randomforestclassifier__criterion': 'gini'}\n",
      "0.748898678414097\n"
     ]
    }
   ],
   "source": [
    "criterions = ['gini', 'entropy']\n",
    "max_depths = [None, 10, 100, 1000, 10000]\n",
    "param_grid = {'randomforestclassifier__min_samples_leaf': np.arange(1,50), \n",
    "              'randomforestclassifier__max_depth': max_depths, \n",
    "              'randomforestclassifier__criterion':criterions}\n",
    "# define hyperparameter grid\n",
    "# do randomized search with hyperparameters\n",
    "rf = RandomForestClassifier(n_estimators = 1000, random_state = random_state)\n",
    "rf_pipe = make_pipeline(ct, rf)\n",
    "\n",
    "rf_gs = RandomizedSearchCV(estimator=rf_pipe, param_distributions=param_grid, random_state=random_state, scoring='accuracy', cv=10, refit=True)\n",
    "rf_gs = rf_gs.fit(X_train, y_train)\n",
    "print(rf_gs.best_params_)\n",
    "best_rf = rf_gs.best_estimator_   # refitting done automatically\n",
    "print(best_rf.score(X_test, y_test))"
   ]
  },
  {
   "cell_type": "code",
   "execution_count": 89,
   "metadata": {},
   "outputs": [
    {
     "name": "stdout",
     "output_type": "stream",
     "text": [
      "[0.82608696 0.72058824 0.66176471 0.82352941 0.76470588 0.77941176\n",
      " 0.83823529 0.76470588 0.79411765 0.75      ]\n",
      "Accuracy = 0.77231458 +/- 0.05088843\n"
     ]
    }
   ],
   "source": [
    "scores = cross_val_score(estimator=best_rf, X=X_train, y=y_train, cv=10, n_jobs=-1)\n",
    "print(scores)\n",
    "print('Accuracy = {:.8f} +/- {:.8f}'.format(np.mean(scores), np.std(scores)))\n",
    "# highest accuracy out of the classifiers"
   ]
  }
 ],
 "metadata": {
  "kernelspec": {
   "display_name": "Python 3",
   "language": "python",
   "name": "python3"
  },
  "language_info": {
   "codemirror_mode": {
    "name": "ipython",
    "version": 3
   },
   "file_extension": ".py",
   "mimetype": "text/x-python",
   "name": "python",
   "nbconvert_exporter": "python",
   "pygments_lexer": "ipython3",
   "version": "3.8.3"
  }
 },
 "nbformat": 4,
 "nbformat_minor": 4
}
