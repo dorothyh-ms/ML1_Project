{
 "cells": [
  {
   "cell_type": "code",
   "execution_count": 1,
   "metadata": {},
   "outputs": [],
   "source": [
    "import pandas as pd\n",
    "import numpy as np\n",
    "import re\n",
    "import matplotlib.pyplot as plt\n",
    "from sklearn.feature_extraction.text import CountVectorizer\n",
    "from sklearn.model_selection import train_test_split\n",
    "from sklearn.preprocessing import StandardScaler\n",
    "from sklearn.compose import make_column_transformer\n",
    "from sklearn.pipeline import make_pipeline\n",
    "from sklearn.preprocessing import OneHotEncoder\n",
    "from sklearn.model_selection import GridSearchCV, RandomizedSearchCV\n",
    "from sklearn.model_selection import cross_val_score\n",
    "from sklearn.metrics import classification_report, confusion_matrix, accuracy_score\n",
    "\n",
    "random_state = 1\n",
    "\n",
    "# do all the same preprocessing below!"
   ]
  },
  {
   "cell_type": "code",
   "execution_count": 2,
   "metadata": {},
   "outputs": [
    {
     "data": {
      "text/html": [
       "<div>\n",
       "<style scoped>\n",
       "    .dataframe tbody tr th:only-of-type {\n",
       "        vertical-align: middle;\n",
       "    }\n",
       "\n",
       "    .dataframe tbody tr th {\n",
       "        vertical-align: top;\n",
       "    }\n",
       "\n",
       "    .dataframe thead th {\n",
       "        text-align: right;\n",
       "    }\n",
       "</style>\n",
       "<table border=\"1\" class=\"dataframe\">\n",
       "  <thead>\n",
       "    <tr style=\"text-align: right;\">\n",
       "      <th></th>\n",
       "      <th>product_name</th>\n",
       "      <th>brand</th>\n",
       "      <th>product_url</th>\n",
       "      <th>product_type</th>\n",
       "      <th>ingredients</th>\n",
       "      <th>price</th>\n",
       "      <th>contents</th>\n",
       "    </tr>\n",
       "  </thead>\n",
       "  <tbody>\n",
       "    <tr>\n",
       "      <th>0</th>\n",
       "      <td>Acorelle Pure Harvest Body Perfume - 100ml</td>\n",
       "      <td>Acorelle</td>\n",
       "      <td>https://www.lookfantastic.com/acorelle-pure-ha...</td>\n",
       "      <td>Mist</td>\n",
       "      <td>Alcohol, Aqua, Glycerin, Fragrance, Limonene, ...</td>\n",
       "      <td>10.0</td>\n",
       "      <td>100ml</td>\n",
       "    </tr>\n",
       "    <tr>\n",
       "      <th>1</th>\n",
       "      <td>Aesop Parsley Seed Anti-Oxidant Eye Cream 10ml</td>\n",
       "      <td>Aesop</td>\n",
       "      <td>https://www.lookfantastic.com/aesop-parsley-se...</td>\n",
       "      <td>Eye Care</td>\n",
       "      <td>Aloe Barbadensis Leaf Juice, Water, PEG-60 Alm...</td>\n",
       "      <td>63.0</td>\n",
       "      <td>10ml</td>\n",
       "    </tr>\n",
       "    <tr>\n",
       "      <th>2</th>\n",
       "      <td>Aesop Parsley Seed Anti-Oxidant Eye Serum 15ml</td>\n",
       "      <td>Aesop</td>\n",
       "      <td>https://www.lookfantastic.com/aesop-parsley-se...</td>\n",
       "      <td>Eye Care</td>\n",
       "      <td>Aloe Babedensis Lead Juice, Water (Aqua), PEG ...</td>\n",
       "      <td>57.0</td>\n",
       "      <td>15ml</td>\n",
       "    </tr>\n",
       "    <tr>\n",
       "      <th>3</th>\n",
       "      <td>Aesop Amazing Face Cleanser 200ml</td>\n",
       "      <td>Aesop</td>\n",
       "      <td>https://www.lookfantastic.com/aesop-amazing-fa...</td>\n",
       "      <td>Cleanser</td>\n",
       "      <td>Water, Cocamidopropyl Belaine, Sea Salt, Glyce...</td>\n",
       "      <td>35.0</td>\n",
       "      <td>200ml</td>\n",
       "    </tr>\n",
       "    <tr>\n",
       "      <th>4</th>\n",
       "      <td>Aesop Animal Body Wash 500ml</td>\n",
       "      <td>Aesop</td>\n",
       "      <td>https://www.lookfantastic.com/aesop-animal-bod...</td>\n",
       "      <td>Body Wash</td>\n",
       "      <td>Water (Aqua), Sodium Laureth Sulfate, Propylen...</td>\n",
       "      <td>27.0</td>\n",
       "      <td>500ml</td>\n",
       "    </tr>\n",
       "    <tr>\n",
       "      <th>...</th>\n",
       "      <td>...</td>\n",
       "      <td>...</td>\n",
       "      <td>...</td>\n",
       "      <td>...</td>\n",
       "      <td>...</td>\n",
       "      <td>...</td>\n",
       "      <td>...</td>\n",
       "    </tr>\n",
       "    <tr>\n",
       "      <th>1130</th>\n",
       "      <td>Zelens Triple Action Advanced Eye Cream</td>\n",
       "      <td>Zelens</td>\n",
       "      <td>https://www.lookfantastic.com/zelens-triple-ac...</td>\n",
       "      <td>Eye Care</td>\n",
       "      <td>Aqua (Water), Dimethicone, Cyclopentasiloxane,...</td>\n",
       "      <td>80.0</td>\n",
       "      <td>15ml</td>\n",
       "    </tr>\n",
       "    <tr>\n",
       "      <th>1131</th>\n",
       "      <td>Zelens Youth Concentrate Supreme Age-Defying S...</td>\n",
       "      <td>Zelens</td>\n",
       "      <td>https://www.lookfantastic.com/zelens-youth-con...</td>\n",
       "      <td>Serum</td>\n",
       "      <td>Water (Aqua), Caprylic/Capric Triglyceride, Hy...</td>\n",
       "      <td>160.0</td>\n",
       "      <td>30ml</td>\n",
       "    </tr>\n",
       "    <tr>\n",
       "      <th>1132</th>\n",
       "      <td>Zelens Z Hyaluron Hyaluronic Acid Complex Seru...</td>\n",
       "      <td>Zelens</td>\n",
       "      <td>https://www.lookfantastic.com/zelens-z-hyaluro...</td>\n",
       "      <td>Serum</td>\n",
       "      <td>Aqua (Water), Glycerin, Propanediol, Hydrolyze...</td>\n",
       "      <td>55.0</td>\n",
       "      <td>30ml</td>\n",
       "    </tr>\n",
       "    <tr>\n",
       "      <th>1133</th>\n",
       "      <td>Zelens PROVITAMIN D Fortifying Facial Mist 50ml</td>\n",
       "      <td>Zelens</td>\n",
       "      <td>https://www.lookfantastic.com/zelens-provitami...</td>\n",
       "      <td>Mist</td>\n",
       "      <td>Aqua (Water), Propanediol, Glycerin, Polyglyce...</td>\n",
       "      <td>55.0</td>\n",
       "      <td>50ml</td>\n",
       "    </tr>\n",
       "    <tr>\n",
       "      <th>1134</th>\n",
       "      <td>Zelens Z Balance Prebiotic and Probiotic Facia...</td>\n",
       "      <td>Zelens</td>\n",
       "      <td>https://www.lookfantastic.com/zelens-z-balance...</td>\n",
       "      <td>Mist</td>\n",
       "      <td>Aqua, Butylene Glycol, Sodium Lactate, Lactoba...</td>\n",
       "      <td>48.0</td>\n",
       "      <td>50ml</td>\n",
       "    </tr>\n",
       "  </tbody>\n",
       "</table>\n",
       "<p>1135 rows × 7 columns</p>\n",
       "</div>"
      ],
      "text/plain": [
       "                                           product_name     brand  \\\n",
       "0            Acorelle Pure Harvest Body Perfume - 100ml  Acorelle   \n",
       "1        Aesop Parsley Seed Anti-Oxidant Eye Cream 10ml     Aesop   \n",
       "2        Aesop Parsley Seed Anti-Oxidant Eye Serum 15ml     Aesop   \n",
       "3                     Aesop Amazing Face Cleanser 200ml     Aesop   \n",
       "4                          Aesop Animal Body Wash 500ml     Aesop   \n",
       "...                                                 ...       ...   \n",
       "1130            Zelens Triple Action Advanced Eye Cream    Zelens   \n",
       "1131  Zelens Youth Concentrate Supreme Age-Defying S...    Zelens   \n",
       "1132  Zelens Z Hyaluron Hyaluronic Acid Complex Seru...    Zelens   \n",
       "1133    Zelens PROVITAMIN D Fortifying Facial Mist 50ml    Zelens   \n",
       "1134  Zelens Z Balance Prebiotic and Probiotic Facia...    Zelens   \n",
       "\n",
       "                                            product_url product_type  \\\n",
       "0     https://www.lookfantastic.com/acorelle-pure-ha...         Mist   \n",
       "1     https://www.lookfantastic.com/aesop-parsley-se...     Eye Care   \n",
       "2     https://www.lookfantastic.com/aesop-parsley-se...     Eye Care   \n",
       "3     https://www.lookfantastic.com/aesop-amazing-fa...     Cleanser   \n",
       "4     https://www.lookfantastic.com/aesop-animal-bod...    Body Wash   \n",
       "...                                                 ...          ...   \n",
       "1130  https://www.lookfantastic.com/zelens-triple-ac...     Eye Care   \n",
       "1131  https://www.lookfantastic.com/zelens-youth-con...        Serum   \n",
       "1132  https://www.lookfantastic.com/zelens-z-hyaluro...        Serum   \n",
       "1133  https://www.lookfantastic.com/zelens-provitami...         Mist   \n",
       "1134  https://www.lookfantastic.com/zelens-z-balance...         Mist   \n",
       "\n",
       "                                            ingredients  price contents  \n",
       "0     Alcohol, Aqua, Glycerin, Fragrance, Limonene, ...   10.0    100ml  \n",
       "1     Aloe Barbadensis Leaf Juice, Water, PEG-60 Alm...   63.0     10ml  \n",
       "2     Aloe Babedensis Lead Juice, Water (Aqua), PEG ...   57.0     15ml  \n",
       "3     Water, Cocamidopropyl Belaine, Sea Salt, Glyce...   35.0    200ml  \n",
       "4     Water (Aqua), Sodium Laureth Sulfate, Propylen...   27.0    500ml  \n",
       "...                                                 ...    ...      ...  \n",
       "1130  Aqua (Water), Dimethicone, Cyclopentasiloxane,...   80.0     15ml  \n",
       "1131  Water (Aqua), Caprylic/Capric Triglyceride, Hy...  160.0     30ml  \n",
       "1132  Aqua (Water), Glycerin, Propanediol, Hydrolyze...   55.0     30ml  \n",
       "1133  Aqua (Water), Propanediol, Glycerin, Polyglyce...   55.0     50ml  \n",
       "1134  Aqua, Butylene Glycol, Sodium Lactate, Lactoba...   48.0     50ml  \n",
       "\n",
       "[1135 rows x 7 columns]"
      ]
     },
     "execution_count": 2,
     "metadata": {},
     "output_type": "execute_result"
    }
   ],
   "source": [
    "skincare = pd.read_csv('skincare_prepared.csv', sep=\",\")\n",
    "skincare"
   ]
  },
  {
   "cell_type": "code",
   "execution_count": 3,
   "metadata": {},
   "outputs": [
    {
     "data": {
      "text/html": [
       "<div>\n",
       "<style scoped>\n",
       "    .dataframe tbody tr th:only-of-type {\n",
       "        vertical-align: middle;\n",
       "    }\n",
       "\n",
       "    .dataframe tbody tr th {\n",
       "        vertical-align: top;\n",
       "    }\n",
       "\n",
       "    .dataframe thead th {\n",
       "        text-align: right;\n",
       "    }\n",
       "</style>\n",
       "<table border=\"1\" class=\"dataframe\">\n",
       "  <thead>\n",
       "    <tr style=\"text-align: right;\">\n",
       "      <th></th>\n",
       "      <th>product_name</th>\n",
       "      <th>brand</th>\n",
       "      <th>product_url</th>\n",
       "      <th>product_type</th>\n",
       "      <th>ingredients</th>\n",
       "      <th>price</th>\n",
       "      <th>contents</th>\n",
       "    </tr>\n",
       "  </thead>\n",
       "  <tbody>\n",
       "    <tr>\n",
       "      <th>0</th>\n",
       "      <td>Acorelle Pure Harvest Body Perfume - 100ml</td>\n",
       "      <td>Acorelle</td>\n",
       "      <td>https://www.lookfantastic.com/acorelle-pure-ha...</td>\n",
       "      <td>Mist</td>\n",
       "      <td>Alcohol, Aqua, Glycerin, Fragrance, Limonene, ...</td>\n",
       "      <td>10.0</td>\n",
       "      <td>100</td>\n",
       "    </tr>\n",
       "    <tr>\n",
       "      <th>1</th>\n",
       "      <td>Aesop Parsley Seed Anti-Oxidant Eye Cream 10ml</td>\n",
       "      <td>Aesop</td>\n",
       "      <td>https://www.lookfantastic.com/aesop-parsley-se...</td>\n",
       "      <td>Eye Care</td>\n",
       "      <td>Aloe Barbadensis Leaf Juice, Water, PEG-60 Alm...</td>\n",
       "      <td>63.0</td>\n",
       "      <td>10</td>\n",
       "    </tr>\n",
       "    <tr>\n",
       "      <th>2</th>\n",
       "      <td>Aesop Parsley Seed Anti-Oxidant Eye Serum 15ml</td>\n",
       "      <td>Aesop</td>\n",
       "      <td>https://www.lookfantastic.com/aesop-parsley-se...</td>\n",
       "      <td>Eye Care</td>\n",
       "      <td>Aloe Babedensis Lead Juice, Water (Aqua), PEG ...</td>\n",
       "      <td>57.0</td>\n",
       "      <td>15</td>\n",
       "    </tr>\n",
       "    <tr>\n",
       "      <th>3</th>\n",
       "      <td>Aesop Amazing Face Cleanser 200ml</td>\n",
       "      <td>Aesop</td>\n",
       "      <td>https://www.lookfantastic.com/aesop-amazing-fa...</td>\n",
       "      <td>Cleanser</td>\n",
       "      <td>Water, Cocamidopropyl Belaine, Sea Salt, Glyce...</td>\n",
       "      <td>35.0</td>\n",
       "      <td>200</td>\n",
       "    </tr>\n",
       "    <tr>\n",
       "      <th>4</th>\n",
       "      <td>Aesop Animal Body Wash 500ml</td>\n",
       "      <td>Aesop</td>\n",
       "      <td>https://www.lookfantastic.com/aesop-animal-bod...</td>\n",
       "      <td>Body Wash</td>\n",
       "      <td>Water (Aqua), Sodium Laureth Sulfate, Propylen...</td>\n",
       "      <td>27.0</td>\n",
       "      <td>500</td>\n",
       "    </tr>\n",
       "    <tr>\n",
       "      <th>...</th>\n",
       "      <td>...</td>\n",
       "      <td>...</td>\n",
       "      <td>...</td>\n",
       "      <td>...</td>\n",
       "      <td>...</td>\n",
       "      <td>...</td>\n",
       "      <td>...</td>\n",
       "    </tr>\n",
       "    <tr>\n",
       "      <th>1130</th>\n",
       "      <td>Zelens Triple Action Advanced Eye Cream</td>\n",
       "      <td>Zelens</td>\n",
       "      <td>https://www.lookfantastic.com/zelens-triple-ac...</td>\n",
       "      <td>Eye Care</td>\n",
       "      <td>Aqua (Water), Dimethicone, Cyclopentasiloxane,...</td>\n",
       "      <td>80.0</td>\n",
       "      <td>15</td>\n",
       "    </tr>\n",
       "    <tr>\n",
       "      <th>1131</th>\n",
       "      <td>Zelens Youth Concentrate Supreme Age-Defying S...</td>\n",
       "      <td>Zelens</td>\n",
       "      <td>https://www.lookfantastic.com/zelens-youth-con...</td>\n",
       "      <td>Serum</td>\n",
       "      <td>Water (Aqua), Caprylic/Capric Triglyceride, Hy...</td>\n",
       "      <td>160.0</td>\n",
       "      <td>30</td>\n",
       "    </tr>\n",
       "    <tr>\n",
       "      <th>1132</th>\n",
       "      <td>Zelens Z Hyaluron Hyaluronic Acid Complex Seru...</td>\n",
       "      <td>Zelens</td>\n",
       "      <td>https://www.lookfantastic.com/zelens-z-hyaluro...</td>\n",
       "      <td>Serum</td>\n",
       "      <td>Aqua (Water), Glycerin, Propanediol, Hydrolyze...</td>\n",
       "      <td>55.0</td>\n",
       "      <td>30</td>\n",
       "    </tr>\n",
       "    <tr>\n",
       "      <th>1133</th>\n",
       "      <td>Zelens PROVITAMIN D Fortifying Facial Mist 50ml</td>\n",
       "      <td>Zelens</td>\n",
       "      <td>https://www.lookfantastic.com/zelens-provitami...</td>\n",
       "      <td>Mist</td>\n",
       "      <td>Aqua (Water), Propanediol, Glycerin, Polyglyce...</td>\n",
       "      <td>55.0</td>\n",
       "      <td>50</td>\n",
       "    </tr>\n",
       "    <tr>\n",
       "      <th>1134</th>\n",
       "      <td>Zelens Z Balance Prebiotic and Probiotic Facia...</td>\n",
       "      <td>Zelens</td>\n",
       "      <td>https://www.lookfantastic.com/zelens-z-balance...</td>\n",
       "      <td>Mist</td>\n",
       "      <td>Aqua, Butylene Glycol, Sodium Lactate, Lactoba...</td>\n",
       "      <td>48.0</td>\n",
       "      <td>50</td>\n",
       "    </tr>\n",
       "  </tbody>\n",
       "</table>\n",
       "<p>1135 rows × 7 columns</p>\n",
       "</div>"
      ],
      "text/plain": [
       "                                           product_name     brand  \\\n",
       "0            Acorelle Pure Harvest Body Perfume - 100ml  Acorelle   \n",
       "1        Aesop Parsley Seed Anti-Oxidant Eye Cream 10ml     Aesop   \n",
       "2        Aesop Parsley Seed Anti-Oxidant Eye Serum 15ml     Aesop   \n",
       "3                     Aesop Amazing Face Cleanser 200ml     Aesop   \n",
       "4                          Aesop Animal Body Wash 500ml     Aesop   \n",
       "...                                                 ...       ...   \n",
       "1130            Zelens Triple Action Advanced Eye Cream    Zelens   \n",
       "1131  Zelens Youth Concentrate Supreme Age-Defying S...    Zelens   \n",
       "1132  Zelens Z Hyaluron Hyaluronic Acid Complex Seru...    Zelens   \n",
       "1133    Zelens PROVITAMIN D Fortifying Facial Mist 50ml    Zelens   \n",
       "1134  Zelens Z Balance Prebiotic and Probiotic Facia...    Zelens   \n",
       "\n",
       "                                            product_url product_type  \\\n",
       "0     https://www.lookfantastic.com/acorelle-pure-ha...         Mist   \n",
       "1     https://www.lookfantastic.com/aesop-parsley-se...     Eye Care   \n",
       "2     https://www.lookfantastic.com/aesop-parsley-se...     Eye Care   \n",
       "3     https://www.lookfantastic.com/aesop-amazing-fa...     Cleanser   \n",
       "4     https://www.lookfantastic.com/aesop-animal-bod...    Body Wash   \n",
       "...                                                 ...          ...   \n",
       "1130  https://www.lookfantastic.com/zelens-triple-ac...     Eye Care   \n",
       "1131  https://www.lookfantastic.com/zelens-youth-con...        Serum   \n",
       "1132  https://www.lookfantastic.com/zelens-z-hyaluro...        Serum   \n",
       "1133  https://www.lookfantastic.com/zelens-provitami...         Mist   \n",
       "1134  https://www.lookfantastic.com/zelens-z-balance...         Mist   \n",
       "\n",
       "                                            ingredients  price contents  \n",
       "0     Alcohol, Aqua, Glycerin, Fragrance, Limonene, ...   10.0      100  \n",
       "1     Aloe Barbadensis Leaf Juice, Water, PEG-60 Alm...   63.0       10  \n",
       "2     Aloe Babedensis Lead Juice, Water (Aqua), PEG ...   57.0       15  \n",
       "3     Water, Cocamidopropyl Belaine, Sea Salt, Glyce...   35.0      200  \n",
       "4     Water (Aqua), Sodium Laureth Sulfate, Propylen...   27.0      500  \n",
       "...                                                 ...    ...      ...  \n",
       "1130  Aqua (Water), Dimethicone, Cyclopentasiloxane,...   80.0       15  \n",
       "1131  Water (Aqua), Caprylic/Capric Triglyceride, Hy...  160.0       30  \n",
       "1132  Aqua (Water), Glycerin, Propanediol, Hydrolyze...   55.0       30  \n",
       "1133  Aqua (Water), Propanediol, Glycerin, Polyglyce...   55.0       50  \n",
       "1134  Aqua, Butylene Glycol, Sodium Lactate, Lactoba...   48.0       50  \n",
       "\n",
       "[1135 rows x 7 columns]"
      ]
     },
     "execution_count": 3,
     "metadata": {},
     "output_type": "execute_result"
    }
   ],
   "source": [
    "skincare['contents'] = skincare['contents'].str.replace('ml', '')\n",
    "skincare['contents'] = skincare['contents'].str.replace('g', '')\n",
    "skincare\n",
    "# Big assumption - treat ml and g as the same measurement because the viscosity for each product is unknown"
   ]
  },
  {
   "cell_type": "code",
   "execution_count": 4,
   "metadata": {},
   "outputs": [
    {
     "data": {
      "text/html": [
       "<div>\n",
       "<style scoped>\n",
       "    .dataframe tbody tr th:only-of-type {\n",
       "        vertical-align: middle;\n",
       "    }\n",
       "\n",
       "    .dataframe tbody tr th {\n",
       "        vertical-align: top;\n",
       "    }\n",
       "\n",
       "    .dataframe thead th {\n",
       "        text-align: right;\n",
       "    }\n",
       "</style>\n",
       "<table border=\"1\" class=\"dataframe\">\n",
       "  <thead>\n",
       "    <tr style=\"text-align: right;\">\n",
       "      <th></th>\n",
       "      <th>product_name</th>\n",
       "      <th>brand</th>\n",
       "      <th>product_url</th>\n",
       "      <th>product_type</th>\n",
       "      <th>ingredients</th>\n",
       "      <th>price</th>\n",
       "      <th>contents</th>\n",
       "    </tr>\n",
       "  </thead>\n",
       "  <tbody>\n",
       "    <tr>\n",
       "      <th>0</th>\n",
       "      <td>Acorelle Pure Harvest Body Perfume - 100ml</td>\n",
       "      <td>Acorelle</td>\n",
       "      <td>https://www.lookfantastic.com/acorelle-pure-ha...</td>\n",
       "      <td>Mist</td>\n",
       "      <td>Alcohol, Aqua, Glycerin, Fragrance, Limonene, ...</td>\n",
       "      <td>10.0</td>\n",
       "      <td>100.0</td>\n",
       "    </tr>\n",
       "    <tr>\n",
       "      <th>1</th>\n",
       "      <td>Aesop Parsley Seed Anti-Oxidant Eye Cream 10ml</td>\n",
       "      <td>Aesop</td>\n",
       "      <td>https://www.lookfantastic.com/aesop-parsley-se...</td>\n",
       "      <td>Eye Care</td>\n",
       "      <td>Aloe Barbadensis Leaf Juice, Water, PEG-60 Alm...</td>\n",
       "      <td>63.0</td>\n",
       "      <td>10.0</td>\n",
       "    </tr>\n",
       "    <tr>\n",
       "      <th>2</th>\n",
       "      <td>Aesop Parsley Seed Anti-Oxidant Eye Serum 15ml</td>\n",
       "      <td>Aesop</td>\n",
       "      <td>https://www.lookfantastic.com/aesop-parsley-se...</td>\n",
       "      <td>Eye Care</td>\n",
       "      <td>Aloe Babedensis Lead Juice, Water (Aqua), PEG ...</td>\n",
       "      <td>57.0</td>\n",
       "      <td>15.0</td>\n",
       "    </tr>\n",
       "    <tr>\n",
       "      <th>3</th>\n",
       "      <td>Aesop Amazing Face Cleanser 200ml</td>\n",
       "      <td>Aesop</td>\n",
       "      <td>https://www.lookfantastic.com/aesop-amazing-fa...</td>\n",
       "      <td>Cleanser</td>\n",
       "      <td>Water, Cocamidopropyl Belaine, Sea Salt, Glyce...</td>\n",
       "      <td>35.0</td>\n",
       "      <td>200.0</td>\n",
       "    </tr>\n",
       "    <tr>\n",
       "      <th>4</th>\n",
       "      <td>Aesop Animal Body Wash 500ml</td>\n",
       "      <td>Aesop</td>\n",
       "      <td>https://www.lookfantastic.com/aesop-animal-bod...</td>\n",
       "      <td>Body Wash</td>\n",
       "      <td>Water (Aqua), Sodium Laureth Sulfate, Propylen...</td>\n",
       "      <td>27.0</td>\n",
       "      <td>500.0</td>\n",
       "    </tr>\n",
       "    <tr>\n",
       "      <th>...</th>\n",
       "      <td>...</td>\n",
       "      <td>...</td>\n",
       "      <td>...</td>\n",
       "      <td>...</td>\n",
       "      <td>...</td>\n",
       "      <td>...</td>\n",
       "      <td>...</td>\n",
       "    </tr>\n",
       "    <tr>\n",
       "      <th>1130</th>\n",
       "      <td>Zelens Triple Action Advanced Eye Cream</td>\n",
       "      <td>Zelens</td>\n",
       "      <td>https://www.lookfantastic.com/zelens-triple-ac...</td>\n",
       "      <td>Eye Care</td>\n",
       "      <td>Aqua (Water), Dimethicone, Cyclopentasiloxane,...</td>\n",
       "      <td>80.0</td>\n",
       "      <td>15.0</td>\n",
       "    </tr>\n",
       "    <tr>\n",
       "      <th>1131</th>\n",
       "      <td>Zelens Youth Concentrate Supreme Age-Defying S...</td>\n",
       "      <td>Zelens</td>\n",
       "      <td>https://www.lookfantastic.com/zelens-youth-con...</td>\n",
       "      <td>Serum</td>\n",
       "      <td>Water (Aqua), Caprylic/Capric Triglyceride, Hy...</td>\n",
       "      <td>160.0</td>\n",
       "      <td>30.0</td>\n",
       "    </tr>\n",
       "    <tr>\n",
       "      <th>1132</th>\n",
       "      <td>Zelens Z Hyaluron Hyaluronic Acid Complex Seru...</td>\n",
       "      <td>Zelens</td>\n",
       "      <td>https://www.lookfantastic.com/zelens-z-hyaluro...</td>\n",
       "      <td>Serum</td>\n",
       "      <td>Aqua (Water), Glycerin, Propanediol, Hydrolyze...</td>\n",
       "      <td>55.0</td>\n",
       "      <td>30.0</td>\n",
       "    </tr>\n",
       "    <tr>\n",
       "      <th>1133</th>\n",
       "      <td>Zelens PROVITAMIN D Fortifying Facial Mist 50ml</td>\n",
       "      <td>Zelens</td>\n",
       "      <td>https://www.lookfantastic.com/zelens-provitami...</td>\n",
       "      <td>Mist</td>\n",
       "      <td>Aqua (Water), Propanediol, Glycerin, Polyglyce...</td>\n",
       "      <td>55.0</td>\n",
       "      <td>50.0</td>\n",
       "    </tr>\n",
       "    <tr>\n",
       "      <th>1134</th>\n",
       "      <td>Zelens Z Balance Prebiotic and Probiotic Facia...</td>\n",
       "      <td>Zelens</td>\n",
       "      <td>https://www.lookfantastic.com/zelens-z-balance...</td>\n",
       "      <td>Mist</td>\n",
       "      <td>Aqua, Butylene Glycol, Sodium Lactate, Lactoba...</td>\n",
       "      <td>48.0</td>\n",
       "      <td>50.0</td>\n",
       "    </tr>\n",
       "  </tbody>\n",
       "</table>\n",
       "<p>1135 rows × 7 columns</p>\n",
       "</div>"
      ],
      "text/plain": [
       "                                           product_name     brand  \\\n",
       "0            Acorelle Pure Harvest Body Perfume - 100ml  Acorelle   \n",
       "1        Aesop Parsley Seed Anti-Oxidant Eye Cream 10ml     Aesop   \n",
       "2        Aesop Parsley Seed Anti-Oxidant Eye Serum 15ml     Aesop   \n",
       "3                     Aesop Amazing Face Cleanser 200ml     Aesop   \n",
       "4                          Aesop Animal Body Wash 500ml     Aesop   \n",
       "...                                                 ...       ...   \n",
       "1130            Zelens Triple Action Advanced Eye Cream    Zelens   \n",
       "1131  Zelens Youth Concentrate Supreme Age-Defying S...    Zelens   \n",
       "1132  Zelens Z Hyaluron Hyaluronic Acid Complex Seru...    Zelens   \n",
       "1133    Zelens PROVITAMIN D Fortifying Facial Mist 50ml    Zelens   \n",
       "1134  Zelens Z Balance Prebiotic and Probiotic Facia...    Zelens   \n",
       "\n",
       "                                            product_url product_type  \\\n",
       "0     https://www.lookfantastic.com/acorelle-pure-ha...         Mist   \n",
       "1     https://www.lookfantastic.com/aesop-parsley-se...     Eye Care   \n",
       "2     https://www.lookfantastic.com/aesop-parsley-se...     Eye Care   \n",
       "3     https://www.lookfantastic.com/aesop-amazing-fa...     Cleanser   \n",
       "4     https://www.lookfantastic.com/aesop-animal-bod...    Body Wash   \n",
       "...                                                 ...          ...   \n",
       "1130  https://www.lookfantastic.com/zelens-triple-ac...     Eye Care   \n",
       "1131  https://www.lookfantastic.com/zelens-youth-con...        Serum   \n",
       "1132  https://www.lookfantastic.com/zelens-z-hyaluro...        Serum   \n",
       "1133  https://www.lookfantastic.com/zelens-provitami...         Mist   \n",
       "1134  https://www.lookfantastic.com/zelens-z-balance...         Mist   \n",
       "\n",
       "                                            ingredients  price  contents  \n",
       "0     Alcohol, Aqua, Glycerin, Fragrance, Limonene, ...   10.0     100.0  \n",
       "1     Aloe Barbadensis Leaf Juice, Water, PEG-60 Alm...   63.0      10.0  \n",
       "2     Aloe Babedensis Lead Juice, Water (Aqua), PEG ...   57.0      15.0  \n",
       "3     Water, Cocamidopropyl Belaine, Sea Salt, Glyce...   35.0     200.0  \n",
       "4     Water (Aqua), Sodium Laureth Sulfate, Propylen...   27.0     500.0  \n",
       "...                                                 ...    ...       ...  \n",
       "1130  Aqua (Water), Dimethicone, Cyclopentasiloxane,...   80.0      15.0  \n",
       "1131  Water (Aqua), Caprylic/Capric Triglyceride, Hy...  160.0      30.0  \n",
       "1132  Aqua (Water), Glycerin, Propanediol, Hydrolyze...   55.0      30.0  \n",
       "1133  Aqua (Water), Propanediol, Glycerin, Polyglyce...   55.0      50.0  \n",
       "1134  Aqua, Butylene Glycol, Sodium Lactate, Lactoba...   48.0      50.0  \n",
       "\n",
       "[1135 rows x 7 columns]"
      ]
     },
     "execution_count": 4,
     "metadata": {},
     "output_type": "execute_result"
    }
   ],
   "source": [
    "skincare['contents'] = skincare['contents'].astype(float)\n",
    "skincare['price'] = skincare['price'].astype(float)\n",
    "skincare"
   ]
  },
  {
   "cell_type": "code",
   "execution_count": 5,
   "metadata": {},
   "outputs": [
    {
     "data": {
      "text/plain": [
       "array(['Mist', 'Eye Care', 'Cleanser', 'Body Wash', 'Mask', 'Bath Salts',\n",
       "       'Peel', 'Toner', 'Balm', 'Moisturiser', 'Bath Oil', 'Oil', 'Serum',\n",
       "       'Exfoliator'], dtype=object)"
      ]
     },
     "execution_count": 5,
     "metadata": {},
     "output_type": "execute_result"
    }
   ],
   "source": [
    "skincare['product_type'].unique() "
   ]
  },
  {
   "cell_type": "code",
   "execution_count": 6,
   "metadata": {},
   "outputs": [
    {
     "name": "stdout",
     "output_type": "stream",
     "text": [
      "count    1135.000000\n",
      "mean       23.963419\n",
      "std        21.713618\n",
      "min         1.950000\n",
      "25%         9.950000\n",
      "50%        18.900000\n",
      "75%        31.250000\n",
      "max       230.000000\n",
      "Name: price, dtype: float64\n"
     ]
    }
   ],
   "source": [
    "print(skincare['price'].describe())"
   ]
  },
  {
   "cell_type": "code",
   "execution_count": 7,
   "metadata": {},
   "outputs": [
    {
     "name": "stdout",
     "output_type": "stream",
     "text": [
      "<class 'pandas.core.series.Series'>\n"
     ]
    }
   ],
   "source": [
    "print(type(skincare['price']))"
   ]
  },
  {
   "cell_type": "code",
   "execution_count": 8,
   "metadata": {},
   "outputs": [],
   "source": [
    "# define a function that converts price to a class\n",
    "def price_to_class(x):\n",
    "    if x <= 9.950000:\n",
    "        x = 0\n",
    "    elif (x > 9.950000) and (x <= 18.900000):\n",
    "        x = 1\n",
    "    elif (x > 18.900000) and (x <= 31.250000):\n",
    "        x = 2\n",
    "    elif x > 31.250000: \n",
    "        x = 3\n",
    "    return x"
   ]
  },
  {
   "cell_type": "code",
   "execution_count": 9,
   "metadata": {},
   "outputs": [
    {
     "data": {
      "text/plain": [
       "0    286\n",
       "3    284\n",
       "2    283\n",
       "1    282\n",
       "Name: price, dtype: int64"
      ]
     },
     "execution_count": 9,
     "metadata": {},
     "output_type": "execute_result"
    }
   ],
   "source": [
    "skincare['price'] = skincare[\"price\"].apply(price_to_class)\n",
    "# convert the price to 1 for 'expensive' if over the 50 percentile, and to 0 for 'cheap' if under the 50 percentile\n",
    "skincare['price'].value_counts()"
   ]
  },
  {
   "cell_type": "code",
   "execution_count": 10,
   "metadata": {},
   "outputs": [
    {
     "data": {
      "text/plain": [
       "array([1, 3, 3, ..., 3, 3, 3], dtype=int64)"
      ]
     },
     "execution_count": 10,
     "metadata": {},
     "output_type": "execute_result"
    }
   ],
   "source": [
    "y = np.array(skincare['price'])\n",
    "y.shape\n",
    "# prepare labels\n",
    "y\n",
    "# labels now multiclass"
   ]
  },
  {
   "cell_type": "code",
   "execution_count": 11,
   "metadata": {},
   "outputs": [],
   "source": [
    "def tokenizer(x) -> list: \n",
    "    x = x.replace('(', '')\n",
    "    x = x.replace(')', '')\n",
    "    x = x.replace(\"\\xa0\", \" \")\n",
    "    x = x.replace(\".\", \",\")\n",
    "    x = x.replace(\" & \", \", \")\n",
    "    x = re.split(', ', x)\n",
    "    return x\n",
    "# define custom tokenizer"
   ]
  },
  {
   "cell_type": "code",
   "execution_count": 12,
   "metadata": {},
   "outputs": [],
   "source": [
    "ohe = OneHotEncoder()\n",
    "vect = CountVectorizer(tokenizer=lambda x: tokenizer(x))\n",
    "scaler = StandardScaler()\n",
    "# instantiate transformers"
   ]
  },
  {
   "cell_type": "code",
   "execution_count": 13,
   "metadata": {},
   "outputs": [
    {
     "data": {
      "text/html": [
       "<div>\n",
       "<style scoped>\n",
       "    .dataframe tbody tr th:only-of-type {\n",
       "        vertical-align: middle;\n",
       "    }\n",
       "\n",
       "    .dataframe tbody tr th {\n",
       "        vertical-align: top;\n",
       "    }\n",
       "\n",
       "    .dataframe thead th {\n",
       "        text-align: right;\n",
       "    }\n",
       "</style>\n",
       "<table border=\"1\" class=\"dataframe\">\n",
       "  <thead>\n",
       "    <tr style=\"text-align: right;\">\n",
       "      <th></th>\n",
       "      <th>brand</th>\n",
       "      <th>contents</th>\n",
       "      <th>product_type</th>\n",
       "      <th>ingredients</th>\n",
       "    </tr>\n",
       "  </thead>\n",
       "  <tbody>\n",
       "    <tr>\n",
       "      <th>0</th>\n",
       "      <td>Acorelle</td>\n",
       "      <td>100.0</td>\n",
       "      <td>Mist</td>\n",
       "      <td>Alcohol, Aqua, Glycerin, Fragrance, Limonene, ...</td>\n",
       "    </tr>\n",
       "    <tr>\n",
       "      <th>1</th>\n",
       "      <td>Aesop</td>\n",
       "      <td>10.0</td>\n",
       "      <td>Eye Care</td>\n",
       "      <td>Aloe Barbadensis Leaf Juice, Water, PEG-60 Alm...</td>\n",
       "    </tr>\n",
       "    <tr>\n",
       "      <th>2</th>\n",
       "      <td>Aesop</td>\n",
       "      <td>15.0</td>\n",
       "      <td>Eye Care</td>\n",
       "      <td>Aloe Babedensis Lead Juice, Water (Aqua), PEG ...</td>\n",
       "    </tr>\n",
       "    <tr>\n",
       "      <th>3</th>\n",
       "      <td>Aesop</td>\n",
       "      <td>200.0</td>\n",
       "      <td>Cleanser</td>\n",
       "      <td>Water, Cocamidopropyl Belaine, Sea Salt, Glyce...</td>\n",
       "    </tr>\n",
       "    <tr>\n",
       "      <th>4</th>\n",
       "      <td>Aesop</td>\n",
       "      <td>500.0</td>\n",
       "      <td>Body Wash</td>\n",
       "      <td>Water (Aqua), Sodium Laureth Sulfate, Propylen...</td>\n",
       "    </tr>\n",
       "    <tr>\n",
       "      <th>...</th>\n",
       "      <td>...</td>\n",
       "      <td>...</td>\n",
       "      <td>...</td>\n",
       "      <td>...</td>\n",
       "    </tr>\n",
       "    <tr>\n",
       "      <th>1130</th>\n",
       "      <td>Zelens</td>\n",
       "      <td>15.0</td>\n",
       "      <td>Eye Care</td>\n",
       "      <td>Aqua (Water), Dimethicone, Cyclopentasiloxane,...</td>\n",
       "    </tr>\n",
       "    <tr>\n",
       "      <th>1131</th>\n",
       "      <td>Zelens</td>\n",
       "      <td>30.0</td>\n",
       "      <td>Serum</td>\n",
       "      <td>Water (Aqua), Caprylic/Capric Triglyceride, Hy...</td>\n",
       "    </tr>\n",
       "    <tr>\n",
       "      <th>1132</th>\n",
       "      <td>Zelens</td>\n",
       "      <td>30.0</td>\n",
       "      <td>Serum</td>\n",
       "      <td>Aqua (Water), Glycerin, Propanediol, Hydrolyze...</td>\n",
       "    </tr>\n",
       "    <tr>\n",
       "      <th>1133</th>\n",
       "      <td>Zelens</td>\n",
       "      <td>50.0</td>\n",
       "      <td>Mist</td>\n",
       "      <td>Aqua (Water), Propanediol, Glycerin, Polyglyce...</td>\n",
       "    </tr>\n",
       "    <tr>\n",
       "      <th>1134</th>\n",
       "      <td>Zelens</td>\n",
       "      <td>50.0</td>\n",
       "      <td>Mist</td>\n",
       "      <td>Aqua, Butylene Glycol, Sodium Lactate, Lactoba...</td>\n",
       "    </tr>\n",
       "  </tbody>\n",
       "</table>\n",
       "<p>1135 rows × 4 columns</p>\n",
       "</div>"
      ],
      "text/plain": [
       "         brand  contents product_type  \\\n",
       "0     Acorelle     100.0         Mist   \n",
       "1        Aesop      10.0     Eye Care   \n",
       "2        Aesop      15.0     Eye Care   \n",
       "3        Aesop     200.0     Cleanser   \n",
       "4        Aesop     500.0    Body Wash   \n",
       "...        ...       ...          ...   \n",
       "1130    Zelens      15.0     Eye Care   \n",
       "1131    Zelens      30.0        Serum   \n",
       "1132    Zelens      30.0        Serum   \n",
       "1133    Zelens      50.0         Mist   \n",
       "1134    Zelens      50.0         Mist   \n",
       "\n",
       "                                            ingredients  \n",
       "0     Alcohol, Aqua, Glycerin, Fragrance, Limonene, ...  \n",
       "1     Aloe Barbadensis Leaf Juice, Water, PEG-60 Alm...  \n",
       "2     Aloe Babedensis Lead Juice, Water (Aqua), PEG ...  \n",
       "3     Water, Cocamidopropyl Belaine, Sea Salt, Glyce...  \n",
       "4     Water (Aqua), Sodium Laureth Sulfate, Propylen...  \n",
       "...                                                 ...  \n",
       "1130  Aqua (Water), Dimethicone, Cyclopentasiloxane,...  \n",
       "1131  Water (Aqua), Caprylic/Capric Triglyceride, Hy...  \n",
       "1132  Aqua (Water), Glycerin, Propanediol, Hydrolyze...  \n",
       "1133  Aqua (Water), Propanediol, Glycerin, Polyglyce...  \n",
       "1134  Aqua, Butylene Glycol, Sodium Lactate, Lactoba...  \n",
       "\n",
       "[1135 rows x 4 columns]"
      ]
     },
     "execution_count": 13,
     "metadata": {},
     "output_type": "execute_result"
    }
   ],
   "source": [
    "X = skincare[['brand', 'contents', 'product_type', 'ingredients']]\n",
    "X\n",
    "# dataset has all predictors"
   ]
  },
  {
   "cell_type": "code",
   "execution_count": 14,
   "metadata": {},
   "outputs": [],
   "source": [
    "X_train, X_test, y_train, y_test = train_test_split(X, y, \n",
    "                                                    test_size = 0.4, random_state=random_state, stratify=y)\n",
    "# prepare train and test datasets"
   ]
  },
  {
   "cell_type": "code",
   "execution_count": 15,
   "metadata": {},
   "outputs": [
    {
     "data": {
      "text/html": [
       "<div>\n",
       "<style scoped>\n",
       "    .dataframe tbody tr th:only-of-type {\n",
       "        vertical-align: middle;\n",
       "    }\n",
       "\n",
       "    .dataframe tbody tr th {\n",
       "        vertical-align: top;\n",
       "    }\n",
       "\n",
       "    .dataframe thead th {\n",
       "        text-align: right;\n",
       "    }\n",
       "</style>\n",
       "<table border=\"1\" class=\"dataframe\">\n",
       "  <thead>\n",
       "    <tr style=\"text-align: right;\">\n",
       "      <th></th>\n",
       "      <th>brand</th>\n",
       "      <th>contents</th>\n",
       "      <th>product_type</th>\n",
       "      <th>ingredients</th>\n",
       "    </tr>\n",
       "  </thead>\n",
       "  <tbody>\n",
       "    <tr>\n",
       "      <th>523</th>\n",
       "      <td>Holika Holika</td>\n",
       "      <td>150.0</td>\n",
       "      <td>Serum</td>\n",
       "      <td>Water, Ethanol, Bis-PEG-18 Methyl Ether Dimeth...</td>\n",
       "    </tr>\n",
       "    <tr>\n",
       "      <th>824</th>\n",
       "      <td>NIP+FAB</td>\n",
       "      <td>23.0</td>\n",
       "      <td>Mask</td>\n",
       "      <td>Aqua (Water), Glycerin, Cocamidopropyl Betaine...</td>\n",
       "    </tr>\n",
       "    <tr>\n",
       "      <th>598</th>\n",
       "      <td>La Roche-Posay</td>\n",
       "      <td>200.0</td>\n",
       "      <td>Cleanser</td>\n",
       "      <td>Water, Decyl Glucoside, Sodium Laureth Sulfate...</td>\n",
       "    </tr>\n",
       "    <tr>\n",
       "      <th>1074</th>\n",
       "      <td>The Organic Pharmacy</td>\n",
       "      <td>30.0</td>\n",
       "      <td>Serum</td>\n",
       "      <td>Hamamelis Virginiana Water, Aqua (Water), Citr...</td>\n",
       "    </tr>\n",
       "    <tr>\n",
       "      <th>271</th>\n",
       "      <td>Clinique</td>\n",
       "      <td>7.0</td>\n",
       "      <td>Balm</td>\n",
       "      <td>Petrolatum, Polybutene, Polydecene, Bis-Diglyc...</td>\n",
       "    </tr>\n",
       "    <tr>\n",
       "      <th>...</th>\n",
       "      <td>...</td>\n",
       "      <td>...</td>\n",
       "      <td>...</td>\n",
       "      <td>...</td>\n",
       "    </tr>\n",
       "    <tr>\n",
       "      <th>101</th>\n",
       "      <td>Balance Me</td>\n",
       "      <td>15.0</td>\n",
       "      <td>Eye Care</td>\n",
       "      <td>Aqua (Water), Glycerin (Vegetable), Hamamelis ...</td>\n",
       "    </tr>\n",
       "    <tr>\n",
       "      <th>1014</th>\n",
       "      <td>Skin Doctors</td>\n",
       "      <td>50.0</td>\n",
       "      <td>Moisturiser</td>\n",
       "      <td>Aqua(Water), Butylene Glycol, Ethylhexyl, Meth...</td>\n",
       "    </tr>\n",
       "    <tr>\n",
       "      <th>1051</th>\n",
       "      <td>The INKEY List</td>\n",
       "      <td>30.0</td>\n",
       "      <td>Moisturiser</td>\n",
       "      <td>Aqua (Water/ Eau), Squalane, Glycerin, Propane...</td>\n",
       "    </tr>\n",
       "    <tr>\n",
       "      <th>41</th>\n",
       "      <td>APIVITA</td>\n",
       "      <td>16.0</td>\n",
       "      <td>Mask</td>\n",
       "      <td>Aqua (Water), Caprylic/Capric Triglyceride, Gl...</td>\n",
       "    </tr>\n",
       "    <tr>\n",
       "      <th>539</th>\n",
       "      <td>Holika Holika</td>\n",
       "      <td>23.0</td>\n",
       "      <td>Mask</td>\n",
       "      <td>Water, Glycerin, Dipropylene Glycol, Betaine, ...</td>\n",
       "    </tr>\n",
       "  </tbody>\n",
       "</table>\n",
       "<p>681 rows × 4 columns</p>\n",
       "</div>"
      ],
      "text/plain": [
       "                     brand  contents product_type  \\\n",
       "523          Holika Holika     150.0        Serum   \n",
       "824                NIP+FAB      23.0         Mask   \n",
       "598         La Roche-Posay     200.0     Cleanser   \n",
       "1074  The Organic Pharmacy      30.0        Serum   \n",
       "271               Clinique       7.0         Balm   \n",
       "...                    ...       ...          ...   \n",
       "101             Balance Me      15.0     Eye Care   \n",
       "1014          Skin Doctors      50.0  Moisturiser   \n",
       "1051        The INKEY List      30.0  Moisturiser   \n",
       "41                 APIVITA      16.0         Mask   \n",
       "539          Holika Holika      23.0         Mask   \n",
       "\n",
       "                                            ingredients  \n",
       "523   Water, Ethanol, Bis-PEG-18 Methyl Ether Dimeth...  \n",
       "824   Aqua (Water), Glycerin, Cocamidopropyl Betaine...  \n",
       "598   Water, Decyl Glucoside, Sodium Laureth Sulfate...  \n",
       "1074  Hamamelis Virginiana Water, Aqua (Water), Citr...  \n",
       "271   Petrolatum, Polybutene, Polydecene, Bis-Diglyc...  \n",
       "...                                                 ...  \n",
       "101   Aqua (Water), Glycerin (Vegetable), Hamamelis ...  \n",
       "1014  Aqua(Water), Butylene Glycol, Ethylhexyl, Meth...  \n",
       "1051  Aqua (Water/ Eau), Squalane, Glycerin, Propane...  \n",
       "41    Aqua (Water), Caprylic/Capric Triglyceride, Gl...  \n",
       "539   Water, Glycerin, Dipropylene Glycol, Betaine, ...  \n",
       "\n",
       "[681 rows x 4 columns]"
      ]
     },
     "execution_count": 15,
     "metadata": {},
     "output_type": "execute_result"
    }
   ],
   "source": [
    "X_train"
   ]
  },
  {
   "cell_type": "markdown",
   "metadata": {},
   "source": [
    "# w/ BRAND - MULTICLASS - LOGISTIC REGRESSION"
   ]
  },
  {
   "cell_type": "code",
   "execution_count": 16,
   "metadata": {},
   "outputs": [],
   "source": [
    "ct = make_column_transformer(\n",
    "    (ohe, [\"product_type\"]),\n",
    "    (vect, \"brand\"),\n",
    "    (vect, 'ingredients'),\n",
    "    (scaler, [\"contents\"]),\n",
    "    remainder=\"passthrough\")\n",
    "# prepare column transformers"
   ]
  },
  {
   "cell_type": "markdown",
   "metadata": {},
   "source": [
    "## One-vs-rest classification"
   ]
  },
  {
   "cell_type": "code",
   "execution_count": 17,
   "metadata": {},
   "outputs": [
    {
     "data": {
      "text/plain": [
       "Pipeline(steps=[('columntransformer',\n",
       "                 ColumnTransformer(remainder='passthrough',\n",
       "                                   transformers=[('onehotencoder',\n",
       "                                                  OneHotEncoder(),\n",
       "                                                  ['product_type']),\n",
       "                                                 ('countvectorizer-1',\n",
       "                                                  CountVectorizer(tokenizer=<function <lambda> at 0x00000196FAFFF160>),\n",
       "                                                  'brand'),\n",
       "                                                 ('countvectorizer-2',\n",
       "                                                  CountVectorizer(tokenizer=<function <lambda> at 0x00000196FAFFF160>),\n",
       "                                                  'ingredients'),\n",
       "                                                 ('standardscaler',\n",
       "                                                  StandardScaler(),\n",
       "                                                  ['contents'])])),\n",
       "                ('logisticregression', LogisticRegression(random_state=1))])"
      ]
     },
     "execution_count": 17,
     "metadata": {},
     "output_type": "execute_result"
    }
   ],
   "source": [
    "from sklearn.linear_model import LogisticRegression\n",
    "\n",
    "lr_ovr = LogisticRegression(random_state=random_state)\n",
    "# logistic regression does one-vs-rest classification naturally\n",
    "lrovr_pipe = make_pipeline(ct, lr_ovr)\n",
    "lrovr_pipe.fit(X_train, y_train)"
   ]
  },
  {
   "cell_type": "code",
   "execution_count": 18,
   "metadata": {},
   "outputs": [
    {
     "data": {
      "text/plain": [
       "(4,)"
      ]
     },
     "execution_count": 18,
     "metadata": {},
     "output_type": "execute_result"
    }
   ],
   "source": [
    "lr_ovr.intercept_.shape\n",
    "# 4 intercepts for 4 classifiers"
   ]
  },
  {
   "cell_type": "code",
   "execution_count": 19,
   "metadata": {},
   "outputs": [
    {
     "data": {
      "text/plain": [
       "(4, 3795)"
      ]
     },
     "execution_count": 19,
     "metadata": {},
     "output_type": "execute_result"
    }
   ],
   "source": [
    "lr_ovr.coef_.shape"
   ]
  },
  {
   "cell_type": "code",
   "execution_count": 20,
   "metadata": {},
   "outputs": [],
   "source": [
    "lrovr_predictions = lrovr_pipe.predict(X_test)"
   ]
  },
  {
   "cell_type": "code",
   "execution_count": 21,
   "metadata": {},
   "outputs": [
    {
     "data": {
      "text/plain": [
       "0.5484581497797357"
      ]
     },
     "execution_count": 21,
     "metadata": {},
     "output_type": "execute_result"
    }
   ],
   "source": [
    "accuracy_score(y_test, lrovr_predictions)\n",
    "# get initial terrible accuracy score - hopefully it gets better"
   ]
  },
  {
   "cell_type": "code",
   "execution_count": 22,
   "metadata": {},
   "outputs": [
    {
     "name": "stderr",
     "output_type": "stream",
     "text": [
      "C:\\Users\\Dora\\anaconda3\\lib\\site-packages\\sklearn\\linear_model\\_sag.py:329: ConvergenceWarning: The max_iter was reached which means the coef_ did not converge\n",
      "  warnings.warn(\"The max_iter was reached which means \"\n",
      "C:\\Users\\Dora\\anaconda3\\lib\\site-packages\\sklearn\\linear_model\\_sag.py:329: ConvergenceWarning: The max_iter was reached which means the coef_ did not converge\n",
      "  warnings.warn(\"The max_iter was reached which means \"\n",
      "C:\\Users\\Dora\\anaconda3\\lib\\site-packages\\sklearn\\linear_model\\_sag.py:329: ConvergenceWarning: The max_iter was reached which means the coef_ did not converge\n",
      "  warnings.warn(\"The max_iter was reached which means \"\n",
      "C:\\Users\\Dora\\anaconda3\\lib\\site-packages\\sklearn\\linear_model\\_sag.py:329: ConvergenceWarning: The max_iter was reached which means the coef_ did not converge\n",
      "  warnings.warn(\"The max_iter was reached which means \"\n",
      "C:\\Users\\Dora\\anaconda3\\lib\\site-packages\\sklearn\\linear_model\\_sag.py:329: ConvergenceWarning: The max_iter was reached which means the coef_ did not converge\n",
      "  warnings.warn(\"The max_iter was reached which means \"\n",
      "C:\\Users\\Dora\\anaconda3\\lib\\site-packages\\sklearn\\linear_model\\_sag.py:329: ConvergenceWarning: The max_iter was reached which means the coef_ did not converge\n",
      "  warnings.warn(\"The max_iter was reached which means \"\n",
      "C:\\Users\\Dora\\anaconda3\\lib\\site-packages\\sklearn\\linear_model\\_sag.py:329: ConvergenceWarning: The max_iter was reached which means the coef_ did not converge\n",
      "  warnings.warn(\"The max_iter was reached which means \"\n",
      "C:\\Users\\Dora\\anaconda3\\lib\\site-packages\\sklearn\\linear_model\\_sag.py:329: ConvergenceWarning: The max_iter was reached which means the coef_ did not converge\n",
      "  warnings.warn(\"The max_iter was reached which means \"\n",
      "C:\\Users\\Dora\\anaconda3\\lib\\site-packages\\sklearn\\linear_model\\_sag.py:329: ConvergenceWarning: The max_iter was reached which means the coef_ did not converge\n",
      "  warnings.warn(\"The max_iter was reached which means \"\n",
      "C:\\Users\\Dora\\anaconda3\\lib\\site-packages\\sklearn\\linear_model\\_sag.py:329: ConvergenceWarning: The max_iter was reached which means the coef_ did not converge\n",
      "  warnings.warn(\"The max_iter was reached which means \"\n",
      "C:\\Users\\Dora\\anaconda3\\lib\\site-packages\\sklearn\\linear_model\\_logistic.py:762: ConvergenceWarning: lbfgs failed to converge (status=1):\n",
      "STOP: TOTAL NO. of ITERATIONS REACHED LIMIT.\n",
      "\n",
      "Increase the number of iterations (max_iter) or scale the data as shown in:\n",
      "    https://scikit-learn.org/stable/modules/preprocessing.html\n",
      "Please also refer to the documentation for alternative solver options:\n",
      "    https://scikit-learn.org/stable/modules/linear_model.html#logistic-regression\n",
      "  n_iter_i = _check_optimize_result(\n",
      "C:\\Users\\Dora\\anaconda3\\lib\\site-packages\\sklearn\\linear_model\\_logistic.py:762: ConvergenceWarning: lbfgs failed to converge (status=1):\n",
      "STOP: TOTAL NO. of ITERATIONS REACHED LIMIT.\n",
      "\n",
      "Increase the number of iterations (max_iter) or scale the data as shown in:\n",
      "    https://scikit-learn.org/stable/modules/preprocessing.html\n",
      "Please also refer to the documentation for alternative solver options:\n",
      "    https://scikit-learn.org/stable/modules/linear_model.html#logistic-regression\n",
      "  n_iter_i = _check_optimize_result(\n",
      "C:\\Users\\Dora\\anaconda3\\lib\\site-packages\\sklearn\\linear_model\\_logistic.py:762: ConvergenceWarning: lbfgs failed to converge (status=1):\n",
      "STOP: TOTAL NO. of ITERATIONS REACHED LIMIT.\n",
      "\n",
      "Increase the number of iterations (max_iter) or scale the data as shown in:\n",
      "    https://scikit-learn.org/stable/modules/preprocessing.html\n",
      "Please also refer to the documentation for alternative solver options:\n",
      "    https://scikit-learn.org/stable/modules/linear_model.html#logistic-regression\n",
      "  n_iter_i = _check_optimize_result(\n",
      "C:\\Users\\Dora\\anaconda3\\lib\\site-packages\\sklearn\\linear_model\\_logistic.py:762: ConvergenceWarning: lbfgs failed to converge (status=1):\n",
      "STOP: TOTAL NO. of ITERATIONS REACHED LIMIT.\n",
      "\n",
      "Increase the number of iterations (max_iter) or scale the data as shown in:\n",
      "    https://scikit-learn.org/stable/modules/preprocessing.html\n",
      "Please also refer to the documentation for alternative solver options:\n",
      "    https://scikit-learn.org/stable/modules/linear_model.html#logistic-regression\n",
      "  n_iter_i = _check_optimize_result(\n",
      "C:\\Users\\Dora\\anaconda3\\lib\\site-packages\\sklearn\\linear_model\\_logistic.py:762: ConvergenceWarning: lbfgs failed to converge (status=1):\n",
      "STOP: TOTAL NO. of ITERATIONS REACHED LIMIT.\n",
      "\n",
      "Increase the number of iterations (max_iter) or scale the data as shown in:\n",
      "    https://scikit-learn.org/stable/modules/preprocessing.html\n",
      "Please also refer to the documentation for alternative solver options:\n",
      "    https://scikit-learn.org/stable/modules/linear_model.html#logistic-regression\n",
      "  n_iter_i = _check_optimize_result(\n",
      "C:\\Users\\Dora\\anaconda3\\lib\\site-packages\\sklearn\\linear_model\\_logistic.py:762: ConvergenceWarning: lbfgs failed to converge (status=1):\n",
      "STOP: TOTAL NO. of ITERATIONS REACHED LIMIT.\n",
      "\n",
      "Increase the number of iterations (max_iter) or scale the data as shown in:\n",
      "    https://scikit-learn.org/stable/modules/preprocessing.html\n",
      "Please also refer to the documentation for alternative solver options:\n",
      "    https://scikit-learn.org/stable/modules/linear_model.html#logistic-regression\n",
      "  n_iter_i = _check_optimize_result(\n",
      "C:\\Users\\Dora\\anaconda3\\lib\\site-packages\\sklearn\\linear_model\\_logistic.py:762: ConvergenceWarning: lbfgs failed to converge (status=1):\n",
      "STOP: TOTAL NO. of ITERATIONS REACHED LIMIT.\n",
      "\n",
      "Increase the number of iterations (max_iter) or scale the data as shown in:\n",
      "    https://scikit-learn.org/stable/modules/preprocessing.html\n",
      "Please also refer to the documentation for alternative solver options:\n",
      "    https://scikit-learn.org/stable/modules/linear_model.html#logistic-regression\n",
      "  n_iter_i = _check_optimize_result(\n",
      "C:\\Users\\Dora\\anaconda3\\lib\\site-packages\\sklearn\\linear_model\\_logistic.py:762: ConvergenceWarning: lbfgs failed to converge (status=1):\n",
      "STOP: TOTAL NO. of ITERATIONS REACHED LIMIT.\n",
      "\n",
      "Increase the number of iterations (max_iter) or scale the data as shown in:\n",
      "    https://scikit-learn.org/stable/modules/preprocessing.html\n",
      "Please also refer to the documentation for alternative solver options:\n",
      "    https://scikit-learn.org/stable/modules/linear_model.html#logistic-regression\n",
      "  n_iter_i = _check_optimize_result(\n",
      "C:\\Users\\Dora\\anaconda3\\lib\\site-packages\\sklearn\\linear_model\\_logistic.py:762: ConvergenceWarning: lbfgs failed to converge (status=1):\n",
      "STOP: TOTAL NO. of ITERATIONS REACHED LIMIT.\n",
      "\n",
      "Increase the number of iterations (max_iter) or scale the data as shown in:\n",
      "    https://scikit-learn.org/stable/modules/preprocessing.html\n",
      "Please also refer to the documentation for alternative solver options:\n",
      "    https://scikit-learn.org/stable/modules/linear_model.html#logistic-regression\n",
      "  n_iter_i = _check_optimize_result(\n",
      "C:\\Users\\Dora\\anaconda3\\lib\\site-packages\\sklearn\\linear_model\\_logistic.py:762: ConvergenceWarning: lbfgs failed to converge (status=1):\n",
      "STOP: TOTAL NO. of ITERATIONS REACHED LIMIT.\n",
      "\n",
      "Increase the number of iterations (max_iter) or scale the data as shown in:\n",
      "    https://scikit-learn.org/stable/modules/preprocessing.html\n",
      "Please also refer to the documentation for alternative solver options:\n",
      "    https://scikit-learn.org/stable/modules/linear_model.html#logistic-regression\n",
      "  n_iter_i = _check_optimize_result(\n",
      "C:\\Users\\Dora\\anaconda3\\lib\\site-packages\\sklearn\\linear_model\\_sag.py:329: ConvergenceWarning: The max_iter was reached which means the coef_ did not converge\n",
      "  warnings.warn(\"The max_iter was reached which means \"\n",
      "C:\\Users\\Dora\\anaconda3\\lib\\site-packages\\sklearn\\linear_model\\_sag.py:329: ConvergenceWarning: The max_iter was reached which means the coef_ did not converge\n",
      "  warnings.warn(\"The max_iter was reached which means \"\n",
      "C:\\Users\\Dora\\anaconda3\\lib\\site-packages\\sklearn\\linear_model\\_sag.py:329: ConvergenceWarning: The max_iter was reached which means the coef_ did not converge\n",
      "  warnings.warn(\"The max_iter was reached which means \"\n",
      "C:\\Users\\Dora\\anaconda3\\lib\\site-packages\\sklearn\\linear_model\\_sag.py:329: ConvergenceWarning: The max_iter was reached which means the coef_ did not converge\n",
      "  warnings.warn(\"The max_iter was reached which means \"\n",
      "C:\\Users\\Dora\\anaconda3\\lib\\site-packages\\sklearn\\linear_model\\_sag.py:329: ConvergenceWarning: The max_iter was reached which means the coef_ did not converge\n",
      "  warnings.warn(\"The max_iter was reached which means \"\n"
     ]
    },
    {
     "name": "stderr",
     "output_type": "stream",
     "text": [
      "C:\\Users\\Dora\\anaconda3\\lib\\site-packages\\sklearn\\linear_model\\_sag.py:329: ConvergenceWarning: The max_iter was reached which means the coef_ did not converge\n",
      "  warnings.warn(\"The max_iter was reached which means \"\n",
      "C:\\Users\\Dora\\anaconda3\\lib\\site-packages\\sklearn\\linear_model\\_sag.py:329: ConvergenceWarning: The max_iter was reached which means the coef_ did not converge\n",
      "  warnings.warn(\"The max_iter was reached which means \"\n",
      "C:\\Users\\Dora\\anaconda3\\lib\\site-packages\\sklearn\\linear_model\\_sag.py:329: ConvergenceWarning: The max_iter was reached which means the coef_ did not converge\n",
      "  warnings.warn(\"The max_iter was reached which means \"\n",
      "C:\\Users\\Dora\\anaconda3\\lib\\site-packages\\sklearn\\linear_model\\_sag.py:329: ConvergenceWarning: The max_iter was reached which means the coef_ did not converge\n",
      "  warnings.warn(\"The max_iter was reached which means \"\n",
      "C:\\Users\\Dora\\anaconda3\\lib\\site-packages\\sklearn\\linear_model\\_sag.py:329: ConvergenceWarning: The max_iter was reached which means the coef_ did not converge\n",
      "  warnings.warn(\"The max_iter was reached which means \"\n",
      "C:\\Users\\Dora\\anaconda3\\lib\\site-packages\\sklearn\\linear_model\\_sag.py:329: ConvergenceWarning: The max_iter was reached which means the coef_ did not converge\n",
      "  warnings.warn(\"The max_iter was reached which means \"\n",
      "C:\\Users\\Dora\\anaconda3\\lib\\site-packages\\sklearn\\linear_model\\_sag.py:329: ConvergenceWarning: The max_iter was reached which means the coef_ did not converge\n",
      "  warnings.warn(\"The max_iter was reached which means \"\n",
      "C:\\Users\\Dora\\anaconda3\\lib\\site-packages\\sklearn\\linear_model\\_sag.py:329: ConvergenceWarning: The max_iter was reached which means the coef_ did not converge\n",
      "  warnings.warn(\"The max_iter was reached which means \"\n",
      "C:\\Users\\Dora\\anaconda3\\lib\\site-packages\\sklearn\\linear_model\\_sag.py:329: ConvergenceWarning: The max_iter was reached which means the coef_ did not converge\n",
      "  warnings.warn(\"The max_iter was reached which means \"\n",
      "C:\\Users\\Dora\\anaconda3\\lib\\site-packages\\sklearn\\linear_model\\_sag.py:329: ConvergenceWarning: The max_iter was reached which means the coef_ did not converge\n",
      "  warnings.warn(\"The max_iter was reached which means \"\n",
      "C:\\Users\\Dora\\anaconda3\\lib\\site-packages\\sklearn\\linear_model\\_sag.py:329: ConvergenceWarning: The max_iter was reached which means the coef_ did not converge\n",
      "  warnings.warn(\"The max_iter was reached which means \"\n"
     ]
    },
    {
     "data": {
      "text/plain": [
       "{'logisticregression__tol': 0.1,\n",
       " 'logisticregression__solver': 'newton-cg',\n",
       " 'logisticregression__C': 10}"
      ]
     },
     "execution_count": 22,
     "metadata": {},
     "output_type": "execute_result"
    }
   ],
   "source": [
    "solvers = ['newton-cg', 'lbfgs', 'liblinear', 'sag', 'saga']\n",
    "tols = [0.00001, 0.0001, 0.001, 0.01, 0.1, 1, 10, 100, 1000, 10000]\n",
    "Cs = [0.00001, 0.0001, 0.001, 0.01, 0.1, 1, 10, 100, 1000, 10000]\n",
    "param_grid = {'logisticregression__C': Cs, 'logisticregression__solver':solvers, 'logisticregression__tol':tols}\n",
    "lrovr_pipe = make_pipeline(ct, lr_ovr)\n",
    "lrovr_gs = RandomizedSearchCV(estimator=lrovr_pipe, param_distributions=param_grid, random_state=random_state, scoring='accuracy', cv=10, refit=True)\n",
    "lrovr_gs = lrovr_gs.fit(X_train, y_train)\n",
    "lrovr_gs.best_params_"
   ]
  },
  {
   "cell_type": "code",
   "execution_count": 23,
   "metadata": {},
   "outputs": [
    {
     "data": {
      "text/plain": [
       "0.5550660792951542"
      ]
     },
     "execution_count": 23,
     "metadata": {},
     "output_type": "execute_result"
    }
   ],
   "source": [
    "best_lrovr = lrovr_gs.best_estimator_   # refitting done automatically\n",
    "best_lrovr.score(X_test, y_test)\n",
    "# get the optimal accuracy score, still terrible"
   ]
  },
  {
   "cell_type": "code",
   "execution_count": 24,
   "metadata": {},
   "outputs": [
    {
     "name": "stdout",
     "output_type": "stream",
     "text": [
      "[0.55072464 0.45588235 0.60294118 0.52941176 0.48529412 0.61764706\n",
      " 0.55882353 0.45588235 0.57352941 0.51470588]\n"
     ]
    }
   ],
   "source": [
    "scores = cross_val_score(estimator=best_lrovr, X=X_train, y=y_train, cv=10, n_jobs=-1)\n",
    "print(scores)"
   ]
  },
  {
   "cell_type": "code",
   "execution_count": 25,
   "metadata": {},
   "outputs": [
    {
     "name": "stdout",
     "output_type": "stream",
     "text": [
      "Accuracy = 0.53448423 +/- 0.05401498\n"
     ]
    }
   ],
   "source": [
    "print('Accuracy = {:.8f} +/- {:.8f}'.format(np.mean(scores), np.std(scores)))\n",
    "# sadly report terrible cross validation accuracy score"
   ]
  },
  {
   "cell_type": "markdown",
   "metadata": {},
   "source": [
    "# Multinomial classification"
   ]
  },
  {
   "cell_type": "code",
   "execution_count": 26,
   "metadata": {},
   "outputs": [
    {
     "data": {
      "text/plain": [
       "Pipeline(steps=[('columntransformer',\n",
       "                 ColumnTransformer(remainder='passthrough',\n",
       "                                   transformers=[('onehotencoder',\n",
       "                                                  OneHotEncoder(),\n",
       "                                                  ['product_type']),\n",
       "                                                 ('countvectorizer-1',\n",
       "                                                  CountVectorizer(tokenizer=<function <lambda> at 0x00000196FAFFF160>),\n",
       "                                                  'brand'),\n",
       "                                                 ('countvectorizer-2',\n",
       "                                                  CountVectorizer(tokenizer=<function <lambda> at 0x00000196FAFFF160>),\n",
       "                                                  'ingredients'),\n",
       "                                                 ('standardscaler',\n",
       "                                                  StandardScaler(),\n",
       "                                                  ['contents'])])),\n",
       "                ('logisticregression',\n",
       "                 LogisticRegression(multi_class='multinomial'))])"
      ]
     },
     "execution_count": 26,
     "metadata": {},
     "output_type": "execute_result"
    }
   ],
   "source": [
    "from sklearn.feature_selection import SelectFromModel\n",
    "from sklearn.svm import LinearSVC\n",
    "lr_mn = LogisticRegression(multi_class='multinomial', solver='lbfgs')\n",
    "lrmn_pipe = make_pipeline(ct, lr_mn)\n",
    "\n",
    "lrmn_pipe.fit(X_train, y_train)"
   ]
  },
  {
   "cell_type": "code",
   "execution_count": 27,
   "metadata": {},
   "outputs": [],
   "source": [
    "lrmn_predictions = lrmn_pipe.predict(X_test)"
   ]
  },
  {
   "cell_type": "code",
   "execution_count": 28,
   "metadata": {},
   "outputs": [
    {
     "data": {
      "text/plain": [
       "0.5484581497797357"
      ]
     },
     "execution_count": 28,
     "metadata": {},
     "output_type": "execute_result"
    }
   ],
   "source": [
    "accuracy_score(y_test, lrmn_predictions)"
   ]
  },
  {
   "cell_type": "code",
   "execution_count": 29,
   "metadata": {},
   "outputs": [
    {
     "data": {
      "text/plain": [
       "array([[82, 22,  7,  3],\n",
       "       [25, 57, 24,  7],\n",
       "       [14, 24, 49, 26],\n",
       "       [10, 12, 31, 61]], dtype=int64)"
      ]
     },
     "execution_count": 29,
     "metadata": {},
     "output_type": "execute_result"
    }
   ],
   "source": [
    "confusion_matrix(y_test, lrmn_predictions)\n",
    "# highest numbers in diagnonal=mostly correct classifications, but lots of misclassifications"
   ]
  },
  {
   "cell_type": "code",
   "execution_count": 30,
   "metadata": {},
   "outputs": [
    {
     "name": "stderr",
     "output_type": "stream",
     "text": [
      "C:\\Users\\Dora\\anaconda3\\lib\\site-packages\\sklearn\\linear_model\\_logistic.py:762: ConvergenceWarning: lbfgs failed to converge (status=1):\n",
      "STOP: TOTAL NO. of ITERATIONS REACHED LIMIT.\n",
      "\n",
      "Increase the number of iterations (max_iter) or scale the data as shown in:\n",
      "    https://scikit-learn.org/stable/modules/preprocessing.html\n",
      "Please also refer to the documentation for alternative solver options:\n",
      "    https://scikit-learn.org/stable/modules/linear_model.html#logistic-regression\n",
      "  n_iter_i = _check_optimize_result(\n",
      "C:\\Users\\Dora\\anaconda3\\lib\\site-packages\\sklearn\\linear_model\\_logistic.py:762: ConvergenceWarning: lbfgs failed to converge (status=1):\n",
      "STOP: TOTAL NO. of ITERATIONS REACHED LIMIT.\n",
      "\n",
      "Increase the number of iterations (max_iter) or scale the data as shown in:\n",
      "    https://scikit-learn.org/stable/modules/preprocessing.html\n",
      "Please also refer to the documentation for alternative solver options:\n",
      "    https://scikit-learn.org/stable/modules/linear_model.html#logistic-regression\n",
      "  n_iter_i = _check_optimize_result(\n",
      "C:\\Users\\Dora\\anaconda3\\lib\\site-packages\\sklearn\\linear_model\\_logistic.py:762: ConvergenceWarning: lbfgs failed to converge (status=1):\n",
      "STOP: TOTAL NO. of ITERATIONS REACHED LIMIT.\n",
      "\n",
      "Increase the number of iterations (max_iter) or scale the data as shown in:\n",
      "    https://scikit-learn.org/stable/modules/preprocessing.html\n",
      "Please also refer to the documentation for alternative solver options:\n",
      "    https://scikit-learn.org/stable/modules/linear_model.html#logistic-regression\n",
      "  n_iter_i = _check_optimize_result(\n",
      "C:\\Users\\Dora\\anaconda3\\lib\\site-packages\\sklearn\\linear_model\\_logistic.py:762: ConvergenceWarning: lbfgs failed to converge (status=1):\n",
      "STOP: TOTAL NO. of ITERATIONS REACHED LIMIT.\n",
      "\n",
      "Increase the number of iterations (max_iter) or scale the data as shown in:\n",
      "    https://scikit-learn.org/stable/modules/preprocessing.html\n",
      "Please also refer to the documentation for alternative solver options:\n",
      "    https://scikit-learn.org/stable/modules/linear_model.html#logistic-regression\n",
      "  n_iter_i = _check_optimize_result(\n",
      "C:\\Users\\Dora\\anaconda3\\lib\\site-packages\\sklearn\\linear_model\\_logistic.py:762: ConvergenceWarning: lbfgs failed to converge (status=1):\n",
      "STOP: TOTAL NO. of ITERATIONS REACHED LIMIT.\n",
      "\n",
      "Increase the number of iterations (max_iter) or scale the data as shown in:\n",
      "    https://scikit-learn.org/stable/modules/preprocessing.html\n",
      "Please also refer to the documentation for alternative solver options:\n",
      "    https://scikit-learn.org/stable/modules/linear_model.html#logistic-regression\n",
      "  n_iter_i = _check_optimize_result(\n",
      "C:\\Users\\Dora\\anaconda3\\lib\\site-packages\\sklearn\\linear_model\\_logistic.py:762: ConvergenceWarning: lbfgs failed to converge (status=1):\n",
      "STOP: TOTAL NO. of ITERATIONS REACHED LIMIT.\n",
      "\n",
      "Increase the number of iterations (max_iter) or scale the data as shown in:\n",
      "    https://scikit-learn.org/stable/modules/preprocessing.html\n",
      "Please also refer to the documentation for alternative solver options:\n",
      "    https://scikit-learn.org/stable/modules/linear_model.html#logistic-regression\n",
      "  n_iter_i = _check_optimize_result(\n",
      "C:\\Users\\Dora\\anaconda3\\lib\\site-packages\\sklearn\\linear_model\\_logistic.py:762: ConvergenceWarning: lbfgs failed to converge (status=1):\n",
      "STOP: TOTAL NO. of ITERATIONS REACHED LIMIT.\n",
      "\n",
      "Increase the number of iterations (max_iter) or scale the data as shown in:\n",
      "    https://scikit-learn.org/stable/modules/preprocessing.html\n",
      "Please also refer to the documentation for alternative solver options:\n",
      "    https://scikit-learn.org/stable/modules/linear_model.html#logistic-regression\n",
      "  n_iter_i = _check_optimize_result(\n",
      "C:\\Users\\Dora\\anaconda3\\lib\\site-packages\\sklearn\\linear_model\\_logistic.py:762: ConvergenceWarning: lbfgs failed to converge (status=1):\n",
      "STOP: TOTAL NO. of ITERATIONS REACHED LIMIT.\n",
      "\n",
      "Increase the number of iterations (max_iter) or scale the data as shown in:\n",
      "    https://scikit-learn.org/stable/modules/preprocessing.html\n",
      "Please also refer to the documentation for alternative solver options:\n",
      "    https://scikit-learn.org/stable/modules/linear_model.html#logistic-regression\n",
      "  n_iter_i = _check_optimize_result(\n",
      "C:\\Users\\Dora\\anaconda3\\lib\\site-packages\\sklearn\\linear_model\\_logistic.py:762: ConvergenceWarning: lbfgs failed to converge (status=1):\n",
      "STOP: TOTAL NO. of ITERATIONS REACHED LIMIT.\n",
      "\n",
      "Increase the number of iterations (max_iter) or scale the data as shown in:\n",
      "    https://scikit-learn.org/stable/modules/preprocessing.html\n",
      "Please also refer to the documentation for alternative solver options:\n",
      "    https://scikit-learn.org/stable/modules/linear_model.html#logistic-regression\n",
      "  n_iter_i = _check_optimize_result(\n",
      "C:\\Users\\Dora\\anaconda3\\lib\\site-packages\\sklearn\\linear_model\\_logistic.py:762: ConvergenceWarning: lbfgs failed to converge (status=1):\n",
      "STOP: TOTAL NO. of ITERATIONS REACHED LIMIT.\n",
      "\n",
      "Increase the number of iterations (max_iter) or scale the data as shown in:\n",
      "    https://scikit-learn.org/stable/modules/preprocessing.html\n",
      "Please also refer to the documentation for alternative solver options:\n",
      "    https://scikit-learn.org/stable/modules/linear_model.html#logistic-regression\n",
      "  n_iter_i = _check_optimize_result(\n",
      "C:\\Users\\Dora\\anaconda3\\lib\\site-packages\\sklearn\\linear_model\\_logistic.py:762: ConvergenceWarning: lbfgs failed to converge (status=1):\n",
      "STOP: TOTAL NO. of ITERATIONS REACHED LIMIT.\n",
      "\n",
      "Increase the number of iterations (max_iter) or scale the data as shown in:\n",
      "    https://scikit-learn.org/stable/modules/preprocessing.html\n",
      "Please also refer to the documentation for alternative solver options:\n",
      "    https://scikit-learn.org/stable/modules/linear_model.html#logistic-regression\n",
      "  n_iter_i = _check_optimize_result(\n",
      "C:\\Users\\Dora\\anaconda3\\lib\\site-packages\\sklearn\\linear_model\\_logistic.py:762: ConvergenceWarning: lbfgs failed to converge (status=1):\n",
      "STOP: TOTAL NO. of ITERATIONS REACHED LIMIT.\n",
      "\n",
      "Increase the number of iterations (max_iter) or scale the data as shown in:\n",
      "    https://scikit-learn.org/stable/modules/preprocessing.html\n",
      "Please also refer to the documentation for alternative solver options:\n",
      "    https://scikit-learn.org/stable/modules/linear_model.html#logistic-regression\n",
      "  n_iter_i = _check_optimize_result(\n",
      "C:\\Users\\Dora\\anaconda3\\lib\\site-packages\\sklearn\\linear_model\\_logistic.py:762: ConvergenceWarning: lbfgs failed to converge (status=1):\n",
      "STOP: TOTAL NO. of ITERATIONS REACHED LIMIT.\n",
      "\n",
      "Increase the number of iterations (max_iter) or scale the data as shown in:\n",
      "    https://scikit-learn.org/stable/modules/preprocessing.html\n",
      "Please also refer to the documentation for alternative solver options:\n",
      "    https://scikit-learn.org/stable/modules/linear_model.html#logistic-regression\n",
      "  n_iter_i = _check_optimize_result(\n",
      "C:\\Users\\Dora\\anaconda3\\lib\\site-packages\\sklearn\\linear_model\\_logistic.py:762: ConvergenceWarning: lbfgs failed to converge (status=1):\n",
      "STOP: TOTAL NO. of ITERATIONS REACHED LIMIT.\n",
      "\n",
      "Increase the number of iterations (max_iter) or scale the data as shown in:\n",
      "    https://scikit-learn.org/stable/modules/preprocessing.html\n",
      "Please also refer to the documentation for alternative solver options:\n",
      "    https://scikit-learn.org/stable/modules/linear_model.html#logistic-regression\n",
      "  n_iter_i = _check_optimize_result(\n",
      "C:\\Users\\Dora\\anaconda3\\lib\\site-packages\\sklearn\\linear_model\\_logistic.py:762: ConvergenceWarning: lbfgs failed to converge (status=1):\n",
      "STOP: TOTAL NO. of ITERATIONS REACHED LIMIT.\n",
      "\n",
      "Increase the number of iterations (max_iter) or scale the data as shown in:\n",
      "    https://scikit-learn.org/stable/modules/preprocessing.html\n",
      "Please also refer to the documentation for alternative solver options:\n",
      "    https://scikit-learn.org/stable/modules/linear_model.html#logistic-regression\n",
      "  n_iter_i = _check_optimize_result(\n",
      "C:\\Users\\Dora\\anaconda3\\lib\\site-packages\\sklearn\\linear_model\\_logistic.py:762: ConvergenceWarning: lbfgs failed to converge (status=1):\n",
      "STOP: TOTAL NO. of ITERATIONS REACHED LIMIT.\n",
      "\n",
      "Increase the number of iterations (max_iter) or scale the data as shown in:\n",
      "    https://scikit-learn.org/stable/modules/preprocessing.html\n",
      "Please also refer to the documentation for alternative solver options:\n",
      "    https://scikit-learn.org/stable/modules/linear_model.html#logistic-regression\n",
      "  n_iter_i = _check_optimize_result(\n"
     ]
    },
    {
     "name": "stderr",
     "output_type": "stream",
     "text": [
      "C:\\Users\\Dora\\anaconda3\\lib\\site-packages\\sklearn\\linear_model\\_logistic.py:762: ConvergenceWarning: lbfgs failed to converge (status=1):\n",
      "STOP: TOTAL NO. of ITERATIONS REACHED LIMIT.\n",
      "\n",
      "Increase the number of iterations (max_iter) or scale the data as shown in:\n",
      "    https://scikit-learn.org/stable/modules/preprocessing.html\n",
      "Please also refer to the documentation for alternative solver options:\n",
      "    https://scikit-learn.org/stable/modules/linear_model.html#logistic-regression\n",
      "  n_iter_i = _check_optimize_result(\n",
      "C:\\Users\\Dora\\anaconda3\\lib\\site-packages\\sklearn\\linear_model\\_logistic.py:762: ConvergenceWarning: lbfgs failed to converge (status=1):\n",
      "STOP: TOTAL NO. of ITERATIONS REACHED LIMIT.\n",
      "\n",
      "Increase the number of iterations (max_iter) or scale the data as shown in:\n",
      "    https://scikit-learn.org/stable/modules/preprocessing.html\n",
      "Please also refer to the documentation for alternative solver options:\n",
      "    https://scikit-learn.org/stable/modules/linear_model.html#logistic-regression\n",
      "  n_iter_i = _check_optimize_result(\n",
      "C:\\Users\\Dora\\anaconda3\\lib\\site-packages\\sklearn\\linear_model\\_logistic.py:762: ConvergenceWarning: lbfgs failed to converge (status=1):\n",
      "STOP: TOTAL NO. of ITERATIONS REACHED LIMIT.\n",
      "\n",
      "Increase the number of iterations (max_iter) or scale the data as shown in:\n",
      "    https://scikit-learn.org/stable/modules/preprocessing.html\n",
      "Please also refer to the documentation for alternative solver options:\n",
      "    https://scikit-learn.org/stable/modules/linear_model.html#logistic-regression\n",
      "  n_iter_i = _check_optimize_result(\n",
      "C:\\Users\\Dora\\anaconda3\\lib\\site-packages\\sklearn\\linear_model\\_logistic.py:762: ConvergenceWarning: lbfgs failed to converge (status=1):\n",
      "STOP: TOTAL NO. of ITERATIONS REACHED LIMIT.\n",
      "\n",
      "Increase the number of iterations (max_iter) or scale the data as shown in:\n",
      "    https://scikit-learn.org/stable/modules/preprocessing.html\n",
      "Please also refer to the documentation for alternative solver options:\n",
      "    https://scikit-learn.org/stable/modules/linear_model.html#logistic-regression\n",
      "  n_iter_i = _check_optimize_result(\n",
      "C:\\Users\\Dora\\anaconda3\\lib\\site-packages\\sklearn\\linear_model\\_logistic.py:762: ConvergenceWarning: lbfgs failed to converge (status=1):\n",
      "STOP: TOTAL NO. of ITERATIONS REACHED LIMIT.\n",
      "\n",
      "Increase the number of iterations (max_iter) or scale the data as shown in:\n",
      "    https://scikit-learn.org/stable/modules/preprocessing.html\n",
      "Please also refer to the documentation for alternative solver options:\n",
      "    https://scikit-learn.org/stable/modules/linear_model.html#logistic-regression\n",
      "  n_iter_i = _check_optimize_result(\n",
      "C:\\Users\\Dora\\anaconda3\\lib\\site-packages\\sklearn\\linear_model\\_logistic.py:762: ConvergenceWarning: lbfgs failed to converge (status=1):\n",
      "STOP: TOTAL NO. of ITERATIONS REACHED LIMIT.\n",
      "\n",
      "Increase the number of iterations (max_iter) or scale the data as shown in:\n",
      "    https://scikit-learn.org/stable/modules/preprocessing.html\n",
      "Please also refer to the documentation for alternative solver options:\n",
      "    https://scikit-learn.org/stable/modules/linear_model.html#logistic-regression\n",
      "  n_iter_i = _check_optimize_result(\n",
      "C:\\Users\\Dora\\anaconda3\\lib\\site-packages\\sklearn\\linear_model\\_logistic.py:762: ConvergenceWarning: lbfgs failed to converge (status=1):\n",
      "STOP: TOTAL NO. of ITERATIONS REACHED LIMIT.\n",
      "\n",
      "Increase the number of iterations (max_iter) or scale the data as shown in:\n",
      "    https://scikit-learn.org/stable/modules/preprocessing.html\n",
      "Please also refer to the documentation for alternative solver options:\n",
      "    https://scikit-learn.org/stable/modules/linear_model.html#logistic-regression\n",
      "  n_iter_i = _check_optimize_result(\n",
      "C:\\Users\\Dora\\anaconda3\\lib\\site-packages\\sklearn\\linear_model\\_logistic.py:762: ConvergenceWarning: lbfgs failed to converge (status=1):\n",
      "STOP: TOTAL NO. of ITERATIONS REACHED LIMIT.\n",
      "\n",
      "Increase the number of iterations (max_iter) or scale the data as shown in:\n",
      "    https://scikit-learn.org/stable/modules/preprocessing.html\n",
      "Please also refer to the documentation for alternative solver options:\n",
      "    https://scikit-learn.org/stable/modules/linear_model.html#logistic-regression\n",
      "  n_iter_i = _check_optimize_result(\n",
      "C:\\Users\\Dora\\anaconda3\\lib\\site-packages\\sklearn\\linear_model\\_logistic.py:762: ConvergenceWarning: lbfgs failed to converge (status=1):\n",
      "STOP: TOTAL NO. of ITERATIONS REACHED LIMIT.\n",
      "\n",
      "Increase the number of iterations (max_iter) or scale the data as shown in:\n",
      "    https://scikit-learn.org/stable/modules/preprocessing.html\n",
      "Please also refer to the documentation for alternative solver options:\n",
      "    https://scikit-learn.org/stable/modules/linear_model.html#logistic-regression\n",
      "  n_iter_i = _check_optimize_result(\n",
      "C:\\Users\\Dora\\anaconda3\\lib\\site-packages\\sklearn\\linear_model\\_logistic.py:762: ConvergenceWarning: lbfgs failed to converge (status=1):\n",
      "STOP: TOTAL NO. of ITERATIONS REACHED LIMIT.\n",
      "\n",
      "Increase the number of iterations (max_iter) or scale the data as shown in:\n",
      "    https://scikit-learn.org/stable/modules/preprocessing.html\n",
      "Please also refer to the documentation for alternative solver options:\n",
      "    https://scikit-learn.org/stable/modules/linear_model.html#logistic-regression\n",
      "  n_iter_i = _check_optimize_result(\n",
      "C:\\Users\\Dora\\anaconda3\\lib\\site-packages\\sklearn\\linear_model\\_logistic.py:762: ConvergenceWarning: lbfgs failed to converge (status=1):\n",
      "STOP: TOTAL NO. of ITERATIONS REACHED LIMIT.\n",
      "\n",
      "Increase the number of iterations (max_iter) or scale the data as shown in:\n",
      "    https://scikit-learn.org/stable/modules/preprocessing.html\n",
      "Please also refer to the documentation for alternative solver options:\n",
      "    https://scikit-learn.org/stable/modules/linear_model.html#logistic-regression\n",
      "  n_iter_i = _check_optimize_result(\n",
      "C:\\Users\\Dora\\anaconda3\\lib\\site-packages\\sklearn\\linear_model\\_logistic.py:762: ConvergenceWarning: lbfgs failed to converge (status=1):\n",
      "STOP: TOTAL NO. of ITERATIONS REACHED LIMIT.\n",
      "\n",
      "Increase the number of iterations (max_iter) or scale the data as shown in:\n",
      "    https://scikit-learn.org/stable/modules/preprocessing.html\n",
      "Please also refer to the documentation for alternative solver options:\n",
      "    https://scikit-learn.org/stable/modules/linear_model.html#logistic-regression\n",
      "  n_iter_i = _check_optimize_result(\n",
      "C:\\Users\\Dora\\anaconda3\\lib\\site-packages\\sklearn\\linear_model\\_logistic.py:762: ConvergenceWarning: lbfgs failed to converge (status=1):\n",
      "STOP: TOTAL NO. of ITERATIONS REACHED LIMIT.\n",
      "\n",
      "Increase the number of iterations (max_iter) or scale the data as shown in:\n",
      "    https://scikit-learn.org/stable/modules/preprocessing.html\n",
      "Please also refer to the documentation for alternative solver options:\n",
      "    https://scikit-learn.org/stable/modules/linear_model.html#logistic-regression\n",
      "  n_iter_i = _check_optimize_result(\n",
      "C:\\Users\\Dora\\anaconda3\\lib\\site-packages\\sklearn\\linear_model\\_logistic.py:762: ConvergenceWarning: lbfgs failed to converge (status=1):\n",
      "STOP: TOTAL NO. of ITERATIONS REACHED LIMIT.\n",
      "\n",
      "Increase the number of iterations (max_iter) or scale the data as shown in:\n",
      "    https://scikit-learn.org/stable/modules/preprocessing.html\n",
      "Please also refer to the documentation for alternative solver options:\n",
      "    https://scikit-learn.org/stable/modules/linear_model.html#logistic-regression\n",
      "  n_iter_i = _check_optimize_result(\n",
      "C:\\Users\\Dora\\anaconda3\\lib\\site-packages\\sklearn\\linear_model\\_logistic.py:762: ConvergenceWarning: lbfgs failed to converge (status=1):\n",
      "STOP: TOTAL NO. of ITERATIONS REACHED LIMIT.\n",
      "\n",
      "Increase the number of iterations (max_iter) or scale the data as shown in:\n",
      "    https://scikit-learn.org/stable/modules/preprocessing.html\n",
      "Please also refer to the documentation for alternative solver options:\n",
      "    https://scikit-learn.org/stable/modules/linear_model.html#logistic-regression\n",
      "  n_iter_i = _check_optimize_result(\n",
      "C:\\Users\\Dora\\anaconda3\\lib\\site-packages\\sklearn\\linear_model\\_logistic.py:762: ConvergenceWarning: lbfgs failed to converge (status=1):\n",
      "STOP: TOTAL NO. of ITERATIONS REACHED LIMIT.\n",
      "\n",
      "Increase the number of iterations (max_iter) or scale the data as shown in:\n",
      "    https://scikit-learn.org/stable/modules/preprocessing.html\n",
      "Please also refer to the documentation for alternative solver options:\n",
      "    https://scikit-learn.org/stable/modules/linear_model.html#logistic-regression\n",
      "  n_iter_i = _check_optimize_result(\n"
     ]
    },
    {
     "name": "stderr",
     "output_type": "stream",
     "text": [
      "C:\\Users\\Dora\\anaconda3\\lib\\site-packages\\sklearn\\linear_model\\_logistic.py:762: ConvergenceWarning: lbfgs failed to converge (status=1):\n",
      "STOP: TOTAL NO. of ITERATIONS REACHED LIMIT.\n",
      "\n",
      "Increase the number of iterations (max_iter) or scale the data as shown in:\n",
      "    https://scikit-learn.org/stable/modules/preprocessing.html\n",
      "Please also refer to the documentation for alternative solver options:\n",
      "    https://scikit-learn.org/stable/modules/linear_model.html#logistic-regression\n",
      "  n_iter_i = _check_optimize_result(\n",
      "C:\\Users\\Dora\\anaconda3\\lib\\site-packages\\sklearn\\linear_model\\_logistic.py:762: ConvergenceWarning: lbfgs failed to converge (status=1):\n",
      "STOP: TOTAL NO. of ITERATIONS REACHED LIMIT.\n",
      "\n",
      "Increase the number of iterations (max_iter) or scale the data as shown in:\n",
      "    https://scikit-learn.org/stable/modules/preprocessing.html\n",
      "Please also refer to the documentation for alternative solver options:\n",
      "    https://scikit-learn.org/stable/modules/linear_model.html#logistic-regression\n",
      "  n_iter_i = _check_optimize_result(\n",
      "C:\\Users\\Dora\\anaconda3\\lib\\site-packages\\sklearn\\linear_model\\_logistic.py:762: ConvergenceWarning: lbfgs failed to converge (status=1):\n",
      "STOP: TOTAL NO. of ITERATIONS REACHED LIMIT.\n",
      "\n",
      "Increase the number of iterations (max_iter) or scale the data as shown in:\n",
      "    https://scikit-learn.org/stable/modules/preprocessing.html\n",
      "Please also refer to the documentation for alternative solver options:\n",
      "    https://scikit-learn.org/stable/modules/linear_model.html#logistic-regression\n",
      "  n_iter_i = _check_optimize_result(\n",
      "C:\\Users\\Dora\\anaconda3\\lib\\site-packages\\sklearn\\linear_model\\_logistic.py:762: ConvergenceWarning: lbfgs failed to converge (status=1):\n",
      "STOP: TOTAL NO. of ITERATIONS REACHED LIMIT.\n",
      "\n",
      "Increase the number of iterations (max_iter) or scale the data as shown in:\n",
      "    https://scikit-learn.org/stable/modules/preprocessing.html\n",
      "Please also refer to the documentation for alternative solver options:\n",
      "    https://scikit-learn.org/stable/modules/linear_model.html#logistic-regression\n",
      "  n_iter_i = _check_optimize_result(\n",
      "C:\\Users\\Dora\\anaconda3\\lib\\site-packages\\sklearn\\linear_model\\_logistic.py:762: ConvergenceWarning: lbfgs failed to converge (status=1):\n",
      "STOP: TOTAL NO. of ITERATIONS REACHED LIMIT.\n",
      "\n",
      "Increase the number of iterations (max_iter) or scale the data as shown in:\n",
      "    https://scikit-learn.org/stable/modules/preprocessing.html\n",
      "Please also refer to the documentation for alternative solver options:\n",
      "    https://scikit-learn.org/stable/modules/linear_model.html#logistic-regression\n",
      "  n_iter_i = _check_optimize_result(\n",
      "C:\\Users\\Dora\\anaconda3\\lib\\site-packages\\sklearn\\linear_model\\_logistic.py:762: ConvergenceWarning: lbfgs failed to converge (status=1):\n",
      "STOP: TOTAL NO. of ITERATIONS REACHED LIMIT.\n",
      "\n",
      "Increase the number of iterations (max_iter) or scale the data as shown in:\n",
      "    https://scikit-learn.org/stable/modules/preprocessing.html\n",
      "Please also refer to the documentation for alternative solver options:\n",
      "    https://scikit-learn.org/stable/modules/linear_model.html#logistic-regression\n",
      "  n_iter_i = _check_optimize_result(\n",
      "C:\\Users\\Dora\\anaconda3\\lib\\site-packages\\sklearn\\linear_model\\_logistic.py:762: ConvergenceWarning: lbfgs failed to converge (status=1):\n",
      "STOP: TOTAL NO. of ITERATIONS REACHED LIMIT.\n",
      "\n",
      "Increase the number of iterations (max_iter) or scale the data as shown in:\n",
      "    https://scikit-learn.org/stable/modules/preprocessing.html\n",
      "Please also refer to the documentation for alternative solver options:\n",
      "    https://scikit-learn.org/stable/modules/linear_model.html#logistic-regression\n",
      "  n_iter_i = _check_optimize_result(\n",
      "C:\\Users\\Dora\\anaconda3\\lib\\site-packages\\sklearn\\linear_model\\_logistic.py:762: ConvergenceWarning: lbfgs failed to converge (status=1):\n",
      "STOP: TOTAL NO. of ITERATIONS REACHED LIMIT.\n",
      "\n",
      "Increase the number of iterations (max_iter) or scale the data as shown in:\n",
      "    https://scikit-learn.org/stable/modules/preprocessing.html\n",
      "Please also refer to the documentation for alternative solver options:\n",
      "    https://scikit-learn.org/stable/modules/linear_model.html#logistic-regression\n",
      "  n_iter_i = _check_optimize_result(\n"
     ]
    },
    {
     "data": {
      "text/plain": [
       "{'logisticregression__tol': 1, 'logisticregression__C': 10}"
      ]
     },
     "execution_count": 30,
     "metadata": {},
     "output_type": "execute_result"
    }
   ],
   "source": [
    "tols = [0.00001, 0.0001, 0.001, 0.01, 0.1, 1, 10, 100, 1000, 10000]\n",
    "Cs = [0.00001, 0.0001, 0.001, 0.01, 0.1, 1, 10, 100, 1000, 10000]\n",
    "# define hyperparameter grid to search with\n",
    "# cannot change solver though\n",
    "param_grid = {'logisticregression__C': Cs, 'logisticregression__tol':tols}\n",
    "lrmn_pipe = make_pipeline(ct, lr_mn)\n",
    "lrmn_gs = RandomizedSearchCV(estimator=lrmn_pipe, param_distributions=param_grid, random_state=random_state, scoring='accuracy', cv=10, refit=True)\n",
    "lrmn_gs = lrmn_gs.fit(X_train, y_train)\n",
    "lrmn_gs.best_params_"
   ]
  },
  {
   "cell_type": "code",
   "execution_count": 31,
   "metadata": {},
   "outputs": [
    {
     "data": {
      "text/plain": [
       "0.5220264317180616"
      ]
     },
     "execution_count": 31,
     "metadata": {},
     "output_type": "execute_result"
    }
   ],
   "source": [
    "best_lrmn = lrmn_gs.best_estimator_   # refitting done automatically\n",
    "best_lrmn.score(X_test, y_test)"
   ]
  },
  {
   "cell_type": "code",
   "execution_count": 32,
   "metadata": {},
   "outputs": [
    {
     "name": "stdout",
     "output_type": "stream",
     "text": [
      "[0.53623188 0.42647059 0.61764706 0.55882353 0.5        0.61764706\n",
      " 0.54411765 0.5        0.58823529 0.55882353]\n"
     ]
    }
   ],
   "source": [
    "scores = cross_val_score(estimator=best_lrmn, X=X_train, y=y_train, cv=10, n_jobs=-1)\n",
    "print(scores)"
   ]
  },
  {
   "cell_type": "code",
   "execution_count": 33,
   "metadata": {},
   "outputs": [
    {
     "name": "stdout",
     "output_type": "stream",
     "text": [
      "Accuracy = 0.54479966 +/- 0.05566250\n"
     ]
    }
   ],
   "source": [
    "print('Accuracy = {:.8f} +/- {:.8f}'.format(np.mean(scores), np.std(scores)))"
   ]
  },
  {
   "cell_type": "markdown",
   "metadata": {},
   "source": [
    "# w/ BRAND - MULTICLASS - DECISION TREE"
   ]
  },
  {
   "cell_type": "code",
   "execution_count": 34,
   "metadata": {},
   "outputs": [
    {
     "data": {
      "text/plain": [
       "0.4801762114537445"
      ]
     },
     "execution_count": 34,
     "metadata": {},
     "output_type": "execute_result"
    }
   ],
   "source": [
    "from sklearn.tree import DecisionTreeClassifier\n",
    "dt = DecisionTreeClassifier(random_state=random_state, criterion='entropy')\n",
    "ct = make_column_transformer(\n",
    "    (ohe, [\"product_type\"]),\n",
    "    (vect, \"brand\"),\n",
    "    (vect, 'ingredients'), # do not need to scale the 'contents' column\n",
    "    remainder=\"passthrough\")\n",
    "dt_pipe = make_pipeline(ct, dt)\n",
    "dt_pipe.fit(X_train, y_train)\n",
    "dt_predictions = dt_pipe.predict(X_test)\n",
    "accuracy_score(y_test, dt_predictions)"
   ]
  },
  {
   "cell_type": "code",
   "execution_count": 35,
   "metadata": {},
   "outputs": [
    {
     "data": {
      "text/plain": [
       "array([[65, 21, 19,  9],\n",
       "       [25, 52, 25, 11],\n",
       "       [ 9, 33, 46, 25],\n",
       "       [ 9, 16, 34, 55]], dtype=int64)"
      ]
     },
     "execution_count": 35,
     "metadata": {},
     "output_type": "execute_result"
    }
   ],
   "source": [
    "confusion_matrix(y_test, dt_predictions)\n",
    "# highest numbers in diagonal, but lots of misclassifications"
   ]
  },
  {
   "cell_type": "code",
   "execution_count": 36,
   "metadata": {},
   "outputs": [
    {
     "name": "stdout",
     "output_type": "stream",
     "text": [
      "{'decisiontreeclassifier__min_samples_leaf': 18, 'decisiontreeclassifier__max_depth': 1000, 'decisiontreeclassifier__criterion': 'gini'}\n",
      "0.43392070484581496\n"
     ]
    }
   ],
   "source": [
    "criterions = ['gini', 'entropy']\n",
    "max_depths = [None, 10, 100, 1000, 10000]\n",
    "param_grid = {'decisiontreeclassifier__min_samples_leaf': np.arange(1,50), \n",
    "              'decisiontreeclassifier__max_depth': max_depths, \n",
    "              'decisiontreeclassifier__criterion':criterions}\n",
    "# define grid to do hyperparamter optimization with\n",
    "\n",
    "dt_gs = RandomizedSearchCV(estimator=dt_pipe, param_distributions=param_grid, random_state=random_state, scoring='accuracy', cv=10, refit=True)\n",
    "dt_gs = dt_gs.fit(X_train, y_train)\n",
    "print(dt_gs.best_params_)\n",
    "best_dt = dt_gs.best_estimator_   # refitting done automatically\n",
    "print(best_dt.score(X_test, y_test))"
   ]
  },
  {
   "cell_type": "code",
   "execution_count": 37,
   "metadata": {},
   "outputs": [
    {
     "name": "stdout",
     "output_type": "stream",
     "text": [
      "[0.55072464 0.39705882 0.54411765 0.45588235 0.45588235 0.52941176\n",
      " 0.44117647 0.38235294 0.51470588 0.45588235]\n"
     ]
    }
   ],
   "source": [
    "scores = cross_val_score(estimator=best_dt, X=X_train, y=y_train, cv=10, n_jobs=-1)\n",
    "print(scores)"
   ]
  },
  {
   "cell_type": "code",
   "execution_count": 38,
   "metadata": {},
   "outputs": [
    {
     "name": "stdout",
     "output_type": "stream",
     "text": [
      "Accuracy = 0.47271952 +/- 0.05647606\n"
     ]
    }
   ],
   "source": [
    "print('Accuracy = {:.8f} +/- {:.8f}'.format(np.mean(scores), np.std(scores)))\n",
    "# report cross-val-scores of optimal model"
   ]
  },
  {
   "cell_type": "markdown",
   "metadata": {},
   "source": [
    "# w/ BRAND - MULTICLASS - KNN"
   ]
  },
  {
   "cell_type": "code",
   "execution_count": 39,
   "metadata": {},
   "outputs": [],
   "source": [
    "# redefine the column transformer to scale the contents again"
   ]
  },
  {
   "cell_type": "code",
   "execution_count": 40,
   "metadata": {},
   "outputs": [
    {
     "data": {
      "text/plain": [
       "Pipeline(steps=[('columntransformer',\n",
       "                 ColumnTransformer(remainder='passthrough',\n",
       "                                   transformers=[('onehotencoder',\n",
       "                                                  OneHotEncoder(),\n",
       "                                                  ['product_type']),\n",
       "                                                 ('countvectorizer-1',\n",
       "                                                  CountVectorizer(tokenizer=<function <lambda> at 0x00000196FAFFF160>),\n",
       "                                                  'ingredients'),\n",
       "                                                 ('countvectorizer-2',\n",
       "                                                  CountVectorizer(tokenizer=<function <lambda> at 0x00000196FAFFF160>),\n",
       "                                                  'brand'),\n",
       "                                                 ('standardscaler',\n",
       "                                                  StandardScaler(),\n",
       "                                                  ['contents'])])),\n",
       "                ('kneighborsclassifier', KNeighborsClassifier())])"
      ]
     },
     "execution_count": 40,
     "metadata": {},
     "output_type": "execute_result"
    }
   ],
   "source": [
    "from sklearn.neighbors import KNeighborsClassifier as KNN\n",
    "knn = KNN(n_neighbors=5)\n",
    "ct = make_column_transformer(\n",
    "    (ohe, [\"product_type\"]),\n",
    "    (vect, \"ingredients\"),\n",
    "    (vect, \"brand\"),\n",
    "    (scaler, [\"contents\"]), \n",
    "    remainder=\"passthrough\")\n",
    "knn_pipe = make_pipeline(ct, knn)\n",
    "knn_pipe.fit(X_train, y_train)"
   ]
  },
  {
   "cell_type": "code",
   "execution_count": 41,
   "metadata": {},
   "outputs": [
    {
     "data": {
      "text/plain": [
       "0.3788546255506608"
      ]
     },
     "execution_count": 41,
     "metadata": {},
     "output_type": "execute_result"
    }
   ],
   "source": [
    "knn_predictions = knn_pipe.predict(X_test)\n",
    "accuracy_score(y_test, knn_predictions)"
   ]
  },
  {
   "cell_type": "code",
   "execution_count": 42,
   "metadata": {},
   "outputs": [
    {
     "data": {
      "text/plain": [
       "array([[81, 10,  2, 21],\n",
       "       [49, 21,  7, 36],\n",
       "       [30, 16, 17, 50],\n",
       "       [27, 13, 21, 53]], dtype=int64)"
      ]
     },
     "execution_count": 42,
     "metadata": {},
     "output_type": "execute_result"
    }
   ],
   "source": [
    "confusion_matrix(y_test, knn_predictions)"
   ]
  },
  {
   "cell_type": "code",
   "execution_count": 43,
   "metadata": {},
   "outputs": [
    {
     "name": "stdout",
     "output_type": "stream",
     "text": [
      "{'kneighborsclassifier__weights': 'distance', 'kneighborsclassifier__n_neighbors': 14}\n",
      "0.4052863436123348\n"
     ]
    }
   ],
   "source": [
    "knn_pipe = make_pipeline(ct, knn)\n",
    "param_grid = {'kneighborsclassifier__n_neighbors': np.arange(1,50), \n",
    "              'kneighborsclassifier__weights':['uniform', 'distance']}\n",
    "# define hyperparameter grid to do search with\n",
    "knn_gs = RandomizedSearchCV(estimator=knn_pipe, param_distributions=param_grid, random_state=random_state, scoring='accuracy', cv=10, refit=True)\n",
    "knn_gs = knn_gs.fit(X_train, y_train)\n",
    "print(knn_gs.best_params_)\n",
    "best_knn = knn_gs.best_estimator_   # refitting done automatically\n",
    "print(best_knn.score(X_test, y_test))"
   ]
  },
  {
   "cell_type": "code",
   "execution_count": 44,
   "metadata": {},
   "outputs": [
    {
     "name": "stdout",
     "output_type": "stream",
     "text": [
      "[0.50724638 0.42647059 0.42647059 0.36764706 0.42647059 0.45588235\n",
      " 0.48529412 0.39705882 0.39705882 0.38235294]\n"
     ]
    }
   ],
   "source": [
    "scores = cross_val_score(estimator=best_knn, X=X_train, y=y_train, cv=10, n_jobs=-1)\n",
    "print(scores)"
   ]
  },
  {
   "cell_type": "code",
   "execution_count": 45,
   "metadata": {},
   "outputs": [
    {
     "name": "stdout",
     "output_type": "stream",
     "text": [
      "Accuracy = 0.42719523 +/- 0.04240450\n"
     ]
    }
   ],
   "source": [
    "print('Accuracy = {:.8f} +/- {:.8f}'.format(np.mean(scores), np.std(scores)))\n",
    "\n",
    "# report cross-val-scores of optimal model"
   ]
  },
  {
   "cell_type": "markdown",
   "metadata": {},
   "source": [
    "# w/ BRAND - MULTICLASS - SVM"
   ]
  },
  {
   "cell_type": "markdown",
   "metadata": {},
   "source": [
    "## One-vs-rest classification"
   ]
  },
  {
   "cell_type": "code",
   "execution_count": 46,
   "metadata": {},
   "outputs": [],
   "source": [
    "from sklearn.multiclass import OneVsRestClassifier\n",
    "# use the onevsrest classifier from multiclass"
   ]
  },
  {
   "cell_type": "code",
   "execution_count": 47,
   "metadata": {},
   "outputs": [],
   "source": [
    "ovr_svm = OneVsRestClassifier(LinearSVC())\n",
    "# instantiate"
   ]
  },
  {
   "cell_type": "code",
   "execution_count": 48,
   "metadata": {},
   "outputs": [
    {
     "name": "stderr",
     "output_type": "stream",
     "text": [
      "C:\\Users\\Dora\\anaconda3\\lib\\site-packages\\sklearn\\svm\\_base.py:976: ConvergenceWarning: Liblinear failed to converge, increase the number of iterations.\n",
      "  warnings.warn(\"Liblinear failed to converge, increase \"\n"
     ]
    },
    {
     "data": {
      "text/plain": [
       "Pipeline(steps=[('columntransformer',\n",
       "                 ColumnTransformer(remainder='passthrough',\n",
       "                                   transformers=[('onehotencoder',\n",
       "                                                  OneHotEncoder(),\n",
       "                                                  ['product_type']),\n",
       "                                                 ('countvectorizer-1',\n",
       "                                                  CountVectorizer(tokenizer=<function <lambda> at 0x00000196FAFFF160>),\n",
       "                                                  'ingredients'),\n",
       "                                                 ('countvectorizer-2',\n",
       "                                                  CountVectorizer(tokenizer=<function <lambda> at 0x00000196FAFFF160>),\n",
       "                                                  'brand'),\n",
       "                                                 ('standardscaler',\n",
       "                                                  StandardScaler(),\n",
       "                                                  ['contents'])])),\n",
       "                ('onevsrestclassifier',\n",
       "                 OneVsRestClassifier(estimator=LinearSVC()))])"
      ]
     },
     "execution_count": 48,
     "metadata": {},
     "output_type": "execute_result"
    }
   ],
   "source": [
    "ovr_svm_pipe = make_pipeline(ct, ovr_svm)\n",
    "\n",
    "ovr_svm_pipe.fit(X_train, y_train)"
   ]
  },
  {
   "cell_type": "code",
   "execution_count": 49,
   "metadata": {},
   "outputs": [],
   "source": [
    "ovr_svm_predictions = ovr_svm_pipe.predict(X_test)\n"
   ]
  },
  {
   "cell_type": "code",
   "execution_count": 50,
   "metadata": {},
   "outputs": [
    {
     "data": {
      "text/plain": [
       "0.552863436123348"
      ]
     },
     "execution_count": 50,
     "metadata": {},
     "output_type": "execute_result"
    }
   ],
   "source": [
    "accuracy_score(y_test, ovr_svm_predictions)\n",
    "# get initial predictions"
   ]
  },
  {
   "cell_type": "code",
   "execution_count": 51,
   "metadata": {},
   "outputs": [
    {
     "data": {
      "text/plain": [
       "array([[84, 23,  5,  2],\n",
       "       [27, 65, 15,  6],\n",
       "       [10, 29, 48, 26],\n",
       "       [13, 13, 34, 54]], dtype=int64)"
      ]
     },
     "execution_count": 51,
     "metadata": {},
     "output_type": "execute_result"
    }
   ],
   "source": [
    "confusion_matrix(y_test, ovr_svm_predictions)\n",
    "# highest numbers are in diagonals - correct categories, but lots of misclassifications"
   ]
  },
  {
   "cell_type": "code",
   "execution_count": 52,
   "metadata": {},
   "outputs": [
    {
     "data": {
      "text/plain": [
       "{'memory': None,\n",
       " 'steps': [('columntransformer',\n",
       "   ColumnTransformer(remainder='passthrough',\n",
       "                     transformers=[('onehotencoder', OneHotEncoder(),\n",
       "                                    ['product_type']),\n",
       "                                   ('countvectorizer-1',\n",
       "                                    CountVectorizer(tokenizer=<function <lambda> at 0x00000196FAFFF160>),\n",
       "                                    'ingredients'),\n",
       "                                   ('countvectorizer-2',\n",
       "                                    CountVectorizer(tokenizer=<function <lambda> at 0x00000196FAFFF160>),\n",
       "                                    'brand'),\n",
       "                                   ('standardscaler', StandardScaler(),\n",
       "                                    ['contents'])])),\n",
       "  ('onevsrestclassifier', OneVsRestClassifier(estimator=LinearSVC()))],\n",
       " 'verbose': False,\n",
       " 'columntransformer': ColumnTransformer(remainder='passthrough',\n",
       "                   transformers=[('onehotencoder', OneHotEncoder(),\n",
       "                                  ['product_type']),\n",
       "                                 ('countvectorizer-1',\n",
       "                                  CountVectorizer(tokenizer=<function <lambda> at 0x00000196FAFFF160>),\n",
       "                                  'ingredients'),\n",
       "                                 ('countvectorizer-2',\n",
       "                                  CountVectorizer(tokenizer=<function <lambda> at 0x00000196FAFFF160>),\n",
       "                                  'brand'),\n",
       "                                 ('standardscaler', StandardScaler(),\n",
       "                                  ['contents'])]),\n",
       " 'onevsrestclassifier': OneVsRestClassifier(estimator=LinearSVC()),\n",
       " 'columntransformer__n_jobs': None,\n",
       " 'columntransformer__remainder': 'passthrough',\n",
       " 'columntransformer__sparse_threshold': 0.3,\n",
       " 'columntransformer__transformer_weights': None,\n",
       " 'columntransformer__transformers': [('onehotencoder',\n",
       "   OneHotEncoder(),\n",
       "   ['product_type']),\n",
       "  ('countvectorizer-1',\n",
       "   CountVectorizer(tokenizer=<function <lambda> at 0x00000196FAFFF160>),\n",
       "   'ingredients'),\n",
       "  ('countvectorizer-2',\n",
       "   CountVectorizer(tokenizer=<function <lambda> at 0x00000196FAFFF160>),\n",
       "   'brand'),\n",
       "  ('standardscaler', StandardScaler(), ['contents'])],\n",
       " 'columntransformer__verbose': False,\n",
       " 'columntransformer__onehotencoder': OneHotEncoder(),\n",
       " 'columntransformer__countvectorizer-1': CountVectorizer(tokenizer=<function <lambda> at 0x00000196FAFFF160>),\n",
       " 'columntransformer__countvectorizer-2': CountVectorizer(tokenizer=<function <lambda> at 0x00000196FAFFF160>),\n",
       " 'columntransformer__standardscaler': StandardScaler(),\n",
       " 'columntransformer__onehotencoder__categories': 'auto',\n",
       " 'columntransformer__onehotencoder__drop': None,\n",
       " 'columntransformer__onehotencoder__dtype': numpy.float64,\n",
       " 'columntransformer__onehotencoder__handle_unknown': 'error',\n",
       " 'columntransformer__onehotencoder__sparse': True,\n",
       " 'columntransformer__countvectorizer-1__analyzer': 'word',\n",
       " 'columntransformer__countvectorizer-1__binary': False,\n",
       " 'columntransformer__countvectorizer-1__decode_error': 'strict',\n",
       " 'columntransformer__countvectorizer-1__dtype': numpy.int64,\n",
       " 'columntransformer__countvectorizer-1__encoding': 'utf-8',\n",
       " 'columntransformer__countvectorizer-1__input': 'content',\n",
       " 'columntransformer__countvectorizer-1__lowercase': True,\n",
       " 'columntransformer__countvectorizer-1__max_df': 1.0,\n",
       " 'columntransformer__countvectorizer-1__max_features': None,\n",
       " 'columntransformer__countvectorizer-1__min_df': 1,\n",
       " 'columntransformer__countvectorizer-1__ngram_range': (1, 1),\n",
       " 'columntransformer__countvectorizer-1__preprocessor': None,\n",
       " 'columntransformer__countvectorizer-1__stop_words': None,\n",
       " 'columntransformer__countvectorizer-1__strip_accents': None,\n",
       " 'columntransformer__countvectorizer-1__token_pattern': '(?u)\\\\b\\\\w\\\\w+\\\\b',\n",
       " 'columntransformer__countvectorizer-1__tokenizer': <function __main__.<lambda>(x)>,\n",
       " 'columntransformer__countvectorizer-1__vocabulary': None,\n",
       " 'columntransformer__countvectorizer-2__analyzer': 'word',\n",
       " 'columntransformer__countvectorizer-2__binary': False,\n",
       " 'columntransformer__countvectorizer-2__decode_error': 'strict',\n",
       " 'columntransformer__countvectorizer-2__dtype': numpy.int64,\n",
       " 'columntransformer__countvectorizer-2__encoding': 'utf-8',\n",
       " 'columntransformer__countvectorizer-2__input': 'content',\n",
       " 'columntransformer__countvectorizer-2__lowercase': True,\n",
       " 'columntransformer__countvectorizer-2__max_df': 1.0,\n",
       " 'columntransformer__countvectorizer-2__max_features': None,\n",
       " 'columntransformer__countvectorizer-2__min_df': 1,\n",
       " 'columntransformer__countvectorizer-2__ngram_range': (1, 1),\n",
       " 'columntransformer__countvectorizer-2__preprocessor': None,\n",
       " 'columntransformer__countvectorizer-2__stop_words': None,\n",
       " 'columntransformer__countvectorizer-2__strip_accents': None,\n",
       " 'columntransformer__countvectorizer-2__token_pattern': '(?u)\\\\b\\\\w\\\\w+\\\\b',\n",
       " 'columntransformer__countvectorizer-2__tokenizer': <function __main__.<lambda>(x)>,\n",
       " 'columntransformer__countvectorizer-2__vocabulary': None,\n",
       " 'columntransformer__standardscaler__copy': True,\n",
       " 'columntransformer__standardscaler__with_mean': True,\n",
       " 'columntransformer__standardscaler__with_std': True,\n",
       " 'onevsrestclassifier__estimator__C': 1.0,\n",
       " 'onevsrestclassifier__estimator__class_weight': None,\n",
       " 'onevsrestclassifier__estimator__dual': True,\n",
       " 'onevsrestclassifier__estimator__fit_intercept': True,\n",
       " 'onevsrestclassifier__estimator__intercept_scaling': 1,\n",
       " 'onevsrestclassifier__estimator__loss': 'squared_hinge',\n",
       " 'onevsrestclassifier__estimator__max_iter': 1000,\n",
       " 'onevsrestclassifier__estimator__multi_class': 'ovr',\n",
       " 'onevsrestclassifier__estimator__penalty': 'l2',\n",
       " 'onevsrestclassifier__estimator__random_state': None,\n",
       " 'onevsrestclassifier__estimator__tol': 0.0001,\n",
       " 'onevsrestclassifier__estimator__verbose': 0,\n",
       " 'onevsrestclassifier__estimator': LinearSVC(),\n",
       " 'onevsrestclassifier__n_jobs': None}"
      ]
     },
     "execution_count": 52,
     "metadata": {},
     "output_type": "execute_result"
    }
   ],
   "source": [
    "ovr_svm_pipe.get_params()\n",
    "\n",
    "# Not able to easily do gridsearch"
   ]
  },
  {
   "cell_type": "code",
   "execution_count": 53,
   "metadata": {},
   "outputs": [
    {
     "name": "stdout",
     "output_type": "stream",
     "text": [
      "[0.49275362 0.5        0.58823529 0.5        0.51470588 0.57352941\n",
      " 0.54411765 0.47058824 0.54411765 0.48529412]\n"
     ]
    }
   ],
   "source": [
    "scores = cross_val_score(estimator=ovr_svm_pipe, X=X_train, y=y_train, cv=10, n_jobs=-1)\n",
    "print(scores)"
   ]
  },
  {
   "cell_type": "code",
   "execution_count": 54,
   "metadata": {},
   "outputs": [
    {
     "name": "stdout",
     "output_type": "stream",
     "text": [
      "Accuracy = 0.52133419 +/- 0.03726042\n"
     ]
    }
   ],
   "source": [
    "print('Accuracy = {:.8f} +/- {:.8f}'.format(np.mean(scores), np.std(scores)))\n",
    "# report cross val score of the classifier"
   ]
  },
  {
   "cell_type": "markdown",
   "metadata": {},
   "source": [
    "## One-vs-one classification"
   ]
  },
  {
   "cell_type": "code",
   "execution_count": 55,
   "metadata": {},
   "outputs": [],
   "source": [
    "from sklearn.multiclass import OneVsOneClassifier\n",
    "# same thing, but with onevsoneclassifier\n",
    "\n",
    "ovo_svm = OneVsOneClassifier(LinearSVC())\n",
    "\n",
    "ovo_svm_pipe = make_pipeline(ct, ovo_svm)\n",
    "\n",
    "ovo_svm_pipe.fit(X_train, y_train)\n",
    "\n",
    "ovo_svm_predictions = ovo_svm_pipe.predict(X_test)"
   ]
  },
  {
   "cell_type": "code",
   "execution_count": 56,
   "metadata": {},
   "outputs": [
    {
     "data": {
      "text/plain": [
       "0.552863436123348"
      ]
     },
     "execution_count": 56,
     "metadata": {},
     "output_type": "execute_result"
    }
   ],
   "source": [
    "accuracy_score(y_test, ovr_svm_predictions)"
   ]
  },
  {
   "cell_type": "code",
   "execution_count": 57,
   "metadata": {},
   "outputs": [
    {
     "name": "stdout",
     "output_type": "stream",
     "text": [
      "[0.49275362 0.51470588 0.58823529 0.52941176 0.48529412 0.61764706\n",
      " 0.52941176 0.54411765 0.52941176 0.52941176]\n"
     ]
    }
   ],
   "source": [
    "scores = cross_val_score(estimator=ovo_svm_pipe, X=X_train, y=y_train, cv=10, n_jobs=-1)\n",
    "print(scores)"
   ]
  },
  {
   "cell_type": "code",
   "execution_count": 58,
   "metadata": {},
   "outputs": [
    {
     "name": "stdout",
     "output_type": "stream",
     "text": [
      "Accuracy = 0.53604007 +/- 0.03811698\n"
     ]
    }
   ],
   "source": [
    "print('Accuracy = {:.8f} +/- {:.8f}'.format(np.mean(scores), np.std(scores)))\n",
    "# report one-vs-one scores"
   ]
  },
  {
   "cell_type": "markdown",
   "metadata": {},
   "source": [
    "# w/ BRAND - MULTICLASS - VOTING CLASSIFIER"
   ]
  },
  {
   "cell_type": "code",
   "execution_count": 59,
   "metadata": {},
   "outputs": [],
   "source": [
    "from sklearn.ensemble import VotingClassifier\n",
    "\n",
    "lr = LogisticRegression(tol=1e-05, solver='saga', C=10, random_state=random_state)\n",
    "dt = DecisionTreeClassifier(min_samples_leaf=2, max_depth= 10000, criterion=\"gini\", random_state=random_state)\n",
    "ovo_svm = OneVsOneClassifier(LinearSVC())\n",
    "# use best models from before\n",
    "\n",
    "classifiers = [(\"Logistic Regression\", lr),\n",
    "              (\"Decision Tree\", dt),\n",
    "              (\"Support Vector Classifier\", ovo_svm)]\n",
    "vc = VotingClassifier(estimators = classifiers)\n",
    "\n",
    "# make and fit pipeline\n",
    "vc_pipe = make_pipeline(ct, vc)"
   ]
  },
  {
   "cell_type": "code",
   "execution_count": 60,
   "metadata": {},
   "outputs": [
    {
     "name": "stderr",
     "output_type": "stream",
     "text": [
      "C:\\Users\\Dora\\anaconda3\\lib\\site-packages\\sklearn\\linear_model\\_sag.py:329: ConvergenceWarning: The max_iter was reached which means the coef_ did not converge\n",
      "  warnings.warn(\"The max_iter was reached which means \"\n",
      "C:\\Users\\Dora\\anaconda3\\lib\\site-packages\\sklearn\\svm\\_base.py:976: ConvergenceWarning: Liblinear failed to converge, increase the number of iterations.\n",
      "  warnings.warn(\"Liblinear failed to converge, increase \"\n"
     ]
    },
    {
     "data": {
      "text/plain": [
       "0.5440528634361234"
      ]
     },
     "execution_count": 60,
     "metadata": {},
     "output_type": "execute_result"
    }
   ],
   "source": [
    "vc_pipe.fit(X_train, y_train)\n",
    "vc_predictions = vc_pipe.predict(X_test)\n",
    "accuracy_score(y_test, vc_predictions)"
   ]
  },
  {
   "cell_type": "code",
   "execution_count": 61,
   "metadata": {},
   "outputs": [
    {
     "name": "stdout",
     "output_type": "stream",
     "text": [
      "[0.47826087 0.5        0.60294118 0.52941176 0.52941176 0.61764706\n",
      " 0.55882353 0.55882353 0.52941176 0.52941176]\n"
     ]
    }
   ],
   "source": [
    "scores = cross_val_score(estimator=vc_pipe, X=X_train, y=y_train, cv=10, n_jobs=-1)\n",
    "print(scores)"
   ]
  },
  {
   "cell_type": "code",
   "execution_count": 62,
   "metadata": {},
   "outputs": [
    {
     "name": "stdout",
     "output_type": "stream",
     "text": [
      "Accuracy = 0.54341432 +/- 0.04054984\n"
     ]
    }
   ],
   "source": [
    "print('Accuracy = {:.8f} +/- {:.8f}'.format(np.mean(scores), np.std(scores)))"
   ]
  },
  {
   "cell_type": "markdown",
   "metadata": {},
   "source": [
    "# w/ BRAND - MULTICLASS - BAGGING CLASSIFIER"
   ]
  },
  {
   "cell_type": "code",
   "execution_count": 63,
   "metadata": {},
   "outputs": [
    {
     "data": {
      "text/plain": [
       "Pipeline(steps=[('columntransformer',\n",
       "                 ColumnTransformer(remainder='passthrough',\n",
       "                                   transformers=[('onehotencoder',\n",
       "                                                  OneHotEncoder(),\n",
       "                                                  ['product_type']),\n",
       "                                                 ('countvectorizer-1',\n",
       "                                                  CountVectorizer(tokenizer=<function <lambda> at 0x00000196FAFFF160>),\n",
       "                                                  'ingredients'),\n",
       "                                                 ('countvectorizer-2',\n",
       "                                                  CountVectorizer(tokenizer=<function <lambda> at 0x00000196FAFFF160>),\n",
       "                                                  'brand')])),\n",
       "                ('baggingclassifier',\n",
       "                 BaggingClassifier(base_estimator=DecisionTreeClassifier(max_depth=10000,\n",
       "                                                                         min_samples_leaf=2,\n",
       "                                                                         random_state=1),\n",
       "                                   n_estimators=300, n_jobs=-1,\n",
       "                                   random_state=1))])"
      ]
     },
     "execution_count": 63,
     "metadata": {},
     "output_type": "execute_result"
    }
   ],
   "source": [
    "from sklearn.tree import DecisionTreeClassifier\n",
    "from sklearn.ensemble import BaggingClassifier\n",
    "\n",
    "dt = DecisionTreeClassifier(min_samples_leaf=2, max_depth= 10000, criterion=\"gini\", random_state=random_state)\n",
    "# use decision tree classifier again with best hyperparameters for decision tree\n",
    "\n",
    "bc = BaggingClassifier(base_estimator = dt, random_state=random_state, n_estimators = 300, n_jobs = -1)\n",
    "\n",
    "ct = make_column_transformer(\n",
    "    (ohe, [\"product_type\"]),\n",
    "    (vect, \"ingredients\"),\n",
    "    (vect, \"brand\"),\n",
    "    remainder=\"passthrough\")\n",
    "\n",
    "bc_pipe = make_pipeline(ct, bc)\n",
    "bc_pipe.fit(X_train, y_train)"
   ]
  },
  {
   "cell_type": "code",
   "execution_count": 64,
   "metadata": {},
   "outputs": [
    {
     "data": {
      "text/plain": [
       "0.566079295154185"
      ]
     },
     "execution_count": 64,
     "metadata": {},
     "output_type": "execute_result"
    }
   ],
   "source": [
    "bc_predictions = bc_pipe.predict(X_test)\n",
    "accuracy_score(y_test, bc_predictions)\n",
    "# get initial accuracy score"
   ]
  },
  {
   "cell_type": "code",
   "execution_count": 65,
   "metadata": {},
   "outputs": [
    {
     "name": "stdout",
     "output_type": "stream",
     "text": [
      "100 Done with this number of estimators\n",
      "200 Done with this number of estimators\n",
      "300 Done with this number of estimators\n",
      "400 Done with this number of estimators\n",
      "500 Done with this number of estimators\n",
      "600 Done with this number of estimators\n",
      "700 Done with this number of estimators\n",
      "800 Done with this number of estimators\n",
      "900 Done with this number of estimators\n",
      "1000 Done with this number of estimators\n"
     ]
    }
   ],
   "source": [
    "accs = []\n",
    "n_estimators_range = [100, 200, 300, 400, 500, 600, 700, 800, 900, 1000]\n",
    "for n_estimators in n_estimators_range: \n",
    "    bc = BaggingClassifier(base_estimator = dt, random_state=random_state, n_estimators = n_estimators, n_jobs = -1)\n",
    "    ct = make_column_transformer(\n",
    "    (ohe, [\"product_type\"]),\n",
    "    (vect, 'brand'),\n",
    "    (vect, \"ingredients\"), \n",
    "    remainder=\"passthrough\")\n",
    "    bc_pipe = make_pipeline(ct, bc)\n",
    "    bc_pipe.fit(X_train, y_train)\n",
    "    bc_pred = bc_pipe.predict(X_test)\n",
    "    acc = accuracy_score(y_test, bc_pred)\n",
    "    accs.append(acc)\n",
    "    print(n_estimators, \"Done with this number of estimators\")\n",
    "# test all the number of estimators"
   ]
  },
  {
   "cell_type": "code",
   "execution_count": 66,
   "metadata": {},
   "outputs": [
    {
     "data": {
      "image/png": "[encoded data removed]",
      "text/plain": [
       "<Figure size 432x288 with 1 Axes>"
      ]
     },
     "metadata": {
      "needs_background": "light"
     },
     "output_type": "display_data"
    }
   ],
   "source": [
    "import matplotlib.pyplot as plt\n",
    "plt.figure()\n",
    "plt.plot(n_estimators_range, accs)\n",
    "plt.ylabel(\"Accuracy\")\n",
    "plt.xlabel(\"n_estimators\")\n",
    "plt.show()"
   ]
  },
  {
   "cell_type": "code",
   "execution_count": 71,
   "metadata": {},
   "outputs": [
    {
     "name": "stdout",
     "output_type": "stream",
     "text": [
      "0.5748898678414097\n",
      "[0.60869565 0.54411765 0.63235294 0.51470588 0.47058824 0.58823529\n",
      " 0.48529412 0.52941176 0.55882353 0.54411765]\n",
      "Accuracy = 0.54763427 +/- 0.04893143\n"
     ]
    }
   ],
   "source": [
    "bc = BaggingClassifier(base_estimator = dt, random_state=random_state, n_estimators = 400, n_jobs = -1)\n",
    "# When tested, 400 does better, switch to this number\n",
    "\n",
    "ct = make_column_transformer(\n",
    "    (ohe, [\"product_type\"]),\n",
    "    (vect, \"ingredients\"),\n",
    "    (vect, 'brand'),\n",
    "    remainder=\"passthrough\")\n",
    "bc_pipe = make_pipeline(ct, bc)\n",
    "\n",
    "bc_pipe.fit(X_train, y_train)\n",
    "bc_pred = bc_pipe.predict(X_test)\n",
    "print(accuracy_score(y_test, bc_pred))\n",
    "\n",
    "\n",
    "scores = cross_val_score(estimator=bc_pipe, X=X_train, y=y_train, cv=10, n_jobs=-1)\n",
    "print(scores)\n",
    "print('Accuracy = {:.8f} +/- {:.8f}'.format(np.mean(scores), np.std(scores)))"
   ]
  },
  {
   "cell_type": "markdown",
   "metadata": {},
   "source": [
    "# w/ BRAND - MULTICLASS - RANDOM FORESTS"
   ]
  },
  {
   "cell_type": "code",
   "execution_count": 68,
   "metadata": {},
   "outputs": [
    {
     "data": {
      "text/plain": [
       "0.5748898678414097"
      ]
     },
     "execution_count": 68,
     "metadata": {},
     "output_type": "execute_result"
    }
   ],
   "source": [
    "from sklearn.ensemble import RandomForestClassifier\n",
    "rf = RandomForestClassifier(n_estimators = 1000, random_state = random_state)\n",
    "# instantiate randomforestclassifier\n",
    "\n",
    "\n",
    "rf_pipe = make_pipeline(ct, rf)\n",
    "rf_pipe.fit(X_train, y_train)\n",
    "rf_pred = rf_pipe.predict(X_test)\n",
    "accuracy_score(y_test, rf_pred)"
   ]
  },
  {
   "cell_type": "code",
   "execution_count": 69,
   "metadata": {
    "scrolled": true
   },
   "outputs": [
    {
     "name": "stdout",
     "output_type": "stream",
     "text": [
      "{'randomforestclassifier__min_samples_leaf': 2, 'randomforestclassifier__max_depth': 10000, 'randomforestclassifier__criterion': 'gini'}\n",
      "0.5638766519823789\n"
     ]
    }
   ],
   "source": [
    "criterions = ['gini', 'entropy']\n",
    "max_depths = [None, 10, 100, 1000, 10000]\n",
    "param_grid = {'randomforestclassifier__min_samples_leaf': np.arange(1,50), \n",
    "              'randomforestclassifier__max_depth': max_depths, \n",
    "              'randomforestclassifier__criterion':criterions}\n",
    "\n",
    "# define grid to optimize hyperparameters\n",
    "rf = RandomForestClassifier(n_estimators = 1000, random_state = random_state)\n",
    "rf_pipe = make_pipeline(ct, rf)\n",
    "\n",
    "rf_gs = RandomizedSearchCV(estimator=rf_pipe, param_distributions=param_grid, random_state=random_state, scoring='accuracy', cv=10, refit=True)\n",
    "rf_gs = rf_gs.fit(X_train, y_train)\n",
    "print(rf_gs.best_params_)\n",
    "best_rf = rf_gs.best_estimator_   # refitting done automatically\n",
    "print(best_rf.score(X_test, y_test))"
   ]
  },
  {
   "cell_type": "code",
   "execution_count": 70,
   "metadata": {},
   "outputs": [
    {
     "name": "stdout",
     "output_type": "stream",
     "text": [
      "[0.62318841 0.51470588 0.60294118 0.57352941 0.5        0.61764706\n",
      " 0.48529412 0.52941176 0.57352941 0.58823529]\n",
      "Accuracy = 0.56084825 +/- 0.04741750\n"
     ]
    }
   ],
   "source": [
    "scores = cross_val_score(estimator=best_rf, X=X_train, y=y_train, cv=10, n_jobs=-1)\n",
    "print(scores)\n",
    "print('Accuracy = {:.8f} +/- {:.8f}'.format(np.mean(scores), np.std(scores)))\n",
    "\n",
    "# report cross validation scores after hyperparameter tuning"
   ]
  }
 ],
 "metadata": {
  "kernelspec": {
   "display_name": "Python 3",
   "language": "python",
   "name": "python3"
  },
  "language_info": {
   "codemirror_mode": {
    "name": "ipython",
    "version": 3
   },
   "file_extension": ".py",
   "mimetype": "text/x-python",
   "name": "python",
   "nbconvert_exporter": "python",
   "pygments_lexer": "ipython3",
   "version": "3.8.3"
  }
 },
 "nbformat": 4,
 "nbformat_minor": 4
}
